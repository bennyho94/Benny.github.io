{
 "cells": [
  {
   "cell_type": "markdown",
   "metadata": {},
   "source": [
    "# CIC'18\n",
    "\n",
    "The CIC'18 is a fairly recent dataset made available by a canadian research institute. They wrote software called Cicflowmeter-v3 to extract features from pcap in Netflow format. Most of these features are statistics of a from and to IP during certain time windows. More information can be found here: https://www.unb.ca/cic/datasets/ids-2018.html\n",
    "\n",
    "The research group created two profiles: \n",
    "* **B-profile** for **benign** connections on the network\n",
    "* **M-profile** for **malicious** connections on the network\n",
    "\n",
    "The profiles are a description of what kind of behaviour (Benign, (D)dos attacks, Web attack, Infilteration attack,...).\\\n",
    "There are multiple tools used within one M-profile. \n",
    "\n",
    "The full collection of Pcap files is very large ~50Gb.\n",
    "The extracted features are about ~5Gb in size.\n",
    "\n",
    "To be able to smoothly work with data a smaller sample of the original dataset was taken which is about ~0.5Gb in size."
   ]
  },
  {
   "cell_type": "markdown",
   "metadata": {},
   "source": [
    "# Assignment\n",
    "_____________________________________________________\n",
    "You will perform **binary classification** on this problem while holding some of the tools as zero-day attacks. \n",
    "As seen in the lesson of this week, malicious persons will use unknown flaws in the software to manipulate IT systems.\\\n",
    "We can simulate zero-day attacks by leaving certain exploit tools out of the train set.\n",
    "___________________________________________________________________________"
   ]
  },
  {
   "cell_type": "code",
   "execution_count": 65,
   "metadata": {},
   "outputs": [],
   "source": [
    "import pandas as pd\n",
    "import numpy as np\n",
    "\n",
    "from sklearn.preprocessing import LabelEncoder, OrdinalEncoder, OneHotEncoder, StandardScaler\n",
    "from sklearn.metrics import classification_report\n",
    "from sklearn.metrics import confusion_matrix, accuracy_score\n",
    "from sklearn.model_selection import train_test_split\n",
    "import time"
   ]
  },
  {
   "cell_type": "markdown",
   "metadata": {},
   "source": [
    "#### * **Exploring & cleaning dataset**: Using your knowledge of previous labs explore the dataset, remove rows and columns that are not needed and come up with a strategy for preprocessing.\\\n",
    "**NOT** needed to upsample or downsample data.\n"
   ]
  },
  {
   "cell_type": "code",
   "execution_count": 66,
   "metadata": {},
   "outputs": [
    {
     "data": {
      "text/html": [
       "<div>\n",
       "<style scoped>\n",
       "    .dataframe tbody tr th:only-of-type {\n",
       "        vertical-align: middle;\n",
       "    }\n",
       "\n",
       "    .dataframe tbody tr th {\n",
       "        vertical-align: top;\n",
       "    }\n",
       "\n",
       "    .dataframe thead th {\n",
       "        text-align: right;\n",
       "    }\n",
       "</style>\n",
       "<table border=\"1\" class=\"dataframe\">\n",
       "  <thead>\n",
       "    <tr style=\"text-align: right;\">\n",
       "      <th></th>\n",
       "      <th>Dst Port</th>\n",
       "      <th>Protocol</th>\n",
       "      <th>Flow Duration</th>\n",
       "      <th>Tot Fwd Pkts</th>\n",
       "      <th>Tot Bwd Pkts</th>\n",
       "      <th>TotLen Fwd Pkts</th>\n",
       "      <th>TotLen Bwd Pkts</th>\n",
       "      <th>Fwd Pkt Len Max</th>\n",
       "      <th>Fwd Pkt Len Min</th>\n",
       "      <th>Fwd Pkt Len Mean</th>\n",
       "      <th>...</th>\n",
       "      <th>Fwd Seg Size Min</th>\n",
       "      <th>Active Mean</th>\n",
       "      <th>Active Std</th>\n",
       "      <th>Active Max</th>\n",
       "      <th>Active Min</th>\n",
       "      <th>Idle Mean</th>\n",
       "      <th>Idle Std</th>\n",
       "      <th>Idle Max</th>\n",
       "      <th>Idle Min</th>\n",
       "      <th>Label</th>\n",
       "    </tr>\n",
       "  </thead>\n",
       "  <tbody>\n",
       "    <tr>\n",
       "      <th>0</th>\n",
       "      <td>80</td>\n",
       "      <td>6</td>\n",
       "      <td>14766</td>\n",
       "      <td>3</td>\n",
       "      <td>4</td>\n",
       "      <td>315</td>\n",
       "      <td>935</td>\n",
       "      <td>315</td>\n",
       "      <td>0</td>\n",
       "      <td>105</td>\n",
       "      <td>...</td>\n",
       "      <td>20</td>\n",
       "      <td>0.0</td>\n",
       "      <td>0.0</td>\n",
       "      <td>0.0</td>\n",
       "      <td>0.0</td>\n",
       "      <td>0.0</td>\n",
       "      <td>0.0</td>\n",
       "      <td>0.0</td>\n",
       "      <td>0.0</td>\n",
       "      <td>DDOS attack-HOIC</td>\n",
       "    </tr>\n",
       "    <tr>\n",
       "      <th>1</th>\n",
       "      <td>80</td>\n",
       "      <td>6</td>\n",
       "      <td>30518</td>\n",
       "      <td>2</td>\n",
       "      <td>0</td>\n",
       "      <td>0</td>\n",
       "      <td>0</td>\n",
       "      <td>0</td>\n",
       "      <td>0</td>\n",
       "      <td>0</td>\n",
       "      <td>...</td>\n",
       "      <td>20</td>\n",
       "      <td>0.0</td>\n",
       "      <td>0.0</td>\n",
       "      <td>0.0</td>\n",
       "      <td>0.0</td>\n",
       "      <td>0.0</td>\n",
       "      <td>0.0</td>\n",
       "      <td>0.0</td>\n",
       "      <td>0.0</td>\n",
       "      <td>DDOS attack-HOIC</td>\n",
       "    </tr>\n",
       "    <tr>\n",
       "      <th>2</th>\n",
       "      <td>80</td>\n",
       "      <td>6</td>\n",
       "      <td>478</td>\n",
       "      <td>2</td>\n",
       "      <td>0</td>\n",
       "      <td>0</td>\n",
       "      <td>0</td>\n",
       "      <td>0</td>\n",
       "      <td>0</td>\n",
       "      <td>0</td>\n",
       "      <td>...</td>\n",
       "      <td>20</td>\n",
       "      <td>0.0</td>\n",
       "      <td>0.0</td>\n",
       "      <td>0.0</td>\n",
       "      <td>0.0</td>\n",
       "      <td>0.0</td>\n",
       "      <td>0.0</td>\n",
       "      <td>0.0</td>\n",
       "      <td>0.0</td>\n",
       "      <td>DDOS attack-HOIC</td>\n",
       "    </tr>\n",
       "    <tr>\n",
       "      <th>3</th>\n",
       "      <td>80</td>\n",
       "      <td>6</td>\n",
       "      <td>15018</td>\n",
       "      <td>2</td>\n",
       "      <td>0</td>\n",
       "      <td>0</td>\n",
       "      <td>0</td>\n",
       "      <td>0</td>\n",
       "      <td>0</td>\n",
       "      <td>0</td>\n",
       "      <td>...</td>\n",
       "      <td>20</td>\n",
       "      <td>0.0</td>\n",
       "      <td>0.0</td>\n",
       "      <td>0.0</td>\n",
       "      <td>0.0</td>\n",
       "      <td>0.0</td>\n",
       "      <td>0.0</td>\n",
       "      <td>0.0</td>\n",
       "      <td>0.0</td>\n",
       "      <td>DDOS attack-HOIC</td>\n",
       "    </tr>\n",
       "    <tr>\n",
       "      <th>4</th>\n",
       "      <td>80</td>\n",
       "      <td>6</td>\n",
       "      <td>17512</td>\n",
       "      <td>2</td>\n",
       "      <td>0</td>\n",
       "      <td>0</td>\n",
       "      <td>0</td>\n",
       "      <td>0</td>\n",
       "      <td>0</td>\n",
       "      <td>0</td>\n",
       "      <td>...</td>\n",
       "      <td>20</td>\n",
       "      <td>0.0</td>\n",
       "      <td>0.0</td>\n",
       "      <td>0.0</td>\n",
       "      <td>0.0</td>\n",
       "      <td>0.0</td>\n",
       "      <td>0.0</td>\n",
       "      <td>0.0</td>\n",
       "      <td>0.0</td>\n",
       "      <td>DDOS attack-HOIC</td>\n",
       "    </tr>\n",
       "    <tr>\n",
       "      <th>...</th>\n",
       "      <td>...</td>\n",
       "      <td>...</td>\n",
       "      <td>...</td>\n",
       "      <td>...</td>\n",
       "      <td>...</td>\n",
       "      <td>...</td>\n",
       "      <td>...</td>\n",
       "      <td>...</td>\n",
       "      <td>...</td>\n",
       "      <td>...</td>\n",
       "      <td>...</td>\n",
       "      <td>...</td>\n",
       "      <td>...</td>\n",
       "      <td>...</td>\n",
       "      <td>...</td>\n",
       "      <td>...</td>\n",
       "      <td>...</td>\n",
       "      <td>...</td>\n",
       "      <td>...</td>\n",
       "      <td>...</td>\n",
       "      <td>...</td>\n",
       "    </tr>\n",
       "    <tr>\n",
       "      <th>1603862</th>\n",
       "      <td>53</td>\n",
       "      <td>17</td>\n",
       "      <td>2071</td>\n",
       "      <td>1</td>\n",
       "      <td>1</td>\n",
       "      <td>43</td>\n",
       "      <td>99</td>\n",
       "      <td>43</td>\n",
       "      <td>43</td>\n",
       "      <td>43</td>\n",
       "      <td>...</td>\n",
       "      <td>8</td>\n",
       "      <td>0.0</td>\n",
       "      <td>0.0</td>\n",
       "      <td>0.0</td>\n",
       "      <td>0.0</td>\n",
       "      <td>0.0</td>\n",
       "      <td>0.0</td>\n",
       "      <td>0.0</td>\n",
       "      <td>0.0</td>\n",
       "      <td>Benign</td>\n",
       "    </tr>\n",
       "    <tr>\n",
       "      <th>1603863</th>\n",
       "      <td>3389</td>\n",
       "      <td>6</td>\n",
       "      <td>2833891</td>\n",
       "      <td>9</td>\n",
       "      <td>7</td>\n",
       "      <td>1128</td>\n",
       "      <td>1581</td>\n",
       "      <td>661</td>\n",
       "      <td>0</td>\n",
       "      <td>125</td>\n",
       "      <td>...</td>\n",
       "      <td>20</td>\n",
       "      <td>0.0</td>\n",
       "      <td>0.0</td>\n",
       "      <td>0.0</td>\n",
       "      <td>0.0</td>\n",
       "      <td>0.0</td>\n",
       "      <td>0.0</td>\n",
       "      <td>0.0</td>\n",
       "      <td>0.0</td>\n",
       "      <td>Benign</td>\n",
       "    </tr>\n",
       "    <tr>\n",
       "      <th>1603864</th>\n",
       "      <td>3389</td>\n",
       "      <td>6</td>\n",
       "      <td>3678344</td>\n",
       "      <td>10</td>\n",
       "      <td>7</td>\n",
       "      <td>1148</td>\n",
       "      <td>1581</td>\n",
       "      <td>677</td>\n",
       "      <td>0</td>\n",
       "      <td>114</td>\n",
       "      <td>...</td>\n",
       "      <td>20</td>\n",
       "      <td>0.0</td>\n",
       "      <td>0.0</td>\n",
       "      <td>0.0</td>\n",
       "      <td>0.0</td>\n",
       "      <td>0.0</td>\n",
       "      <td>0.0</td>\n",
       "      <td>0.0</td>\n",
       "      <td>0.0</td>\n",
       "      <td>Benign</td>\n",
       "    </tr>\n",
       "    <tr>\n",
       "      <th>1603865</th>\n",
       "      <td>20231</td>\n",
       "      <td>6</td>\n",
       "      <td>86190790</td>\n",
       "      <td>2</td>\n",
       "      <td>0</td>\n",
       "      <td>0</td>\n",
       "      <td>0</td>\n",
       "      <td>0</td>\n",
       "      <td>0</td>\n",
       "      <td>0</td>\n",
       "      <td>...</td>\n",
       "      <td>20</td>\n",
       "      <td>0.0</td>\n",
       "      <td>0.0</td>\n",
       "      <td>0.0</td>\n",
       "      <td>0.0</td>\n",
       "      <td>86190790.0</td>\n",
       "      <td>0.0</td>\n",
       "      <td>86190790.0</td>\n",
       "      <td>86190790.0</td>\n",
       "      <td>Benign</td>\n",
       "    </tr>\n",
       "    <tr>\n",
       "      <th>1603866</th>\n",
       "      <td>53</td>\n",
       "      <td>17</td>\n",
       "      <td>1163</td>\n",
       "      <td>1</td>\n",
       "      <td>1</td>\n",
       "      <td>35</td>\n",
       "      <td>63</td>\n",
       "      <td>35</td>\n",
       "      <td>35</td>\n",
       "      <td>35</td>\n",
       "      <td>...</td>\n",
       "      <td>8</td>\n",
       "      <td>0.0</td>\n",
       "      <td>0.0</td>\n",
       "      <td>0.0</td>\n",
       "      <td>0.0</td>\n",
       "      <td>0.0</td>\n",
       "      <td>0.0</td>\n",
       "      <td>0.0</td>\n",
       "      <td>0.0</td>\n",
       "      <td>Benign</td>\n",
       "    </tr>\n",
       "  </tbody>\n",
       "</table>\n",
       "<p>1603867 rows × 79 columns</p>\n",
       "</div>"
      ],
      "text/plain": [
       "         Dst Port  Protocol  Flow Duration  Tot Fwd Pkts  Tot Bwd Pkts  \\\n",
       "0              80         6          14766             3             4   \n",
       "1              80         6          30518             2             0   \n",
       "2              80         6            478             2             0   \n",
       "3              80         6          15018             2             0   \n",
       "4              80         6          17512             2             0   \n",
       "...           ...       ...            ...           ...           ...   \n",
       "1603862        53        17           2071             1             1   \n",
       "1603863      3389         6        2833891             9             7   \n",
       "1603864      3389         6        3678344            10             7   \n",
       "1603865     20231         6       86190790             2             0   \n",
       "1603866        53        17           1163             1             1   \n",
       "\n",
       "         TotLen Fwd Pkts  TotLen Bwd Pkts  Fwd Pkt Len Max  Fwd Pkt Len Min  \\\n",
       "0                    315              935              315                0   \n",
       "1                      0                0                0                0   \n",
       "2                      0                0                0                0   \n",
       "3                      0                0                0                0   \n",
       "4                      0                0                0                0   \n",
       "...                  ...              ...              ...              ...   \n",
       "1603862               43               99               43               43   \n",
       "1603863             1128             1581              661                0   \n",
       "1603864             1148             1581              677                0   \n",
       "1603865                0                0                0                0   \n",
       "1603866               35               63               35               35   \n",
       "\n",
       "         Fwd Pkt Len Mean  ...  Fwd Seg Size Min  Active Mean  Active Std  \\\n",
       "0                     105  ...                20          0.0         0.0   \n",
       "1                       0  ...                20          0.0         0.0   \n",
       "2                       0  ...                20          0.0         0.0   \n",
       "3                       0  ...                20          0.0         0.0   \n",
       "4                       0  ...                20          0.0         0.0   \n",
       "...                   ...  ...               ...          ...         ...   \n",
       "1603862                43  ...                 8          0.0         0.0   \n",
       "1603863               125  ...                20          0.0         0.0   \n",
       "1603864               114  ...                20          0.0         0.0   \n",
       "1603865                 0  ...                20          0.0         0.0   \n",
       "1603866                35  ...                 8          0.0         0.0   \n",
       "\n",
       "         Active Max  Active Min   Idle Mean  Idle Std    Idle Max    Idle Min  \\\n",
       "0               0.0         0.0         0.0       0.0         0.0         0.0   \n",
       "1               0.0         0.0         0.0       0.0         0.0         0.0   \n",
       "2               0.0         0.0         0.0       0.0         0.0         0.0   \n",
       "3               0.0         0.0         0.0       0.0         0.0         0.0   \n",
       "4               0.0         0.0         0.0       0.0         0.0         0.0   \n",
       "...             ...         ...         ...       ...         ...         ...   \n",
       "1603862         0.0         0.0         0.0       0.0         0.0         0.0   \n",
       "1603863         0.0         0.0         0.0       0.0         0.0         0.0   \n",
       "1603864         0.0         0.0         0.0       0.0         0.0         0.0   \n",
       "1603865         0.0         0.0  86190790.0       0.0  86190790.0  86190790.0   \n",
       "1603866         0.0         0.0         0.0       0.0         0.0         0.0   \n",
       "\n",
       "                    Label  \n",
       "0        DDOS attack-HOIC  \n",
       "1        DDOS attack-HOIC  \n",
       "2        DDOS attack-HOIC  \n",
       "3        DDOS attack-HOIC  \n",
       "4        DDOS attack-HOIC  \n",
       "...                   ...  \n",
       "1603862            Benign  \n",
       "1603863            Benign  \n",
       "1603864            Benign  \n",
       "1603865            Benign  \n",
       "1603866            Benign  \n",
       "\n",
       "[1603867 rows x 79 columns]"
      ]
     },
     "execution_count": 66,
     "metadata": {},
     "output_type": "execute_result"
    }
   ],
   "source": [
    "df = pd.read_csv('CIC18.txt')\n",
    "df"
   ]
  },
  {
   "cell_type": "code",
   "execution_count": 67,
   "metadata": {},
   "outputs": [
    {
     "name": "stdout",
     "output_type": "stream",
     "text": [
      "(1603867, 79)\n"
     ]
    }
   ],
   "source": [
    "print(df.shape)"
   ]
  },
  {
   "cell_type": "markdown",
   "metadata": {},
   "source": [
    "The dataset has 1603867 rows and 79 columns."
   ]
  },
  {
   "cell_type": "code",
   "execution_count": 68,
   "metadata": {},
   "outputs": [
    {
     "name": "stdout",
     "output_type": "stream",
     "text": [
      "<class 'pandas.core.frame.DataFrame'>\n",
      "RangeIndex: 1603867 entries, 0 to 1603866\n",
      "Data columns (total 79 columns):\n",
      " #   Column             Non-Null Count    Dtype  \n",
      "---  ------             --------------    -----  \n",
      " 0   Dst Port           1603867 non-null  int64  \n",
      " 1   Protocol           1603867 non-null  int64  \n",
      " 2   Flow Duration      1603867 non-null  int64  \n",
      " 3   Tot Fwd Pkts       1603867 non-null  int64  \n",
      " 4   Tot Bwd Pkts       1603867 non-null  int64  \n",
      " 5   TotLen Fwd Pkts    1603867 non-null  int64  \n",
      " 6   TotLen Bwd Pkts    1603867 non-null  int64  \n",
      " 7   Fwd Pkt Len Max    1603867 non-null  int64  \n",
      " 8   Fwd Pkt Len Min    1603867 non-null  int64  \n",
      " 9   Fwd Pkt Len Mean   1603867 non-null  int64  \n",
      " 10  Fwd Pkt Len Std    1603867 non-null  int64  \n",
      " 11  Bwd Pkt Len Max    1603867 non-null  int64  \n",
      " 12  Bwd Pkt Len Min    1603867 non-null  int64  \n",
      " 13  Bwd Pkt Len Mean   1603867 non-null  int64  \n",
      " 14  Bwd Pkt Len Std    1603867 non-null  int64  \n",
      " 15  Flow Byts/s        1603867 non-null  float64\n",
      " 16  Flow Pkts/s        1603867 non-null  float64\n",
      " 17  Flow IAT Mean      1603867 non-null  float64\n",
      " 18  Flow IAT Std       1603867 non-null  float64\n",
      " 19  Flow IAT Max       1603867 non-null  float64\n",
      " 20  Flow IAT Min       1603867 non-null  float64\n",
      " 21  Fwd IAT Tot        1603867 non-null  float64\n",
      " 22  Fwd IAT Mean       1603867 non-null  float64\n",
      " 23  Fwd IAT Std        1603867 non-null  float64\n",
      " 24  Fwd IAT Max        1603867 non-null  float64\n",
      " 25  Fwd IAT Min        1603867 non-null  float64\n",
      " 26  Bwd IAT Tot        1603867 non-null  float64\n",
      " 27  Bwd IAT Mean       1603867 non-null  float64\n",
      " 28  Bwd IAT Std        1603867 non-null  float64\n",
      " 29  Bwd IAT Max        1603867 non-null  float64\n",
      " 30  Bwd IAT Min        1603867 non-null  float64\n",
      " 31  Fwd PSH Flags      1603867 non-null  int64  \n",
      " 32  Bwd PSH Flags      1603867 non-null  int64  \n",
      " 33  Fwd URG Flags      1603867 non-null  int64  \n",
      " 34  Bwd URG Flags      1603867 non-null  int64  \n",
      " 35  Fwd Header Len     1603867 non-null  int64  \n",
      " 36  Bwd Header Len     1603867 non-null  int64  \n",
      " 37  Fwd Pkts/s         1603867 non-null  float64\n",
      " 38  Bwd Pkts/s         1603867 non-null  float64\n",
      " 39  Pkt Len Min        1603867 non-null  int64  \n",
      " 40  Pkt Len Max        1603867 non-null  int64  \n",
      " 41  Pkt Len Mean       1603867 non-null  int64  \n",
      " 42  Pkt Len Std        1603867 non-null  int64  \n",
      " 43  Pkt Len Var        1603867 non-null  float64\n",
      " 44  FIN Flag Cnt       1603867 non-null  int64  \n",
      " 45  SYN Flag Cnt       1603867 non-null  int64  \n",
      " 46  RST Flag Cnt       1603867 non-null  int64  \n",
      " 47  PSH Flag Cnt       1603867 non-null  int64  \n",
      " 48  ACK Flag Cnt       1603867 non-null  int64  \n",
      " 49  URG Flag Cnt       1603867 non-null  int64  \n",
      " 50  CWE Flag Count     1603867 non-null  int64  \n",
      " 51  ECE Flag Cnt       1603867 non-null  int64  \n",
      " 52  Down/Up Ratio      1603867 non-null  int64  \n",
      " 53  Pkt Size Avg       1603867 non-null  float64\n",
      " 54  Fwd Seg Size Avg   1603867 non-null  float64\n",
      " 55  Bwd Seg Size Avg   1603867 non-null  float64\n",
      " 56  Fwd Byts/b Avg     1603867 non-null  float64\n",
      " 57  Fwd Pkts/b Avg     1603867 non-null  float64\n",
      " 58  Fwd Blk Rate Avg   1603867 non-null  float64\n",
      " 59  Bwd Byts/b Avg     1603867 non-null  float64\n",
      " 60  Bwd Pkts/b Avg     1603867 non-null  float64\n",
      " 61  Bwd Blk Rate Avg   1603867 non-null  float64\n",
      " 62  Subflow Fwd Pkts   1603867 non-null  int64  \n",
      " 63  Subflow Fwd Byts   1603867 non-null  int64  \n",
      " 64  Subflow Bwd Pkts   1603867 non-null  int64  \n",
      " 65  Subflow Bwd Byts   1603867 non-null  int64  \n",
      " 66  Init Fwd Win Byts  1603867 non-null  int64  \n",
      " 67  Init Bwd Win Byts  1603867 non-null  int64  \n",
      " 68  Fwd Act Data Pkts  1603867 non-null  int64  \n",
      " 69  Fwd Seg Size Min   1603867 non-null  int64  \n",
      " 70  Active Mean        1603867 non-null  float64\n",
      " 71  Active Std         1603867 non-null  float64\n",
      " 72  Active Max         1603867 non-null  float64\n",
      " 73  Active Min         1603867 non-null  float64\n",
      " 74  Idle Mean          1603867 non-null  float64\n",
      " 75  Idle Std           1603867 non-null  float64\n",
      " 76  Idle Max           1603867 non-null  float64\n",
      " 77  Idle Min           1603867 non-null  float64\n",
      " 78  Label              1603867 non-null  object \n",
      "dtypes: float64(36), int64(42), object(1)\n",
      "memory usage: 966.7+ MB\n"
     ]
    }
   ],
   "source": [
    "df.info()"
   ]
  },
  {
   "cell_type": "markdown",
   "metadata": {},
   "source": [
    "- The attributes of the dataset consists of 36 float, 42 integer and 1 object data type."
   ]
  },
  {
   "cell_type": "code",
   "execution_count": 69,
   "metadata": {},
   "outputs": [
    {
     "data": {
      "text/plain": [
       "Benign                      733458\n",
       "DDOS attack-HOIC            274404\n",
       "DoS attacks-Hulk            184764\n",
       "Bot                         114476\n",
       "FTP-BruteForce               77344\n",
       "SSH-Bruteforce               75035\n",
       "Infilteration                64773\n",
       "DoS attacks-SlowHTTPTest     55956\n",
       "DoS attacks-GoldenEye        16603\n",
       "DoS attacks-Slowloris         4396\n",
       "DDOS attack-LOIC-UDP          1730\n",
       "Brute Force -Web               611\n",
       "Brute Force -XSS               230\n",
       "SQL Injection                   87\n",
       "Name: Label, dtype: int64"
      ]
     },
     "execution_count": 69,
     "metadata": {},
     "output_type": "execute_result"
    }
   ],
   "source": [
    "df['Label'].value_counts()"
   ]
  },
  {
   "cell_type": "code",
   "execution_count": 70,
   "metadata": {},
   "outputs": [
    {
     "data": {
      "text/html": [
       "<div>\n",
       "<style scoped>\n",
       "    .dataframe tbody tr th:only-of-type {\n",
       "        vertical-align: middle;\n",
       "    }\n",
       "\n",
       "    .dataframe tbody tr th {\n",
       "        vertical-align: top;\n",
       "    }\n",
       "\n",
       "    .dataframe thead th {\n",
       "        text-align: right;\n",
       "    }\n",
       "</style>\n",
       "<table border=\"1\" class=\"dataframe\">\n",
       "  <thead>\n",
       "    <tr style=\"text-align: right;\">\n",
       "      <th></th>\n",
       "      <th>Dst Port</th>\n",
       "      <th>Protocol</th>\n",
       "      <th>Flow Duration</th>\n",
       "      <th>Tot Fwd Pkts</th>\n",
       "      <th>Tot Bwd Pkts</th>\n",
       "      <th>TotLen Fwd Pkts</th>\n",
       "      <th>TotLen Bwd Pkts</th>\n",
       "      <th>Fwd Pkt Len Max</th>\n",
       "      <th>Fwd Pkt Len Min</th>\n",
       "      <th>Fwd Pkt Len Mean</th>\n",
       "      <th>...</th>\n",
       "      <th>Fwd Act Data Pkts</th>\n",
       "      <th>Fwd Seg Size Min</th>\n",
       "      <th>Active Mean</th>\n",
       "      <th>Active Std</th>\n",
       "      <th>Active Max</th>\n",
       "      <th>Active Min</th>\n",
       "      <th>Idle Mean</th>\n",
       "      <th>Idle Std</th>\n",
       "      <th>Idle Max</th>\n",
       "      <th>Idle Min</th>\n",
       "    </tr>\n",
       "  </thead>\n",
       "  <tbody>\n",
       "    <tr>\n",
       "      <th>count</th>\n",
       "      <td>1.603867e+06</td>\n",
       "      <td>1.603867e+06</td>\n",
       "      <td>1.603867e+06</td>\n",
       "      <td>1.603867e+06</td>\n",
       "      <td>1.603867e+06</td>\n",
       "      <td>1.603867e+06</td>\n",
       "      <td>1.603867e+06</td>\n",
       "      <td>1.603867e+06</td>\n",
       "      <td>1.603867e+06</td>\n",
       "      <td>1.603867e+06</td>\n",
       "      <td>...</td>\n",
       "      <td>1.603867e+06</td>\n",
       "      <td>1.603867e+06</td>\n",
       "      <td>1.603867e+06</td>\n",
       "      <td>1.603867e+06</td>\n",
       "      <td>1.603867e+06</td>\n",
       "      <td>1.603867e+06</td>\n",
       "      <td>1.603867e+06</td>\n",
       "      <td>1.603867e+06</td>\n",
       "      <td>1.603867e+06</td>\n",
       "      <td>1.603867e+06</td>\n",
       "    </tr>\n",
       "    <tr>\n",
       "      <th>mean</th>\n",
       "      <td>7.481739e+03</td>\n",
       "      <td>7.445545e+00</td>\n",
       "      <td>7.492208e+06</td>\n",
       "      <td>1.310898e+02</td>\n",
       "      <td>4.439233e+00</td>\n",
       "      <td>4.378411e+03</td>\n",
       "      <td>2.834549e+03</td>\n",
       "      <td>1.775638e+02</td>\n",
       "      <td>5.996670e+00</td>\n",
       "      <td>4.315188e+01</td>\n",
       "      <td>...</td>\n",
       "      <td>1.280810e+02</td>\n",
       "      <td>2.250744e+01</td>\n",
       "      <td>7.218124e+04</td>\n",
       "      <td>3.243472e+04</td>\n",
       "      <td>1.105369e+05</td>\n",
       "      <td>5.124591e+04</td>\n",
       "      <td>3.021648e+06</td>\n",
       "      <td>1.040207e+05</td>\n",
       "      <td>3.124266e+06</td>\n",
       "      <td>2.925615e+06</td>\n",
       "    </tr>\n",
       "    <tr>\n",
       "      <th>std</th>\n",
       "      <td>1.700526e+04</td>\n",
       "      <td>3.819363e+00</td>\n",
       "      <td>2.482538e+07</td>\n",
       "      <td>3.962794e+03</td>\n",
       "      <td>1.541345e+02</td>\n",
       "      <td>1.271686e+05</td>\n",
       "      <td>2.142613e+05</td>\n",
       "      <td>2.927001e+02</td>\n",
       "      <td>2.075356e+01</td>\n",
       "      <td>6.160575e+01</td>\n",
       "      <td>...</td>\n",
       "      <td>3.962309e+03</td>\n",
       "      <td>9.002130e+00</td>\n",
       "      <td>1.320985e+06</td>\n",
       "      <td>7.680875e+05</td>\n",
       "      <td>1.747283e+06</td>\n",
       "      <td>1.124720e+06</td>\n",
       "      <td>1.361281e+07</td>\n",
       "      <td>1.411382e+06</td>\n",
       "      <td>1.386486e+07</td>\n",
       "      <td>1.350958e+07</td>\n",
       "    </tr>\n",
       "    <tr>\n",
       "      <th>min</th>\n",
       "      <td>0.000000e+00</td>\n",
       "      <td>0.000000e+00</td>\n",
       "      <td>0.000000e+00</td>\n",
       "      <td>1.000000e+00</td>\n",
       "      <td>0.000000e+00</td>\n",
       "      <td>0.000000e+00</td>\n",
       "      <td>0.000000e+00</td>\n",
       "      <td>0.000000e+00</td>\n",
       "      <td>0.000000e+00</td>\n",
       "      <td>0.000000e+00</td>\n",
       "      <td>...</td>\n",
       "      <td>0.000000e+00</td>\n",
       "      <td>0.000000e+00</td>\n",
       "      <td>0.000000e+00</td>\n",
       "      <td>0.000000e+00</td>\n",
       "      <td>0.000000e+00</td>\n",
       "      <td>0.000000e+00</td>\n",
       "      <td>0.000000e+00</td>\n",
       "      <td>0.000000e+00</td>\n",
       "      <td>0.000000e+00</td>\n",
       "      <td>0.000000e+00</td>\n",
       "    </tr>\n",
       "    <tr>\n",
       "      <th>25%</th>\n",
       "      <td>5.300000e+01</td>\n",
       "      <td>6.000000e+00</td>\n",
       "      <td>4.860000e+02</td>\n",
       "      <td>2.000000e+00</td>\n",
       "      <td>0.000000e+00</td>\n",
       "      <td>0.000000e+00</td>\n",
       "      <td>0.000000e+00</td>\n",
       "      <td>0.000000e+00</td>\n",
       "      <td>0.000000e+00</td>\n",
       "      <td>0.000000e+00</td>\n",
       "      <td>...</td>\n",
       "      <td>0.000000e+00</td>\n",
       "      <td>2.000000e+01</td>\n",
       "      <td>0.000000e+00</td>\n",
       "      <td>0.000000e+00</td>\n",
       "      <td>0.000000e+00</td>\n",
       "      <td>0.000000e+00</td>\n",
       "      <td>0.000000e+00</td>\n",
       "      <td>0.000000e+00</td>\n",
       "      <td>0.000000e+00</td>\n",
       "      <td>0.000000e+00</td>\n",
       "    </tr>\n",
       "    <tr>\n",
       "      <th>50%</th>\n",
       "      <td>8.000000e+01</td>\n",
       "      <td>6.000000e+00</td>\n",
       "      <td>8.039000e+03</td>\n",
       "      <td>2.000000e+00</td>\n",
       "      <td>1.000000e+00</td>\n",
       "      <td>0.000000e+00</td>\n",
       "      <td>0.000000e+00</td>\n",
       "      <td>0.000000e+00</td>\n",
       "      <td>0.000000e+00</td>\n",
       "      <td>0.000000e+00</td>\n",
       "      <td>...</td>\n",
       "      <td>0.000000e+00</td>\n",
       "      <td>2.000000e+01</td>\n",
       "      <td>0.000000e+00</td>\n",
       "      <td>0.000000e+00</td>\n",
       "      <td>0.000000e+00</td>\n",
       "      <td>0.000000e+00</td>\n",
       "      <td>0.000000e+00</td>\n",
       "      <td>0.000000e+00</td>\n",
       "      <td>0.000000e+00</td>\n",
       "      <td>0.000000e+00</td>\n",
       "    </tr>\n",
       "    <tr>\n",
       "      <th>75%</th>\n",
       "      <td>3.389000e+03</td>\n",
       "      <td>6.000000e+00</td>\n",
       "      <td>2.859540e+05</td>\n",
       "      <td>3.000000e+00</td>\n",
       "      <td>4.000000e+00</td>\n",
       "      <td>3.260000e+02</td>\n",
       "      <td>3.140000e+02</td>\n",
       "      <td>2.990000e+02</td>\n",
       "      <td>0.000000e+00</td>\n",
       "      <td>7.700000e+01</td>\n",
       "      <td>...</td>\n",
       "      <td>1.000000e+00</td>\n",
       "      <td>3.200000e+01</td>\n",
       "      <td>0.000000e+00</td>\n",
       "      <td>0.000000e+00</td>\n",
       "      <td>0.000000e+00</td>\n",
       "      <td>0.000000e+00</td>\n",
       "      <td>0.000000e+00</td>\n",
       "      <td>0.000000e+00</td>\n",
       "      <td>0.000000e+00</td>\n",
       "      <td>0.000000e+00</td>\n",
       "    </tr>\n",
       "    <tr>\n",
       "      <th>max</th>\n",
       "      <td>6.553400e+04</td>\n",
       "      <td>1.700000e+01</td>\n",
       "      <td>1.200000e+08</td>\n",
       "      <td>3.096290e+05</td>\n",
       "      <td>1.210910e+05</td>\n",
       "      <td>9.908128e+06</td>\n",
       "      <td>1.561992e+08</td>\n",
       "      <td>1.968000e+03</td>\n",
       "      <td>1.460000e+03</td>\n",
       "      <td>1.460000e+03</td>\n",
       "      <td>...</td>\n",
       "      <td>3.096280e+05</td>\n",
       "      <td>5.600000e+01</td>\n",
       "      <td>1.140000e+08</td>\n",
       "      <td>6.780000e+07</td>\n",
       "      <td>1.140000e+08</td>\n",
       "      <td>1.140000e+08</td>\n",
       "      <td>1.200000e+08</td>\n",
       "      <td>7.590000e+07</td>\n",
       "      <td>1.200000e+08</td>\n",
       "      <td>1.200000e+08</td>\n",
       "    </tr>\n",
       "  </tbody>\n",
       "</table>\n",
       "<p>8 rows × 78 columns</p>\n",
       "</div>"
      ],
      "text/plain": [
       "           Dst Port      Protocol  Flow Duration  Tot Fwd Pkts  Tot Bwd Pkts  \\\n",
       "count  1.603867e+06  1.603867e+06   1.603867e+06  1.603867e+06  1.603867e+06   \n",
       "mean   7.481739e+03  7.445545e+00   7.492208e+06  1.310898e+02  4.439233e+00   \n",
       "std    1.700526e+04  3.819363e+00   2.482538e+07  3.962794e+03  1.541345e+02   \n",
       "min    0.000000e+00  0.000000e+00   0.000000e+00  1.000000e+00  0.000000e+00   \n",
       "25%    5.300000e+01  6.000000e+00   4.860000e+02  2.000000e+00  0.000000e+00   \n",
       "50%    8.000000e+01  6.000000e+00   8.039000e+03  2.000000e+00  1.000000e+00   \n",
       "75%    3.389000e+03  6.000000e+00   2.859540e+05  3.000000e+00  4.000000e+00   \n",
       "max    6.553400e+04  1.700000e+01   1.200000e+08  3.096290e+05  1.210910e+05   \n",
       "\n",
       "       TotLen Fwd Pkts  TotLen Bwd Pkts  Fwd Pkt Len Max  Fwd Pkt Len Min  \\\n",
       "count     1.603867e+06     1.603867e+06     1.603867e+06     1.603867e+06   \n",
       "mean      4.378411e+03     2.834549e+03     1.775638e+02     5.996670e+00   \n",
       "std       1.271686e+05     2.142613e+05     2.927001e+02     2.075356e+01   \n",
       "min       0.000000e+00     0.000000e+00     0.000000e+00     0.000000e+00   \n",
       "25%       0.000000e+00     0.000000e+00     0.000000e+00     0.000000e+00   \n",
       "50%       0.000000e+00     0.000000e+00     0.000000e+00     0.000000e+00   \n",
       "75%       3.260000e+02     3.140000e+02     2.990000e+02     0.000000e+00   \n",
       "max       9.908128e+06     1.561992e+08     1.968000e+03     1.460000e+03   \n",
       "\n",
       "       Fwd Pkt Len Mean  ...  Fwd Act Data Pkts  Fwd Seg Size Min  \\\n",
       "count      1.603867e+06  ...       1.603867e+06      1.603867e+06   \n",
       "mean       4.315188e+01  ...       1.280810e+02      2.250744e+01   \n",
       "std        6.160575e+01  ...       3.962309e+03      9.002130e+00   \n",
       "min        0.000000e+00  ...       0.000000e+00      0.000000e+00   \n",
       "25%        0.000000e+00  ...       0.000000e+00      2.000000e+01   \n",
       "50%        0.000000e+00  ...       0.000000e+00      2.000000e+01   \n",
       "75%        7.700000e+01  ...       1.000000e+00      3.200000e+01   \n",
       "max        1.460000e+03  ...       3.096280e+05      5.600000e+01   \n",
       "\n",
       "        Active Mean    Active Std    Active Max    Active Min     Idle Mean  \\\n",
       "count  1.603867e+06  1.603867e+06  1.603867e+06  1.603867e+06  1.603867e+06   \n",
       "mean   7.218124e+04  3.243472e+04  1.105369e+05  5.124591e+04  3.021648e+06   \n",
       "std    1.320985e+06  7.680875e+05  1.747283e+06  1.124720e+06  1.361281e+07   \n",
       "min    0.000000e+00  0.000000e+00  0.000000e+00  0.000000e+00  0.000000e+00   \n",
       "25%    0.000000e+00  0.000000e+00  0.000000e+00  0.000000e+00  0.000000e+00   \n",
       "50%    0.000000e+00  0.000000e+00  0.000000e+00  0.000000e+00  0.000000e+00   \n",
       "75%    0.000000e+00  0.000000e+00  0.000000e+00  0.000000e+00  0.000000e+00   \n",
       "max    1.140000e+08  6.780000e+07  1.140000e+08  1.140000e+08  1.200000e+08   \n",
       "\n",
       "           Idle Std      Idle Max      Idle Min  \n",
       "count  1.603867e+06  1.603867e+06  1.603867e+06  \n",
       "mean   1.040207e+05  3.124266e+06  2.925615e+06  \n",
       "std    1.411382e+06  1.386486e+07  1.350958e+07  \n",
       "min    0.000000e+00  0.000000e+00  0.000000e+00  \n",
       "25%    0.000000e+00  0.000000e+00  0.000000e+00  \n",
       "50%    0.000000e+00  0.000000e+00  0.000000e+00  \n",
       "75%    0.000000e+00  0.000000e+00  0.000000e+00  \n",
       "max    7.590000e+07  1.200000e+08  1.200000e+08  \n",
       "\n",
       "[8 rows x 78 columns]"
      ]
     },
     "execution_count": 70,
     "metadata": {},
     "output_type": "execute_result"
    }
   ],
   "source": [
    "df.describe()"
   ]
  },
  {
   "cell_type": "code",
   "execution_count": 71,
   "metadata": {},
   "outputs": [
    {
     "name": "stdout",
     "output_type": "stream",
     "text": [
      "['Bwd PSH Flags', 'Bwd URG Flags', 'Fwd Byts/b Avg', 'Fwd Pkts/b Avg', 'Fwd Blk Rate Avg', 'Bwd Byts/b Avg', 'Bwd Pkts/b Avg', 'Bwd Blk Rate Avg']\n"
     ]
    }
   ],
   "source": [
    "one_value_features = [f for f in df.columns if df[f].nunique()<=1]\n",
    "print(one_value_features)"
   ]
  },
  {
   "cell_type": "code",
   "execution_count": 72,
   "metadata": {},
   "outputs": [
    {
     "data": {
      "text/html": [
       "<div>\n",
       "<style scoped>\n",
       "    .dataframe tbody tr th:only-of-type {\n",
       "        vertical-align: middle;\n",
       "    }\n",
       "\n",
       "    .dataframe tbody tr th {\n",
       "        vertical-align: top;\n",
       "    }\n",
       "\n",
       "    .dataframe thead th {\n",
       "        text-align: right;\n",
       "    }\n",
       "</style>\n",
       "<table border=\"1\" class=\"dataframe\">\n",
       "  <thead>\n",
       "    <tr style=\"text-align: right;\">\n",
       "      <th></th>\n",
       "      <th>Dst Port</th>\n",
       "      <th>Protocol</th>\n",
       "      <th>Flow Duration</th>\n",
       "      <th>Tot Fwd Pkts</th>\n",
       "      <th>Tot Bwd Pkts</th>\n",
       "      <th>TotLen Fwd Pkts</th>\n",
       "      <th>TotLen Bwd Pkts</th>\n",
       "      <th>Fwd Pkt Len Max</th>\n",
       "      <th>Fwd Pkt Len Min</th>\n",
       "      <th>Fwd Pkt Len Mean</th>\n",
       "      <th>...</th>\n",
       "      <th>Fwd Seg Size Min</th>\n",
       "      <th>Active Mean</th>\n",
       "      <th>Active Std</th>\n",
       "      <th>Active Max</th>\n",
       "      <th>Active Min</th>\n",
       "      <th>Idle Mean</th>\n",
       "      <th>Idle Std</th>\n",
       "      <th>Idle Max</th>\n",
       "      <th>Idle Min</th>\n",
       "      <th>Label</th>\n",
       "    </tr>\n",
       "  </thead>\n",
       "  <tbody>\n",
       "    <tr>\n",
       "      <th>0</th>\n",
       "      <td>80</td>\n",
       "      <td>6</td>\n",
       "      <td>14766</td>\n",
       "      <td>3</td>\n",
       "      <td>4</td>\n",
       "      <td>315</td>\n",
       "      <td>935</td>\n",
       "      <td>315</td>\n",
       "      <td>0</td>\n",
       "      <td>105</td>\n",
       "      <td>...</td>\n",
       "      <td>20</td>\n",
       "      <td>0.0</td>\n",
       "      <td>0.0</td>\n",
       "      <td>0.0</td>\n",
       "      <td>0.0</td>\n",
       "      <td>0.0</td>\n",
       "      <td>0.0</td>\n",
       "      <td>0.0</td>\n",
       "      <td>0.0</td>\n",
       "      <td>DDOS attack-HOIC</td>\n",
       "    </tr>\n",
       "    <tr>\n",
       "      <th>1</th>\n",
       "      <td>80</td>\n",
       "      <td>6</td>\n",
       "      <td>30518</td>\n",
       "      <td>2</td>\n",
       "      <td>0</td>\n",
       "      <td>0</td>\n",
       "      <td>0</td>\n",
       "      <td>0</td>\n",
       "      <td>0</td>\n",
       "      <td>0</td>\n",
       "      <td>...</td>\n",
       "      <td>20</td>\n",
       "      <td>0.0</td>\n",
       "      <td>0.0</td>\n",
       "      <td>0.0</td>\n",
       "      <td>0.0</td>\n",
       "      <td>0.0</td>\n",
       "      <td>0.0</td>\n",
       "      <td>0.0</td>\n",
       "      <td>0.0</td>\n",
       "      <td>DDOS attack-HOIC</td>\n",
       "    </tr>\n",
       "    <tr>\n",
       "      <th>2</th>\n",
       "      <td>80</td>\n",
       "      <td>6</td>\n",
       "      <td>478</td>\n",
       "      <td>2</td>\n",
       "      <td>0</td>\n",
       "      <td>0</td>\n",
       "      <td>0</td>\n",
       "      <td>0</td>\n",
       "      <td>0</td>\n",
       "      <td>0</td>\n",
       "      <td>...</td>\n",
       "      <td>20</td>\n",
       "      <td>0.0</td>\n",
       "      <td>0.0</td>\n",
       "      <td>0.0</td>\n",
       "      <td>0.0</td>\n",
       "      <td>0.0</td>\n",
       "      <td>0.0</td>\n",
       "      <td>0.0</td>\n",
       "      <td>0.0</td>\n",
       "      <td>DDOS attack-HOIC</td>\n",
       "    </tr>\n",
       "    <tr>\n",
       "      <th>3</th>\n",
       "      <td>80</td>\n",
       "      <td>6</td>\n",
       "      <td>15018</td>\n",
       "      <td>2</td>\n",
       "      <td>0</td>\n",
       "      <td>0</td>\n",
       "      <td>0</td>\n",
       "      <td>0</td>\n",
       "      <td>0</td>\n",
       "      <td>0</td>\n",
       "      <td>...</td>\n",
       "      <td>20</td>\n",
       "      <td>0.0</td>\n",
       "      <td>0.0</td>\n",
       "      <td>0.0</td>\n",
       "      <td>0.0</td>\n",
       "      <td>0.0</td>\n",
       "      <td>0.0</td>\n",
       "      <td>0.0</td>\n",
       "      <td>0.0</td>\n",
       "      <td>DDOS attack-HOIC</td>\n",
       "    </tr>\n",
       "    <tr>\n",
       "      <th>4</th>\n",
       "      <td>80</td>\n",
       "      <td>6</td>\n",
       "      <td>17512</td>\n",
       "      <td>2</td>\n",
       "      <td>0</td>\n",
       "      <td>0</td>\n",
       "      <td>0</td>\n",
       "      <td>0</td>\n",
       "      <td>0</td>\n",
       "      <td>0</td>\n",
       "      <td>...</td>\n",
       "      <td>20</td>\n",
       "      <td>0.0</td>\n",
       "      <td>0.0</td>\n",
       "      <td>0.0</td>\n",
       "      <td>0.0</td>\n",
       "      <td>0.0</td>\n",
       "      <td>0.0</td>\n",
       "      <td>0.0</td>\n",
       "      <td>0.0</td>\n",
       "      <td>DDOS attack-HOIC</td>\n",
       "    </tr>\n",
       "    <tr>\n",
       "      <th>...</th>\n",
       "      <td>...</td>\n",
       "      <td>...</td>\n",
       "      <td>...</td>\n",
       "      <td>...</td>\n",
       "      <td>...</td>\n",
       "      <td>...</td>\n",
       "      <td>...</td>\n",
       "      <td>...</td>\n",
       "      <td>...</td>\n",
       "      <td>...</td>\n",
       "      <td>...</td>\n",
       "      <td>...</td>\n",
       "      <td>...</td>\n",
       "      <td>...</td>\n",
       "      <td>...</td>\n",
       "      <td>...</td>\n",
       "      <td>...</td>\n",
       "      <td>...</td>\n",
       "      <td>...</td>\n",
       "      <td>...</td>\n",
       "      <td>...</td>\n",
       "    </tr>\n",
       "    <tr>\n",
       "      <th>1603862</th>\n",
       "      <td>53</td>\n",
       "      <td>17</td>\n",
       "      <td>2071</td>\n",
       "      <td>1</td>\n",
       "      <td>1</td>\n",
       "      <td>43</td>\n",
       "      <td>99</td>\n",
       "      <td>43</td>\n",
       "      <td>43</td>\n",
       "      <td>43</td>\n",
       "      <td>...</td>\n",
       "      <td>8</td>\n",
       "      <td>0.0</td>\n",
       "      <td>0.0</td>\n",
       "      <td>0.0</td>\n",
       "      <td>0.0</td>\n",
       "      <td>0.0</td>\n",
       "      <td>0.0</td>\n",
       "      <td>0.0</td>\n",
       "      <td>0.0</td>\n",
       "      <td>Benign</td>\n",
       "    </tr>\n",
       "    <tr>\n",
       "      <th>1603863</th>\n",
       "      <td>3389</td>\n",
       "      <td>6</td>\n",
       "      <td>2833891</td>\n",
       "      <td>9</td>\n",
       "      <td>7</td>\n",
       "      <td>1128</td>\n",
       "      <td>1581</td>\n",
       "      <td>661</td>\n",
       "      <td>0</td>\n",
       "      <td>125</td>\n",
       "      <td>...</td>\n",
       "      <td>20</td>\n",
       "      <td>0.0</td>\n",
       "      <td>0.0</td>\n",
       "      <td>0.0</td>\n",
       "      <td>0.0</td>\n",
       "      <td>0.0</td>\n",
       "      <td>0.0</td>\n",
       "      <td>0.0</td>\n",
       "      <td>0.0</td>\n",
       "      <td>Benign</td>\n",
       "    </tr>\n",
       "    <tr>\n",
       "      <th>1603864</th>\n",
       "      <td>3389</td>\n",
       "      <td>6</td>\n",
       "      <td>3678344</td>\n",
       "      <td>10</td>\n",
       "      <td>7</td>\n",
       "      <td>1148</td>\n",
       "      <td>1581</td>\n",
       "      <td>677</td>\n",
       "      <td>0</td>\n",
       "      <td>114</td>\n",
       "      <td>...</td>\n",
       "      <td>20</td>\n",
       "      <td>0.0</td>\n",
       "      <td>0.0</td>\n",
       "      <td>0.0</td>\n",
       "      <td>0.0</td>\n",
       "      <td>0.0</td>\n",
       "      <td>0.0</td>\n",
       "      <td>0.0</td>\n",
       "      <td>0.0</td>\n",
       "      <td>Benign</td>\n",
       "    </tr>\n",
       "    <tr>\n",
       "      <th>1603865</th>\n",
       "      <td>20231</td>\n",
       "      <td>6</td>\n",
       "      <td>86190790</td>\n",
       "      <td>2</td>\n",
       "      <td>0</td>\n",
       "      <td>0</td>\n",
       "      <td>0</td>\n",
       "      <td>0</td>\n",
       "      <td>0</td>\n",
       "      <td>0</td>\n",
       "      <td>...</td>\n",
       "      <td>20</td>\n",
       "      <td>0.0</td>\n",
       "      <td>0.0</td>\n",
       "      <td>0.0</td>\n",
       "      <td>0.0</td>\n",
       "      <td>86190790.0</td>\n",
       "      <td>0.0</td>\n",
       "      <td>86190790.0</td>\n",
       "      <td>86190790.0</td>\n",
       "      <td>Benign</td>\n",
       "    </tr>\n",
       "    <tr>\n",
       "      <th>1603866</th>\n",
       "      <td>53</td>\n",
       "      <td>17</td>\n",
       "      <td>1163</td>\n",
       "      <td>1</td>\n",
       "      <td>1</td>\n",
       "      <td>35</td>\n",
       "      <td>63</td>\n",
       "      <td>35</td>\n",
       "      <td>35</td>\n",
       "      <td>35</td>\n",
       "      <td>...</td>\n",
       "      <td>8</td>\n",
       "      <td>0.0</td>\n",
       "      <td>0.0</td>\n",
       "      <td>0.0</td>\n",
       "      <td>0.0</td>\n",
       "      <td>0.0</td>\n",
       "      <td>0.0</td>\n",
       "      <td>0.0</td>\n",
       "      <td>0.0</td>\n",
       "      <td>Benign</td>\n",
       "    </tr>\n",
       "  </tbody>\n",
       "</table>\n",
       "<p>1603867 rows × 71 columns</p>\n",
       "</div>"
      ],
      "text/plain": [
       "         Dst Port  Protocol  Flow Duration  Tot Fwd Pkts  Tot Bwd Pkts  \\\n",
       "0              80         6          14766             3             4   \n",
       "1              80         6          30518             2             0   \n",
       "2              80         6            478             2             0   \n",
       "3              80         6          15018             2             0   \n",
       "4              80         6          17512             2             0   \n",
       "...           ...       ...            ...           ...           ...   \n",
       "1603862        53        17           2071             1             1   \n",
       "1603863      3389         6        2833891             9             7   \n",
       "1603864      3389         6        3678344            10             7   \n",
       "1603865     20231         6       86190790             2             0   \n",
       "1603866        53        17           1163             1             1   \n",
       "\n",
       "         TotLen Fwd Pkts  TotLen Bwd Pkts  Fwd Pkt Len Max  Fwd Pkt Len Min  \\\n",
       "0                    315              935              315                0   \n",
       "1                      0                0                0                0   \n",
       "2                      0                0                0                0   \n",
       "3                      0                0                0                0   \n",
       "4                      0                0                0                0   \n",
       "...                  ...              ...              ...              ...   \n",
       "1603862               43               99               43               43   \n",
       "1603863             1128             1581              661                0   \n",
       "1603864             1148             1581              677                0   \n",
       "1603865                0                0                0                0   \n",
       "1603866               35               63               35               35   \n",
       "\n",
       "         Fwd Pkt Len Mean  ...  Fwd Seg Size Min  Active Mean  Active Std  \\\n",
       "0                     105  ...                20          0.0         0.0   \n",
       "1                       0  ...                20          0.0         0.0   \n",
       "2                       0  ...                20          0.0         0.0   \n",
       "3                       0  ...                20          0.0         0.0   \n",
       "4                       0  ...                20          0.0         0.0   \n",
       "...                   ...  ...               ...          ...         ...   \n",
       "1603862                43  ...                 8          0.0         0.0   \n",
       "1603863               125  ...                20          0.0         0.0   \n",
       "1603864               114  ...                20          0.0         0.0   \n",
       "1603865                 0  ...                20          0.0         0.0   \n",
       "1603866                35  ...                 8          0.0         0.0   \n",
       "\n",
       "         Active Max  Active Min   Idle Mean  Idle Std    Idle Max    Idle Min  \\\n",
       "0               0.0         0.0         0.0       0.0         0.0         0.0   \n",
       "1               0.0         0.0         0.0       0.0         0.0         0.0   \n",
       "2               0.0         0.0         0.0       0.0         0.0         0.0   \n",
       "3               0.0         0.0         0.0       0.0         0.0         0.0   \n",
       "4               0.0         0.0         0.0       0.0         0.0         0.0   \n",
       "...             ...         ...         ...       ...         ...         ...   \n",
       "1603862         0.0         0.0         0.0       0.0         0.0         0.0   \n",
       "1603863         0.0         0.0         0.0       0.0         0.0         0.0   \n",
       "1603864         0.0         0.0         0.0       0.0         0.0         0.0   \n",
       "1603865         0.0         0.0  86190790.0       0.0  86190790.0  86190790.0   \n",
       "1603866         0.0         0.0         0.0       0.0         0.0         0.0   \n",
       "\n",
       "                    Label  \n",
       "0        DDOS attack-HOIC  \n",
       "1        DDOS attack-HOIC  \n",
       "2        DDOS attack-HOIC  \n",
       "3        DDOS attack-HOIC  \n",
       "4        DDOS attack-HOIC  \n",
       "...                   ...  \n",
       "1603862            Benign  \n",
       "1603863            Benign  \n",
       "1603864            Benign  \n",
       "1603865            Benign  \n",
       "1603866            Benign  \n",
       "\n",
       "[1603867 rows x 71 columns]"
      ]
     },
     "execution_count": 72,
     "metadata": {},
     "output_type": "execute_result"
    }
   ],
   "source": [
    "# remove columns that contains only 1 value\n",
    "df.drop(['Bwd PSH Flags', 'Bwd URG Flags', 'Fwd Byts/b Avg', 'Fwd Pkts/b Avg', 'Fwd Blk Rate Avg', 'Bwd Byts/b Avg', 'Bwd Pkts/b Avg', 'Bwd Blk Rate Avg'], axis=1)"
   ]
  },
  {
   "cell_type": "code",
   "execution_count": 73,
   "metadata": {},
   "outputs": [
    {
     "data": {
      "text/plain": [
       "Dst Port         0\n",
       "Protocol         0\n",
       "Flow Duration    0\n",
       "Tot Fwd Pkts     0\n",
       "Tot Bwd Pkts     0\n",
       "                ..\n",
       "Idle Mean        0\n",
       "Idle Std         0\n",
       "Idle Max         0\n",
       "Idle Min         0\n",
       "Label            0\n",
       "Length: 79, dtype: int64"
      ]
     },
     "execution_count": 73,
     "metadata": {},
     "output_type": "execute_result"
    }
   ],
   "source": [
    "# check for missing values\n",
    "df.isnull().sum()"
   ]
  },
  {
   "cell_type": "code",
   "execution_count": 74,
   "metadata": {},
   "outputs": [
    {
     "name": "stdout",
     "output_type": "stream",
     "text": [
      "['TotLen Fwd Pkts', 'TotLen Bwd Pkts', 'Fwd Pkt Len Std', 'Bwd Pkt Len Std', 'Flow IAT Min', 'Fwd IAT Tot', 'Fwd IAT Mean', 'Fwd IAT Max', 'Fwd IAT Min', 'Fwd Header Len', 'Bwd Header Len', 'Fwd Pkts/s', 'Pkt Len Std', 'SYN Flag Cnt', 'CWE Flag Count', 'ECE Flag Cnt', 'Pkt Size Avg', 'Fwd Seg Size Avg', 'Bwd Seg Size Avg', 'Subflow Fwd Pkts', 'Subflow Fwd Byts', 'Subflow Bwd Pkts', 'Subflow Bwd Byts', 'Fwd Act Data Pkts', 'Idle Max', 'Idle Min']\n"
     ]
    }
   ],
   "source": [
    "# check for highly correlated variables and remove it \n",
    "\n",
    "# Create correlation matrix\n",
    "corr_matrix = df.corr().abs()\n",
    "\n",
    "# Select upper triangle of correlation matrix\n",
    "upper = corr_matrix.where(np.triu(np.ones(corr_matrix.shape), k=1).astype(np.bool))\n",
    "\n",
    "# Find features with correlation greater than 0.95\n",
    "to_drop = [column for column in upper.columns if any(upper[column] > 0.95)]\n",
    "print(to_drop)\n",
    "\n",
    "# Drop features \n",
    "df.drop(to_drop, axis=1, inplace=True)"
   ]
  },
  {
   "cell_type": "code",
   "execution_count": 75,
   "metadata": {},
   "outputs": [
    {
     "data": {
      "text/plain": [
       "(1603867, 53)"
      ]
     },
     "execution_count": 75,
     "metadata": {},
     "output_type": "execute_result"
    }
   ],
   "source": [
    "df.shape"
   ]
  },
  {
   "cell_type": "markdown",
   "metadata": {},
   "source": [
    "## Preprocessing"
   ]
  },
  {
   "cell_type": "markdown",
   "metadata": {},
   "source": [
    "#### * **Preprocessing**: Execute your strategy for preprocessing.\\ There are two ways you have to do this: \n",
    "1. All attacks are present in both train and test set. \n",
    "2. Some attacks are 'zero-day', so only present in the test set. For the same **M-profile** choose some exploits as zero-days."
   ]
  },
  {
   "cell_type": "code",
   "execution_count": 76,
   "metadata": {},
   "outputs": [],
   "source": [
    "# copy dataset for the 2 methods\n",
    "df_1 = df.copy()\n",
    "df_2 = df.copy()"
   ]
  },
  {
   "cell_type": "markdown",
   "metadata": {},
   "source": [
    "#### 1. All attacks are present in both train and test set"
   ]
  },
  {
   "cell_type": "code",
   "execution_count": 77,
   "metadata": {},
   "outputs": [
    {
     "name": "stdout",
     "output_type": "stream",
     "text": [
      "<class 'pandas.core.frame.DataFrame'>\n",
      "RangeIndex: 1603867 entries, 0 to 1603866\n",
      "Data columns (total 53 columns):\n",
      " #   Column             Non-Null Count    Dtype  \n",
      "---  ------             --------------    -----  \n",
      " 0   Dst Port           1603867 non-null  int64  \n",
      " 1   Protocol           1603867 non-null  int64  \n",
      " 2   Flow Duration      1603867 non-null  int64  \n",
      " 3   Tot Fwd Pkts       1603867 non-null  int64  \n",
      " 4   Tot Bwd Pkts       1603867 non-null  int64  \n",
      " 5   Fwd Pkt Len Max    1603867 non-null  int64  \n",
      " 6   Fwd Pkt Len Min    1603867 non-null  int64  \n",
      " 7   Fwd Pkt Len Mean   1603867 non-null  int64  \n",
      " 8   Bwd Pkt Len Max    1603867 non-null  int64  \n",
      " 9   Bwd Pkt Len Min    1603867 non-null  int64  \n",
      " 10  Bwd Pkt Len Mean   1603867 non-null  int64  \n",
      " 11  Flow Byts/s        1603867 non-null  float64\n",
      " 12  Flow Pkts/s        1603867 non-null  float64\n",
      " 13  Flow IAT Mean      1603867 non-null  float64\n",
      " 14  Flow IAT Std       1603867 non-null  float64\n",
      " 15  Flow IAT Max       1603867 non-null  float64\n",
      " 16  Fwd IAT Std        1603867 non-null  float64\n",
      " 17  Bwd IAT Tot        1603867 non-null  float64\n",
      " 18  Bwd IAT Mean       1603867 non-null  float64\n",
      " 19  Bwd IAT Std        1603867 non-null  float64\n",
      " 20  Bwd IAT Max        1603867 non-null  float64\n",
      " 21  Bwd IAT Min        1603867 non-null  float64\n",
      " 22  Fwd PSH Flags      1603867 non-null  int64  \n",
      " 23  Bwd PSH Flags      1603867 non-null  int64  \n",
      " 24  Fwd URG Flags      1603867 non-null  int64  \n",
      " 25  Bwd URG Flags      1603867 non-null  int64  \n",
      " 26  Bwd Pkts/s         1603867 non-null  float64\n",
      " 27  Pkt Len Min        1603867 non-null  int64  \n",
      " 28  Pkt Len Max        1603867 non-null  int64  \n",
      " 29  Pkt Len Mean       1603867 non-null  int64  \n",
      " 30  Pkt Len Var        1603867 non-null  float64\n",
      " 31  FIN Flag Cnt       1603867 non-null  int64  \n",
      " 32  RST Flag Cnt       1603867 non-null  int64  \n",
      " 33  PSH Flag Cnt       1603867 non-null  int64  \n",
      " 34  ACK Flag Cnt       1603867 non-null  int64  \n",
      " 35  URG Flag Cnt       1603867 non-null  int64  \n",
      " 36  Down/Up Ratio      1603867 non-null  int64  \n",
      " 37  Fwd Byts/b Avg     1603867 non-null  float64\n",
      " 38  Fwd Pkts/b Avg     1603867 non-null  float64\n",
      " 39  Fwd Blk Rate Avg   1603867 non-null  float64\n",
      " 40  Bwd Byts/b Avg     1603867 non-null  float64\n",
      " 41  Bwd Pkts/b Avg     1603867 non-null  float64\n",
      " 42  Bwd Blk Rate Avg   1603867 non-null  float64\n",
      " 43  Init Fwd Win Byts  1603867 non-null  int64  \n",
      " 44  Init Bwd Win Byts  1603867 non-null  int64  \n",
      " 45  Fwd Seg Size Min   1603867 non-null  int64  \n",
      " 46  Active Mean        1603867 non-null  float64\n",
      " 47  Active Std         1603867 non-null  float64\n",
      " 48  Active Max         1603867 non-null  float64\n",
      " 49  Active Min         1603867 non-null  float64\n",
      " 50  Idle Mean          1603867 non-null  float64\n",
      " 51  Idle Std           1603867 non-null  float64\n",
      " 52  Label              1603867 non-null  object \n",
      "dtypes: float64(25), int64(27), object(1)\n",
      "memory usage: 648.5+ MB\n"
     ]
    }
   ],
   "source": [
    "df_1.info()"
   ]
  },
  {
   "cell_type": "code",
   "execution_count": 78,
   "metadata": {},
   "outputs": [
    {
     "data": {
      "text/plain": [
       "Benign                      733458\n",
       "DDOS attack-HOIC            274404\n",
       "DoS attacks-Hulk            184764\n",
       "Bot                         114476\n",
       "FTP-BruteForce               77344\n",
       "SSH-Bruteforce               75035\n",
       "Infilteration                64773\n",
       "DoS attacks-SlowHTTPTest     55956\n",
       "DoS attacks-GoldenEye        16603\n",
       "DoS attacks-Slowloris         4396\n",
       "DDOS attack-LOIC-UDP          1730\n",
       "Brute Force -Web               611\n",
       "Brute Force -XSS               230\n",
       "SQL Injection                   87\n",
       "Name: Label, dtype: int64"
      ]
     },
     "execution_count": 78,
     "metadata": {},
     "output_type": "execute_result"
    }
   ],
   "source": [
    "df_1['Label'].value_counts()"
   ]
  },
  {
   "cell_type": "code",
   "execution_count": 79,
   "metadata": {},
   "outputs": [],
   "source": [
    "train, test = train_test_split(df_1, test_size=0.3, random_state=42)"
   ]
  },
  {
   "cell_type": "code",
   "execution_count": 80,
   "metadata": {},
   "outputs": [],
   "source": [
    "clean_train = train.copy()\n",
    "clean_test = test.copy()"
   ]
  },
  {
   "cell_type": "code",
   "execution_count": 81,
   "metadata": {},
   "outputs": [
    {
     "name": "stderr",
     "output_type": "stream",
     "text": [
      "<ipython-input-81-9dc727d8fdb3>:7: SettingWithCopyWarning: \n",
      "A value is trying to be set on a copy of a slice from a DataFrame.\n",
      "Try using .loc[row_indexer,col_indexer] = value instead\n",
      "\n",
      "See the caveats in the documentation: https://pandas.pydata.org/pandas-docs/stable/user_guide/indexing.html#returning-a-view-versus-a-copy\n",
      "  train['Label'] = [label[item] for item in train['Label']]\n"
     ]
    },
    {
     "data": {
      "text/plain": [
       "1    609879\n",
       "0    512827\n",
       "Name: Label, dtype: int64"
      ]
     },
     "execution_count": 81,
     "metadata": {},
     "output_type": "execute_result"
    }
   ],
   "source": [
    "# convert label column to binary - train set\n",
    "label = {'Benign': 0, 'DDOS attack-HOIC': 1, 'DoS attacks-Hulk': 1, 'Bot': 1, 'FTP-BruteForce': 1,\n",
    "         'SSH-Bruteforce': 1, 'Infilteration': 1, 'DoS attacks-SlowHTTPTest': 1, 'DoS attacks-GoldenEye': 1,\n",
    "         'DoS attacks-Slowloris': 1, 'SQL Injection': 1, 'Brute Force -XSS': 1, 'Brute Force -Web': 1,\n",
    "         'DDOS attack-LOIC-UDP': 1}\n",
    "\n",
    "train['Label'] = [label[item] for item in train['Label']]\n",
    "train['Label'].unique()\n",
    "# check value count of label\n",
    "train['Label'].value_counts()"
   ]
  },
  {
   "cell_type": "code",
   "execution_count": 82,
   "metadata": {},
   "outputs": [
    {
     "name": "stderr",
     "output_type": "stream",
     "text": [
      "<ipython-input-82-48b9b95d5ea1>:7: SettingWithCopyWarning: \n",
      "A value is trying to be set on a copy of a slice from a DataFrame.\n",
      "Try using .loc[row_indexer,col_indexer] = value instead\n",
      "\n",
      "See the caveats in the documentation: https://pandas.pydata.org/pandas-docs/stable/user_guide/indexing.html#returning-a-view-versus-a-copy\n",
      "  test['Label'] = [label[item] for item in test['Label']]\n"
     ]
    },
    {
     "data": {
      "text/plain": [
       "1    260530\n",
       "0    220631\n",
       "Name: Label, dtype: int64"
      ]
     },
     "execution_count": 82,
     "metadata": {},
     "output_type": "execute_result"
    }
   ],
   "source": [
    "# convert label column to binary - test set\n",
    "label = {'Benign': 0, 'DDOS attack-HOIC': 1, 'DoS attacks-Hulk': 1, 'Bot': 1, 'FTP-BruteForce': 1,\n",
    "         'SSH-Bruteforce': 1, 'Infilteration': 1, 'DoS attacks-SlowHTTPTest': 1, 'DoS attacks-GoldenEye': 1,\n",
    "         'DoS attacks-Slowloris': 1, 'SQL Injection': 1, 'Brute Force -XSS': 1, 'Brute Force -Web': 1,\n",
    "         'DDOS attack-LOIC-UDP': 1}\n",
    "\n",
    "test['Label'] = [label[item] for item in test['Label']]\n",
    "test['Label'].unique()\n",
    "# check value count of label\n",
    "test['Label'].value_counts()"
   ]
  },
  {
   "cell_type": "markdown",
   "metadata": {},
   "source": [
    "#### train test split"
   ]
  },
  {
   "cell_type": "code",
   "execution_count": 83,
   "metadata": {},
   "outputs": [],
   "source": [
    "X_train = train.drop('Label', axis=1)\n",
    "y_train = train['Label']\n",
    "\n",
    "X_test = test.drop('Label', axis=1)\n",
    "y_test = test['Label']"
   ]
  },
  {
   "cell_type": "code",
   "execution_count": 84,
   "metadata": {},
   "outputs": [],
   "source": [
    "# original label\n",
    "y_train_og = clean_train['Label']\n",
    "y_test_og = clean_test['Label']"
   ]
  },
  {
   "cell_type": "code",
   "execution_count": 85,
   "metadata": {},
   "outputs": [],
   "source": [
    "# Find all numeric columns\n",
    "num_cols = X_train.columns[X_train.dtypes.apply(lambda c: np.issubdtype(c, np.number))]\n",
    "# apply scaler only to those numeric columns\n",
    "\n",
    "# fit on training data column\n",
    "scale = StandardScaler().fit(X_train)\n",
    "\n",
    "# transform the training data column\n",
    "X_train = scale.transform(X_train)\n",
    "\n",
    "# transform the testing data column\n",
    "X_test = scale.transform(X_test)\n"
   ]
  },
  {
   "cell_type": "markdown",
   "metadata": {},
   "source": [
    "#### 2. Some attacks are 'zero-day', so only present in the test set. For the same **M-profile** choose some exploits as zero-days."
   ]
  },
  {
   "cell_type": "markdown",
   "metadata": {},
   "source": [
    "For this method, I'll remove the DoS attacks-Slowloris, DoS attacks-SlowHTTPTest from the same M-profile and FTP-BruteForce."
   ]
  },
  {
   "cell_type": "code",
   "execution_count": 86,
   "metadata": {},
   "outputs": [
    {
     "data": {
      "text/plain": [
       "Benign                      733458\n",
       "DDOS attack-HOIC            274404\n",
       "DoS attacks-Hulk            184764\n",
       "Bot                         114476\n",
       "FTP-BruteForce               77344\n",
       "SSH-Bruteforce               75035\n",
       "Infilteration                64773\n",
       "DoS attacks-SlowHTTPTest     55956\n",
       "DoS attacks-GoldenEye        16603\n",
       "DoS attacks-Slowloris         4396\n",
       "DDOS attack-LOIC-UDP          1730\n",
       "Brute Force -Web               611\n",
       "Brute Force -XSS               230\n",
       "SQL Injection                   87\n",
       "Name: Label, dtype: int64"
      ]
     },
     "execution_count": 86,
     "metadata": {},
     "output_type": "execute_result"
    }
   ],
   "source": [
    "df_2['Label'].value_counts()"
   ]
  },
  {
   "cell_type": "markdown",
   "metadata": {},
   "source": [
    "Attacks:\n",
    "- Bruteforce attack:\n",
    "    - FTP-BruteForce\n",
    "    - SSH-BruteForce\n",
    "- DoS attack:\n",
    "    - DoS attacks-Hulk\n",
    "    - DoS attacks-GoldenEye\n",
    "    - DoS attacks-SLowloris\n",
    "    - Dos attacks-SlowHTTPTest\n",
    "- DDOS attacks:\n",
    "    - DDOS attack-HOIC\n",
    "    - DDOS attack-LOIC-UDP\n",
    "- Web attack:\n",
    "    - Brute Force-Web\n",
    "    - Brute Force-XSS\n",
    "- Infiltration attack:\n",
    "    - Infilteration\n",
    "- Botnet attack:\n",
    "    - Bot\n",
    "- SQL Injection\n"
   ]
  },
  {
   "cell_type": "code",
   "execution_count": 87,
   "metadata": {},
   "outputs": [],
   "source": [
    "train, test = train_test_split(df_2, test_size=0.3, random_state=42)\n"
   ]
  },
  {
   "cell_type": "code",
   "execution_count": 88,
   "metadata": {},
   "outputs": [],
   "source": [
    "# DoS m-profile\n",
    "# remove 'DoS attacks-Slowloris' from the the train set\n",
    "train = train[train['Label'] != 'DoS attacks-Slowloris']\n",
    "# remove 'DoS attacks-SlowHTTPTest' from the the train set\n",
    "train = train[train['Label'] != 'DoS attacks-SlowHTTPTest']\n",
    "\n",
    "# Bruteforce m-profile\n",
    "# remove 'FTP-BruteForce' from the the train set\n",
    "train = train[train['Label'] != 'FTP-BruteForce']"
   ]
  },
  {
   "cell_type": "code",
   "execution_count": 89,
   "metadata": {},
   "outputs": [
    {
     "data": {
      "text/plain": [
       "Benign                   512827\n",
       "DDOS attack-HOIC         192285\n",
       "DoS attacks-Hulk         129670\n",
       "Bot                       80157\n",
       "SSH-Bruteforce            52539\n",
       "Infilteration             45159\n",
       "DoS attacks-GoldenEye     11648\n",
       "DDOS attack-LOIC-UDP       1235\n",
       "Brute Force -Web            431\n",
       "Brute Force -XSS            154\n",
       "SQL Injection                69\n",
       "Name: Label, dtype: int64"
      ]
     },
     "execution_count": 89,
     "metadata": {},
     "output_type": "execute_result"
    }
   ],
   "source": [
    "train['Label'].value_counts()"
   ]
  },
  {
   "cell_type": "code",
   "execution_count": 90,
   "metadata": {},
   "outputs": [
    {
     "data": {
      "text/plain": [
       "Benign                      220631\n",
       "DDOS attack-HOIC             82119\n",
       "DoS attacks-Hulk             55094\n",
       "Bot                          34319\n",
       "FTP-BruteForce               23168\n",
       "SSH-Bruteforce               22496\n",
       "Infilteration                19614\n",
       "DoS attacks-SlowHTTPTest     16734\n",
       "DoS attacks-GoldenEye         4955\n",
       "DoS attacks-Slowloris         1262\n",
       "DDOS attack-LOIC-UDP           495\n",
       "Brute Force -Web               180\n",
       "Brute Force -XSS                76\n",
       "SQL Injection                   18\n",
       "Name: Label, dtype: int64"
      ]
     },
     "execution_count": 90,
     "metadata": {},
     "output_type": "execute_result"
    }
   ],
   "source": [
    "test['Label'].value_counts()"
   ]
  },
  {
   "cell_type": "code",
   "execution_count": 91,
   "metadata": {},
   "outputs": [],
   "source": [
    "clean_train = train.copy()\n",
    "clean_test = test.copy()"
   ]
  },
  {
   "cell_type": "code",
   "execution_count": 92,
   "metadata": {},
   "outputs": [
    {
     "data": {
      "text/plain": [
       "1    513347\n",
       "0    512827\n",
       "Name: Label, dtype: int64"
      ]
     },
     "execution_count": 92,
     "metadata": {},
     "output_type": "execute_result"
    }
   ],
   "source": [
    "# train set\n",
    "# convert label column to binary\n",
    "label = {'Benign': 0, 'DDOS attack-HOIC': 1, 'DoS attacks-Hulk': 1, 'Bot': 1,\n",
    "         'SSH-Bruteforce': 1, 'Infilteration': 1, 'DoS attacks-GoldenEye': 1,\n",
    "         'SQL Injection': 1, 'Brute Force -XSS': 1, 'Brute Force -Web': 1,\n",
    "         'DDOS attack-LOIC-UDP': 1}\n",
    "\n",
    "train['Label'] = [label[item] for item in train['Label']]\n",
    "train['Label'].unique()\n",
    "# check value count of label\n",
    "train['Label'].value_counts()"
   ]
  },
  {
   "cell_type": "code",
   "execution_count": 93,
   "metadata": {},
   "outputs": [
    {
     "name": "stderr",
     "output_type": "stream",
     "text": [
      "<ipython-input-93-eb213d998d25>:8: SettingWithCopyWarning: \n",
      "A value is trying to be set on a copy of a slice from a DataFrame.\n",
      "Try using .loc[row_indexer,col_indexer] = value instead\n",
      "\n",
      "See the caveats in the documentation: https://pandas.pydata.org/pandas-docs/stable/user_guide/indexing.html#returning-a-view-versus-a-copy\n",
      "  test['Label'] = [label[item] for item in test['Label']]\n"
     ]
    },
    {
     "data": {
      "text/plain": [
       "1    260530\n",
       "0    220631\n",
       "Name: Label, dtype: int64"
      ]
     },
     "execution_count": 93,
     "metadata": {},
     "output_type": "execute_result"
    }
   ],
   "source": [
    "# test set\n",
    "# convert label column to binary\n",
    "label = {'Benign': 0, 'DDOS attack-HOIC': 1, 'DoS attacks-Hulk': 1, 'Bot': 1, 'FTP-BruteForce': 1,\n",
    "         'SSH-Bruteforce': 1, 'Infilteration': 1, 'DoS attacks-SlowHTTPTest': 1, 'DoS attacks-GoldenEye': 1,\n",
    "         'DoS attacks-Slowloris': 1, 'SQL Injection': 1, 'Brute Force -XSS': 1, 'Brute Force -Web': 1,\n",
    "         'DDOS attack-LOIC-UDP': 1}\n",
    "\n",
    "test['Label'] = [label[item] for item in test['Label']]\n",
    "test['Label'].unique()\n",
    "# check value count of label\n",
    "test['Label'].value_counts()"
   ]
  },
  {
   "cell_type": "code",
   "execution_count": 94,
   "metadata": {},
   "outputs": [],
   "source": [
    "X_train2 = train.drop('Label', axis=1)\n",
    "y_train2 = train['Label']\n",
    "\n",
    "X_test2 = test.drop('Label', axis=1)\n",
    "y_test2 = test['Label']"
   ]
  },
  {
   "cell_type": "code",
   "execution_count": 95,
   "metadata": {},
   "outputs": [],
   "source": [
    "# original label\n",
    "y_train2_og = clean_train['Label']\n",
    "y_test2_og = clean_test['Label']"
   ]
  },
  {
   "cell_type": "code",
   "execution_count": 96,
   "metadata": {},
   "outputs": [],
   "source": [
    "# Find all numeric columns\n",
    "num_cols = X_train2.columns[X_train2.dtypes.apply(lambda c: np.issubdtype(c, np.number))]\n",
    "# apply scaler only to those numeric columns\n",
    "\n",
    "# fit on training data column\n",
    "scale = StandardScaler().fit(X_train2)\n",
    "\n",
    "# transform the training data column\n",
    "X_train2 = scale.transform(X_train2)\n",
    "\n",
    "# transform the testing data column\n",
    "X_test2 = scale.transform(X_test2)"
   ]
  },
  {
   "cell_type": "markdown",
   "metadata": {},
   "source": [
    "## Training and evaluation"
   ]
  },
  {
   "cell_type": "markdown",
   "metadata": {},
   "source": [
    "* **Training & evaluating algorithms**: Train and evaluate your algorithms for both situations (with and without zero-days).\n",
    "    In this evaluation include:\n",
    "    1. Comparison between test set with/without zero-days.\n",
    "    2. Scores for the binary labels and on the original labels.\n",
    "    3. How much overfitting there is."
   ]
  },
  {
   "cell_type": "markdown",
   "metadata": {},
   "source": [
    "## With zero_days"
   ]
  },
  {
   "cell_type": "markdown",
   "metadata": {},
   "source": [
    "### 1. Logistic regression"
   ]
  },
  {
   "cell_type": "markdown",
   "metadata": {},
   "source": [
    "#### binary labels"
   ]
  },
  {
   "cell_type": "code",
   "execution_count": 97,
   "metadata": {},
   "outputs": [
    {
     "name": "stdout",
     "output_type": "stream",
     "text": [
      "It took about 11 seconds to train the model\n"
     ]
    },
    {
     "name": "stderr",
     "output_type": "stream",
     "text": [
      "C:\\Anaconda\\lib\\site-packages\\sklearn\\linear_model\\_logistic.py:763: ConvergenceWarning: lbfgs failed to converge (status=1):\n",
      "STOP: TOTAL NO. of ITERATIONS REACHED LIMIT.\n",
      "\n",
      "Increase the number of iterations (max_iter) or scale the data as shown in:\n",
      "    https://scikit-learn.org/stable/modules/preprocessing.html\n",
      "Please also refer to the documentation for alternative solver options:\n",
      "    https://scikit-learn.org/stable/modules/linear_model.html#logistic-regression\n",
      "  n_iter_i = _check_optimize_result(\n"
     ]
    }
   ],
   "source": [
    "from sklearn.linear_model import LogisticRegression\n",
    "\n",
    "model1 = LogisticRegression(solver='lbfgs', C=10)\n",
    "\n",
    "start = time.time()\n",
    "model1.fit(X_train, y_train)\n",
    "end = time.time()\n",
    "\n",
    "duration = end - start\n",
    "    \n",
    "print(\"It took about \"+str(int(duration))+ \" seconds to train the model\")"
   ]
  },
  {
   "cell_type": "code",
   "execution_count": 98,
   "metadata": {},
   "outputs": [
    {
     "name": "stdout",
     "output_type": "stream",
     "text": [
      "              precision    recall  f1-score   support\n",
      "\n",
      "           0       0.93      0.91      0.92    220631\n",
      "           1       0.93      0.94      0.93    260530\n",
      "\n",
      "    accuracy                           0.93    481161\n",
      "   macro avg       0.93      0.92      0.93    481161\n",
      "weighted avg       0.93      0.93      0.93    481161\n",
      "\n",
      "[[201091  19540]\n",
      " [ 16115 244415]]\n",
      "92.58979842505939\n"
     ]
    }
   ],
   "source": [
    "y_pred = model1.predict(X_test)\n",
    "\n",
    "print(classification_report(y_test, y_pred))\n",
    "\n",
    "cf = confusion_matrix(y_test, y_pred)\n",
    "print(cf)\n",
    "print(accuracy_score(y_test, y_pred) * 100) "
   ]
  },
  {
   "cell_type": "markdown",
   "metadata": {},
   "source": [
    "#### original labels"
   ]
  },
  {
   "cell_type": "code",
   "execution_count": 99,
   "metadata": {},
   "outputs": [
    {
     "name": "stdout",
     "output_type": "stream",
     "text": [
      "It took about 106 seconds to train the model\n"
     ]
    },
    {
     "name": "stderr",
     "output_type": "stream",
     "text": [
      "C:\\Anaconda\\lib\\site-packages\\sklearn\\linear_model\\_logistic.py:763: ConvergenceWarning: lbfgs failed to converge (status=1):\n",
      "STOP: TOTAL NO. of ITERATIONS REACHED LIMIT.\n",
      "\n",
      "Increase the number of iterations (max_iter) or scale the data as shown in:\n",
      "    https://scikit-learn.org/stable/modules/preprocessing.html\n",
      "Please also refer to the documentation for alternative solver options:\n",
      "    https://scikit-learn.org/stable/modules/linear_model.html#logistic-regression\n",
      "  n_iter_i = _check_optimize_result(\n"
     ]
    }
   ],
   "source": [
    "from sklearn.linear_model import LogisticRegression\n",
    "\n",
    "model1_og = LogisticRegression(solver='lbfgs', C=10)\n",
    "\n",
    "start = time.time()\n",
    "model1_og.fit(X_train, y_train_og)\n",
    "end = time.time()\n",
    "\n",
    "duration = end - start\n",
    "    \n",
    "print(\"It took about \"+str(int(duration))+ \" seconds to train the model\")"
   ]
  },
  {
   "cell_type": "code",
   "execution_count": 100,
   "metadata": {},
   "outputs": [
    {
     "name": "stdout",
     "output_type": "stream",
     "text": [
      "                          precision    recall  f1-score   support\n",
      "\n",
      "                  Benign       0.92      0.96      0.94    220631\n",
      "                     Bot       0.80      1.00      0.89     34319\n",
      "        Brute Force -Web       0.95      0.21      0.34       180\n",
      "        Brute Force -XSS       1.00      0.46      0.63        76\n",
      "        DDOS attack-HOIC       0.99      1.00      0.99     82119\n",
      "    DDOS attack-LOIC-UDP       1.00      0.99      1.00       495\n",
      "   DoS attacks-GoldenEye       0.97      0.83      0.89      4955\n",
      "        DoS attacks-Hulk       0.98      1.00      0.99     55094\n",
      "DoS attacks-SlowHTTPTest       0.64      0.55      0.59     16734\n",
      "   DoS attacks-Slowloris       0.92      0.75      0.83      1262\n",
      "          FTP-BruteForce       0.71      0.79      0.74     23168\n",
      "           Infilteration       0.54      0.05      0.08     19614\n",
      "           SQL Injection       0.00      0.00      0.00        18\n",
      "          SSH-Bruteforce       1.00      1.00      1.00     22496\n",
      "\n",
      "                accuracy                           0.91    481161\n",
      "               macro avg       0.82      0.68      0.71    481161\n",
      "            weighted avg       0.90      0.91      0.90    481161\n",
      "\n",
      "[[211143   7639      2      0    835      0     99     37     46     64\n",
      "       3    740      6     17]\n",
      " [    20  34276      0      0      0      0      0      0      0      0\n",
      "       0     23      0      0]\n",
      " [   115     27     37      0      0      0      0      0      0      0\n",
      "       0      1      0      0]\n",
      " [    15     26      0     35      0      0      0      0      0      0\n",
      "       0      0      0      0]\n",
      " [     6      0      0      0  82113      0      0      0      0      0\n",
      "       0      0      0      0]\n",
      " [     4      0      0      0      0    491      0      0      0      0\n",
      "       0      0      0      0]\n",
      " [     1      0      0      0      0      0   4098    847      0      9\n",
      "       0      0      0      0]\n",
      " [     4      0      0      0      0      0     12  55078      0      0\n",
      "       0      0      0      0]\n",
      " [     0      0      0      0      0      0      0      0   9195      0\n",
      "    7539      0      0      0]\n",
      " [    54      0      0      0      0      0      7     12    241    948\n",
      "       0      0      0      0]\n",
      " [     0      0      0      0      0      0      0      0   4946      0\n",
      "   18222      0      0      0]\n",
      " [ 17776    810      0      0     81      0      7     37      2      4\n",
      "       0    889      4      4]\n",
      " [    18      0      0      0      0      0      0      0      0      0\n",
      "       0      0      0      0]\n",
      " [     0      0      0      0      0      0      0      2      0      0\n",
      "       5      0      0  22489]]\n",
      "91.24056189092632\n"
     ]
    }
   ],
   "source": [
    "y_pred = model1_og.predict(X_test)\n",
    "\n",
    "print(classification_report(y_test_og, y_pred))\n",
    "\n",
    "cf = confusion_matrix(y_test_og, y_pred)\n",
    "print(cf)\n",
    "print(accuracy_score(y_test_og, y_pred) * 100) "
   ]
  },
  {
   "cell_type": "code",
   "execution_count": 101,
   "metadata": {},
   "outputs": [
    {
     "name": "stdout",
     "output_type": "stream",
     "text": [
      "score on train: 92.70975660591463\n",
      "score on test: 92.58979842505939\n"
     ]
    }
   ],
   "source": [
    "print(\"score on train: \"+ str(model1.score(X_train, y_train) * 100))\n",
    "print(\"score on test: \" + str(model1.score(X_test, y_test) * 100))"
   ]
  },
  {
   "cell_type": "code",
   "execution_count": 102,
   "metadata": {},
   "outputs": [
    {
     "name": "stdout",
     "output_type": "stream",
     "text": [
      "score on train: 91.3285401520968\n",
      "score on test: 91.24056189092632\n"
     ]
    }
   ],
   "source": [
    "print(\"score on train: \"+ str(model1_og.score(X_train, y_train_og) * 100))\n",
    "print(\"score on test: \" + str(model1_og.score(X_test, y_test_og) * 100))"
   ]
  },
  {
   "cell_type": "markdown",
   "metadata": {},
   "source": [
    "The logistic regression algorithm has a remarkable result of 92.58% and 91.24% accuracy. Moreover, there is no overfitting as the training and test score are almost similar."
   ]
  },
  {
   "cell_type": "markdown",
   "metadata": {},
   "source": [
    "### 2. Naive Bayes"
   ]
  },
  {
   "cell_type": "markdown",
   "metadata": {},
   "source": [
    "#### binary labels"
   ]
  },
  {
   "cell_type": "code",
   "execution_count": 103,
   "metadata": {},
   "outputs": [
    {
     "name": "stdout",
     "output_type": "stream",
     "text": [
      "It took about 1 seconds to train the model\n"
     ]
    }
   ],
   "source": [
    "from sklearn.naive_bayes import GaussianNB\n",
    "\n",
    "model2 = GaussianNB()\n",
    "\n",
    "start = time.time()\n",
    "model2.fit(X_train, y_train)\n",
    "end = time.time()\n",
    "duration = end - start\n",
    "print(\"It took about \"+str(int(duration))+ \" seconds to train the model\")"
   ]
  },
  {
   "cell_type": "code",
   "execution_count": 104,
   "metadata": {},
   "outputs": [
    {
     "name": "stdout",
     "output_type": "stream",
     "text": [
      "              precision    recall  f1-score   support\n",
      "\n",
      "           0       0.92      0.82      0.86    220631\n",
      "           1       0.86      0.94      0.90    260530\n",
      "\n",
      "    accuracy                           0.88    481161\n",
      "   macro avg       0.89      0.88      0.88    481161\n",
      "weighted avg       0.89      0.88      0.88    481161\n",
      "\n",
      "[[180171  40460]\n",
      " [ 16127 244403]]\n",
      "88.23948740650219\n"
     ]
    }
   ],
   "source": [
    "y_pred = model2.predict(X_test)\n",
    "\n",
    "print(classification_report(y_test, y_pred))\n",
    "\n",
    "cf = confusion_matrix(y_test, y_pred)\n",
    "print(cf)\n",
    "print(accuracy_score(y_test, y_pred) * 100)"
   ]
  },
  {
   "cell_type": "markdown",
   "metadata": {},
   "source": [
    "#### original labels"
   ]
  },
  {
   "cell_type": "code",
   "execution_count": 105,
   "metadata": {},
   "outputs": [
    {
     "name": "stdout",
     "output_type": "stream",
     "text": [
      "It took about 2 seconds to train the model\n"
     ]
    }
   ],
   "source": [
    "from sklearn.naive_bayes import GaussianNB\n",
    "\n",
    "model2_og = GaussianNB()\n",
    "\n",
    "start = time.time()\n",
    "model2_og.fit(X_train, y_train_og)\n",
    "end = time.time()\n",
    "duration = end - start\n",
    "print(\"It took about \"+str(int(duration))+ \" seconds to train the model\")"
   ]
  },
  {
   "cell_type": "code",
   "execution_count": 106,
   "metadata": {},
   "outputs": [
    {
     "name": "stdout",
     "output_type": "stream",
     "text": [
      "                          precision    recall  f1-score   support\n",
      "\n",
      "                  Benign       0.95      0.43      0.59    220631\n",
      "                     Bot       0.73      1.00      0.84     34319\n",
      "        Brute Force -Web       0.00      0.24      0.00       180\n",
      "        Brute Force -XSS       0.00      0.46      0.01        76\n",
      "        DDOS attack-HOIC       0.85      1.00      0.92     82119\n",
      "    DDOS attack-LOIC-UDP       1.00      1.00      1.00       495\n",
      "   DoS attacks-GoldenEye       0.71      0.82      0.76      4955\n",
      "        DoS attacks-Hulk       0.98      0.96      0.97     55094\n",
      "DoS attacks-SlowHTTPTest       0.52      0.97      0.68     16734\n",
      "   DoS attacks-Slowloris       0.67      0.78      0.72      1262\n",
      "          FTP-BruteForce       0.95      0.35      0.52     23168\n",
      "           Infilteration       0.15      0.42      0.22     19614\n",
      "           SQL Injection       0.00      0.83      0.01        18\n",
      "          SSH-Bruteforce       1.00      1.00      1.00     22496\n",
      "\n",
      "                accuracy                           0.68    481161\n",
      "               macro avg       0.61      0.73      0.59    481161\n",
      "            weighted avg       0.87      0.68      0.71    481161\n",
      "\n",
      "[[94940 10708 42128  6831 14716     0     6     7     0   424     0 45379\n",
      "   5487     5]\n",
      " [   45 34266     3     0     0     0     0     0     0     0     0     5\n",
      "      0     0]\n",
      " [    1     0    43    37    43     0     0     0     0     0     0     0\n",
      "     56     0]\n",
      " [    0     0     0    35    39     0     0     0     0     0     0     0\n",
      "      2     0]\n",
      " [    0     0     0     0 82106     0     0     0     0     0     0     0\n",
      "     13     0]\n",
      " [    0     0     0     0     0   495     0     0     0     0     0     0\n",
      "      0     0]\n",
      " [    1     0     1     0     0     0  4053   872     0    13     0    15\n",
      "      0     0]\n",
      " [   97     0    54     0     0     0  1653 53070     0     5     0   215\n",
      "      0     0]\n",
      " [    0     0     0     0     0     0     0     0 16276     0   458     0\n",
      "      0     0]\n",
      " [   12     0     0     0     0     0     5   262     0   983     0     0\n",
      "      0     0]\n",
      " [    0     0     0     0     0     0     0     0 14945     0  8223     0\n",
      "      0     0]\n",
      " [ 4593  2040  3808   678   210     0     0     0     0    33     0  8173\n",
      "     79     0]\n",
      " [    0     0     0     0     3     0     0     0     0     0     0     0\n",
      "     15     0]\n",
      " [    0     0     2     0     0     0     0     0     0     0     5     0\n",
      "      0 22489]]\n",
      "67.57966668121482\n"
     ]
    }
   ],
   "source": [
    "y_pred = model2_og.predict(X_test)\n",
    "\n",
    "print(classification_report(y_test_og, y_pred))\n",
    "\n",
    "cf = confusion_matrix(y_test_og, y_pred)\n",
    "print(cf)\n",
    "print(accuracy_score(y_test_og, y_pred) * 100) "
   ]
  },
  {
   "cell_type": "code",
   "execution_count": 107,
   "metadata": {},
   "outputs": [
    {
     "name": "stdout",
     "output_type": "stream",
     "text": [
      "score on train: 88.2674538124852\n",
      "score on test: 88.23948740650219\n"
     ]
    }
   ],
   "source": [
    "print(\"score on train: \"+ str(model2.score(X_train, y_train) * 100))\n",
    "print(\"score on test: \" + str(model2.score(X_test, y_test) * 100))"
   ]
  },
  {
   "cell_type": "code",
   "execution_count": 108,
   "metadata": {},
   "outputs": [
    {
     "name": "stdout",
     "output_type": "stream",
     "text": [
      "score on train: 67.66134678179327\n",
      "score on test: 67.57966668121482\n"
     ]
    }
   ],
   "source": [
    "print(\"score on train: \"+ str(model2_og.score(X_train, y_train_og) * 100))\n",
    "print(\"score on test: \" + str(model2_og.score(X_test, y_test_og) * 100))"
   ]
  },
  {
   "cell_type": "markdown",
   "metadata": {},
   "source": [
    "The Naive Bayes algorithm has a good result of 88.23% and 67.57% accuracy. Moreover, there is no overfitting as the training and test score are almost similar."
   ]
  },
  {
   "cell_type": "markdown",
   "metadata": {},
   "source": [
    "### 3. Random Forest"
   ]
  },
  {
   "cell_type": "markdown",
   "metadata": {},
   "source": [
    "#### binary labels"
   ]
  },
  {
   "cell_type": "code",
   "execution_count": 109,
   "metadata": {},
   "outputs": [
    {
     "name": "stdout",
     "output_type": "stream",
     "text": [
      "It took about 31 seconds to train the model\n"
     ]
    }
   ],
   "source": [
    "from sklearn.ensemble import RandomForestClassifier\n",
    "\n",
    "model3 = RandomForestClassifier(n_estimators = 10, criterion = 'entropy')\n",
    "\n",
    "start = time.time()\n",
    "model3.fit(X_train, y_train)\n",
    "end = time.time()\n",
    "duration = end - start\n",
    "print(\"It took about \"+str(int(duration))+ \" seconds to train the model\")"
   ]
  },
  {
   "cell_type": "code",
   "execution_count": 110,
   "metadata": {},
   "outputs": [
    {
     "name": "stdout",
     "output_type": "stream",
     "text": [
      "              precision    recall  f1-score   support\n",
      "\n",
      "           0       0.95      0.98      0.96    220631\n",
      "           1       0.98      0.95      0.97    260530\n",
      "\n",
      "    accuracy                           0.96    481161\n",
      "   macro avg       0.96      0.97      0.96    481161\n",
      "weighted avg       0.97      0.96      0.96    481161\n",
      "\n",
      "[[215556   5075]\n",
      " [ 11864 248666]]\n",
      "96.47955673880469\n"
     ]
    }
   ],
   "source": [
    "y_pred = model3.predict(X_test)\n",
    "\n",
    "print(classification_report(y_test, y_pred))\n",
    "\n",
    "cf = confusion_matrix(y_test, y_pred)\n",
    "print(cf)\n",
    "print(accuracy_score(y_test, y_pred) * 100) "
   ]
  },
  {
   "cell_type": "markdown",
   "metadata": {},
   "source": [
    "#### original labels"
   ]
  },
  {
   "cell_type": "code",
   "execution_count": 111,
   "metadata": {},
   "outputs": [
    {
     "name": "stdout",
     "output_type": "stream",
     "text": [
      "It took about 36 seconds to train the model\n"
     ]
    }
   ],
   "source": [
    "from sklearn.ensemble import RandomForestClassifier\n",
    "\n",
    "model3_og = RandomForestClassifier(n_estimators = 10, criterion = 'entropy')\n",
    "\n",
    "start = time.time()\n",
    "model3_og.fit(X_train, y_train_og)\n",
    "end = time.time()\n",
    "duration = end - start\n",
    "print(\"It took about \"+str(int(duration))+ \" seconds to train the model\")"
   ]
  },
  {
   "cell_type": "code",
   "execution_count": 112,
   "metadata": {},
   "outputs": [
    {
     "name": "stdout",
     "output_type": "stream",
     "text": [
      "                          precision    recall  f1-score   support\n",
      "\n",
      "                  Benign       0.95      0.98      0.96    220631\n",
      "                     Bot       1.00      1.00      1.00     34319\n",
      "        Brute Force -Web       0.92      0.74      0.82       180\n",
      "        Brute Force -XSS       0.97      0.91      0.94        76\n",
      "        DDOS attack-HOIC       1.00      1.00      1.00     82119\n",
      "    DDOS attack-LOIC-UDP       1.00      1.00      1.00       495\n",
      "   DoS attacks-GoldenEye       1.00      1.00      1.00      4955\n",
      "        DoS attacks-Hulk       1.00      1.00      1.00     55094\n",
      "DoS attacks-SlowHTTPTest       0.76      0.51      0.61     16734\n",
      "   DoS attacks-Slowloris       1.00      1.00      1.00      1262\n",
      "          FTP-BruteForce       0.71      0.88      0.79     23168\n",
      "           Infilteration       0.61      0.40      0.48     19614\n",
      "           SQL Injection       0.91      0.56      0.69        18\n",
      "          SSH-Bruteforce       1.00      1.00      1.00     22496\n",
      "\n",
      "                accuracy                           0.94    481161\n",
      "               macro avg       0.92      0.85      0.88    481161\n",
      "            weighted avg       0.94      0.94      0.94    481161\n",
      "\n",
      "[[215636      8      7      1      0      0      0      0      0      0\n",
      "       2   4977      0      0]\n",
      " [     0  34319      0      0      0      0      0      0      0      0\n",
      "       0      0      0      0]\n",
      " [    44      0    133      1      0      0      0      0      0      0\n",
      "       0      1      1      0]\n",
      " [     6      0      1     69      0      0      0      0      0      0\n",
      "       0      0      0      0]\n",
      " [     2      0      0      0  82117      0      0      0      0      0\n",
      "       0      0      0      0]\n",
      " [     0      0      0      0      0    495      0      0      0      0\n",
      "       0      0      0      0]\n",
      " [     2      0      0      0      0      0   4950      2      0      1\n",
      "       0      0      0      0]\n",
      " [     0      0      0      0      0      0      0  55094      0      0\n",
      "       0      0      0      0]\n",
      " [     0      0      0      0      0      0      0      0   8487      0\n",
      "    8247      0      0      0]\n",
      " [     1      0      0      0      0      0      0      0      0   1261\n",
      "       0      0      0      0]\n",
      " [     0      0      0      0      0      0      0      0   2739      0\n",
      "   20429      0      0      0]\n",
      " [ 11807      2      0      0      0      0      0      0      0      0\n",
      "       1   7804      0      0]\n",
      " [     4      0      4      0      0      0      0      0      0      0\n",
      "       0      0     10      0]\n",
      " [     2      0      0      0      0      0      0      0      0      0\n",
      "       5      0      0  22489]]\n",
      "94.20817564183298\n"
     ]
    }
   ],
   "source": [
    "y_pred = model3_og.predict(X_test)\n",
    "\n",
    "print(classification_report(y_test_og, y_pred))\n",
    "\n",
    "cf = confusion_matrix(y_test_og, y_pred)\n",
    "print(cf)\n",
    "print(accuracy_score(y_test_og, y_pred) * 100) "
   ]
  },
  {
   "cell_type": "code",
   "execution_count": 113,
   "metadata": {},
   "outputs": [
    {
     "name": "stdout",
     "output_type": "stream",
     "text": [
      "score on train: 98.53372120572973\n",
      "score on test: 96.47955673880469\n"
     ]
    }
   ],
   "source": [
    "print(\"score on train: \"+ str(model3.score(X_train, y_train) * 100))\n",
    "print(\"score on test: \" + str(model3.score(X_test, y_test) * 100))"
   ]
  },
  {
   "cell_type": "code",
   "execution_count": 114,
   "metadata": {},
   "outputs": [
    {
     "name": "stdout",
     "output_type": "stream",
     "text": [
      "score on train: 96.21245455177045\n",
      "score on test: 94.20817564183298\n"
     ]
    }
   ],
   "source": [
    "print(\"score on train: \"+ str(model3_og.score(X_train, y_train_og) * 100))\n",
    "print(\"score on test: \" + str(model3_og.score(X_test, y_test_og) * 100))"
   ]
  },
  {
   "cell_type": "markdown",
   "metadata": {},
   "source": [
    "The Random Forest algorithm has an outstanding result of 96.47% and 94.20% accuracy. Moreover, there is no overfitting as the training and test score are almost similar."
   ]
  },
  {
   "cell_type": "markdown",
   "metadata": {},
   "source": [
    "### 4. Decision tree"
   ]
  },
  {
   "cell_type": "markdown",
   "metadata": {},
   "source": [
    "#### binary"
   ]
  },
  {
   "cell_type": "code",
   "execution_count": 115,
   "metadata": {},
   "outputs": [
    {
     "name": "stdout",
     "output_type": "stream",
     "text": [
      "It took about 25 seconds to train the model\n"
     ]
    }
   ],
   "source": [
    "from sklearn.tree import DecisionTreeClassifier\n",
    "\n",
    "model4 = DecisionTreeClassifier(criterion='entropy')\n",
    "\n",
    "start = time.time()\n",
    "model4.fit(X_train, y_train)\n",
    "end = time.time()\n",
    "duration = end - start\n",
    "print(\"It took about \"+str(int(duration))+ \" seconds to train the model\")"
   ]
  },
  {
   "cell_type": "code",
   "execution_count": 116,
   "metadata": {},
   "outputs": [
    {
     "name": "stdout",
     "output_type": "stream",
     "text": [
      "              precision    recall  f1-score   support\n",
      "\n",
      "           0       0.95      0.96      0.96    220631\n",
      "           1       0.97      0.96      0.96    260530\n",
      "\n",
      "    accuracy                           0.96    481161\n",
      "   macro avg       0.96      0.96      0.96    481161\n",
      "weighted avg       0.96      0.96      0.96    481161\n",
      "\n",
      "[[211740   8891]\n",
      " [ 10699 249831]]\n",
      "95.92859770430272\n"
     ]
    }
   ],
   "source": [
    "y_pred = model4.predict(X_test)\n",
    "\n",
    "print(classification_report(y_test, y_pred))\n",
    "\n",
    "cf = confusion_matrix(y_test, y_pred)\n",
    "print(cf)\n",
    "print(accuracy_score(y_test, y_pred) * 100) "
   ]
  },
  {
   "cell_type": "markdown",
   "metadata": {},
   "source": [
    "#### orginal labels"
   ]
  },
  {
   "cell_type": "code",
   "execution_count": 117,
   "metadata": {},
   "outputs": [
    {
     "name": "stdout",
     "output_type": "stream",
     "text": [
      "It took about 30 seconds to train the model\n"
     ]
    }
   ],
   "source": [
    "from sklearn.tree import DecisionTreeClassifier\n",
    "\n",
    "model4_og = DecisionTreeClassifier(criterion='entropy')\n",
    "\n",
    "start = time.time()\n",
    "model4_og.fit(X_train, y_train_og)\n",
    "end = time.time()\n",
    "duration = end - start\n",
    "print(\"It took about \"+str(int(duration))+ \" seconds to train the model\")"
   ]
  },
  {
   "cell_type": "code",
   "execution_count": 118,
   "metadata": {},
   "outputs": [
    {
     "name": "stdout",
     "output_type": "stream",
     "text": [
      "                          precision    recall  f1-score   support\n",
      "\n",
      "                  Benign       0.95      0.96      0.96    220631\n",
      "                     Bot       1.00      1.00      1.00     34319\n",
      "        Brute Force -Web       0.81      0.83      0.82       180\n",
      "        Brute Force -XSS       0.97      0.97      0.97        76\n",
      "        DDOS attack-HOIC       1.00      1.00      1.00     82119\n",
      "    DDOS attack-LOIC-UDP       1.00      1.00      1.00       495\n",
      "   DoS attacks-GoldenEye       1.00      1.00      1.00      4955\n",
      "        DoS attacks-Hulk       1.00      1.00      1.00     55094\n",
      "DoS attacks-SlowHTTPTest       0.77      0.51      0.62     16734\n",
      "   DoS attacks-Slowloris       1.00      1.00      1.00      1262\n",
      "          FTP-BruteForce       0.72      0.89      0.79     23168\n",
      "           Infilteration       0.50      0.45      0.48     19614\n",
      "           SQL Injection       0.48      0.67      0.56        18\n",
      "          SSH-Bruteforce       1.00      1.00      1.00     22496\n",
      "\n",
      "                accuracy                           0.94    481161\n",
      "               macro avg       0.87      0.88      0.87    481161\n",
      "            weighted avg       0.94      0.94      0.93    481161\n",
      "\n",
      "[[211784      1     28      1      0      1      0      1      1      0\n",
      "       2   8809      3      0]\n",
      " [     2  34316      0      0      0      0      0      0      0      0\n",
      "       0      1      0      0]\n",
      " [    24      0    149      0      0      0      0      0      0      0\n",
      "       0      0      7      0]\n",
      " [     0      0      2     74      0      0      0      0      0      0\n",
      "       0      0      0      0]\n",
      " [     0      0      0      0  82119      0      0      0      0      0\n",
      "       0      0      0      0]\n",
      " [     0      0      0      0      0    495      0      0      0      0\n",
      "       0      0      0      0]\n",
      " [     1      0      0      0      0      0   4945      9      0      0\n",
      "       0      0      0      0]\n",
      " [     0      0      0      0      0      0      0  55094      0      0\n",
      "       0      0      0      0]\n",
      " [     0      0      0      0      0      0      0      0   8602      0\n",
      "    8132      0      0      0]\n",
      " [     1      0      0      0      0      0      0      0      0   1261\n",
      "       0      0      0      0]\n",
      " [     0      0      0      0      0      0      0      0   2554      0\n",
      "   20614      0      0      0]\n",
      " [ 10755      0      0      0      0      0      0      0      0      0\n",
      "       0   8856      3      0]\n",
      " [     1      0      4      1      0      0      0      0      0      0\n",
      "       0      0     12      0]\n",
      " [     2      0      0      0      0      0      0      0      0      0\n",
      "       5      0      0  22489]]\n",
      "93.69213215534926\n"
     ]
    }
   ],
   "source": [
    "y_pred = model4_og.predict(X_test)\n",
    "\n",
    "print(classification_report(y_test_og, y_pred))\n",
    "\n",
    "cf = confusion_matrix(y_test_og, y_pred)\n",
    "print(cf)\n",
    "print(accuracy_score(y_test_og, y_pred) * 100) "
   ]
  },
  {
   "cell_type": "code",
   "execution_count": 119,
   "metadata": {},
   "outputs": [
    {
     "name": "stdout",
     "output_type": "stream",
     "text": [
      "score on train: 99.34239239836609\n",
      "score on test: 95.92859770430272\n"
     ]
    }
   ],
   "source": [
    "print(\"score on train: \"+ str(model4.score(X_train, y_train) * 100))\n",
    "print(\"score on test: \" + str(model4.score(X_test, y_test) * 100))"
   ]
  },
  {
   "cell_type": "code",
   "execution_count": 120,
   "metadata": {},
   "outputs": [
    {
     "name": "stdout",
     "output_type": "stream",
     "text": [
      "score on train: 97.10592087331858\n",
      "score on test: 93.69213215534926\n"
     ]
    }
   ],
   "source": [
    "print(\"score on train: \"+ str(model4_og.score(X_train, y_train_og) * 100))\n",
    "print(\"score on test: \" + str(model4_og.score(X_test, y_test_og) * 100))"
   ]
  },
  {
   "cell_type": "markdown",
   "metadata": {},
   "source": [
    "The Random Forest algorithm has an outstanding result too with 95.92% and 93.69% accuracy. Moreover, there is a small overfitting."
   ]
  },
  {
   "cell_type": "markdown",
   "metadata": {},
   "source": [
    "## Without zero_days"
   ]
  },
  {
   "cell_type": "markdown",
   "metadata": {},
   "source": [
    "### 1. Logistic regression"
   ]
  },
  {
   "cell_type": "markdown",
   "metadata": {},
   "source": [
    "#### binary labels"
   ]
  },
  {
   "cell_type": "code",
   "execution_count": 121,
   "metadata": {},
   "outputs": [
    {
     "name": "stdout",
     "output_type": "stream",
     "text": [
      "It took about 9 seconds to train the model\n"
     ]
    },
    {
     "name": "stderr",
     "output_type": "stream",
     "text": [
      "C:\\Anaconda\\lib\\site-packages\\sklearn\\linear_model\\_logistic.py:763: ConvergenceWarning: lbfgs failed to converge (status=1):\n",
      "STOP: TOTAL NO. of ITERATIONS REACHED LIMIT.\n",
      "\n",
      "Increase the number of iterations (max_iter) or scale the data as shown in:\n",
      "    https://scikit-learn.org/stable/modules/preprocessing.html\n",
      "Please also refer to the documentation for alternative solver options:\n",
      "    https://scikit-learn.org/stable/modules/linear_model.html#logistic-regression\n",
      "  n_iter_i = _check_optimize_result(\n"
     ]
    }
   ],
   "source": [
    "from sklearn.linear_model import LogisticRegression\n",
    "\n",
    "model1 = LogisticRegression(solver='lbfgs', C=10)\n",
    "\n",
    "start = time.time()\n",
    "model1.fit(X_train2, y_train2)\n",
    "end = time.time()\n",
    "\n",
    "duration = end - start\n",
    "    \n",
    "print(\"It took about \"+str(int(duration))+ \" seconds to train the model\")"
   ]
  },
  {
   "cell_type": "code",
   "execution_count": 122,
   "metadata": {},
   "outputs": [
    {
     "name": "stdout",
     "output_type": "stream",
     "text": [
      "              precision    recall  f1-score   support\n",
      "\n",
      "           0       0.92      0.91      0.92    220631\n",
      "           1       0.93      0.93      0.93    260530\n",
      "\n",
      "    accuracy                           0.92    481161\n",
      "   macro avg       0.92      0.92      0.92    481161\n",
      "weighted avg       0.92      0.92      0.92    481161\n",
      "\n",
      "[[201531  19100]\n",
      " [ 17061 243469]]\n",
      "92.48463611971877\n"
     ]
    }
   ],
   "source": [
    "y_pred = model1.predict(X_test2)\n",
    "\n",
    "print(classification_report(y_test2, y_pred))\n",
    "\n",
    "cf = confusion_matrix(y_test2, y_pred)\n",
    "print(cf)\n",
    "print(accuracy_score(y_test2, y_pred) * 100) "
   ]
  },
  {
   "cell_type": "markdown",
   "metadata": {},
   "source": [
    "#### orginal labels"
   ]
  },
  {
   "cell_type": "code",
   "execution_count": 123,
   "metadata": {},
   "outputs": [
    {
     "name": "stdout",
     "output_type": "stream",
     "text": [
      "It took about 80 seconds to train the model\n"
     ]
    },
    {
     "name": "stderr",
     "output_type": "stream",
     "text": [
      "C:\\Anaconda\\lib\\site-packages\\sklearn\\linear_model\\_logistic.py:763: ConvergenceWarning: lbfgs failed to converge (status=1):\n",
      "STOP: TOTAL NO. of ITERATIONS REACHED LIMIT.\n",
      "\n",
      "Increase the number of iterations (max_iter) or scale the data as shown in:\n",
      "    https://scikit-learn.org/stable/modules/preprocessing.html\n",
      "Please also refer to the documentation for alternative solver options:\n",
      "    https://scikit-learn.org/stable/modules/linear_model.html#logistic-regression\n",
      "  n_iter_i = _check_optimize_result(\n"
     ]
    }
   ],
   "source": [
    "from sklearn.linear_model import LogisticRegression\n",
    "\n",
    "model1_og = LogisticRegression(solver='lbfgs', C=10)\n",
    "\n",
    "start = time.time()\n",
    "model1_og.fit(X_train2, y_train2_og)\n",
    "end = time.time()\n",
    "\n",
    "duration = end - start\n",
    "    \n",
    "print(\"It took about \"+str(int(duration))+ \" seconds to train the model\")"
   ]
  },
  {
   "cell_type": "code",
   "execution_count": 124,
   "metadata": {},
   "outputs": [
    {
     "name": "stderr",
     "output_type": "stream",
     "text": [
      "C:\\Anaconda\\lib\\site-packages\\sklearn\\metrics\\_classification.py:1245: UndefinedMetricWarning: Precision and F-score are ill-defined and being set to 0.0 in labels with no predicted samples. Use `zero_division` parameter to control this behavior.\n",
      "  _warn_prf(average, modifier, msg_start, len(result))\n",
      "C:\\Anaconda\\lib\\site-packages\\sklearn\\metrics\\_classification.py:1245: UndefinedMetricWarning: Precision and F-score are ill-defined and being set to 0.0 in labels with no predicted samples. Use `zero_division` parameter to control this behavior.\n",
      "  _warn_prf(average, modifier, msg_start, len(result))\n",
      "C:\\Anaconda\\lib\\site-packages\\sklearn\\metrics\\_classification.py:1245: UndefinedMetricWarning: Precision and F-score are ill-defined and being set to 0.0 in labels with no predicted samples. Use `zero_division` parameter to control this behavior.\n",
      "  _warn_prf(average, modifier, msg_start, len(result))\n"
     ]
    },
    {
     "name": "stdout",
     "output_type": "stream",
     "text": [
      "                          precision    recall  f1-score   support\n",
      "\n",
      "                  Benign       0.91      0.97      0.94    220631\n",
      "                     Bot       0.87      1.00      0.93     34319\n",
      "        Brute Force -Web       1.00      0.21      0.34       180\n",
      "        Brute Force -XSS       1.00      0.43      0.61        76\n",
      "        DDOS attack-HOIC       0.99      1.00      0.99     82119\n",
      "    DDOS attack-LOIC-UDP       1.00      0.99      1.00       495\n",
      "   DoS attacks-GoldenEye       0.87      0.83      0.85      4955\n",
      "        DoS attacks-Hulk       0.98      1.00      0.99     55094\n",
      "DoS attacks-SlowHTTPTest       0.00      0.00      0.00     16734\n",
      "   DoS attacks-Slowloris       0.00      0.00      0.00      1262\n",
      "          FTP-BruteForce       0.00      0.00      0.00     23168\n",
      "           Infilteration       0.06      0.09      0.07     19614\n",
      "           SQL Injection       0.00      0.00      0.00        18\n",
      "          SSH-Bruteforce       0.74      1.00      0.85     22496\n",
      "\n",
      "                accuracy                           0.86    481161\n",
      "               macro avg       0.60      0.54      0.54    481161\n",
      "            weighted avg       0.81      0.86      0.83    481161\n",
      "\n",
      "[[213883   4362      0      0    842      0     77     34      0      0\n",
      "       0   1411      0     22]\n",
      " [     7  34268      0      0      0      0      0      0      0      0\n",
      "       0     44      0      0]\n",
      " [   131     11     37      0      0      0      0      0      0      0\n",
      "       0      1      0      0]\n",
      " [    26     17      0     33      0      0      0      0      0      0\n",
      "       0      0      0      0]\n",
      " [    17      0      0      0  82102      0      0      0      0      0\n",
      "       0      0      0      0]\n",
      " [     4      0      0      0      0    491      0      0      0      0\n",
      "       0      0      0      0]\n",
      " [     8      0      0      0      0      0   4108    839      0      0\n",
      "       0      0      0      0]\n",
      " [     9      0      0      0      0      0     16  55069      0      0\n",
      "       0      0      0      0]\n",
      " [  1740      0      0      0      0      0      0      0      0      0\n",
      "       0  14866      0    128]\n",
      " [   671      0      0      0      0      0    519     12      0      0\n",
      "       0     60      0      0]\n",
      " [  2344      0      0      0      0      0      0      0      0      0\n",
      "       0  13006      0   7818]\n",
      " [ 17123    611      0      0    115      0     10     35      0      0\n",
      "       0   1718      1      1]\n",
      " [    18      0      0      0      0      0      0      0      0      0\n",
      "       0      0      0      0]\n",
      " [     0      0      0      0      0      0      3      3      0      0\n",
      "       0      0      0  22490]]\n",
      "86.08324448573347\n"
     ]
    }
   ],
   "source": [
    "y_pred = model1_og.predict(X_test2)\n",
    "\n",
    "print(classification_report(y_test2_og, y_pred))\n",
    "\n",
    "cf = confusion_matrix(y_test2_og, y_pred)\n",
    "print(cf)\n",
    "print(accuracy_score(y_test2_og, y_pred) * 100) "
   ]
  },
  {
   "cell_type": "code",
   "execution_count": 125,
   "metadata": {},
   "outputs": [
    {
     "name": "stdout",
     "output_type": "stream",
     "text": [
      "score on train: 92.09948800106025\n",
      "score on test: 92.48463611971877\n"
     ]
    }
   ],
   "source": [
    "print(\"score on train: \"+ str(model1.score(X_train2, y_train2) * 100))\n",
    "print(\"score on test: \" + str(model1.score(X_test2, y_test2) * 100))"
   ]
  },
  {
   "cell_type": "code",
   "execution_count": 126,
   "metadata": {},
   "outputs": [
    {
     "name": "stdout",
     "output_type": "stream",
     "text": [
      "score on train: 94.24980558852593\n",
      "score on test: 86.08324448573347\n"
     ]
    }
   ],
   "source": [
    "print(\"score on train: \"+ str(model1_og.score(X_train2, y_train2_og) * 100))\n",
    "print(\"score on test: \" + str(model1_og.score(X_test2, y_test2_og) * 100))"
   ]
  },
  {
   "cell_type": "markdown",
   "metadata": {},
   "source": [
    "The logistic regression algorithm has an excellent result of 92.48% and 86.08% accuracy. Moreover, there is only an overfitting issue for the model with the original labels."
   ]
  },
  {
   "cell_type": "markdown",
   "metadata": {},
   "source": [
    "### 2. Naive Bayes"
   ]
  },
  {
   "cell_type": "markdown",
   "metadata": {},
   "source": [
    "#### binary labels"
   ]
  },
  {
   "cell_type": "code",
   "execution_count": 127,
   "metadata": {},
   "outputs": [
    {
     "name": "stdout",
     "output_type": "stream",
     "text": [
      "It took about 1 seconds to train the model\n"
     ]
    }
   ],
   "source": [
    "from sklearn.naive_bayes import GaussianNB\n",
    "\n",
    "model2 = GaussianNB()\n",
    "\n",
    "start = time.time()\n",
    "model2.fit(X_train2, y_train2)\n",
    "end = time.time()\n",
    "duration = end - start\n",
    "print(\"It took about \"+str(int(duration))+ \" seconds to train the model\")"
   ]
  },
  {
   "cell_type": "code",
   "execution_count": 128,
   "metadata": {},
   "outputs": [
    {
     "name": "stdout",
     "output_type": "stream",
     "text": [
      "              precision    recall  f1-score   support\n",
      "\n",
      "           0       0.88      0.73      0.80    220631\n",
      "           1       0.80      0.91      0.85    260530\n",
      "\n",
      "    accuracy                           0.83    481161\n",
      "   macro avg       0.84      0.82      0.82    481161\n",
      "weighted avg       0.84      0.83      0.83    481161\n",
      "\n",
      "[[160895  59736]\n",
      " [ 22371 238159]]\n",
      "82.93564939801854\n"
     ]
    }
   ],
   "source": [
    "y_pred = model2.predict(X_test2)\n",
    "\n",
    "print(classification_report(y_test2, y_pred))\n",
    "\n",
    "cf = confusion_matrix(y_test2, y_pred)\n",
    "print(cf)\n",
    "print(accuracy_score(y_test2, y_pred) * 100)"
   ]
  },
  {
   "cell_type": "markdown",
   "metadata": {},
   "source": [
    "#### original labels"
   ]
  },
  {
   "cell_type": "code",
   "execution_count": 129,
   "metadata": {},
   "outputs": [
    {
     "name": "stdout",
     "output_type": "stream",
     "text": [
      "It took about 2 seconds to train the model\n"
     ]
    }
   ],
   "source": [
    "from sklearn.naive_bayes import GaussianNB\n",
    "\n",
    "model2_og = GaussianNB()\n",
    "\n",
    "start = time.time()\n",
    "model2_og.fit(X_train2, y_train2_og)\n",
    "end = time.time()\n",
    "duration = end - start\n",
    "print(\"It took about \"+str(int(duration))+ \" seconds to train the model\")"
   ]
  },
  {
   "cell_type": "code",
   "execution_count": 130,
   "metadata": {},
   "outputs": [
    {
     "name": "stderr",
     "output_type": "stream",
     "text": [
      "C:\\Anaconda\\lib\\site-packages\\sklearn\\metrics\\_classification.py:1245: UndefinedMetricWarning: Precision and F-score are ill-defined and being set to 0.0 in labels with no predicted samples. Use `zero_division` parameter to control this behavior.\n",
      "  _warn_prf(average, modifier, msg_start, len(result))\n",
      "C:\\Anaconda\\lib\\site-packages\\sklearn\\metrics\\_classification.py:1245: UndefinedMetricWarning: Precision and F-score are ill-defined and being set to 0.0 in labels with no predicted samples. Use `zero_division` parameter to control this behavior.\n",
      "  _warn_prf(average, modifier, msg_start, len(result))\n",
      "C:\\Anaconda\\lib\\site-packages\\sklearn\\metrics\\_classification.py:1245: UndefinedMetricWarning: Precision and F-score are ill-defined and being set to 0.0 in labels with no predicted samples. Use `zero_division` parameter to control this behavior.\n",
      "  _warn_prf(average, modifier, msg_start, len(result))\n"
     ]
    },
    {
     "name": "stdout",
     "output_type": "stream",
     "text": [
      "                          precision    recall  f1-score   support\n",
      "\n",
      "                  Benign       0.91      0.43      0.59    220631\n",
      "                     Bot       0.73      1.00      0.84     34319\n",
      "        Brute Force -Web       0.00      0.24      0.00       180\n",
      "        Brute Force -XSS       0.00      0.46      0.01        76\n",
      "        DDOS attack-HOIC       0.85      1.00      0.92     82119\n",
      "    DDOS attack-LOIC-UDP       1.00      1.00      1.00       495\n",
      "   DoS attacks-GoldenEye       0.71      0.82      0.76      4955\n",
      "        DoS attacks-Hulk       0.98      0.96      0.97     55094\n",
      "DoS attacks-SlowHTTPTest       0.00      0.00      0.00     16734\n",
      "   DoS attacks-Slowloris       0.00      0.00      0.00      1262\n",
      "          FTP-BruteForce       0.00      0.00      0.00     23168\n",
      "           Infilteration       0.09      0.42      0.15     19614\n",
      "           SQL Injection       0.00      0.83      0.01        18\n",
      "          SSH-Bruteforce       1.00      1.00      1.00     22496\n",
      "\n",
      "                accuracy                           0.62    481161\n",
      "               macro avg       0.45      0.58      0.45    481161\n",
      "            weighted avg       0.79      0.62      0.66    481161\n",
      "\n",
      "[[95014 10703 42093  6827 14718     0     6     7     0     0     0 45770\n",
      "   5488     5]\n",
      " [   45 34266     3     0     0     0     0     0     0     0     0     5\n",
      "      0     0]\n",
      " [    1     0    43    37    43     0     0     0     0     0     0     0\n",
      "     56     0]\n",
      " [    0     0     0    35    39     0     0     0     0     0     0     0\n",
      "      2     0]\n",
      " [    2     0     0     0 82104     0     0     0     0     0     0     0\n",
      "     13     0]\n",
      " [    0     0     0     0     0   495     0     0     0     0     0     0\n",
      "      0     0]\n",
      " [    1     0     1     0     0     0  4055   872     0     0     0    26\n",
      "      0     0]\n",
      " [   97     0    55     0     0     0  1653 53070     0     0     0   219\n",
      "      0     0]\n",
      " [ 1850     0     0     0     0     0     0     0     0     0     0 14884\n",
      "      0     0]\n",
      " [   37     0     0     0     0     0     8   262     0     0     0   955\n",
      "      0     0]\n",
      " [ 2493     0     0     0     0     0     0     0     0     0     0 20675\n",
      "      0     0]\n",
      " [ 4593  2035  3799   678   210     0     0     0     0     0     0  8220\n",
      "     79     0]\n",
      " [    0     0     0     0     3     0     0     0     0     0     0     0\n",
      "     15     0]\n",
      " [    0     0     2     0     0     0     0     0     0     0     0     5\n",
      "      0 22489]]\n",
      "62.3088737449627\n"
     ]
    }
   ],
   "source": [
    "y_pred = model2_og.predict(X_test2)\n",
    "\n",
    "print(classification_report(y_test2_og, y_pred))\n",
    "\n",
    "cf = confusion_matrix(y_test2_og, y_pred)\n",
    "print(cf)\n",
    "print(accuracy_score(y_test2_og, y_pred) * 100)"
   ]
  },
  {
   "cell_type": "code",
   "execution_count": 131,
   "metadata": {},
   "outputs": [
    {
     "name": "stdout",
     "output_type": "stream",
     "text": [
      "score on train: 83.46255118527657\n",
      "score on test: 82.93564939801854\n"
     ]
    }
   ],
   "source": [
    "print(\"score on train: \"+ str(model2.score(X_train2, y_train2) * 100))\n",
    "print(\"score on test: \" + str(model2.score(X_test2, y_test2) * 100))"
   ]
  },
  {
   "cell_type": "code",
   "execution_count": 132,
   "metadata": {},
   "outputs": [
    {
     "name": "stdout",
     "output_type": "stream",
     "text": [
      "score on train: 68.27068313950656\n",
      "score on test: 62.3088737449627\n"
     ]
    }
   ],
   "source": [
    "print(\"score on train: \"+ str(model2_og.score(X_train2, y_train2_og) * 100))\n",
    "print(\"score on test: \" + str(model2_og.score(X_test2, y_test2_og) * 100))"
   ]
  },
  {
   "cell_type": "markdown",
   "metadata": {},
   "source": [
    "The Naive Bayes algorithm has a good result of 82.9% and 62.30% accuracy. Moreover, there is an overfitting issue for the model with the original labels."
   ]
  },
  {
   "cell_type": "markdown",
   "metadata": {},
   "source": [
    "### 3. Random Forest"
   ]
  },
  {
   "cell_type": "markdown",
   "metadata": {},
   "source": [
    "#### binary labels"
   ]
  },
  {
   "cell_type": "code",
   "execution_count": 133,
   "metadata": {},
   "outputs": [
    {
     "name": "stdout",
     "output_type": "stream",
     "text": [
      "It took about 30 seconds to train the model\n"
     ]
    }
   ],
   "source": [
    "from sklearn.ensemble import RandomForestClassifier\n",
    "\n",
    "model3 = RandomForestClassifier(n_estimators = 10, criterion = 'entropy')\n",
    "\n",
    "start = time.time()\n",
    "model3.fit(X_train2, y_train2)\n",
    "end = time.time()\n",
    "duration = end - start\n",
    "print(\"It took about \"+str(int(duration))+ \" seconds to train the model\")"
   ]
  },
  {
   "cell_type": "code",
   "execution_count": 134,
   "metadata": {},
   "outputs": [
    {
     "name": "stdout",
     "output_type": "stream",
     "text": [
      "              precision    recall  f1-score   support\n",
      "\n",
      "           0       0.92      0.98      0.95    220631\n",
      "           1       0.98      0.93      0.96    260530\n",
      "\n",
      "    accuracy                           0.95    481161\n",
      "   macro avg       0.95      0.96      0.95    481161\n",
      "weighted avg       0.95      0.95      0.95    481161\n",
      "\n",
      "[[215815   4816]\n",
      " [ 17558 242972]]\n",
      "95.34999719428632\n"
     ]
    }
   ],
   "source": [
    "y_pred = model3.predict(X_test2)\n",
    "\n",
    "print(classification_report(y_test2, y_pred))\n",
    "\n",
    "cf = confusion_matrix(y_test2, y_pred)\n",
    "print(cf)\n",
    "print(accuracy_score(y_test2, y_pred) * 100) "
   ]
  },
  {
   "cell_type": "markdown",
   "metadata": {},
   "source": [
    "#### original labels"
   ]
  },
  {
   "cell_type": "code",
   "execution_count": 135,
   "metadata": {},
   "outputs": [
    {
     "name": "stdout",
     "output_type": "stream",
     "text": [
      "It took about 32 seconds to train the model\n"
     ]
    }
   ],
   "source": [
    "from sklearn.ensemble import RandomForestClassifier\n",
    "\n",
    "model3_og = RandomForestClassifier(n_estimators = 10, criterion = 'entropy')\n",
    "\n",
    "start = time.time()\n",
    "model3_og.fit(X_train2, y_train2_og)\n",
    "end = time.time()\n",
    "duration = end - start\n",
    "print(\"It took about \"+str(int(duration))+ \" seconds to train the model\")"
   ]
  },
  {
   "cell_type": "code",
   "execution_count": 136,
   "metadata": {},
   "outputs": [
    {
     "name": "stderr",
     "output_type": "stream",
     "text": [
      "C:\\Anaconda\\lib\\site-packages\\sklearn\\metrics\\_classification.py:1245: UndefinedMetricWarning: Precision and F-score are ill-defined and being set to 0.0 in labels with no predicted samples. Use `zero_division` parameter to control this behavior.\n",
      "  _warn_prf(average, modifier, msg_start, len(result))\n",
      "C:\\Anaconda\\lib\\site-packages\\sklearn\\metrics\\_classification.py:1245: UndefinedMetricWarning: Precision and F-score are ill-defined and being set to 0.0 in labels with no predicted samples. Use `zero_division` parameter to control this behavior.\n",
      "  _warn_prf(average, modifier, msg_start, len(result))\n",
      "C:\\Anaconda\\lib\\site-packages\\sklearn\\metrics\\_classification.py:1245: UndefinedMetricWarning: Precision and F-score are ill-defined and being set to 0.0 in labels with no predicted samples. Use `zero_division` parameter to control this behavior.\n",
      "  _warn_prf(average, modifier, msg_start, len(result))\n"
     ]
    },
    {
     "name": "stdout",
     "output_type": "stream",
     "text": [
      "                          precision    recall  f1-score   support\n",
      "\n",
      "                  Benign       0.93      0.98      0.95    220631\n",
      "                     Bot       1.00      1.00      1.00     34319\n",
      "        Brute Force -Web       0.91      0.74      0.82       180\n",
      "        Brute Force -XSS       0.97      0.83      0.89        76\n",
      "        DDOS attack-HOIC       1.00      1.00      1.00     82119\n",
      "    DDOS attack-LOIC-UDP       1.00      1.00      1.00       495\n",
      "   DoS attacks-GoldenEye       0.90      1.00      0.95      4955\n",
      "        DoS attacks-Hulk       1.00      1.00      1.00     55094\n",
      "DoS attacks-SlowHTTPTest       0.00      0.00      0.00     16734\n",
      "   DoS attacks-Slowloris       0.00      0.00      0.00      1262\n",
      "          FTP-BruteForce       0.00      0.00      0.00     23168\n",
      "           Infilteration       0.58      0.40      0.48     19614\n",
      "           SQL Injection       0.87      0.72      0.79        18\n",
      "          SSH-Bruteforce       0.39      1.00      0.56     22496\n",
      "\n",
      "                accuracy                           0.88    481161\n",
      "               macro avg       0.68      0.69      0.67    481161\n",
      "            weighted avg       0.83      0.88      0.85    481161\n",
      "\n",
      "[[215478      4      6      1      0      0      0      1      0      0\n",
      "       0   5141      0      0]\n",
      " [     3  34316      0      0      0      0      0      0      0      0\n",
      "       0      0      0      0]\n",
      " [    43      0    134      1      0      0      0      0      0      0\n",
      "       0      0      2      0]\n",
      " [    10      0      3     63      0      0      0      0      0      0\n",
      "       0      0      0      0]\n",
      " [     6      0      0      0  82113      0      0      0      0      0\n",
      "       0      0      0      0]\n",
      " [     0      0      0      0      0    495      0      0      0      0\n",
      "       0      0      0      0]\n",
      " [     2      0      0      0      0      0   4951      2      0      0\n",
      "       0      0      0      0]\n",
      " [     0      0      0      0      0      0      0  55094      0      0\n",
      "       0      0      0      0]\n",
      " [  1798      0      0      0      0      0      0      0      0      0\n",
      "       0    195      0  14741]\n",
      " [   724      0      0      0      0      0    538      0      0      0\n",
      "       0      0      0      0]\n",
      " [  2346      0      0      0      0      0      0      0      0      0\n",
      "       0    357      0  20465]\n",
      " [ 11728      0      0      0      0      0      0      0      0      0\n",
      "       0   7886      0      0]\n",
      " [     1      0      4      0      0      0      0      0      0      0\n",
      "       0      0     13      0]\n",
      " [     1      0      0      0      0      0      0      1      0      0\n",
      "       0      0      0  22494]]\n",
      "87.92005170826397\n"
     ]
    }
   ],
   "source": [
    "y_pred = model3_og.predict(X_test2)\n",
    "\n",
    "print(classification_report(y_test2_og, y_pred))\n",
    "\n",
    "cf = confusion_matrix(y_test2_og, y_pred)\n",
    "print(cf)\n",
    "print(accuracy_score(y_test2_og, y_pred) * 100) "
   ]
  },
  {
   "cell_type": "code",
   "execution_count": 137,
   "metadata": {},
   "outputs": [
    {
     "name": "stdout",
     "output_type": "stream",
     "text": [
      "score on train: 98.34521241037095\n",
      "score on test: 95.34999719428632\n"
     ]
    }
   ],
   "source": [
    "print(\"score on train: \"+ str(model3.score(X_train2, y_train2) * 100))\n",
    "print(\"score on test: \" + str(model3.score(X_test2, y_test2) * 100))"
   ]
  },
  {
   "cell_type": "code",
   "execution_count": 138,
   "metadata": {},
   "outputs": [
    {
     "name": "stdout",
     "output_type": "stream",
     "text": [
      "score on train: 98.37483701594466\n",
      "score on test: 87.92005170826397\n"
     ]
    }
   ],
   "source": [
    "print(\"score on train: \"+ str(model3_og.score(X_train2, y_train2_og) * 100))\n",
    "print(\"score on test: \" + str(model3_og.score(X_test2, y_test2_og) * 100))"
   ]
  },
  {
   "cell_type": "markdown",
   "metadata": {},
   "source": [
    "The Random Forest algorithm has a good result of 95.34% and 87.92% accuracy. Moreover, there is an overfitting issue."
   ]
  },
  {
   "cell_type": "markdown",
   "metadata": {},
   "source": [
    "### 4. Decision tree"
   ]
  },
  {
   "cell_type": "markdown",
   "metadata": {},
   "source": [
    "#### binary labels"
   ]
  },
  {
   "cell_type": "code",
   "execution_count": 139,
   "metadata": {},
   "outputs": [
    {
     "name": "stdout",
     "output_type": "stream",
     "text": [
      "It took about 24 seconds to train the model\n"
     ]
    }
   ],
   "source": [
    "from sklearn.tree import DecisionTreeClassifier\n",
    "\n",
    "model4 = DecisionTreeClassifier(criterion='entropy')\n",
    "\n",
    "start = time.time()\n",
    "model4.fit(X_train2, y_train2)\n",
    "end = time.time()\n",
    "duration = end - start\n",
    "print(\"It took about \"+str(int(duration))+ \" seconds to train the model\")"
   ]
  },
  {
   "cell_type": "code",
   "execution_count": 140,
   "metadata": {},
   "outputs": [
    {
     "name": "stdout",
     "output_type": "stream",
     "text": [
      "              precision    recall  f1-score   support\n",
      "\n",
      "           0       0.95      0.96      0.95    220631\n",
      "           1       0.97      0.95      0.96    260530\n",
      "\n",
      "    accuracy                           0.96    481161\n",
      "   macro avg       0.96      0.96      0.96    481161\n",
      "weighted avg       0.96      0.96      0.96    481161\n",
      "\n",
      "[[211734   8897]\n",
      " [ 11790 248740]]\n",
      "95.7006074889694\n"
     ]
    }
   ],
   "source": [
    "y_pred = model4.predict(X_test2)\n",
    "\n",
    "print(classification_report(y_test2, y_pred))\n",
    "\n",
    "cf = confusion_matrix(y_test2, y_pred)\n",
    "print(cf)\n",
    "print(accuracy_score(y_test2, y_pred) * 100) "
   ]
  },
  {
   "cell_type": "markdown",
   "metadata": {},
   "source": [
    "#### original labels"
   ]
  },
  {
   "cell_type": "code",
   "execution_count": 141,
   "metadata": {},
   "outputs": [
    {
     "name": "stdout",
     "output_type": "stream",
     "text": [
      "It took about 29 seconds to train the model\n"
     ]
    }
   ],
   "source": [
    "from sklearn.tree import DecisionTreeClassifier\n",
    "\n",
    "model4_og = DecisionTreeClassifier(criterion='entropy')\n",
    "\n",
    "start = time.time()\n",
    "model4_og.fit(X_train2, y_train2_og)\n",
    "end = time.time()\n",
    "duration = end - start\n",
    "print(\"It took about \"+str(int(duration))+ \" seconds to train the model\")"
   ]
  },
  {
   "cell_type": "code",
   "execution_count": 142,
   "metadata": {},
   "outputs": [
    {
     "name": "stderr",
     "output_type": "stream",
     "text": [
      "C:\\Anaconda\\lib\\site-packages\\sklearn\\metrics\\_classification.py:1245: UndefinedMetricWarning: Precision and F-score are ill-defined and being set to 0.0 in labels with no predicted samples. Use `zero_division` parameter to control this behavior.\n",
      "  _warn_prf(average, modifier, msg_start, len(result))\n",
      "C:\\Anaconda\\lib\\site-packages\\sklearn\\metrics\\_classification.py:1245: UndefinedMetricWarning: Precision and F-score are ill-defined and being set to 0.0 in labels with no predicted samples. Use `zero_division` parameter to control this behavior.\n",
      "  _warn_prf(average, modifier, msg_start, len(result))\n",
      "C:\\Anaconda\\lib\\site-packages\\sklearn\\metrics\\_classification.py:1245: UndefinedMetricWarning: Precision and F-score are ill-defined and being set to 0.0 in labels with no predicted samples. Use `zero_division` parameter to control this behavior.\n",
      "  _warn_prf(average, modifier, msg_start, len(result))\n"
     ]
    },
    {
     "name": "stdout",
     "output_type": "stream",
     "text": [
      "                          precision    recall  f1-score   support\n",
      "\n",
      "                  Benign       0.94      0.96      0.95    220631\n",
      "                     Bot       1.00      1.00      1.00     34319\n",
      "        Brute Force -Web       0.83      0.79      0.81       180\n",
      "        Brute Force -XSS       0.97      0.97      0.97        76\n",
      "        DDOS attack-HOIC       1.00      1.00      1.00     82119\n",
      "    DDOS attack-LOIC-UDP       1.00      1.00      1.00       495\n",
      "   DoS attacks-GoldenEye       0.85      1.00      0.92      4955\n",
      "        DoS attacks-Hulk       1.00      1.00      1.00     55094\n",
      "DoS attacks-SlowHTTPTest       0.00      0.00      0.00     16734\n",
      "   DoS attacks-Slowloris       0.00      0.00      0.00      1262\n",
      "          FTP-BruteForce       0.00      0.00      0.00     23168\n",
      "           Infilteration       0.42      0.45      0.44     19614\n",
      "           SQL Injection       0.48      0.67      0.56        18\n",
      "          SSH-Bruteforce       0.39      1.00      0.56     22496\n",
      "\n",
      "                accuracy                           0.87    481161\n",
      "               macro avg       0.64      0.70      0.66    481161\n",
      "            weighted avg       0.83      0.87      0.85    481161\n",
      "\n",
      "[[211861      2     23      1      0      0      0      1      0      0\n",
      "       0   8740      3      0]\n",
      " [     2  34317      0      0      0      0      0      0      0      0\n",
      "       0      0      0      0]\n",
      " [    30      0    142      0      0      0      0      0      0      0\n",
      "       0      0      8      0]\n",
      " [     0      0      2     74      0      0      0      0      0      0\n",
      "       0      0      0      0]\n",
      " [     0      0      0      0  82119      0      0      0      0      0\n",
      "       0      0      0      0]\n",
      " [     0      0      0      0      0    495      0      0      0      0\n",
      "       0      0      0      0]\n",
      " [     1      0      0      0      0      0   4949      5      0      0\n",
      "       0      0      0      0]\n",
      " [     0      0      0      0      0      0      0  55094      0      0\n",
      "       0      0      0      0]\n",
      " [    98      0      0      0      0      0      0      0      0      0\n",
      "       0   2134      0  14502]\n",
      " [   389      0      0      0      0      0    853     20      0      0\n",
      "       0      0      0      0]\n",
      " [  1371      0      0      0      0      0      0      0      0      0\n",
      "       0   1401      0  20396]\n",
      " [ 10716      0      0      0      0      0      0      0      0      0\n",
      "       0   8896      2      0]\n",
      " [     1      0      4      1      0      0      0      0      0      0\n",
      "       0      0     12      0]\n",
      " [     2      0      0      0      0      0      0      0      0      0\n",
      "       0      0      0  22494]]\n",
      "87.3830173268407\n"
     ]
    }
   ],
   "source": [
    "y_pred = model4_og.predict(X_test2)\n",
    "\n",
    "print(classification_report(y_test2_og, y_pred))\n",
    "\n",
    "cf = confusion_matrix(y_test2_og, y_pred)\n",
    "print(cf)\n",
    "print(accuracy_score(y_test2_og, y_pred) * 100) "
   ]
  },
  {
   "cell_type": "code",
   "execution_count": 143,
   "metadata": {},
   "outputs": [
    {
     "name": "stdout",
     "output_type": "stream",
     "text": [
      "score on train: 99.2805313718726\n",
      "score on test: 95.7006074889694\n"
     ]
    }
   ],
   "source": [
    "print(\"score on train: \"+ str(model4.score(X_train2, y_train2) * 100))\n",
    "print(\"score on test: \" + str(model4.score(X_test2, y_test2) * 100))"
   ]
  },
  {
   "cell_type": "code",
   "execution_count": 144,
   "metadata": {},
   "outputs": [
    {
     "name": "stdout",
     "output_type": "stream",
     "text": [
      "score on train: 99.27994667570997\n",
      "score on test: 87.3830173268407\n"
     ]
    }
   ],
   "source": [
    "print(\"score on train: \"+ str(model4_og.score(X_train2, y_train2_og) * 100))\n",
    "print(\"score on test: \" + str(model4_og.score(X_test2, y_test2_og) * 100))"
   ]
  },
  {
   "cell_type": "markdown",
   "metadata": {},
   "source": [
    "The Random Forest algorithm has an excellent result with 95.70% and 87.38% accuracy. Moreover, there is an overfitting issue."
   ]
  },
  {
   "cell_type": "markdown",
   "metadata": {},
   "source": [
    "#### Comparison between test set with/without zero-days"
   ]
  },
  {
   "cell_type": "markdown",
   "metadata": {},
   "source": [
    "Binary labels:\n",
    "\n",
    "Algorithms |with zero days |without zero days\n",
    "-----|-----|----- \n",
    "Logistic Regression|train: 92.70 test: 92.58|train: 92.09 test: 92.48\n",
    "Naive Bayes|train: 88.26 test: 88.24|train: 83.46 test: 82.93\n",
    "Random Forest|train: 98.53 test: 96.47|train: 98.34 test: 95.35\n",
    "Decision Tree|train: 99.34 test: 95.93|train: 99.28 test: 95.70"
   ]
  },
  {
   "cell_type": "markdown",
   "metadata": {},
   "source": [
    "Original labels:\n",
    "\n",
    "Algorithms |with zero days |without zero days\n",
    "-----|-----|----- \n",
    "Logistic Regression|train: 91.32 test: 91.24|train: 94.2424 test: 86.08\n",
    "Naive Bayes|train: 67.66 test: 67.57|train: 68.27 test: 62.31\n",
    "Random Forest|train: 96.21 test: 94.20|train: 98.37 test: 87.92\n",
    "Decision Tree|train: 97.11 test: 93.69|train: 99.28 test: 87.38"
   ]
  },
  {
   "cell_type": "markdown",
   "metadata": {},
   "source": [
    "### Question: Can you explain the result you get with/without zero-days in your test set.\n",
    "### Answer:  In general for the binary labels, the test set without zero days is performing worse than the set with zero-days. Even though it's slightly worse the impact won't be big as the difference is very little.\n",
    "\n",
    "### For the original labels, it is also the same that the set without zero days is performing worse than the set with zero-days. The impact is bigger as the scores differs. \n",
    "\n",
    "### The reason is because that we removed some samples of the M-profiles in the training set which is not detectable. \n",
    "\n",
    "### On the other hand, we can see that there are more overfitting issues with the orginal labels than the binary labels."
   ]
  }
 ],
 "metadata": {
  "kernelspec": {
   "display_name": "Python 3",
   "language": "python",
   "name": "python3"
  },
  "language_info": {
   "codemirror_mode": {
    "name": "ipython",
    "version": 3
   },
   "file_extension": ".py",
   "mimetype": "text/x-python",
   "name": "python",
   "nbconvert_exporter": "python",
   "pygments_lexer": "ipython3",
   "version": "3.8.8"
  }
 },
 "nbformat": 4,
 "nbformat_minor": 2
}
