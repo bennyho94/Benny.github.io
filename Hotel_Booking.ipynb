{
 "cells": [
  {
   "cell_type": "markdown",
   "metadata": {},
   "source": [
    "# Supervised learning- MLP\n",
    "\n",
    "For this labo, we use the hotel_bookings dataset from the machine learning module. The goal is to predict if a booking will be cancelled or not. Do you expect deep learning to perform better than the machine learning algorithms here?\n",
    "\n",
    "The format is the same as in machine learning. Some of the code is already given. If you see any '...', then you need to add the right code yourself. Towards the end of the labo, less and less of the code will be given in advance and you will have to completely write the code yourself."
   ]
  },
  {
   "cell_type": "markdown",
   "metadata": {},
   "source": [
    "# 0. Loading packages and dataset"
   ]
  },
  {
   "cell_type": "code",
   "execution_count": 1,
   "metadata": {},
   "outputs": [],
   "source": [
    "%matplotlib inline\n",
    "import numpy as np\n",
    "import pandas as pd\n",
    "import matplotlib as mpl\n",
    "import matplotlib.pyplot as plt\n",
    "import seaborn as sns\n",
    "\n",
    "from tensorflow.python.keras.models import Sequential\n",
    "from tensorflow.python.keras.layers import Activation\n",
    "from tensorflow.keras.optimizers import SGD\n",
    "from tensorflow.python.keras.layers import Dense, Dropout, BatchNormalization, Flatten\n",
    "from keras.utils import np_utils\n",
    "from sklearn.metrics import classification_report\n",
    "from sklearn.metrics import roc_curve\n",
    "\n",
    "plt.style.use('seaborn-darkgrid')\n",
    "\n",
    "df = pd.read_csv('hotel_bookings_cleaned.csv')"
   ]
  },
  {
   "cell_type": "code",
   "execution_count": 2,
   "metadata": {},
   "outputs": [
    {
     "name": "stdout",
     "output_type": "stream",
     "text": [
      "<class 'pandas.core.frame.DataFrame'>\n",
      "RangeIndex: 10000 entries, 0 to 9999\n",
      "Data columns (total 52 columns):\n",
      " #   Column                          Non-Null Count  Dtype  \n",
      "---  ------                          --------------  -----  \n",
      " 0   is_canceled                     10000 non-null  int64  \n",
      " 1   lead_time                       10000 non-null  float64\n",
      " 2   arrival_date_year               10000 non-null  int64  \n",
      " 3   arrival_date_week_number        10000 non-null  int64  \n",
      " 4   arrival_date_day_of_month       10000 non-null  int64  \n",
      " 5   stays_in_weekend_nights         10000 non-null  float64\n",
      " 6   stays_in_week_nights            10000 non-null  float64\n",
      " 7   adults                          10000 non-null  int64  \n",
      " 8   children                        10000 non-null  float64\n",
      " 9   babies                          10000 non-null  float64\n",
      " 10  is_repeated_guest               10000 non-null  int64  \n",
      " 11  previous_cancellations          10000 non-null  float64\n",
      " 12  previous_bookings_not_canceled  10000 non-null  float64\n",
      " 13  booking_changes                 10000 non-null  float64\n",
      " 14  days_in_waiting_list            10000 non-null  float64\n",
      " 15  adr                             10000 non-null  float64\n",
      " 16  required_car_parking_spaces     10000 non-null  float64\n",
      " 17  total_of_special_requests       10000 non-null  float64\n",
      " 18  length_stays                    10000 non-null  float64\n",
      " 19  total_previous_bookings         10000 non-null  float64\n",
      " 20  arrival_date_month_April        10000 non-null  int64  \n",
      " 21  arrival_date_month_August       10000 non-null  int64  \n",
      " 22  arrival_date_month_December     10000 non-null  int64  \n",
      " 23  arrival_date_month_February     10000 non-null  int64  \n",
      " 24  arrival_date_month_January      10000 non-null  int64  \n",
      " 25  arrival_date_month_July         10000 non-null  int64  \n",
      " 26  arrival_date_month_June         10000 non-null  int64  \n",
      " 27  arrival_date_month_March        10000 non-null  int64  \n",
      " 28  arrival_date_month_May          10000 non-null  int64  \n",
      " 29  arrival_date_month_November     10000 non-null  int64  \n",
      " 30  arrival_date_month_October      10000 non-null  int64  \n",
      " 31  arrival_date_month_September    10000 non-null  int64  \n",
      " 32  meal_BB                         10000 non-null  int64  \n",
      " 33  meal_HB/FB                      10000 non-null  int64  \n",
      " 34  meal_SC                         10000 non-null  int64  \n",
      " 35  distribution_channel_Direct     10000 non-null  int64  \n",
      " 36  distribution_channel_Other      10000 non-null  int64  \n",
      " 37  distribution_channel_TA/TO      10000 non-null  int64  \n",
      " 38  reserved_room_type_A            10000 non-null  int64  \n",
      " 39  reserved_room_type_D            10000 non-null  int64  \n",
      " 40  reserved_room_type_Other        10000 non-null  int64  \n",
      " 41  assigned_room_type_A            10000 non-null  int64  \n",
      " 42  assigned_room_type_D            10000 non-null  int64  \n",
      " 43  assigned_room_type_Other        10000 non-null  int64  \n",
      " 44  deposit_type_Deposit            10000 non-null  int64  \n",
      " 45  deposit_type_No Deposit         10000 non-null  int64  \n",
      " 46  company_40.0                    10000 non-null  int64  \n",
      " 47  company_Other                   10000 non-null  int64  \n",
      " 48  company_Undefined               10000 non-null  int64  \n",
      " 49  customer_type_Other             10000 non-null  int64  \n",
      " 50  customer_type_Transient         10000 non-null  int64  \n",
      " 51  customer_type_Transient-Party   10000 non-null  int64  \n",
      "dtypes: float64(14), int64(38)\n",
      "memory usage: 4.0 MB\n"
     ]
    }
   ],
   "source": [
    "df.info()"
   ]
  },
  {
   "cell_type": "code",
   "execution_count": 3,
   "metadata": {},
   "outputs": [],
   "source": [
    "df['is_repeated_guest'] = df['is_repeated_guest'].astype('category')\n"
   ]
  },
  {
   "cell_type": "code",
   "execution_count": 4,
   "metadata": {},
   "outputs": [
    {
     "data": {
      "text/html": [
       "<div>\n",
       "<style scoped>\n",
       "    .dataframe tbody tr th:only-of-type {\n",
       "        vertical-align: middle;\n",
       "    }\n",
       "\n",
       "    .dataframe tbody tr th {\n",
       "        vertical-align: top;\n",
       "    }\n",
       "\n",
       "    .dataframe thead th {\n",
       "        text-align: right;\n",
       "    }\n",
       "</style>\n",
       "<table border=\"1\" class=\"dataframe\">\n",
       "  <thead>\n",
       "    <tr style=\"text-align: right;\">\n",
       "      <th></th>\n",
       "      <th>previous_cancellations</th>\n",
       "      <th>previous_bookings_not_canceled</th>\n",
       "      <th>booking_changes</th>\n",
       "      <th>days_in_waiting_list</th>\n",
       "      <th>adr</th>\n",
       "      <th>required_car_parking_spaces</th>\n",
       "      <th>total_of_special_requests</th>\n",
       "      <th>length_stays</th>\n",
       "      <th>total_previous_bookings</th>\n",
       "    </tr>\n",
       "  </thead>\n",
       "  <tbody>\n",
       "    <tr>\n",
       "      <th>count</th>\n",
       "      <td>10000.000000</td>\n",
       "      <td>10000.000000</td>\n",
       "      <td>10000.000000</td>\n",
       "      <td>10000.000000</td>\n",
       "      <td>10000.000000</td>\n",
       "      <td>10000.000000</td>\n",
       "      <td>10000.000000</td>\n",
       "      <td>10000.000000</td>\n",
       "      <td>10000.000000</td>\n",
       "    </tr>\n",
       "    <tr>\n",
       "      <th>mean</th>\n",
       "      <td>0.047441</td>\n",
       "      <td>0.034799</td>\n",
       "      <td>0.112051</td>\n",
       "      <td>0.176386</td>\n",
       "      <td>4.555015</td>\n",
       "      <td>0.017439</td>\n",
       "      <td>0.335947</td>\n",
       "      <td>1.295266</td>\n",
       "      <td>0.076938</td>\n",
       "    </tr>\n",
       "    <tr>\n",
       "      <th>std</th>\n",
       "      <td>0.191811</td>\n",
       "      <td>0.268270</td>\n",
       "      <td>0.302555</td>\n",
       "      <td>0.841929</td>\n",
       "      <td>0.665205</td>\n",
       "      <td>0.109203</td>\n",
       "      <td>0.437047</td>\n",
       "      <td>0.400273</td>\n",
       "      <td>0.320325</td>\n",
       "    </tr>\n",
       "    <tr>\n",
       "      <th>min</th>\n",
       "      <td>0.000000</td>\n",
       "      <td>0.000000</td>\n",
       "      <td>0.000000</td>\n",
       "      <td>0.000000</td>\n",
       "      <td>0.000000</td>\n",
       "      <td>0.000000</td>\n",
       "      <td>0.000000</td>\n",
       "      <td>0.000000</td>\n",
       "      <td>0.000000</td>\n",
       "    </tr>\n",
       "    <tr>\n",
       "      <th>25%</th>\n",
       "      <td>0.000000</td>\n",
       "      <td>0.000000</td>\n",
       "      <td>0.000000</td>\n",
       "      <td>0.000000</td>\n",
       "      <td>4.394449</td>\n",
       "      <td>0.000000</td>\n",
       "      <td>0.000000</td>\n",
       "      <td>1.098612</td>\n",
       "      <td>0.000000</td>\n",
       "    </tr>\n",
       "    <tr>\n",
       "      <th>50%</th>\n",
       "      <td>0.000000</td>\n",
       "      <td>0.000000</td>\n",
       "      <td>0.000000</td>\n",
       "      <td>0.000000</td>\n",
       "      <td>4.615121</td>\n",
       "      <td>0.000000</td>\n",
       "      <td>0.000000</td>\n",
       "      <td>1.386294</td>\n",
       "      <td>0.000000</td>\n",
       "    </tr>\n",
       "    <tr>\n",
       "      <th>75%</th>\n",
       "      <td>0.000000</td>\n",
       "      <td>0.000000</td>\n",
       "      <td>0.000000</td>\n",
       "      <td>0.000000</td>\n",
       "      <td>4.844187</td>\n",
       "      <td>0.000000</td>\n",
       "      <td>0.693147</td>\n",
       "      <td>1.609438</td>\n",
       "      <td>0.000000</td>\n",
       "    </tr>\n",
       "    <tr>\n",
       "      <th>max</th>\n",
       "      <td>3.091042</td>\n",
       "      <td>4.276666</td>\n",
       "      <td>2.833213</td>\n",
       "      <td>5.971262</td>\n",
       "      <td>5.930918</td>\n",
       "      <td>1.386294</td>\n",
       "      <td>1.791759</td>\n",
       "      <td>3.526361</td>\n",
       "      <td>4.356709</td>\n",
       "    </tr>\n",
       "  </tbody>\n",
       "</table>\n",
       "</div>"
      ],
      "text/plain": [
       "       previous_cancellations  previous_bookings_not_canceled  \\\n",
       "count            10000.000000                    10000.000000   \n",
       "mean                 0.047441                        0.034799   \n",
       "std                  0.191811                        0.268270   \n",
       "min                  0.000000                        0.000000   \n",
       "25%                  0.000000                        0.000000   \n",
       "50%                  0.000000                        0.000000   \n",
       "75%                  0.000000                        0.000000   \n",
       "max                  3.091042                        4.276666   \n",
       "\n",
       "       booking_changes  days_in_waiting_list           adr  \\\n",
       "count     10000.000000          10000.000000  10000.000000   \n",
       "mean          0.112051              0.176386      4.555015   \n",
       "std           0.302555              0.841929      0.665205   \n",
       "min           0.000000              0.000000      0.000000   \n",
       "25%           0.000000              0.000000      4.394449   \n",
       "50%           0.000000              0.000000      4.615121   \n",
       "75%           0.000000              0.000000      4.844187   \n",
       "max           2.833213              5.971262      5.930918   \n",
       "\n",
       "       required_car_parking_spaces  total_of_special_requests  length_stays  \\\n",
       "count                 10000.000000               10000.000000  10000.000000   \n",
       "mean                      0.017439                   0.335947      1.295266   \n",
       "std                       0.109203                   0.437047      0.400273   \n",
       "min                       0.000000                   0.000000      0.000000   \n",
       "25%                       0.000000                   0.000000      1.098612   \n",
       "50%                       0.000000                   0.000000      1.386294   \n",
       "75%                       0.000000                   0.693147      1.609438   \n",
       "max                       1.386294                   1.791759      3.526361   \n",
       "\n",
       "       total_previous_bookings  \n",
       "count             10000.000000  \n",
       "mean                  0.076938  \n",
       "std                   0.320325  \n",
       "min                   0.000000  \n",
       "25%                   0.000000  \n",
       "50%                   0.000000  \n",
       "75%                   0.000000  \n",
       "max                   4.356709  "
      ]
     },
     "execution_count": 4,
     "metadata": {},
     "output_type": "execute_result"
    }
   ],
   "source": [
    "df.iloc[:,10:20].describe()"
   ]
  },
  {
   "cell_type": "markdown",
   "metadata": {},
   "source": [
    "## 0. Preparing the data\n",
    "The preparation of the data is very similar in deep learning as it is in machine learning.\n",
    "1. Split the data in the features (X) and the outcome (y). \n",
    "2. Then perform the train-test split, with 20% of the samples in the test set\n",
    "3. Standardise the numeric features (feature 0 to 19, but not the categorical feature 'is_repeated_guests)\n",
    "4. In deep learning, the outcome in classification problems has to be one-hot-encoded. Do this."
   ]
  },
  {
   "cell_type": "markdown",
   "metadata": {},
   "source": [
    "1. Split the data in the features (X) and the outcome (y).  "
   ]
  },
  {
   "cell_type": "code",
   "execution_count": 5,
   "metadata": {},
   "outputs": [],
   "source": [
    "from sklearn.model_selection import train_test_split\n",
    "from sklearn.preprocessing import StandardScaler\n",
    "from random import Random\n",
    "\n",
    "df_shuffle = df.sample(frac=1, random_state=40)\n",
    "\n",
    "X = df_shuffle.drop(['is_canceled'],1)\n",
    "y = df_shuffle['is_canceled']"
   ]
  },
  {
   "cell_type": "markdown",
   "metadata": {},
   "source": [
    "2. Then perform the train-test split, with 20% of the samples in the test set\n"
   ]
  },
  {
   "cell_type": "code",
   "execution_count": 6,
   "metadata": {},
   "outputs": [],
   "source": [
    "X_train, X_test, y_train, y_test = train_test_split(X, y, test_size=0.2, random_state=123)\n"
   ]
  },
  {
   "cell_type": "markdown",
   "metadata": {},
   "source": [
    "3. Standardise the numeric features"
   ]
  },
  {
   "cell_type": "code",
   "execution_count": 7,
   "metadata": {},
   "outputs": [],
   "source": [
    "num = X_train.iloc[:,0:19].select_dtypes(include=['int64', 'float64']).columns\n",
    "scaler = StandardScaler()\n",
    "X_train_stand = X_train.copy()\n",
    "X_test_stand = X_test.copy()\n",
    "X_train_stand[num] = scaler.fit_transform(X_train[num])\n",
    "X_test_stand[num] = scaler.transform(X_test[num])"
   ]
  },
  {
   "cell_type": "code",
   "execution_count": 8,
   "metadata": {},
   "outputs": [
    {
     "name": "stdout",
     "output_type": "stream",
     "text": [
      "<class 'pandas.core.frame.DataFrame'>\n",
      "Int64Index: 8000 entries, 9176 to 7056\n",
      "Data columns (total 51 columns):\n",
      " #   Column                          Non-Null Count  Dtype   \n",
      "---  ------                          --------------  -----   \n",
      " 0   lead_time                       8000 non-null   float64 \n",
      " 1   arrival_date_year               8000 non-null   float64 \n",
      " 2   arrival_date_week_number        8000 non-null   float64 \n",
      " 3   arrival_date_day_of_month       8000 non-null   float64 \n",
      " 4   stays_in_weekend_nights         8000 non-null   float64 \n",
      " 5   stays_in_week_nights            8000 non-null   float64 \n",
      " 6   adults                          8000 non-null   float64 \n",
      " 7   children                        8000 non-null   float64 \n",
      " 8   babies                          8000 non-null   float64 \n",
      " 9   is_repeated_guest               8000 non-null   category\n",
      " 10  previous_cancellations          8000 non-null   float64 \n",
      " 11  previous_bookings_not_canceled  8000 non-null   float64 \n",
      " 12  booking_changes                 8000 non-null   float64 \n",
      " 13  days_in_waiting_list            8000 non-null   float64 \n",
      " 14  adr                             8000 non-null   float64 \n",
      " 15  required_car_parking_spaces     8000 non-null   float64 \n",
      " 16  total_of_special_requests       8000 non-null   float64 \n",
      " 17  length_stays                    8000 non-null   float64 \n",
      " 18  total_previous_bookings         8000 non-null   float64 \n",
      " 19  arrival_date_month_April        8000 non-null   int64   \n",
      " 20  arrival_date_month_August       8000 non-null   int64   \n",
      " 21  arrival_date_month_December     8000 non-null   int64   \n",
      " 22  arrival_date_month_February     8000 non-null   int64   \n",
      " 23  arrival_date_month_January      8000 non-null   int64   \n",
      " 24  arrival_date_month_July         8000 non-null   int64   \n",
      " 25  arrival_date_month_June         8000 non-null   int64   \n",
      " 26  arrival_date_month_March        8000 non-null   int64   \n",
      " 27  arrival_date_month_May          8000 non-null   int64   \n",
      " 28  arrival_date_month_November     8000 non-null   int64   \n",
      " 29  arrival_date_month_October      8000 non-null   int64   \n",
      " 30  arrival_date_month_September    8000 non-null   int64   \n",
      " 31  meal_BB                         8000 non-null   int64   \n",
      " 32  meal_HB/FB                      8000 non-null   int64   \n",
      " 33  meal_SC                         8000 non-null   int64   \n",
      " 34  distribution_channel_Direct     8000 non-null   int64   \n",
      " 35  distribution_channel_Other      8000 non-null   int64   \n",
      " 36  distribution_channel_TA/TO      8000 non-null   int64   \n",
      " 37  reserved_room_type_A            8000 non-null   int64   \n",
      " 38  reserved_room_type_D            8000 non-null   int64   \n",
      " 39  reserved_room_type_Other        8000 non-null   int64   \n",
      " 40  assigned_room_type_A            8000 non-null   int64   \n",
      " 41  assigned_room_type_D            8000 non-null   int64   \n",
      " 42  assigned_room_type_Other        8000 non-null   int64   \n",
      " 43  deposit_type_Deposit            8000 non-null   int64   \n",
      " 44  deposit_type_No Deposit         8000 non-null   int64   \n",
      " 45  company_40.0                    8000 non-null   int64   \n",
      " 46  company_Other                   8000 non-null   int64   \n",
      " 47  company_Undefined               8000 non-null   int64   \n",
      " 48  customer_type_Other             8000 non-null   int64   \n",
      " 49  customer_type_Transient         8000 non-null   int64   \n",
      " 50  customer_type_Transient-Party   8000 non-null   int64   \n",
      "dtypes: category(1), float64(18), int64(32)\n",
      "memory usage: 3.1 MB\n"
     ]
    }
   ],
   "source": [
    "X_train_stand.info()"
   ]
  },
  {
   "cell_type": "markdown",
   "metadata": {},
   "source": [
    "4. One-hot encoding the outcome"
   ]
  },
  {
   "cell_type": "code",
   "execution_count": 9,
   "metadata": {},
   "outputs": [],
   "source": [
    "y_class = y_train.copy()\n",
    "y_test_class = y_test.copy()"
   ]
  },
  {
   "cell_type": "code",
   "execution_count": 10,
   "metadata": {},
   "outputs": [],
   "source": [
    "from keras.utils.np_utils import to_categorical\n",
    "y_train_class = to_categorical(y_class)"
   ]
  },
  {
   "cell_type": "markdown",
   "metadata": {},
   "source": [
    "# 1. Classification"
   ]
  },
  {
   "cell_type": "markdown",
   "metadata": {},
   "source": [
    "1. We start with setting up the architecture of the model. We construct a model with 3 hidden layers, each with 100 nodes.\n",
    "    + All nodes should be Dense (meaning all nodes are connected with each other)\n",
    "    + Define the activation function for all layers \n",
    "       - which activation function do you use in the hidden layers?\n",
    "           - relu\n",
    "       - And in the output layer?\n",
    "           - sigmoid\n",
    "    + Define the number of nodes for all layers\n",
    "    + The first hidden layer also has to be given the number of input nodes (so the number of features)\n",
    "        - 51\n",
    "    + How many nodes are there in the output layer?\n",
    "        - 2\n",
    "2. Compile the model\n",
    "    + Use 'adam' as optimizer\n",
    "    + Which loss will you use?\n",
    "        - binary_crossentropy\n",
    "    + Use the argument  metrics=['accuracy']\n",
    "    \n",
    "3. Fit the model\n",
    "    + Split the training set in 80% training and 20% validation\n",
    "    + Use 100 epochs\n",
    "    + Use a batch size of 16\n",
    "    + Make sure to store the results in an object\n",
    "4. Evaluate\n",
    "    + Plot the loss and validated loss over the different epochs.\n",
    "    + Is your model overfitting, underfitting of neither?\n",
    "        - overfitting\n",
    "    + If the model is overfitting or underfitting, what can we do to fix this?\n",
    "        - We can use early stopping to prevent this from happening\n",
    "5. Refit the model, but now make sure the model does not start to overfit\n",
    "    + Be careful that you use a new model. Pyhton still remembers the results of the previous model.\n",
    "6. Re-evaluate\n",
    "    + Plot the loss and validated loss over the different epochs. \n",
    "   "
   ]
  },
  {
   "cell_type": "markdown",
   "metadata": {},
   "source": [
    "1. Architecture"
   ]
  },
  {
   "cell_type": "code",
   "execution_count": 11,
   "metadata": {},
   "outputs": [],
   "source": [
    "# Define the number of input nodes\n",
    "n_cols = X_train_stand.shape[1]\n",
    "\n",
    "# Start the sequential model\n",
    "model = Sequential()\n",
    "\n",
    "# Construct the first hidden layer: \n",
    "    ## Dense nodes = alle nodes are connected to each other\n",
    "    ## you have to give the number of input nodes\n",
    "    ## the number of nodes in the layer\n",
    "    ## the activation function\n",
    "model.add(Dense(100, activation='relu', input_shape=(n_cols,)))\n",
    "\n",
    "# Construct the second hidden layer\n",
    "model.add(Dense(100, activation='relu'))\n",
    "\n",
    "# Construct the third hidden layer\n",
    "model.add(Dense(100, activation='relu'))\n",
    "# construct the output node\n",
    "model.add(Dense(2, activation='sigmoid'))\n",
    "\n"
   ]
  },
  {
   "cell_type": "markdown",
   "metadata": {},
   "source": [
    "2. Compile the model"
   ]
  },
  {
   "cell_type": "code",
   "execution_count": 12,
   "metadata": {},
   "outputs": [],
   "source": [
    "model.compile(optimizer='adam', loss= 'binary_crossentropy', metrics=['accuracy'])"
   ]
  },
  {
   "cell_type": "markdown",
   "metadata": {},
   "source": [
    "3. Fit the model"
   ]
  },
  {
   "cell_type": "code",
   "execution_count": 13,
   "metadata": {},
   "outputs": [
    {
     "name": "stdout",
     "output_type": "stream",
     "text": [
      "Epoch 1/100\n",
      "400/400 [==============================] - 1s 1ms/step - loss: 0.4537 - accuracy: 0.7837 - val_loss: 0.4282 - val_accuracy: 0.7962\n",
      "Epoch 2/100\n",
      "400/400 [==============================] - 0s 757us/step - loss: 0.4034 - accuracy: 0.8081 - val_loss: 0.4031 - val_accuracy: 0.8125\n",
      "Epoch 3/100\n",
      "400/400 [==============================] - 0s 757us/step - loss: 0.3860 - accuracy: 0.8180 - val_loss: 0.3951 - val_accuracy: 0.8150\n",
      "Epoch 4/100\n",
      "400/400 [==============================] - 0s 737us/step - loss: 0.3679 - accuracy: 0.8255 - val_loss: 0.4040 - val_accuracy: 0.8112\n",
      "Epoch 5/100\n",
      "400/400 [==============================] - 0s 750us/step - loss: 0.3542 - accuracy: 0.8353 - val_loss: 0.4007 - val_accuracy: 0.8206\n",
      "Epoch 6/100\n",
      "400/400 [==============================] - 0s 774us/step - loss: 0.3418 - accuracy: 0.8400 - val_loss: 0.4318 - val_accuracy: 0.7950\n",
      "Epoch 7/100\n",
      "400/400 [==============================] - 0s 752us/step - loss: 0.3283 - accuracy: 0.8461 - val_loss: 0.4116 - val_accuracy: 0.8019\n",
      "Epoch 8/100\n",
      "400/400 [==============================] - 0s 747us/step - loss: 0.3146 - accuracy: 0.8564 - val_loss: 0.4061 - val_accuracy: 0.8150\n",
      "Epoch 9/100\n",
      "400/400 [==============================] - 0s 755us/step - loss: 0.3045 - accuracy: 0.8611 - val_loss: 0.4096 - val_accuracy: 0.8100\n",
      "Epoch 10/100\n",
      "400/400 [==============================] - 0s 749us/step - loss: 0.2886 - accuracy: 0.8670 - val_loss: 0.4467 - val_accuracy: 0.7931\n",
      "Epoch 11/100\n",
      "400/400 [==============================] - 0s 750us/step - loss: 0.2765 - accuracy: 0.8769 - val_loss: 0.4330 - val_accuracy: 0.8169\n",
      "Epoch 12/100\n",
      "400/400 [==============================] - 0s 755us/step - loss: 0.2672 - accuracy: 0.8806 - val_loss: 0.4811 - val_accuracy: 0.8006\n",
      "Epoch 13/100\n",
      "400/400 [==============================] - 0s 765us/step - loss: 0.2515 - accuracy: 0.8828 - val_loss: 0.4671 - val_accuracy: 0.8175\n",
      "Epoch 14/100\n",
      "400/400 [==============================] - 0s 755us/step - loss: 0.2417 - accuracy: 0.8892 - val_loss: 0.5416 - val_accuracy: 0.8006\n",
      "Epoch 15/100\n",
      "400/400 [==============================] - 0s 752us/step - loss: 0.2291 - accuracy: 0.8958 - val_loss: 0.4963 - val_accuracy: 0.8119\n",
      "Epoch 16/100\n",
      "400/400 [==============================] - 0s 750us/step - loss: 0.2210 - accuracy: 0.9036 - val_loss: 0.5292 - val_accuracy: 0.7994\n",
      "Epoch 17/100\n",
      "400/400 [==============================] - 0s 740us/step - loss: 0.2041 - accuracy: 0.9080 - val_loss: 0.5853 - val_accuracy: 0.7881\n",
      "Epoch 18/100\n",
      "400/400 [==============================] - 0s 752us/step - loss: 0.1969 - accuracy: 0.9111 - val_loss: 0.5749 - val_accuracy: 0.7937\n",
      "Epoch 19/100\n",
      "400/400 [==============================] - 0s 742us/step - loss: 0.1855 - accuracy: 0.9175 - val_loss: 0.6132 - val_accuracy: 0.7831\n",
      "Epoch 20/100\n",
      "400/400 [==============================] - 0s 750us/step - loss: 0.1816 - accuracy: 0.9231 - val_loss: 0.6100 - val_accuracy: 0.7987\n",
      "Epoch 21/100\n",
      "400/400 [==============================] - 0s 757us/step - loss: 0.1655 - accuracy: 0.9287 - val_loss: 0.6557 - val_accuracy: 0.7944\n",
      "Epoch 22/100\n",
      "400/400 [==============================] - 0s 742us/step - loss: 0.1630 - accuracy: 0.9266 - val_loss: 0.6482 - val_accuracy: 0.7950\n",
      "Epoch 23/100\n",
      "400/400 [==============================] - 0s 747us/step - loss: 0.1506 - accuracy: 0.9361 - val_loss: 0.7214 - val_accuracy: 0.8006\n",
      "Epoch 24/100\n",
      "400/400 [==============================] - 0s 752us/step - loss: 0.1465 - accuracy: 0.9355 - val_loss: 0.7398 - val_accuracy: 0.7844\n",
      "Epoch 25/100\n",
      "400/400 [==============================] - 0s 772us/step - loss: 0.1397 - accuracy: 0.9403 - val_loss: 0.7357 - val_accuracy: 0.7919\n",
      "Epoch 26/100\n",
      "400/400 [==============================] - 0s 757us/step - loss: 0.1272 - accuracy: 0.9452 - val_loss: 0.8522 - val_accuracy: 0.7981\n",
      "Epoch 27/100\n",
      "400/400 [==============================] - 0s 750us/step - loss: 0.1219 - accuracy: 0.9472 - val_loss: 0.7999 - val_accuracy: 0.7950\n",
      "Epoch 28/100\n",
      "400/400 [==============================] - 0s 757us/step - loss: 0.1189 - accuracy: 0.9505 - val_loss: 0.9765 - val_accuracy: 0.8000\n",
      "Epoch 29/100\n",
      "400/400 [==============================] - 0s 757us/step - loss: 0.1070 - accuracy: 0.9580 - val_loss: 0.8971 - val_accuracy: 0.7944\n",
      "Epoch 30/100\n",
      "400/400 [==============================] - 0s 757us/step - loss: 0.0989 - accuracy: 0.9586 - val_loss: 0.9287 - val_accuracy: 0.7975\n",
      "Epoch 31/100\n",
      "400/400 [==============================] - 0s 762us/step - loss: 0.1130 - accuracy: 0.9513 - val_loss: 0.9930 - val_accuracy: 0.8044\n",
      "Epoch 32/100\n",
      "400/400 [==============================] - 0s 750us/step - loss: 0.1035 - accuracy: 0.9586 - val_loss: 0.9792 - val_accuracy: 0.7925\n",
      "Epoch 33/100\n",
      "400/400 [==============================] - 0s 750us/step - loss: 0.0943 - accuracy: 0.9597 - val_loss: 1.1058 - val_accuracy: 0.7875\n",
      "Epoch 34/100\n",
      "400/400 [==============================] - 0s 752us/step - loss: 0.0846 - accuracy: 0.9673 - val_loss: 1.1259 - val_accuracy: 0.7862\n",
      "Epoch 35/100\n",
      "400/400 [==============================] - 0s 752us/step - loss: 0.0998 - accuracy: 0.9642 - val_loss: 1.0027 - val_accuracy: 0.7950\n",
      "Epoch 36/100\n",
      "400/400 [==============================] - 0s 765us/step - loss: 0.0833 - accuracy: 0.9634 - val_loss: 1.1075 - val_accuracy: 0.7962\n",
      "Epoch 37/100\n",
      "400/400 [==============================] - 0s 760us/step - loss: 0.0836 - accuracy: 0.9658 - val_loss: 1.0776 - val_accuracy: 0.7925\n",
      "Epoch 38/100\n",
      "400/400 [==============================] - 0s 752us/step - loss: 0.0768 - accuracy: 0.9688 - val_loss: 1.1616 - val_accuracy: 0.7850\n",
      "Epoch 39/100\n",
      "400/400 [==============================] - 0s 777us/step - loss: 0.0712 - accuracy: 0.9691 - val_loss: 1.2524 - val_accuracy: 0.7844\n",
      "Epoch 40/100\n",
      "400/400 [==============================] - 0s 777us/step - loss: 0.0802 - accuracy: 0.9680 - val_loss: 1.2447 - val_accuracy: 0.7994\n",
      "Epoch 41/100\n",
      "400/400 [==============================] - 0s 747us/step - loss: 0.0745 - accuracy: 0.9703 - val_loss: 1.2238 - val_accuracy: 0.7950\n",
      "Epoch 42/100\n",
      "400/400 [==============================] - 0s 752us/step - loss: 0.0687 - accuracy: 0.9712 - val_loss: 1.2796 - val_accuracy: 0.7944\n",
      "Epoch 43/100\n",
      "400/400 [==============================] - 0s 782us/step - loss: 0.0584 - accuracy: 0.9772 - val_loss: 1.3146 - val_accuracy: 0.7950\n",
      "Epoch 44/100\n",
      "400/400 [==============================] - 0s 747us/step - loss: 0.0657 - accuracy: 0.9739 - val_loss: 1.4764 - val_accuracy: 0.7962\n",
      "Epoch 45/100\n",
      "400/400 [==============================] - 0s 742us/step - loss: 0.0764 - accuracy: 0.9706 - val_loss: 1.2800 - val_accuracy: 0.7912\n",
      "Epoch 46/100\n",
      "400/400 [==============================] - 0s 752us/step - loss: 0.0586 - accuracy: 0.9784 - val_loss: 1.4418 - val_accuracy: 0.7894\n",
      "Epoch 47/100\n",
      "400/400 [==============================] - 0s 752us/step - loss: 0.0641 - accuracy: 0.9750 - val_loss: 1.4027 - val_accuracy: 0.7819\n",
      "Epoch 48/100\n",
      "400/400 [==============================] - 0s 747us/step - loss: 0.0684 - accuracy: 0.9722 - val_loss: 1.2870 - val_accuracy: 0.7844\n",
      "Epoch 49/100\n",
      "400/400 [==============================] - 0s 745us/step - loss: 0.0684 - accuracy: 0.9742 - val_loss: 1.3491 - val_accuracy: 0.7962\n",
      "Epoch 50/100\n",
      "400/400 [==============================] - 0s 755us/step - loss: 0.0526 - accuracy: 0.9811 - val_loss: 1.4167 - val_accuracy: 0.7931\n",
      "Epoch 51/100\n",
      "400/400 [==============================] - 0s 747us/step - loss: 0.0618 - accuracy: 0.9778 - val_loss: 1.4506 - val_accuracy: 0.7950\n",
      "Epoch 52/100\n",
      "400/400 [==============================] - 0s 745us/step - loss: 0.0568 - accuracy: 0.9769 - val_loss: 1.4066 - val_accuracy: 0.7881\n",
      "Epoch 53/100\n",
      "400/400 [==============================] - 0s 752us/step - loss: 0.0422 - accuracy: 0.9841 - val_loss: 1.6519 - val_accuracy: 0.7881\n",
      "Epoch 54/100\n",
      "400/400 [==============================] - 0s 755us/step - loss: 0.0491 - accuracy: 0.9825 - val_loss: 1.5371 - val_accuracy: 0.8012\n",
      "Epoch 55/100\n",
      "400/400 [==============================] - 0s 747us/step - loss: 0.0617 - accuracy: 0.9745 - val_loss: 1.5025 - val_accuracy: 0.7831\n",
      "Epoch 56/100\n",
      "400/400 [==============================] - 0s 780us/step - loss: 0.0472 - accuracy: 0.9802 - val_loss: 1.4264 - val_accuracy: 0.7962\n",
      "Epoch 57/100\n"
     ]
    },
    {
     "name": "stdout",
     "output_type": "stream",
     "text": [
      "400/400 [==============================] - 0s 757us/step - loss: 0.0568 - accuracy: 0.9787 - val_loss: 1.6150 - val_accuracy: 0.7856\n",
      "Epoch 58/100\n",
      "400/400 [==============================] - 0s 755us/step - loss: 0.0526 - accuracy: 0.9803 - val_loss: 1.6103 - val_accuracy: 0.7812\n",
      "Epoch 59/100\n",
      "400/400 [==============================] - 0s 762us/step - loss: 0.0695 - accuracy: 0.9770 - val_loss: 1.3874 - val_accuracy: 0.7850\n",
      "Epoch 60/100\n",
      "400/400 [==============================] - 0s 755us/step - loss: 0.0468 - accuracy: 0.9809 - val_loss: 1.5323 - val_accuracy: 0.7912\n",
      "Epoch 61/100\n",
      "400/400 [==============================] - 0s 747us/step - loss: 0.0409 - accuracy: 0.9847 - val_loss: 1.4894 - val_accuracy: 0.7962\n",
      "Epoch 62/100\n",
      "400/400 [==============================] - 0s 755us/step - loss: 0.0363 - accuracy: 0.9867 - val_loss: 1.5793 - val_accuracy: 0.8037\n",
      "Epoch 63/100\n",
      "400/400 [==============================] - 0s 757us/step - loss: 0.0362 - accuracy: 0.9847 - val_loss: 1.6153 - val_accuracy: 0.7931\n",
      "Epoch 64/100\n",
      "400/400 [==============================] - 0s 760us/step - loss: 0.0460 - accuracy: 0.9823 - val_loss: 1.6358 - val_accuracy: 0.7937\n",
      "Epoch 65/100\n",
      "400/400 [==============================] - 0s 747us/step - loss: 0.0612 - accuracy: 0.9742 - val_loss: 1.6281 - val_accuracy: 0.7862\n",
      "Epoch 66/100\n",
      "400/400 [==============================] - 0s 755us/step - loss: 0.0516 - accuracy: 0.9805 - val_loss: 1.7613 - val_accuracy: 0.7956\n",
      "Epoch 67/100\n",
      "400/400 [==============================] - 0s 767us/step - loss: 0.0361 - accuracy: 0.9853 - val_loss: 1.6815 - val_accuracy: 0.7975\n",
      "Epoch 68/100\n",
      "400/400 [==============================] - 0s 762us/step - loss: 0.0578 - accuracy: 0.9802 - val_loss: 1.5280 - val_accuracy: 0.8031\n",
      "Epoch 69/100\n",
      "400/400 [==============================] - 0s 762us/step - loss: 0.0453 - accuracy: 0.9814 - val_loss: 1.5847 - val_accuracy: 0.7950\n",
      "Epoch 70/100\n",
      "400/400 [==============================] - 0s 777us/step - loss: 0.0454 - accuracy: 0.9817 - val_loss: 1.7182 - val_accuracy: 0.7994\n",
      "Epoch 71/100\n",
      "400/400 [==============================] - 0s 755us/step - loss: 0.0391 - accuracy: 0.9845 - val_loss: 1.6365 - val_accuracy: 0.7912\n",
      "Epoch 72/100\n",
      "400/400 [==============================] - 0s 752us/step - loss: 0.0385 - accuracy: 0.9836 - val_loss: 1.7073 - val_accuracy: 0.7900\n",
      "Epoch 73/100\n",
      "400/400 [==============================] - 0s 755us/step - loss: 0.0407 - accuracy: 0.9833 - val_loss: 1.6167 - val_accuracy: 0.7894\n",
      "Epoch 74/100\n",
      "400/400 [==============================] - 0s 765us/step - loss: 0.0321 - accuracy: 0.9877 - val_loss: 1.7768 - val_accuracy: 0.7869\n",
      "Epoch 75/100\n",
      "400/400 [==============================] - 0s 765us/step - loss: 0.0436 - accuracy: 0.9834 - val_loss: 1.7138 - val_accuracy: 0.7844\n",
      "Epoch 76/100\n",
      "400/400 [==============================] - 0s 875us/step - loss: 0.0481 - accuracy: 0.9809 - val_loss: 1.5970 - val_accuracy: 0.7981\n",
      "Epoch 77/100\n",
      "400/400 [==============================] - 0s 757us/step - loss: 0.0509 - accuracy: 0.9806 - val_loss: 1.5567 - val_accuracy: 0.7937\n",
      "Epoch 78/100\n",
      "400/400 [==============================] - 0s 752us/step - loss: 0.0295 - accuracy: 0.9870 - val_loss: 1.5731 - val_accuracy: 0.7962\n",
      "Epoch 79/100\n",
      "400/400 [==============================] - 0s 767us/step - loss: 0.0243 - accuracy: 0.9905 - val_loss: 1.7635 - val_accuracy: 0.8037\n",
      "Epoch 80/100\n",
      "400/400 [==============================] - 0s 757us/step - loss: 0.0410 - accuracy: 0.9864 - val_loss: 1.7889 - val_accuracy: 0.7956\n",
      "Epoch 81/100\n",
      "400/400 [==============================] - 0s 757us/step - loss: 0.0409 - accuracy: 0.9830 - val_loss: 1.6387 - val_accuracy: 0.8037\n",
      "Epoch 82/100\n",
      "400/400 [==============================] - 0s 755us/step - loss: 0.0446 - accuracy: 0.9814 - val_loss: 1.6074 - val_accuracy: 0.7969\n",
      "Epoch 83/100\n",
      "400/400 [==============================] - 0s 767us/step - loss: 0.0392 - accuracy: 0.9847 - val_loss: 1.8090 - val_accuracy: 0.7981\n",
      "Epoch 84/100\n",
      "400/400 [==============================] - 0s 750us/step - loss: 0.0448 - accuracy: 0.9847 - val_loss: 1.5821 - val_accuracy: 0.7894\n",
      "Epoch 85/100\n",
      "400/400 [==============================] - 0s 767us/step - loss: 0.0399 - accuracy: 0.9848 - val_loss: 1.6718 - val_accuracy: 0.7981\n",
      "Epoch 86/100\n",
      "400/400 [==============================] - 0s 760us/step - loss: 0.0413 - accuracy: 0.9837 - val_loss: 1.8353 - val_accuracy: 0.7994\n",
      "Epoch 87/100\n",
      "400/400 [==============================] - 0s 755us/step - loss: 0.0394 - accuracy: 0.9864 - val_loss: 1.8121 - val_accuracy: 0.8006\n",
      "Epoch 88/100\n",
      "400/400 [==============================] - 0s 762us/step - loss: 0.0236 - accuracy: 0.9903 - val_loss: 1.6740 - val_accuracy: 0.7931\n",
      "Epoch 89/100\n",
      "400/400 [==============================] - 0s 777us/step - loss: 0.0242 - accuracy: 0.9903 - val_loss: 1.7988 - val_accuracy: 0.7919\n",
      "Epoch 90/100\n",
      "400/400 [==============================] - 0s 765us/step - loss: 0.0490 - accuracy: 0.9814 - val_loss: 1.7061 - val_accuracy: 0.7994\n",
      "Epoch 91/100\n",
      "400/400 [==============================] - 0s 772us/step - loss: 0.0368 - accuracy: 0.9839 - val_loss: 1.7636 - val_accuracy: 0.7950\n",
      "Epoch 92/100\n",
      "400/400 [==============================] - 0s 755us/step - loss: 0.0341 - accuracy: 0.9866 - val_loss: 1.8673 - val_accuracy: 0.7856\n",
      "Epoch 93/100\n",
      "400/400 [==============================] - 0s 760us/step - loss: 0.0490 - accuracy: 0.9828 - val_loss: 1.6467 - val_accuracy: 0.7906\n",
      "Epoch 94/100\n",
      "400/400 [==============================] - 0s 755us/step - loss: 0.0335 - accuracy: 0.9862 - val_loss: 1.8013 - val_accuracy: 0.7812\n",
      "Epoch 95/100\n",
      "400/400 [==============================] - 0s 750us/step - loss: 0.0368 - accuracy: 0.9852 - val_loss: 1.8125 - val_accuracy: 0.7844\n",
      "Epoch 96/100\n",
      "400/400 [==============================] - 0s 765us/step - loss: 0.0368 - accuracy: 0.9862 - val_loss: 1.7098 - val_accuracy: 0.7825\n",
      "Epoch 97/100\n",
      "400/400 [==============================] - 0s 767us/step - loss: 0.0283 - accuracy: 0.9883 - val_loss: 1.8292 - val_accuracy: 0.7887\n",
      "Epoch 98/100\n",
      "400/400 [==============================] - 0s 787us/step - loss: 0.0247 - accuracy: 0.9887 - val_loss: 2.1254 - val_accuracy: 0.7981\n",
      "Epoch 99/100\n",
      "400/400 [==============================] - 0s 755us/step - loss: 0.0425 - accuracy: 0.9841 - val_loss: 1.8232 - val_accuracy: 0.7950\n",
      "Epoch 100/100\n",
      "400/400 [==============================] - 0s 755us/step - loss: 0.0289 - accuracy: 0.9887 - val_loss: 1.8963 - val_accuracy: 0.8019\n"
     ]
    }
   ],
   "source": [
    "# stand and class\n",
    "fit = model.fit(X_train_stand, y_train_class ,validation_split=0.2, epochs= 100, batch_size=16)"
   ]
  },
  {
   "cell_type": "markdown",
   "metadata": {},
   "source": [
    "4. Evaluate"
   ]
  },
  {
   "cell_type": "code",
   "execution_count": 14,
   "metadata": {},
   "outputs": [
    {
     "data": {
      "image/png": "[encoded data removed]",
      "text/plain": [
       "<Figure size 432x288 with 1 Axes>"
      ]
     },
     "metadata": {},
     "output_type": "display_data"
    }
   ],
   "source": [
    "plt.plot(fit.history['loss'],'r')\n",
    "plt.plot(fit.history['val_loss'],'b')\n",
    "\n",
    "plt.title('model loss')\n",
    "plt.ylabel('loss')\n",
    "plt.xlabel('epoch')\n",
    "plt.legend(['train', 'val'], loc='upper left')\n",
    "plt.show()"
   ]
  },
  {
   "cell_type": "markdown",
   "metadata": {},
   "source": [
    "5. Refit"
   ]
  },
  {
   "cell_type": "code",
   "execution_count": 15,
   "metadata": {},
   "outputs": [],
   "source": [
    "# Architecture\n",
    "n_cols = X_train_stand.shape[1]\n",
    "model = Sequential()\n",
    "model.add(Dense(100, activation=\"relu\", input_shape=(n_cols,)))\n",
    "model.add(Dense(100, activation=\"relu\"))\n",
    "model.add(Dense(100, activation=\"relu\"))\n",
    "model.add(Dense(2, activation=\"sigmoid\"))"
   ]
  },
  {
   "cell_type": "code",
   "execution_count": 16,
   "metadata": {},
   "outputs": [],
   "source": [
    "# Compile\n",
    "model.compile(optimizer='adam', loss='binary_crossentropy', metrics=['accuracy'])"
   ]
  },
  {
   "cell_type": "code",
   "execution_count": 17,
   "metadata": {},
   "outputs": [
    {
     "name": "stdout",
     "output_type": "stream",
     "text": [
      "Epoch 1/100\n",
      "400/400 [==============================] - 1s 1ms/step - loss: 0.4520 - accuracy: 0.7812 - val_loss: 0.4241 - val_accuracy: 0.7919\n",
      "Epoch 2/100\n",
      "400/400 [==============================] - 0s 770us/step - loss: 0.4032 - accuracy: 0.8081 - val_loss: 0.4127 - val_accuracy: 0.8100\n",
      "Epoch 3/100\n",
      "400/400 [==============================] - 0s 784us/step - loss: 0.3863 - accuracy: 0.8197 - val_loss: 0.4189 - val_accuracy: 0.8112\n",
      "Epoch 4/100\n",
      "400/400 [==============================] - 0s 757us/step - loss: 0.3686 - accuracy: 0.8295 - val_loss: 0.4094 - val_accuracy: 0.7956\n",
      "Epoch 5/100\n",
      "400/400 [==============================] - 0s 777us/step - loss: 0.3545 - accuracy: 0.8325 - val_loss: 0.3979 - val_accuracy: 0.8206\n",
      "Epoch 6/100\n",
      "400/400 [==============================] - 0s 774us/step - loss: 0.3392 - accuracy: 0.8438 - val_loss: 0.3968 - val_accuracy: 0.8169\n",
      "Epoch 7/100\n",
      "400/400 [==============================] - 0s 760us/step - loss: 0.3245 - accuracy: 0.8494 - val_loss: 0.4114 - val_accuracy: 0.8087\n",
      "Epoch 8/100\n",
      "400/400 [==============================] - 0s 757us/step - loss: 0.3124 - accuracy: 0.8573 - val_loss: 0.4116 - val_accuracy: 0.8175\n"
     ]
    }
   ],
   "source": [
    "# Fit\n",
    "from keras.callbacks import EarlyStopping\n",
    "early_stopping =  EarlyStopping(patience=2)\n",
    "\n",
    "# stand and class\n",
    "fit = model.fit(X_train_stand, y_train_class, validation_split=0.2, epochs=100, batch_size=16,\n",
    "               callbacks=[early_stopping])"
   ]
  },
  {
   "cell_type": "markdown",
   "metadata": {},
   "source": [
    "6. Evaluate\n",
    "\n"
   ]
  },
  {
   "cell_type": "code",
   "execution_count": 18,
   "metadata": {},
   "outputs": [
    {
     "data": {
      "image/png": "[encoded data removed]",
      "text/plain": [
       "<Figure size 432x288 with 1 Axes>"
      ]
     },
     "metadata": {},
     "output_type": "display_data"
    }
   ],
   "source": [
    "plt.plot(fit.history['loss'], 'r')\n",
    "plt.plot(fit.history['val_loss'], 'b')\n",
    "\n",
    "plt.title('model loss')\n",
    "plt.ylabel('loss')\n",
    "plt.xlabel('epoch')\n",
    "plt.legend(['train', 'val'], loc='upper left')\n",
    "plt.show()"
   ]
  },
  {
   "cell_type": "markdown",
   "metadata": {},
   "source": [
    "# 2. Regularisation\n",
    "We have a pretty decent basic model. But, let's try to improve our model. We could use three strategies:\n",
    "  1. Adding drop-out and batch normalization\n",
    "  2. Babysitting method\n",
    "  3. Random search (we wont do this here, if interested, see the demo)\n",
    "    \n",
    "## 2.1 Drop-out\n",
    "Let's stick to the same model, but now add drop out 40% of the nodes in each hidden layer in each iteration.\n",
    "1. Build, compile and fit the new model\n",
    "2. Evaluate :Make a plot that compares the validated loss over the epochs in the new model and the old model\n",
    "3. Add batch normalization to every layer and repeat the two previous steps \n",
    "    - Did the batch normalization improve the model?\n",
    "        - The batch normalization doesn't seems to help"
   ]
  },
  {
   "cell_type": "markdown",
   "metadata": {},
   "source": [
    "1. Build, compile and fit the new model"
   ]
  },
  {
   "cell_type": "code",
   "execution_count": 19,
   "metadata": {},
   "outputs": [],
   "source": [
    "# Architecture\n",
    "rate = 0.4\n",
    "n_cols = X_train_stand.shape[1]\n",
    "model2 = Sequential()\n",
    "model2.add(Dense(100, activation='relu', input_shape=(n_cols,)))\n",
    "model2.add(Dropout(rate))\n",
    "model2.add(Dense(100, activation='relu'))\n",
    "model2.add(Dropout(rate))\n",
    "model2.add(Dense(100, activation='relu'))\n",
    "model2.add(Dropout(rate))\n",
    "model2.add(Dense(2, activation='sigmoid'))\n"
   ]
  },
  {
   "cell_type": "code",
   "execution_count": 20,
   "metadata": {},
   "outputs": [],
   "source": [
    "# compile\n",
    "early_stopping =  EarlyStopping(patience=2)\n",
    "model2.compile(optimizer='adam', loss='binary_crossentropy', metrics=['accuracy'])"
   ]
  },
  {
   "cell_type": "code",
   "execution_count": 21,
   "metadata": {},
   "outputs": [
    {
     "name": "stdout",
     "output_type": "stream",
     "text": [
      "Epoch 1/100\n",
      "400/400 [==============================] - 1s 1ms/step - loss: 0.5419 - accuracy: 0.7245 - val_loss: 0.4272 - val_accuracy: 0.8044\n",
      "Epoch 2/100\n",
      "400/400 [==============================] - 0s 792us/step - loss: 0.4472 - accuracy: 0.7900 - val_loss: 0.4210 - val_accuracy: 0.8037\n",
      "Epoch 3/100\n",
      "400/400 [==============================] - 0s 802us/step - loss: 0.4329 - accuracy: 0.7992 - val_loss: 0.4138 - val_accuracy: 0.8069\n",
      "Epoch 4/100\n",
      "400/400 [==============================] - 0s 790us/step - loss: 0.4199 - accuracy: 0.8028 - val_loss: 0.4101 - val_accuracy: 0.8100\n",
      "Epoch 5/100\n",
      "400/400 [==============================] - 0s 777us/step - loss: 0.4150 - accuracy: 0.8003 - val_loss: 0.4086 - val_accuracy: 0.8056\n",
      "Epoch 6/100\n",
      "400/400 [==============================] - 0s 790us/step - loss: 0.4107 - accuracy: 0.8044 - val_loss: 0.4045 - val_accuracy: 0.8144\n",
      "Epoch 7/100\n",
      "400/400 [==============================] - 0s 785us/step - loss: 0.4001 - accuracy: 0.8119 - val_loss: 0.4118 - val_accuracy: 0.8100\n",
      "Epoch 8/100\n",
      "400/400 [==============================] - 0s 795us/step - loss: 0.3962 - accuracy: 0.8169 - val_loss: 0.4028 - val_accuracy: 0.8131\n",
      "Epoch 9/100\n",
      "400/400 [==============================] - 0s 807us/step - loss: 0.3902 - accuracy: 0.8128 - val_loss: 0.3972 - val_accuracy: 0.8163\n",
      "Epoch 10/100\n",
      "400/400 [==============================] - 0s 790us/step - loss: 0.3834 - accuracy: 0.8178 - val_loss: 0.3983 - val_accuracy: 0.8144\n",
      "Epoch 11/100\n",
      "400/400 [==============================] - 0s 817us/step - loss: 0.3805 - accuracy: 0.8202 - val_loss: 0.3970 - val_accuracy: 0.8225\n",
      "Epoch 12/100\n",
      "400/400 [==============================] - 0s 785us/step - loss: 0.3771 - accuracy: 0.8241 - val_loss: 0.4001 - val_accuracy: 0.8206\n",
      "Epoch 13/100\n",
      "400/400 [==============================] - 0s 787us/step - loss: 0.3688 - accuracy: 0.8253 - val_loss: 0.3992 - val_accuracy: 0.8163\n"
     ]
    }
   ],
   "source": [
    "# fit\n",
    "fit2 = model2.fit(X_train_stand, y_train_class, validation_split=0.2, epochs=100, batch_size=16, callbacks=[early_stopping])"
   ]
  },
  {
   "cell_type": "markdown",
   "metadata": {},
   "source": [
    "2. Evaluate using plot"
   ]
  },
  {
   "cell_type": "code",
   "execution_count": 22,
   "metadata": {},
   "outputs": [
    {
     "data": {
      "image/png": "[encoded data removed]",
      "text/plain": [
       "<Figure size 432x288 with 1 Axes>"
      ]
     },
     "metadata": {},
     "output_type": "display_data"
    }
   ],
   "source": [
    "plt.plot(fit.history['val_loss'], 'r', fit2.history['val_loss'], 'b')\n",
    "plt.xlabel('Epochs')\n",
    "plt.ylabel('Validation score')\n",
    "plt.legend(['no_drop', 'drop'], loc='upper left')\n",
    "\n",
    "plt.show()"
   ]
  },
  {
   "cell_type": "markdown",
   "metadata": {},
   "source": [
    "3. Batch normalization"
   ]
  },
  {
   "cell_type": "code",
   "execution_count": 23,
   "metadata": {},
   "outputs": [
    {
     "name": "stdout",
     "output_type": "stream",
     "text": [
      "Epoch 1/100\n",
      "400/400 [==============================] - 1s 1ms/step - loss: 0.6313 - accuracy: 0.6878 - val_loss: 0.4408 - val_accuracy: 0.7944\n",
      "Epoch 2/100\n",
      "400/400 [==============================] - 0s 1ms/step - loss: 0.5271 - accuracy: 0.7519 - val_loss: 0.4349 - val_accuracy: 0.7937\n",
      "Epoch 3/100\n",
      "400/400 [==============================] - 0s 1ms/step - loss: 0.4922 - accuracy: 0.7677 - val_loss: 0.4299 - val_accuracy: 0.8000\n",
      "Epoch 4/100\n",
      "400/400 [==============================] - 0s 1ms/step - loss: 0.4749 - accuracy: 0.7763 - val_loss: 0.4291 - val_accuracy: 0.8019\n",
      "Epoch 5/100\n",
      "400/400 [==============================] - 0s 1ms/step - loss: 0.4692 - accuracy: 0.7763 - val_loss: 0.4196 - val_accuracy: 0.8087\n",
      "Epoch 6/100\n",
      "400/400 [==============================] - 0s 1ms/step - loss: 0.4679 - accuracy: 0.7825 - val_loss: 0.4300 - val_accuracy: 0.8062\n",
      "Epoch 7/100\n",
      "400/400 [==============================] - 0s 1ms/step - loss: 0.4697 - accuracy: 0.7805 - val_loss: 0.4235 - val_accuracy: 0.8081\n"
     ]
    }
   ],
   "source": [
    "model3 = Sequential()\n",
    "model3.add(Dense(100, activation='relu', input_shape=(n_cols,)))\n",
    "model3.add(Dropout(rate))\n",
    "model3.add(BatchNormalization())\n",
    "model3.add(Dense(100, activation='relu'))\n",
    "model3.add(Dropout(rate))\n",
    "model3.add(BatchNormalization())\n",
    "model3.add(Dense(100, activation='relu'))\n",
    "model3.add(Dropout(rate))\n",
    "model3.add(BatchNormalization())\n",
    "model3.add(Dense(2, activation='sigmoid'))\n",
    "\n",
    "early_stopping =  EarlyStopping(patience=2)\n",
    "model3.compile(optimizer='adam', loss='binary_crossentropy', metrics=['accuracy'])\n",
    "\n",
    "fit3 = model3.fit(X_train_stand, y_train_class, validation_split= 0.2, epochs=100, batch_size=16, callbacks=[early_stopping])"
   ]
  },
  {
   "cell_type": "code",
   "execution_count": 24,
   "metadata": {},
   "outputs": [
    {
     "data": {
      "image/png": "[encoded data removed]",
      "text/plain": [
       "<Figure size 432x288 with 1 Axes>"
      ]
     },
     "metadata": {},
     "output_type": "display_data"
    }
   ],
   "source": [
    "plt.plot(fit.history['val_loss'], 'r', \n",
    "         fit2.history['val_loss'], 'b',\n",
    "         fit3.history['val_loss'], 'g')\n",
    "plt.xlabel('Epochs')\n",
    "plt.ylabel('Validation score')\n",
    "plt.legend(['no_drop', 'drop','drop_batch'], loc='upper left')\n",
    "\n",
    "plt.show()"
   ]
  },
  {
   "cell_type": "markdown",
   "metadata": {},
   "source": [
    "## 2.2 Babysitting\n",
    "\n",
    "Let's start over, but now use the babysitting method\n",
    "1. Begin with a model with 1 hidden layer with 5 nodes and use a drop-out rate of 0.2. (model a)\n",
    "2. Increase the number of nodes to 10 (model b)\n",
    "    + compare the results of model a and b (using  plot of the validated loss over the epochs)\n",
    "3. If model b is better than model a, increase the complexity of the model by adding a second layer (model c). If it is worse, stop here.\n",
    "4. If model c is better than model b, increase the complexity by increasing the number of nodes to 25. If the model is worse, decrease the complexity by decreasing the number of nodes to 7.\n",
    "5. Choose the best model so far to evaluate teh algoritm on the test dataset."
   ]
  },
  {
   "cell_type": "markdown",
   "metadata": {},
   "source": [
    "1. Model a"
   ]
  },
  {
   "cell_type": "code",
   "execution_count": 25,
   "metadata": {},
   "outputs": [
    {
     "name": "stdout",
     "output_type": "stream",
     "text": [
      "Epoch 1/100\n",
      "400/400 [==============================] - 1s 840us/step - loss: 0.6468 - accuracy: 0.6237 - val_loss: 0.5876 - val_accuracy: 0.7362\n",
      "Epoch 2/100\n",
      "400/400 [==============================] - 0s 622us/step - loss: 0.5835 - accuracy: 0.7525 - val_loss: 0.5417 - val_accuracy: 0.7875\n",
      "Epoch 3/100\n",
      "400/400 [==============================] - 0s 607us/step - loss: 0.5484 - accuracy: 0.7734 - val_loss: 0.5166 - val_accuracy: 0.8037\n",
      "Epoch 4/100\n",
      "400/400 [==============================] - 0s 619us/step - loss: 0.5142 - accuracy: 0.7839 - val_loss: 0.4650 - val_accuracy: 0.7975\n",
      "Epoch 5/100\n",
      "400/400 [==============================] - 0s 606us/step - loss: 0.4765 - accuracy: 0.7864 - val_loss: 0.4408 - val_accuracy: 0.7956\n",
      "Epoch 6/100\n",
      "400/400 [==============================] - 0s 609us/step - loss: 0.4548 - accuracy: 0.7953 - val_loss: 0.4297 - val_accuracy: 0.8044\n",
      "Epoch 7/100\n",
      "400/400 [==============================] - 0s 614us/step - loss: 0.4514 - accuracy: 0.7950 - val_loss: 0.4266 - val_accuracy: 0.8031\n",
      "Epoch 8/100\n",
      "400/400 [==============================] - 0s 614us/step - loss: 0.4462 - accuracy: 0.7936 - val_loss: 0.4224 - val_accuracy: 0.8062\n",
      "Epoch 9/100\n",
      "400/400 [==============================] - 0s 622us/step - loss: 0.4442 - accuracy: 0.7945 - val_loss: 0.4196 - val_accuracy: 0.8050\n",
      "Epoch 10/100\n",
      "400/400 [==============================] - 0s 619us/step - loss: 0.4484 - accuracy: 0.7937 - val_loss: 0.4202 - val_accuracy: 0.8069\n",
      "Epoch 11/100\n",
      "400/400 [==============================] - 0s 604us/step - loss: 0.4437 - accuracy: 0.7944 - val_loss: 0.4200 - val_accuracy: 0.8050\n"
     ]
    }
   ],
   "source": [
    " # Architecture\n",
    "modela = Sequential()\n",
    "modela.add(Dense(5, activation='relu', input_shape=(n_cols,)))\n",
    "modela.add(Dropout(0.2))\n",
    "modela.add(Dense(2, activation='sigmoid'))\n",
    "\n",
    "# Compile\n",
    "modela.compile(optimizer='adam', loss='binary_crossentropy', metrics=['accuracy'])\n",
    "\n",
    "# fit\n",
    "fita = modela.fit(X_train_stand, y_train_class, validation_split=0.2, epochs=100, batch_size=16, callbacks=[early_stopping])"
   ]
  },
  {
   "cell_type": "markdown",
   "metadata": {},
   "source": [
    "2. Model b\n",
    "\n",
    "Now we increase the number of nodes to 10. "
   ]
  },
  {
   "cell_type": "code",
   "execution_count": 26,
   "metadata": {},
   "outputs": [
    {
     "name": "stdout",
     "output_type": "stream",
     "text": [
      "Epoch 1/100\n",
      "400/400 [==============================] - 1s 842us/step - loss: 0.6072 - accuracy: 0.6800 - val_loss: 0.4921 - val_accuracy: 0.7925\n",
      "Epoch 2/100\n",
      "400/400 [==============================] - 0s 609us/step - loss: 0.4826 - accuracy: 0.7739 - val_loss: 0.4453 - val_accuracy: 0.7919\n",
      "Epoch 3/100\n",
      "400/400 [==============================] - 0s 601us/step - loss: 0.4512 - accuracy: 0.7870 - val_loss: 0.4297 - val_accuracy: 0.7937\n",
      "Epoch 4/100\n",
      "400/400 [==============================] - 0s 644us/step - loss: 0.4381 - accuracy: 0.7934 - val_loss: 0.4215 - val_accuracy: 0.8050\n",
      "Epoch 5/100\n",
      "400/400 [==============================] - 0s 609us/step - loss: 0.4314 - accuracy: 0.7972 - val_loss: 0.4182 - val_accuracy: 0.8025\n",
      "Epoch 6/100\n",
      "400/400 [==============================] - 0s 619us/step - loss: 0.4276 - accuracy: 0.8003 - val_loss: 0.4163 - val_accuracy: 0.8094\n",
      "Epoch 7/100\n",
      "400/400 [==============================] - 0s 637us/step - loss: 0.4231 - accuracy: 0.8034 - val_loss: 0.4137 - val_accuracy: 0.8044\n",
      "Epoch 8/100\n",
      "400/400 [==============================] - 0s 609us/step - loss: 0.4192 - accuracy: 0.8058 - val_loss: 0.4126 - val_accuracy: 0.8019\n",
      "Epoch 9/100\n",
      "400/400 [==============================] - 0s 609us/step - loss: 0.4113 - accuracy: 0.8058 - val_loss: 0.4118 - val_accuracy: 0.8094\n",
      "Epoch 10/100\n",
      "400/400 [==============================] - 0s 621us/step - loss: 0.4139 - accuracy: 0.8050 - val_loss: 0.4126 - val_accuracy: 0.8094\n",
      "Epoch 11/100\n",
      "400/400 [==============================] - 0s 621us/step - loss: 0.4119 - accuracy: 0.8053 - val_loss: 0.4125 - val_accuracy: 0.8119\n"
     ]
    }
   ],
   "source": [
    " # Architecture\n",
    "modelb = Sequential()\n",
    "modelb.add(Dense(10, activation='relu', input_shape=(n_cols,)))\n",
    "modelb.add(Dropout(0.2))\n",
    "modelb.add(Dense(2, activation='sigmoid'))\n",
    "\n",
    "\n",
    "# Compile\n",
    "modelb.compile(optimizer='adam', loss='binary_crossentropy', metrics=['accuracy'])\n",
    "\n",
    "# fit\n",
    "fitb = modelb.fit(X_train_stand, y_train_class, validation_split=0.2, epochs=100, batch_size=16, callbacks=[early_stopping])"
   ]
  },
  {
   "cell_type": "code",
   "execution_count": 27,
   "metadata": {},
   "outputs": [
    {
     "data": {
      "image/png": "[encoded data removed]",
      "text/plain": [
       "<Figure size 432x288 with 1 Axes>"
      ]
     },
     "metadata": {},
     "output_type": "display_data"
    }
   ],
   "source": [
    "plt.plot(fita.history['val_loss'], 'r', fitb.history['val_loss'], 'b')\n",
    "plt.xlabel('Epochs')\n",
    "plt.ylabel('Validation score')\n",
    "plt.legend(['modela', 'modelb'], loc='upper left')\n",
    "\n",
    "plt.show()"
   ]
  },
  {
   "cell_type": "markdown",
   "metadata": {},
   "source": [
    "Now, let's add another hidden layer with 10 nodes.\n",
    "\n",
    "3. Model c"
   ]
  },
  {
   "cell_type": "code",
   "execution_count": 28,
   "metadata": {},
   "outputs": [
    {
     "name": "stdout",
     "output_type": "stream",
     "text": [
      "Epoch 1/100\n",
      "400/400 [==============================] - 1s 867us/step - loss: 0.6185 - accuracy: 0.6542 - val_loss: 0.5251 - val_accuracy: 0.7906\n",
      "Epoch 2/100\n",
      "400/400 [==============================] - 0s 647us/step - loss: 0.5097 - accuracy: 0.7638 - val_loss: 0.4404 - val_accuracy: 0.8019\n",
      "Epoch 3/100\n",
      "400/400 [==============================] - 0s 639us/step - loss: 0.4657 - accuracy: 0.7880 - val_loss: 0.4229 - val_accuracy: 0.8019\n",
      "Epoch 4/100\n",
      "400/400 [==============================] - 0s 637us/step - loss: 0.4495 - accuracy: 0.7950 - val_loss: 0.4166 - val_accuracy: 0.8081\n",
      "Epoch 5/100\n",
      "400/400 [==============================] - 0s 642us/step - loss: 0.4369 - accuracy: 0.8048 - val_loss: 0.4135 - val_accuracy: 0.8056\n",
      "Epoch 6/100\n",
      "400/400 [==============================] - 0s 667us/step - loss: 0.4288 - accuracy: 0.8022 - val_loss: 0.4093 - val_accuracy: 0.8119\n",
      "Epoch 7/100\n",
      "400/400 [==============================] - 0s 642us/step - loss: 0.4267 - accuracy: 0.8053 - val_loss: 0.4110 - val_accuracy: 0.8069\n",
      "Epoch 8/100\n",
      "400/400 [==============================] - 0s 647us/step - loss: 0.4240 - accuracy: 0.8064 - val_loss: 0.4074 - val_accuracy: 0.8106\n",
      "Epoch 9/100\n",
      "400/400 [==============================] - 0s 657us/step - loss: 0.4164 - accuracy: 0.8048 - val_loss: 0.4059 - val_accuracy: 0.8138\n",
      "Epoch 10/100\n",
      "400/400 [==============================] - 0s 649us/step - loss: 0.4147 - accuracy: 0.8095 - val_loss: 0.4064 - val_accuracy: 0.8087\n",
      "Epoch 11/100\n",
      "400/400 [==============================] - 0s 642us/step - loss: 0.4115 - accuracy: 0.8117 - val_loss: 0.4055 - val_accuracy: 0.8138\n",
      "Epoch 12/100\n",
      "400/400 [==============================] - 0s 642us/step - loss: 0.4108 - accuracy: 0.8092 - val_loss: 0.4041 - val_accuracy: 0.8138\n",
      "Epoch 13/100\n",
      "400/400 [==============================] - 0s 642us/step - loss: 0.4076 - accuracy: 0.8119 - val_loss: 0.4037 - val_accuracy: 0.8175\n",
      "Epoch 14/100\n",
      "400/400 [==============================] - 0s 654us/step - loss: 0.4056 - accuracy: 0.8145 - val_loss: 0.4021 - val_accuracy: 0.8169\n",
      "Epoch 15/100\n",
      "400/400 [==============================] - 0s 649us/step - loss: 0.4061 - accuracy: 0.8111 - val_loss: 0.4024 - val_accuracy: 0.8181\n",
      "Epoch 16/100\n",
      "400/400 [==============================] - 0s 639us/step - loss: 0.4025 - accuracy: 0.8123 - val_loss: 0.3987 - val_accuracy: 0.8250\n",
      "Epoch 17/100\n",
      "400/400 [==============================] - 0s 642us/step - loss: 0.4014 - accuracy: 0.8139 - val_loss: 0.4016 - val_accuracy: 0.8156\n",
      "Epoch 18/100\n",
      "400/400 [==============================] - 0s 644us/step - loss: 0.4008 - accuracy: 0.8147 - val_loss: 0.4015 - val_accuracy: 0.8194\n"
     ]
    }
   ],
   "source": [
    " # Architecture\n",
    "modelc = Sequential()\n",
    "modelc.add(Dense(10, activation='relu', input_shape=(n_cols,)))\n",
    "modelc.add(Dropout(0.2))\n",
    "modelc.add(Dense(10, activation='relu'))\n",
    "modelc.add(Dropout(0.2))\n",
    "modelc.add(Dense(2, activation='sigmoid'))\n",
    "\n",
    "\n",
    "# Compile\n",
    "modelc.compile(optimizer='adam', loss='binary_crossentropy', metrics=['accuracy'])\n",
    "\n",
    "# fit\n",
    "fitc = modelc.fit(X_train_stand, y_train_class, validation_split=0.2, epochs=100, batch_size=16, callbacks=[early_stopping])"
   ]
  },
  {
   "cell_type": "code",
   "execution_count": 29,
   "metadata": {},
   "outputs": [
    {
     "data": {
      "image/png": "[encoded data removed]",
      "text/plain": [
       "<Figure size 432x288 with 1 Axes>"
      ]
     },
     "metadata": {},
     "output_type": "display_data"
    }
   ],
   "source": [
    "# plot\n",
    "plt.plot(fita.history['val_loss'], 'r',\n",
    "         fitb.history['val_loss'], 'b',\n",
    "         fitc.history['val_loss'], 'g')\n",
    "plt.xlabel('Epochs')\n",
    "plt.ylabel('Validation score')\n",
    "plt.legend(['modela', 'modelb', 'modelc'], loc='upper left')\n",
    "\n",
    "plt.show()"
   ]
  },
  {
   "cell_type": "markdown",
   "metadata": {},
   "source": [
    " Lets decrease the number of nodes in the  hidden layers to 7.\n",
    "\n",
    "4. Model d"
   ]
  },
  {
   "cell_type": "markdown",
   "metadata": {},
   "source": [
    "If model c is better than model b, increase the complexity by increasing the number of nodes to 25. If the model is worse, decrease the complexity by decreasing the number of nodes to 7."
   ]
  },
  {
   "cell_type": "code",
   "execution_count": 30,
   "metadata": {},
   "outputs": [
    {
     "name": "stdout",
     "output_type": "stream",
     "text": [
      "Epoch 1/100\n",
      "400/400 [==============================] - 1s 875us/step - loss: 0.5564 - accuracy: 0.7108 - val_loss: 0.4424 - val_accuracy: 0.7925\n",
      "Epoch 2/100\n",
      "400/400 [==============================] - 0s 652us/step - loss: 0.4539 - accuracy: 0.7872 - val_loss: 0.4263 - val_accuracy: 0.8056\n",
      "Epoch 3/100\n",
      "400/400 [==============================] - 0s 657us/step - loss: 0.4326 - accuracy: 0.7970 - val_loss: 0.4178 - val_accuracy: 0.8062\n",
      "Epoch 4/100\n",
      "400/400 [==============================] - 0s 662us/step - loss: 0.4262 - accuracy: 0.8002 - val_loss: 0.4148 - val_accuracy: 0.8050\n",
      "Epoch 5/100\n",
      "400/400 [==============================] - 0s 659us/step - loss: 0.4123 - accuracy: 0.8083 - val_loss: 0.4124 - val_accuracy: 0.8031\n",
      "Epoch 6/100\n",
      "400/400 [==============================] - 0s 652us/step - loss: 0.4096 - accuracy: 0.8108 - val_loss: 0.4094 - val_accuracy: 0.8119\n",
      "Epoch 7/100\n",
      "400/400 [==============================] - 0s 654us/step - loss: 0.4063 - accuracy: 0.8081 - val_loss: 0.4058 - val_accuracy: 0.8094\n",
      "Epoch 8/100\n",
      "400/400 [==============================] - 0s 652us/step - loss: 0.4036 - accuracy: 0.8136 - val_loss: 0.4056 - val_accuracy: 0.8069\n",
      "Epoch 9/100\n",
      "400/400 [==============================] - 0s 654us/step - loss: 0.3969 - accuracy: 0.8175 - val_loss: 0.4027 - val_accuracy: 0.8100\n",
      "Epoch 10/100\n",
      "400/400 [==============================] - 0s 654us/step - loss: 0.3937 - accuracy: 0.8189 - val_loss: 0.3987 - val_accuracy: 0.8131\n",
      "Epoch 11/100\n",
      "400/400 [==============================] - 0s 679us/step - loss: 0.3876 - accuracy: 0.8184 - val_loss: 0.3978 - val_accuracy: 0.8119\n",
      "Epoch 12/100\n",
      "400/400 [==============================] - 0s 654us/step - loss: 0.3842 - accuracy: 0.8213 - val_loss: 0.3953 - val_accuracy: 0.8106\n",
      "Epoch 13/100\n",
      "400/400 [==============================] - 0s 662us/step - loss: 0.3850 - accuracy: 0.8211 - val_loss: 0.3950 - val_accuracy: 0.8163\n",
      "Epoch 14/100\n",
      "400/400 [==============================] - 0s 672us/step - loss: 0.3817 - accuracy: 0.8277 - val_loss: 0.3937 - val_accuracy: 0.8150\n",
      "Epoch 15/100\n",
      "400/400 [==============================] - 0s 652us/step - loss: 0.3761 - accuracy: 0.8280 - val_loss: 0.3912 - val_accuracy: 0.8200\n",
      "Epoch 16/100\n",
      "400/400 [==============================] - 0s 657us/step - loss: 0.3761 - accuracy: 0.8248 - val_loss: 0.3923 - val_accuracy: 0.8144\n",
      "Epoch 17/100\n",
      "400/400 [==============================] - 0s 662us/step - loss: 0.3708 - accuracy: 0.8297 - val_loss: 0.3951 - val_accuracy: 0.8169\n"
     ]
    }
   ],
   "source": [
    " # Architecture\n",
    "modeld = Sequential()\n",
    "modeld.add(Dense(25, activation='relu', input_shape=(n_cols,)))\n",
    "modeld.add(Dropout(0.2))\n",
    "modeld.add(Dense(25, activation='relu'))\n",
    "modeld.add(Dropout(0.2))\n",
    "modeld.add(Dense(2, activation='sigmoid'))\n",
    "\n",
    "\n",
    "# Compile\n",
    "modeld.compile(optimizer='adam', loss='binary_crossentropy', metrics=['accuracy'])\n",
    "\n",
    "# fit\n",
    "fitd = modeld.fit(X_train_stand, y_train_class, validation_split=0.2, epochs=100, batch_size=16, callbacks=[early_stopping])"
   ]
  },
  {
   "cell_type": "code",
   "execution_count": 31,
   "metadata": {},
   "outputs": [
    {
     "data": {
      "image/png": "[encoded data removed]",
      "text/plain": [
       "<Figure size 432x288 with 1 Axes>"
      ]
     },
     "metadata": {},
     "output_type": "display_data"
    }
   ],
   "source": [
    "# plot\n",
    "\n",
    "plt.plot(fita.history['val_loss'], 'r',\n",
    "         fitb.history['val_loss'], 'b',\n",
    "         fitc.history['val_loss'], 'g',\n",
    "         fitd.history['val_loss'], 'y')\n",
    "plt.xlabel('Epochs')\n",
    "plt.ylabel('Validation score')\n",
    "plt.legend(['modela', 'modelb', 'modelc', 'modeld'], loc='upper left')\n",
    "\n",
    "plt.show()"
   ]
  },
  {
   "cell_type": "markdown",
   "metadata": {},
   "source": [
    "We choose the best model to try on our test dataset."
   ]
  },
  {
   "cell_type": "markdown",
   "metadata": {},
   "source": [
    "5. Evaluating on test set"
   ]
  },
  {
   "cell_type": "code",
   "execution_count": 32,
   "metadata": {},
   "outputs": [
    {
     "name": "stdout",
     "output_type": "stream",
     "text": [
      "              precision    recall  f1-score   support\n",
      "\n",
      "           0       0.79      0.91      0.85      1181\n",
      "           1       0.83      0.66      0.74       819\n",
      "\n",
      "    accuracy                           0.81      2000\n",
      "   macro avg       0.81      0.78      0.79      2000\n",
      "weighted avg       0.81      0.81      0.80      2000\n",
      "\n"
     ]
    },
    {
     "name": "stderr",
     "output_type": "stream",
     "text": [
      "C:\\Anaconda\\lib\\site-packages\\tensorflow\\python\\keras\\engine\\sequential.py:455: UserWarning: `model.predict_classes()` is deprecated and will be removed after 2021-01-01. Please use instead:* `np.argmax(model.predict(x), axis=-1)`,   if your model does multi-class classification   (e.g. if it uses a `softmax` last-layer activation).* `(model.predict(x) > 0.5).astype(\"int32\")`,   if your model does binary classification   (e.g. if it uses a `sigmoid` last-layer activation).\n",
      "  warnings.warn('`model.predict_classes()` is deprecated and '\n"
     ]
    }
   ],
   "source": [
    "predictions_test = modela.predict_classes(X_test_stand)\n",
    "print(classification_report(y_test_class, predictions_test))"
   ]
  },
  {
   "cell_type": "code",
   "execution_count": 33,
   "metadata": {},
   "outputs": [
    {
     "name": "stdout",
     "output_type": "stream",
     "text": [
      "              precision    recall  f1-score   support\n",
      "\n",
      "           0       0.80      0.90      0.84      1181\n",
      "           1       0.82      0.67      0.74       819\n",
      "\n",
      "    accuracy                           0.81      2000\n",
      "   macro avg       0.81      0.78      0.79      2000\n",
      "weighted avg       0.81      0.81      0.80      2000\n",
      "\n"
     ]
    },
    {
     "name": "stderr",
     "output_type": "stream",
     "text": [
      "C:\\Anaconda\\lib\\site-packages\\tensorflow\\python\\keras\\engine\\sequential.py:455: UserWarning: `model.predict_classes()` is deprecated and will be removed after 2021-01-01. Please use instead:* `np.argmax(model.predict(x), axis=-1)`,   if your model does multi-class classification   (e.g. if it uses a `softmax` last-layer activation).* `(model.predict(x) > 0.5).astype(\"int32\")`,   if your model does binary classification   (e.g. if it uses a `sigmoid` last-layer activation).\n",
      "  warnings.warn('`model.predict_classes()` is deprecated and '\n"
     ]
    }
   ],
   "source": [
    "predictions_test = modelb.predict_classes(X_test_stand)\n",
    "print(classification_report(y_test_class, predictions_test))"
   ]
  },
  {
   "cell_type": "code",
   "execution_count": 34,
   "metadata": {},
   "outputs": [
    {
     "name": "stdout",
     "output_type": "stream",
     "text": [
      "              precision    recall  f1-score   support\n",
      "\n",
      "           0       0.79      0.93      0.85      1181\n",
      "           1       0.86      0.64      0.74       819\n",
      "\n",
      "    accuracy                           0.81      2000\n",
      "   macro avg       0.83      0.79      0.80      2000\n",
      "weighted avg       0.82      0.81      0.81      2000\n",
      "\n"
     ]
    },
    {
     "name": "stderr",
     "output_type": "stream",
     "text": [
      "C:\\Anaconda\\lib\\site-packages\\tensorflow\\python\\keras\\engine\\sequential.py:455: UserWarning: `model.predict_classes()` is deprecated and will be removed after 2021-01-01. Please use instead:* `np.argmax(model.predict(x), axis=-1)`,   if your model does multi-class classification   (e.g. if it uses a `softmax` last-layer activation).* `(model.predict(x) > 0.5).astype(\"int32\")`,   if your model does binary classification   (e.g. if it uses a `sigmoid` last-layer activation).\n",
      "  warnings.warn('`model.predict_classes()` is deprecated and '\n"
     ]
    }
   ],
   "source": [
    "predictions_test = modelc.predict_classes(X_test_stand)\n",
    "print(classification_report(y_test_class, predictions_test))"
   ]
  },
  {
   "cell_type": "code",
   "execution_count": 35,
   "metadata": {},
   "outputs": [
    {
     "name": "stdout",
     "output_type": "stream",
     "text": [
      "              precision    recall  f1-score   support\n",
      "\n",
      "           0       0.81      0.90      0.86      1181\n",
      "           1       0.83      0.70      0.76       819\n",
      "\n",
      "    accuracy                           0.82      2000\n",
      "   macro avg       0.82      0.80      0.81      2000\n",
      "weighted avg       0.82      0.82      0.82      2000\n",
      "\n"
     ]
    },
    {
     "name": "stderr",
     "output_type": "stream",
     "text": [
      "C:\\Anaconda\\lib\\site-packages\\tensorflow\\python\\keras\\engine\\sequential.py:455: UserWarning: `model.predict_classes()` is deprecated and will be removed after 2021-01-01. Please use instead:* `np.argmax(model.predict(x), axis=-1)`,   if your model does multi-class classification   (e.g. if it uses a `softmax` last-layer activation).* `(model.predict(x) > 0.5).astype(\"int32\")`,   if your model does binary classification   (e.g. if it uses a `sigmoid` last-layer activation).\n",
      "  warnings.warn('`model.predict_classes()` is deprecated and '\n"
     ]
    }
   ],
   "source": [
    "predictions_test = modeld.predict_classes(X_test_stand)\n",
    "print(classification_report(y_test_class, predictions_test))"
   ]
  },
  {
   "cell_type": "markdown",
   "metadata": {},
   "source": [
    "We clearly can see that model D has the highest accuracy rate of 82%."
   ]
  },
  {
   "cell_type": "code",
   "execution_count": 39,
   "metadata": {},
   "outputs": [
    {
     "data": {
      "image/png": "[encoded data removed]",
      "text/plain": [
       "<Figure size 432x288 with 1 Axes>"
      ]
     },
     "metadata": {},
     "output_type": "display_data"
    }
   ],
   "source": [
    "# print the ROC-curve\n",
    "import sklearn.metrics as metrics\n",
    "# calculate the fpr and tpr for all thresholds of the classification\n",
    "probs = modeld.predict(X_test_stand)\n",
    "preds = probs[:,1]\n",
    "fpr, tpr, threshold = metrics.roc_curve(y_test_class, preds)\n",
    "roc_auc = metrics.auc(fpr, tpr)\n",
    " \n",
    "# method I: plt\n",
    "import matplotlib.pyplot as plt\n",
    "plt.title('Receiver Operating Characteristic')\n",
    "plt.plot(fpr, tpr, 'b', label = 'AUC = %0.2f' % roc_auc)\n",
    "plt.legend(loc = 'lower right')\n",
    "plt.plot([0, 1], [0, 1],'r--')\n",
    "plt.xlim([0, 1])\n",
    "plt.ylim([0, 1])\n",
    "plt.ylabel('True Positive Rate')\n",
    "plt.xlabel('False Positive Rate')\n",
    "plt.show()"
   ]
  },
  {
   "cell_type": "markdown",
   "metadata": {},
   "source": [
    "We will end this labo here. If you would look back at the results that we got on this dataset in the machine learning course, you would notice we didn't really improve our results. The power of deep learning isn't in this kind of tasks, but rather on more specialized tasks, such as image recognition, text processing,... We will learn a lot more about this in the next few class."
   ]
  },
  {
   "cell_type": "code",
   "execution_count": null,
   "metadata": {},
   "outputs": [],
   "source": []
  },
  {
   "cell_type": "code",
   "execution_count": null,
   "metadata": {},
   "outputs": [],
   "source": []
  },
  {
   "cell_type": "code",
   "execution_count": 38,
   "metadata": {},
   "outputs": [
    {
     "ename": "SyntaxError",
     "evalue": "invalid syntax (<ipython-input-38-2609d8c798c0>, line 1)",
     "output_type": "error",
     "traceback": [
      "\u001b[1;36m  File \u001b[1;32m\"<ipython-input-38-2609d8c798c0>\"\u001b[1;36m, line \u001b[1;32m1\u001b[0m\n\u001b[1;33m    For those interested, the code to do a random search is below, but this is not part of the curriculum.\u001b[0m\n\u001b[1;37m        ^\u001b[0m\n\u001b[1;31mSyntaxError\u001b[0m\u001b[1;31m:\u001b[0m invalid syntax\n"
     ]
    }
   ],
   "source": [
    "For those interested, the code to do a random search is below, but this is not part of the curriculum."
   ]
  },
  {
   "cell_type": "markdown",
   "metadata": {},
   "source": [
    "## 2.2 Random search\n",
    "1. Define the model\n",
    "You start by creating an overal model. For all parameters that you want to use in the random search, you give a default value. \n",
    "2. Use KerasClassifier to store the model. \n",
    "Arguments that usually go into the fit are given here.  \n",
    "3. Define the parameter grid.\n",
    "Do a very limited search. Keep all parameters fixed as before, only let the drop-out range from 0 to 0.9. Try 10 values."
   ]
  },
  {
   "cell_type": "markdown",
   "metadata": {},
   "source": [
    "1. Define the mode"
   ]
  },
  {
   "cell_type": "code",
   "execution_count": null,
   "metadata": {},
   "outputs": [],
   "source": [
    "def get_model(optimizer='adam',activation_hidden = 'relu',activation_output = 'sigmoid',\n",
    "              dropout_rate = 0.0,neurons = 100):\n",
    "    model = Sequential()\n",
    "    model.add(Dense(neurons, input_dim=X_train.shape[1], activation=activation_hidden))\n",
    "    model.add(Dropout(dropout_rate))\n",
    "    model.add(Dense(neurons ,activation=activation_hidden))\n",
    "    model.add(Dropout(dropout_rate))\n",
    "    model.add(Dense(neurons, activation=activation_hidden))\n",
    "    model.add(Dropout(dropout_rate))\n",
    "    model.add(Dense(3, activation=activation_output))\n",
    "\n",
    "    model.compile(loss='categorical_crossentropy',optimizer=optimizer,metrics=['accuracy']) \n",
    "    return model"
   ]
  },
  {
   "cell_type": "markdown",
   "metadata": {},
   "source": [
    "2. Store model using Keras Classifier"
   ]
  },
  {
   "cell_type": "code",
   "execution_count": null,
   "metadata": {},
   "outputs": [],
   "source": [
    "from tensorflow.python.keras.wrappers.scikit_learn import KerasClassifier\n",
    "model = KerasClassifier(build_fn=get_model, batch_size=8, epochs =10)"
   ]
  },
  {
   "cell_type": "markdown",
   "metadata": {},
   "source": [
    "3. Define the parameter grid.\n"
   ]
  },
  {
   "cell_type": "code",
   "execution_count": null,
   "metadata": {},
   "outputs": [],
   "source": [
    "\n",
    "activation_hidden =  ['relu'] \n",
    "activation_output =  ['sigmoid'] \n",
    "dropout_rate = [0.0, 0.1, 0.2, 0.3, 0.4, 0.5, 0.6, 0.7, 0.8, 0.9]\n",
    "neurons = [100]\n",
    "optimizer = ['Adam']\n",
    "epochs = [50] \n",
    "batch_size = [16] \n",
    "param_grid = {'activation_hidden': activation_hidden,\n",
    "              'activation_output': activation_output,\n",
    "              'dropout_rate' : dropout_rate,\n",
    "              'neurons': neurons,\n",
    "              'optimizer': optimizer,\n",
    "              'epochs': epochs,\n",
    "              'batch_size':batch_size}"
   ]
  },
  {
   "cell_type": "code",
   "execution_count": null,
   "metadata": {},
   "outputs": [],
   "source": [
    "from sklearn.model_selection import RandomizedSearchCV\n",
    "grid = RandomizedSearchCV(estimator=model, param_distributions = param_grid, n_iter= 20, cv=3, \n",
    "                          verbose=2, random_state=42, n_jobs=-1)\n",
    "grid_result = grid.fit(X_train_stand, y_train_class) \n"
   ]
  },
  {
   "cell_type": "code",
   "execution_count": null,
   "metadata": {},
   "outputs": [],
   "source": [
    "grid_result.best_params_"
   ]
  },
  {
   "cell_type": "code",
   "execution_count": null,
   "metadata": {},
   "outputs": [],
   "source": [
    "predictions_test = grid_result.predict(X_test_stand)\n",
    "print(classification_report(y_test_class, predictions_test))"
   ]
  }
 ],
 "metadata": {
  "kernelspec": {
   "display_name": "Python 3",
   "language": "python",
   "name": "python3"
  },
  "language_info": {
   "codemirror_mode": {
    "name": "ipython",
    "version": 3
   },
   "file_extension": ".py",
   "mimetype": "text/x-python",
   "name": "python",
   "nbconvert_exporter": "python",
   "pygments_lexer": "ipython3",
   "version": "3.8.8"
  }
 },
 "nbformat": 4,
 "nbformat_minor": 2
}
