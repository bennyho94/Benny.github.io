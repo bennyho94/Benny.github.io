{
 "cells": [
  {
   "cell_type": "markdown",
   "metadata": {},
   "source": [
    "# Opdracht classificatie - Naive Bayes & NLP\n",
    "\n",
    "Sinds enkele jaren schieten de Natural Language Processing toepassingen als paddenstoelen uit de grond. Eén van de belangrijkste redenen daarvoor is de steeds groter wordende beschikbaarheid van tekstuele data aangeleverd door bijvoorbeeld social media. \n",
    "\n",
    "In deze opdracht zal NLP toegepast worden in het kader van sentiment analysis.\n",
    "De bedoeling van sentiment analysis is om uit een tekstueel bericht zoals een email, sms, twitter bericht, Trip Advisor review het sentiment te voorspellen.\n",
    "Bedrijven weten bijvoorbeeld graag wat het sentiment is in de berichten die online over hen verschijnen.\n",
    "\n",
    "\n",
    "De opdracht bestaat uit vier deelopdrachten.\n",
    "- De eerste deelopdracht gaat rond het uitvoeren van pure sentiment analysis van tekstberichten.\n",
    "- Bij de tweede deelopdracht is het de bedoeling om op basis van een review die een klant over een gekocht product heeft geschreven de rating te voorspellen die de klant aan het gekochte product toekent. \n",
    "- De derde deelopdracht gaat over het opsporen van cyber trolls aan de hand van de berichten die ze op het internet plaatsen.\n",
    "- De vierde deelopdracht bestaat uit het detecteren van sarcasme in tekstberichten \n",
    "\n",
    "Telkens wordt het bag-of-words model gebruikt om tekst voor te stellen en vervolgens worden verschillende classifiers getraind om het sentiment/rating te voorspellen.\n",
    "\n",
    "Het bag-of-words model beschrijft het voorkomen van woorden binnen een document en doet dit op bais van een vocabulair van gekende woorden en meet de aanwezigheid van deze gekende woorden.\n",
    "De grote beperking van het bag-of-words model is dat het enkel rekening houdt met welke woorden in een bericht voorkomen en niet met de volgorde ervan. Daardoor is het bag-of-words model heel beperkt in het capteren van de context waarin woorden in een bericht voorkomen .\n",
    "Tijdens de module deep learning zullen we afstappen van het bag-of-words model en gebruik maken van word embeddings in combinatie met LSTM neurale netwerken. Op deze manier kunnen we modellen trainen die wel rekening houden met de context en woordvolgordes.\n"
   ]
  },
  {
   "cell_type": "code",
   "execution_count": 11,
   "metadata": {},
   "outputs": [],
   "source": [
    "%matplotlib inline\n",
    "import numpy as np\n",
    "import pandas as pd\n",
    "import matplotlib.pyplot as plt\n",
    "from sklearn.model_selection import train_test_split\n",
    "from sklearn.metrics import classification_report\n",
    "from sklearn.metrics import confusion_matrix\n",
    "from sklearn.metrics import accuracy_score\n",
    "\n",
    "from sklearn.utils import shuffle\n",
    "\n",
    "from sklearn.linear_model import LogisticRegression\n",
    "from sklearn import svm\n",
    "from sklearn.naive_bayes import MultinomialNB\n",
    "from sklearn.naive_bayes import GaussianNB\n",
    "\n",
    "import nltk\n",
    "from nltk.corpus import stopwords\n",
    "import re #regular expressions\n",
    "from bs4 import BeautifulSoup\n",
    "from nltk.stem.snowball import SnowballStemmer\n",
    "from sklearn.feature_extraction.text import CountVectorizer\n",
    "from sklearn.feature_extraction.text import TfidfTransformer\n",
    "\n",
    "import seaborn as sns"
   ]
  },
  {
   "cell_type": "markdown",
   "metadata": {},
   "source": [
    "## Deel 1 - Sentiment analysis \n",
    "\n",
    "Bij deze deelopdracht is het de bedoeling om het sentiment van tekstberichten te classificeren in negatief of positief.\n",
    "De training set en de test set zijn te vinden in de bestanden *sentiment_train.csv* en *sentiment_test.csv*.\n",
    "\n",
    "De stappen die doorlopen dienen te worden zijn:\n",
    "\n",
    "1. Vooranalyse van de data.\n",
    "2. Preprocessing van de tekst.\n",
    "3. Omzetten naar bag-of-words.\n",
    "4. Trainen van de classifiers.\n",
    "5. Testen van de getrainde classifiers + uitvoeren van hyperparameter tuning."
   ]
  },
  {
   "cell_type": "code",
   "execution_count": 4,
   "metadata": {},
   "outputs": [
    {
     "name": "stdout",
     "output_type": "stream",
     "text": [
      "(5918,)\n",
      "(5918,)\n"
     ]
    },
    {
     "data": {
      "text/html": [
       "<div>\n",
       "<style scoped>\n",
       "    .dataframe tbody tr th:only-of-type {\n",
       "        vertical-align: middle;\n",
       "    }\n",
       "\n",
       "    .dataframe tbody tr th {\n",
       "        vertical-align: top;\n",
       "    }\n",
       "\n",
       "    .dataframe thead th {\n",
       "        text-align: right;\n",
       "    }\n",
       "</style>\n",
       "<table border=\"1\" class=\"dataframe\">\n",
       "  <thead>\n",
       "    <tr style=\"text-align: right;\">\n",
       "      <th></th>\n",
       "      <th>sentiment</th>\n",
       "      <th>text</th>\n",
       "    </tr>\n",
       "  </thead>\n",
       "  <tbody>\n",
       "    <tr>\n",
       "      <th>0</th>\n",
       "      <td>1</td>\n",
       "      <td>The Da Vinci Code book is just awesome.</td>\n",
       "    </tr>\n",
       "    <tr>\n",
       "      <th>1</th>\n",
       "      <td>0</td>\n",
       "      <td>Oh, and Brokeback Mountain was a terrible movie.</td>\n",
       "    </tr>\n",
       "    <tr>\n",
       "      <th>2</th>\n",
       "      <td>1</td>\n",
       "      <td>He's like,'YEAH I GOT ACNE AND I LOVE BROKEBAC...</td>\n",
       "    </tr>\n",
       "    <tr>\n",
       "      <th>3</th>\n",
       "      <td>1</td>\n",
       "      <td>1st and 2nd Harry Potter movies are clearly th...</td>\n",
       "    </tr>\n",
       "    <tr>\n",
       "      <th>4</th>\n",
       "      <td>0</td>\n",
       "      <td>Mission Impossible 3 was quite boring.</td>\n",
       "    </tr>\n",
       "  </tbody>\n",
       "</table>\n",
       "</div>"
      ],
      "text/plain": [
       "   sentiment                                               text\n",
       "0          1            The Da Vinci Code book is just awesome.\n",
       "1          0   Oh, and Brokeback Mountain was a terrible movie.\n",
       "2          1  He's like,'YEAH I GOT ACNE AND I LOVE BROKEBAC...\n",
       "3          1  1st and 2nd Harry Potter movies are clearly th...\n",
       "4          0             Mission Impossible 3 was quite boring."
      ]
     },
     "execution_count": 4,
     "metadata": {},
     "output_type": "execute_result"
    }
   ],
   "source": [
    "# Importeren van de datasets\n",
    "\n",
    "dataset_train = pd.read_csv('sentiment_train.csv')\n",
    "dataset_test = pd.read_csv('sentiment_test.csv')\n",
    "\n",
    "# Opsplitsen in features en targets\n",
    "X_train = dataset_train['text'].values\n",
    "y_train = dataset_train['sentiment'].values\n",
    "\n",
    "X_test = dataset_test['text'].values\n",
    "y_test = dataset_test['sentiment'].values\n",
    "\n",
    "print(X_train.shape)\n",
    "print(y_train.shape)\n",
    "\n",
    "dataset_train.head()"
   ]
  },
  {
   "cell_type": "markdown",
   "metadata": {},
   "source": [
    "### 1. Vooranalyse van de data\n",
    "\n",
    "- Onderzoek of er ontbrekende waarden in de datasets voorkomen.\n",
    "- Is de dataset gebalanceerd?\n",
    "- Onderzoek of er een correlatie te vinden is tussen de lengte van een bericht enerzijds en het sentiment anderzijds. Dit mag grafisch (via bijvoorbeeld een boxplot) of via correlatiecoëfficiënten. "
   ]
  },
  {
   "cell_type": "code",
   "execution_count": 445,
   "metadata": {},
   "outputs": [
    {
     "name": "stdout",
     "output_type": "stream",
     "text": [
      "sentiment         0\n",
      "text              0\n",
      "Message Length    0\n",
      "dtype: int64\n",
      "No missing values in training set.\n",
      "sentiment    0\n",
      "text         0\n",
      "dtype: int64\n",
      "No missing values in test set.\n"
     ]
    }
   ],
   "source": [
    "# Vooranalyse van de data\n",
    "# onderzoek of er ontbrekende waarden in de datasets voorkomen\n",
    "print(dataset_train.isnull().sum())\n",
    "print('No missing values in training set.')\n",
    "# test\n",
    "print(dataset_test.isnull().sum())\n",
    "print('No missing values in test set.')"
   ]
  },
  {
   "cell_type": "code",
   "execution_count": 6,
   "metadata": {},
   "outputs": [
    {
     "data": {
      "text/plain": [
       "1    3383\n",
       "0    2535\n",
       "Name: sentiment, dtype: int64"
      ]
     },
     "execution_count": 6,
     "metadata": {},
     "output_type": "execute_result"
    },
    {
     "data": {
      "image/png": "[encoded data removed]",
      "text/plain": [
       "<Figure size 432x288 with 1 Axes>"
      ]
     },
     "metadata": {
      "needs_background": "light"
     },
     "output_type": "display_data"
    }
   ],
   "source": [
    "# gebalanceerdheid controleren\n",
    "sns.countplot(x='sentiment',data=dataset_train)\n",
    "\n",
    "dataset_train['sentiment'].value_counts()"
   ]
  },
  {
   "cell_type": "markdown",
   "metadata": {},
   "source": [
    "Not perfectly balanced. There are approximately 850 samples more in the positive class than in the negative class. The classifier has a preference for the class with sentiment (class 1)."
   ]
  },
  {
   "cell_type": "code",
   "execution_count": 446,
   "metadata": {},
   "outputs": [
    {
     "data": {
      "text/plain": [
       "<matplotlib.axes._subplots.AxesSubplot at 0x1c1c22f87c0>"
      ]
     },
     "execution_count": 446,
     "metadata": {},
     "output_type": "execute_result"
    },
    {
     "data": {
      "image/png": "[encoded data removed]",
      "text/plain": [
       "<Figure size 720x720 with 1 Axes>"
      ]
     },
     "metadata": {
      "needs_background": "light"
     },
     "output_type": "display_data"
    }
   ],
   "source": [
    "# Onderzoek of er een correlatie te vinden is tussen de lengte van een bericht enerzijds en het sentiment anderzijds. Dit mag grafisch (via bijvoorbeeld een boxplot) of via correlatiecoëfficiënten.\n",
    "\n",
    "dataset_train['Message Length']=dataset_train['text'].apply(len)\n",
    "\n",
    "plt.figure(figsize=(10,10))\n",
    "sns.boxplot(x='sentiment', y='Message Length', data=dataset_train)"
   ]
  },
  {
   "cell_type": "code",
   "execution_count": 8,
   "metadata": {},
   "outputs": [
    {
     "data": {
      "text/html": [
       "<div>\n",
       "<style scoped>\n",
       "    .dataframe tbody tr th:only-of-type {\n",
       "        vertical-align: middle;\n",
       "    }\n",
       "\n",
       "    .dataframe tbody tr th {\n",
       "        vertical-align: top;\n",
       "    }\n",
       "\n",
       "    .dataframe thead th {\n",
       "        text-align: right;\n",
       "    }\n",
       "</style>\n",
       "<table border=\"1\" class=\"dataframe\">\n",
       "  <thead>\n",
       "    <tr style=\"text-align: right;\">\n",
       "      <th></th>\n",
       "      <th>sentiment</th>\n",
       "      <th>Message Length</th>\n",
       "    </tr>\n",
       "  </thead>\n",
       "  <tbody>\n",
       "    <tr>\n",
       "      <th>sentiment</th>\n",
       "      <td>1.000000</td>\n",
       "      <td>-0.046637</td>\n",
       "    </tr>\n",
       "    <tr>\n",
       "      <th>Message Length</th>\n",
       "      <td>-0.046637</td>\n",
       "      <td>1.000000</td>\n",
       "    </tr>\n",
       "  </tbody>\n",
       "</table>\n",
       "</div>"
      ],
      "text/plain": [
       "                sentiment  Message Length\n",
       "sentiment        1.000000       -0.046637\n",
       "Message Length  -0.046637        1.000000"
      ]
     },
     "execution_count": 8,
     "metadata": {},
     "output_type": "execute_result"
    }
   ],
   "source": [
    "dataset_train.corr()"
   ]
  },
  {
   "cell_type": "markdown",
   "metadata": {},
   "source": [
    "Correlation coefficient of -0.04 indicates that the relationship is negative and has very little, almost no correlation. This means that the sentiment and the message length has no correlation."
   ]
  },
  {
   "cell_type": "markdown",
   "metadata": {},
   "source": [
    "### 2. Preprocessing van de tekst\n",
    "\n",
    "- Kuis de teksten op: verwijder stopwoorden en niet-letters, zet alles om naar lowercase, ... \n",
    "- Pas stemming toe."
   ]
  },
  {
   "cell_type": "code",
   "execution_count": 7,
   "metadata": {},
   "outputs": [],
   "source": [
    "# Preprocessing van de tekst\n",
    "\n",
    "def text_preprocessing(text, language, minWordSize):\n",
    "    \n",
    "    # remove html\n",
    "    text_no_html = BeautifulSoup(str(text),\"html.parser\" ).get_text()\n",
    "    \n",
    "    # remove non-letters\n",
    "    text_alpha_chars = re.sub(\"[^a-zA-Z']\", \" \", str(text_no_html)) \n",
    "        \n",
    "    # convert to lower-case\n",
    "    text_lower = text_alpha_chars.lower()\n",
    "    \n",
    "    # remove stop words\n",
    "    stops = set(stopwords.words(language)) \n",
    "    text_no_stop_words = ' '\n",
    "    \n",
    "    for w in text_lower.split():\n",
    "        if w not in stops:  \n",
    "            text_no_stop_words = text_no_stop_words + w + ' '\n",
    "      \n",
    "       # do stemming\n",
    "    text_stemmer = ' '\n",
    "    stemmer = SnowballStemmer(language)\n",
    "    for w in text_no_stop_words.split():\n",
    "        text_stemmer = text_stemmer + stemmer.stem(w) + ' '\n",
    "         \n",
    "    # remove short words\n",
    "    text_no_short_words = ' '\n",
    "    for w in text_stemmer.split(): \n",
    "        if len(w) >=minWordSize:\n",
    "            text_no_short_words = text_no_short_words + w + ' '\n",
    " \n",
    "\n",
    "    return text_no_short_words"
   ]
  },
  {
   "cell_type": "code",
   "execution_count": 8,
   "metadata": {},
   "outputs": [],
   "source": [
    "# Convert training and test set to bag of words\n",
    "language = 'english'\n",
    "minWordLength = 2\n",
    "\n",
    "for i in range(X_train.size):\n",
    "    X_train[i] = text_preprocessing(X_train[i], language, minWordLength)\n",
    "    \n",
    "    \n",
    "for i in range(X_test.size):\n",
    "    X_test[i] = text_preprocessing(X_test[i], language, minWordLength)"
   ]
  },
  {
   "cell_type": "markdown",
   "metadata": {},
   "source": [
    "### 3. Omzetten naar bag-of-words\n",
    "\n",
    "Maak gebruik van de CountVectorizer en TfidfTransformer om een bag-of-words model te creëren. \n",
    "\n",
    "Meer info: \n",
    "\n",
    "https://scikit-learn.org/stable/modules/generated/sklearn.feature_extraction.text.CountVectorizer.html \n",
    "\n",
    "https://scikit-learn.org/stable/modules/generated/sklearn.feature_extraction.text.TfidfTransformer.html#sklearn.feature_extraction.text.TfidfTransformer \n",
    "\n",
    "https://scikit-learn.org/stable/modules/generated/sklearn.feature_extraction.text.TfidfVectorizer.html#sklearn.feature_extraction.text.TfidfVectorizer\n",
    "\n"
   ]
  },
  {
   "cell_type": "code",
   "execution_count": 9,
   "metadata": {},
   "outputs": [
    {
     "name": "stdout",
     "output_type": "stream",
     "text": [
      "  (0, 88)\t1\n",
      "  (0, 149)\t1\n",
      "  (0, 247)\t1\n",
      "  (0, 314)\t1\n",
      "  (0, 1502)\t1\n",
      "  (1, 166)\t1\n",
      "  (1, 939)\t1\n",
      "  (1, 942)\t1\n",
      "  (1, 987)\t1\n",
      "  (1, 1389)\t1\n",
      "  (2, 12)\t1\n",
      "  (2, 166)\t1\n",
      "  (2, 596)\t1\n",
      "  (2, 637)\t1\n",
      "  (2, 834)\t1\n",
      "  (2, 860)\t1\n",
      "  (2, 939)\t1\n",
      "  (2, 1576)\t1\n",
      "  (3, 120)\t1\n",
      "  (3, 234)\t1\n",
      "  (3, 554)\t1\n",
      "  (3, 631)\t1\n",
      "  (3, 942)\t1\n",
      "  (3, 960)\t1\n",
      "  (3, 1080)\t1\n",
      "  :\t:\n",
      "  (5914, 787)\t1\n",
      "  (5914, 834)\t1\n",
      "  (5914, 923)\t1\n",
      "  (5914, 927)\t1\n",
      "  (5914, 1370)\t1\n",
      "  (5915, 166)\t1\n",
      "  (5915, 397)\t1\n",
      "  (5915, 860)\t1\n",
      "  (5915, 939)\t1\n",
      "  (5916, 247)\t1\n",
      "  (5916, 314)\t1\n",
      "  (5916, 798)\t1\n",
      "  (5916, 860)\t1\n",
      "  (5916, 948)\t1\n",
      "  (5916, 1035)\t1\n",
      "  (5916, 1502)\t1\n",
      "  (5916, 1560)\t1\n",
      "  (5917, 43)\t1\n",
      "  (5917, 298)\t1\n",
      "  (5917, 609)\t1\n",
      "  (5917, 631)\t1\n",
      "  (5917, 634)\t1\n",
      "  (5917, 798)\t1\n",
      "  (5917, 1080)\t1\n",
      "  (5917, 1513)\t1\n"
     ]
    }
   ],
   "source": [
    "# Omzetten naar bag-of-words\n",
    "\n",
    "# Make sparse features vectors \n",
    "\n",
    "# create instance \n",
    "count_vect = CountVectorizer()\n",
    "\n",
    "# train the object on the training set\n",
    "X_train_bag_of_words = count_vect.fit(X_train)\n",
    "\n",
    "# apply  the function on train\n",
    "X_train_bag_of_words = count_vect.transform(X_train)\n",
    "# apply  the function on test\n",
    "X_test_bag_of_words = count_vect.transform(X_test)\n",
    "\n",
    "print(X_train_bag_of_words)\n",
    "#print(X_test_bag_of_words)\n",
    "\n",
    "tfidf_transformer = TfidfTransformer()\n",
    "tf_transformer = TfidfTransformer(use_idf=True).fit(X_train_bag_of_words)\n",
    "X_train_tf = tf_transformer.transform(X_train_bag_of_words)\n",
    "X_test_tf = tf_transformer.transform(X_test_bag_of_words)"
   ]
  },
  {
   "cell_type": "markdown",
   "metadata": {},
   "source": [
    "### 4. Trainen van de classifiers\n",
    "\n",
    "Train drie verschillende classifiers op de bag-of-words data: naive bayes classifier, logistic regression classifier en een Support Vector Machine classifier.\n",
    "\n"
   ]
  },
  {
   "cell_type": "code",
   "execution_count": 10,
   "metadata": {},
   "outputs": [
    {
     "data": {
      "text/plain": [
       "MultinomialNB(alpha=1)"
      ]
     },
     "execution_count": 10,
     "metadata": {},
     "output_type": "execute_result"
    }
   ],
   "source": [
    "# Train a Naive bayes classifier\n",
    "\n",
    "NBclassifier = MultinomialNB(alpha=1)\n",
    "\n",
    "NBclassifier.fit(X_train_tf, y_train)\n",
    "\n"
   ]
  },
  {
   "cell_type": "code",
   "execution_count": 11,
   "metadata": {},
   "outputs": [
    {
     "name": "stdout",
     "output_type": "stream",
     "text": [
      "              precision    recall  f1-score   support\n",
      "\n",
      "           0       0.99      0.96      0.97       440\n",
      "           1       0.97      0.99      0.98       560\n",
      "\n",
      "    accuracy                           0.98      1000\n",
      "   macro avg       0.98      0.98      0.98      1000\n",
      "weighted avg       0.98      0.98      0.98      1000\n",
      "\n",
      "[[422  18]\n",
      " [  5 555]]\n",
      "97.7\n"
     ]
    }
   ],
   "source": [
    "# test Naive Bayes classifier\n",
    "\n",
    "y_pred = NBclassifier.predict(X_test_tf)\n",
    "print(classification_report(y_test, y_pred))\n",
    "\n",
    "cf = confusion_matrix(y_test, y_pred)\n",
    "print(cf)\n",
    "print(accuracy_score(y_test, y_pred) * 100)"
   ]
  },
  {
   "cell_type": "code",
   "execution_count": 12,
   "metadata": {},
   "outputs": [
    {
     "data": {
      "text/plain": [
       "LogisticRegression(C=10)"
      ]
     },
     "execution_count": 12,
     "metadata": {},
     "output_type": "execute_result"
    }
   ],
   "source": [
    "# train a logistic regression classifier\n",
    "lregclassifier = LogisticRegression(C=10)\n",
    "\n",
    "lregclassifier.fit(X_train_tf, y_train)"
   ]
  },
  {
   "cell_type": "code",
   "execution_count": 13,
   "metadata": {},
   "outputs": [
    {
     "name": "stdout",
     "output_type": "stream",
     "text": [
      "              precision    recall  f1-score   support\n",
      "\n",
      "           0       1.00      0.99      0.99       440\n",
      "           1       0.99      1.00      0.99       560\n",
      "\n",
      "    accuracy                           0.99      1000\n",
      "   macro avg       0.99      0.99      0.99      1000\n",
      "weighted avg       0.99      0.99      0.99      1000\n",
      "\n",
      "[[434   6]\n",
      " [  1 559]]\n",
      "99.3\n"
     ]
    }
   ],
   "source": [
    "# test logistic classifier\n",
    "\n",
    "y_pred = lregclassifier.predict(X_test_tf)\n",
    "print(classification_report(y_test, y_pred))\n",
    "\n",
    "cf = confusion_matrix(y_test, y_pred)\n",
    "print(cf)\n",
    "print(accuracy_score(y_test, y_pred) * 100) "
   ]
  },
  {
   "cell_type": "code",
   "execution_count": 14,
   "metadata": {},
   "outputs": [
    {
     "data": {
      "text/plain": [
       "SVC(C=0.1, kernel='linear')"
      ]
     },
     "execution_count": 14,
     "metadata": {},
     "output_type": "execute_result"
    }
   ],
   "source": [
    "# train a SVM\n",
    "SVMlinear = svm.SVC(kernel='linear',C=0.1)\n",
    "SVMlinear.fit(X_train_tf, y_train)"
   ]
  },
  {
   "cell_type": "code",
   "execution_count": 15,
   "metadata": {},
   "outputs": [
    {
     "name": "stdout",
     "output_type": "stream",
     "text": [
      "              precision    recall  f1-score   support\n",
      "\n",
      "           0       1.00      0.98      0.99       440\n",
      "           1       0.99      1.00      0.99       560\n",
      "\n",
      "    accuracy                           0.99      1000\n",
      "   macro avg       0.99      0.99      0.99      1000\n",
      "weighted avg       0.99      0.99      0.99      1000\n",
      "\n",
      "[[432   8]\n",
      " [  0 560]]\n",
      "99.2\n"
     ]
    }
   ],
   "source": [
    "# test SVM\n",
    "y_pred = SVMlinear.predict(X_test_tf)\n",
    "print(classification_report(y_test, y_pred))\n",
    "\n",
    "cf = confusion_matrix(y_test, y_pred)\n",
    "print(cf)\n",
    "print(accuracy_score(y_test, y_pred) * 100) \n",
    "\n"
   ]
  },
  {
   "cell_type": "markdown",
   "metadata": {},
   "source": [
    "Logistic regression has the highest accuracy."
   ]
  },
  {
   "cell_type": "markdown",
   "metadata": {},
   "source": [
    "### 5. Testen en hyperparameter tuning\n",
    "\n",
    "- Voer hyperparameter tuning uit via grid-search, random search of Bayes Optimization.\n",
    "- Welke classifier heeft jouw voorkeur? Beargumenteer in de context van accuracy, f1-score en berekeningstijd.\n",
    "- Stel dat er continu bijgeleerd moet worden op nieuwe data (dagelijks komen er nieuwe reviews/beoordelingen bij), welke methode geniet dan jouw voorkeur?\n",
    "- Welke classifier valt te verkiezen als je zo weinig mogelijk false positives wilt? (false positive = een tekst die verkeerdelijk als positief wordt geklassificeerd. "
   ]
  },
  {
   "cell_type": "code",
   "execution_count": 18,
   "metadata": {},
   "outputs": [
    {
     "name": "stdout",
     "output_type": "stream",
     "text": [
      "Fitting 20 folds for each of 5 candidates, totalling 100 fits\n"
     ]
    },
    {
     "name": "stderr",
     "output_type": "stream",
     "text": [
      "[Parallel(n_jobs=-1)]: Using backend LokyBackend with 4 concurrent workers.\n",
      "[Parallel(n_jobs=-1)]: Done  12 tasks      | elapsed:    0.0s\n"
     ]
    },
    {
     "name": "stdout",
     "output_type": "stream",
     "text": [
      "Best accuracy :  0.9827639715987173\n",
      "Best parameters : {'alpha': 1}\n",
      "              precision    recall  f1-score   support\n",
      "\n",
      "           0       0.99      0.96      0.97       440\n",
      "           1       0.97      0.99      0.98       560\n",
      "\n",
      "    accuracy                           0.98      1000\n",
      "   macro avg       0.98      0.98      0.98      1000\n",
      "weighted avg       0.98      0.98      0.98      1000\n",
      "\n",
      "[[422  18]\n",
      " [  5 555]]\n",
      "97.7\n"
     ]
    },
    {
     "name": "stderr",
     "output_type": "stream",
     "text": [
      "[Parallel(n_jobs=-1)]: Done 100 out of 100 | elapsed:    0.2s finished\n"
     ]
    }
   ],
   "source": [
    "# hyperparameter tuning Naive Bayes - Grid Search\n",
    "\n",
    "from sklearn.model_selection import GridSearchCV\n",
    "\n",
    "\n",
    "model = MultinomialNB()\n",
    "paramaters = [\n",
    "             {'alpha' : [0.001, 0.01, 0.1, 1, 10]}                                       \n",
    "             ]\n",
    "\n",
    "grid_search = GridSearchCV(estimator = model, \n",
    "                           param_grid = paramaters,\n",
    "                           scoring = 'accuracy',\n",
    "                           cv = 20,\n",
    "                           n_jobs = -1,\n",
    "                           verbose=5)\n",
    "grid_search = grid_search.fit(X_train_tf, y_train)\n",
    "\n",
    "best_accuracy = grid_search.best_score_ \n",
    "best_parameters = grid_search.best_params_  \n",
    "\n",
    "print('Best accuracy : ', grid_search.best_score_)\n",
    "print('Best parameters :', grid_search.best_params_  )\n",
    "\n",
    "y_pred = grid_search.predict(X_test_tf)\n",
    "print(classification_report(y_test, y_pred))\n",
    "\n",
    "cf = confusion_matrix(y_test, y_pred)\n",
    "print(cf)\n",
    "print(accuracy_score(y_test, y_pred) * 100) \n"
   ]
  },
  {
   "cell_type": "code",
   "execution_count": 26,
   "metadata": {},
   "outputs": [
    {
     "name": "stdout",
     "output_type": "stream",
     "text": [
      "Fitting 5 folds for each of 5 candidates, totalling 25 fits\n",
      "Best accuracy :  0.9832718866372712\n",
      "Best parameters : {'alpha': 1}\n",
      "              precision    recall  f1-score   support\n",
      "\n",
      "           0       0.99      0.96      0.97       440\n",
      "           1       0.97      0.99      0.98       560\n",
      "\n",
      "    accuracy                           0.98      1000\n",
      "   macro avg       0.98      0.98      0.98      1000\n",
      "weighted avg       0.98      0.98      0.98      1000\n",
      "\n",
      "[[422  18]\n",
      " [  5 555]]\n",
      "97.7\n"
     ]
    },
    {
     "name": "stderr",
     "output_type": "stream",
     "text": [
      "C:\\Users\\Dominic Ho\\anaconda3\\lib\\site-packages\\sklearn\\model_selection\\_search.py:278: UserWarning: The total space of parameters 5 is smaller than n_iter=20. Running 5 iterations. For exhaustive searches, use GridSearchCV.\n",
      "  warnings.warn(\n",
      "[Parallel(n_jobs=-1)]: Using backend LokyBackend with 4 concurrent workers.\n",
      "[Parallel(n_jobs=-1)]: Done  18 out of  25 | elapsed:    0.0s remaining:    0.0s\n",
      "[Parallel(n_jobs=-1)]: Done  25 out of  25 | elapsed:    0.0s finished\n"
     ]
    }
   ],
   "source": [
    "# hyperparameter tuning Naive Bayes - Random Search\n",
    "\n",
    "from sklearn.model_selection import RandomizedSearchCV\n",
    "# distributions\n",
    "from scipy.stats import randint \n",
    "from scipy.stats import uniform\n",
    "\n",
    "\n",
    "model = MultinomialNB()\n",
    "parameters = [\n",
    "             {'alpha' : [0.001, 0.01, 0.1, 1, 10]}                                       \n",
    "             ]\n",
    "\n",
    "# random search zoeken, bv 20 willekeurig random searches\n",
    "n_iter_search = 20\n",
    "\n",
    "# cv = cross validatie\n",
    "random_search = RandomizedSearchCV(model, param_distributions=parameters,cv=5,n_iter=n_iter_search,n_jobs = -1,verbose=1)\n",
    "\n",
    "random_search = random_search.fit(X_train_tf, y_train)\n",
    "\n",
    "best_accuracy = random_search.best_score_ \n",
    "best_parameters = random_search.best_params_  \n",
    "\n",
    "print('Best accuracy : ', random_search.best_score_)\n",
    "print('Best parameters :',random_search.best_params_  )\n",
    "\n",
    "y_pred = random_search.predict(X_test_tf)\n",
    "print(classification_report(y_test, y_pred))\n",
    "\n",
    "cf = confusion_matrix(y_test, y_pred)\n",
    "print(cf)\n",
    "print(accuracy_score(y_test, y_pred) * 100) "
   ]
  },
  {
   "cell_type": "code",
   "execution_count": 29,
   "metadata": {},
   "outputs": [
    {
     "name": "stdout",
     "output_type": "stream",
     "text": [
      "Fitting 20 folds for each of 50 candidates, totalling 1000 fits\n"
     ]
    },
    {
     "name": "stderr",
     "output_type": "stream",
     "text": [
      "[Parallel(n_jobs=-1)]: Using backend LokyBackend with 4 concurrent workers.\n",
      "[Parallel(n_jobs=-1)]: Done  12 tasks      | elapsed:    0.0s\n",
      "[Parallel(n_jobs=-1)]: Done 376 tasks      | elapsed:    4.6s\n",
      "[Parallel(n_jobs=-1)]: Done 970 tasks      | elapsed:   19.0s\n"
     ]
    },
    {
     "name": "stdout",
     "output_type": "stream",
     "text": [
      "Best accuracy :  0.9957758818140174\n",
      "Best parameters : {'C': 100, 'class_weight': 'balanced', 'solver': 'saga'}\n",
      "              precision    recall  f1-score   support\n",
      "\n",
      "           0       1.00      0.99      0.99       440\n",
      "           1       0.99      1.00      0.99       560\n",
      "\n",
      "    accuracy                           0.99      1000\n",
      "   macro avg       0.99      0.99      0.99      1000\n",
      "weighted avg       0.99      0.99      0.99      1000\n",
      "\n",
      "[[436   4]\n",
      " [  2 558]]\n",
      "99.4\n"
     ]
    },
    {
     "name": "stderr",
     "output_type": "stream",
     "text": [
      "[Parallel(n_jobs=-1)]: Done 1000 out of 1000 | elapsed:   20.7s finished\n",
      "C:\\Users\\Dominic Ho\\anaconda3\\lib\\site-packages\\sklearn\\linear_model\\_sag.py:329: ConvergenceWarning: The max_iter was reached which means the coef_ did not converge\n",
      "  warnings.warn(\"The max_iter was reached which means \"\n"
     ]
    }
   ],
   "source": [
    "# hyperparameter tuning Logistic Regression - Grid Search\n",
    "\n",
    "from sklearn.model_selection import GridSearchCV\n",
    "from sklearn.linear_model import LogisticRegression\n",
    "\n",
    "model = LogisticRegression()\n",
    "paramaters = [\n",
    "             {'C' : [0.01, 0.1, 1, 10, 100], \n",
    "              'solver': ['liblinear','lbfgs', 'newton-cg', 'sag','saga'], \n",
    "              'class_weight': [None, 'balanced']},                                       \n",
    "             ]\n",
    "\n",
    "\n",
    "grid_search = GridSearchCV(estimator = model, \n",
    "                           param_grid = paramaters,\n",
    "                           scoring = 'accuracy',\n",
    "                           cv = 20,\n",
    "                           n_jobs = -1,\n",
    "                           verbose=5)\n",
    "grid_search = grid_search.fit(X_train_tf, y_train)\n",
    "\n",
    "best_accuracy = grid_search.best_score_ \n",
    "best_parameters = grid_search.best_params_  \n",
    "\n",
    "print('Best accuracy : ', grid_search.best_score_)\n",
    "print('Best parameters :', grid_search.best_params_  )\n",
    "\n",
    "y_pred = grid_search.predict(X_test_tf)\n",
    "print(classification_report(y_test, y_pred))\n",
    "\n",
    "cf = confusion_matrix(y_test, y_pred)\n",
    "print(cf)\n",
    "print(accuracy_score(y_test, y_pred) * 100) \n"
   ]
  },
  {
   "cell_type": "code",
   "execution_count": 30,
   "metadata": {},
   "outputs": [
    {
     "name": "stdout",
     "output_type": "stream",
     "text": [
      "Fitting 20 folds for each of 20 candidates, totalling 400 fits\n"
     ]
    },
    {
     "name": "stderr",
     "output_type": "stream",
     "text": [
      "[Parallel(n_jobs=-1)]: Using backend LokyBackend with 4 concurrent workers.\n",
      "[Parallel(n_jobs=-1)]: Done  76 tasks      | elapsed:    2.4s\n"
     ]
    },
    {
     "name": "stdout",
     "output_type": "stream",
     "text": [
      "Best accuracy :  0.9952691250572606\n",
      "Best parameters : {'C': 7.911338786767389, 'class_weight': None, 'solver': 'liblinear'}\n",
      "              precision    recall  f1-score   support\n",
      "\n",
      "           0       1.00      0.99      0.99       440\n",
      "           1       0.99      1.00      0.99       560\n",
      "\n",
      "    accuracy                           0.99      1000\n",
      "   macro avg       0.99      0.99      0.99      1000\n",
      "weighted avg       0.99      0.99      0.99      1000\n",
      "\n",
      "[[434   6]\n",
      " [  1 559]]\n",
      "99.3\n"
     ]
    },
    {
     "name": "stderr",
     "output_type": "stream",
     "text": [
      "[Parallel(n_jobs=-1)]: Done 400 out of 400 | elapsed:    9.4s finished\n"
     ]
    }
   ],
   "source": [
    "# hyperparameter tuning Logistic Regression - Random Search\n",
    "from sklearn.model_selection import RandomizedSearchCV\n",
    "from scipy.stats import randint \n",
    "from scipy.stats import uniform\n",
    "from sklearn.linear_model import LogisticRegression\n",
    "\n",
    "model = LogisticRegression()\n",
    "\n",
    "parameters = [\n",
    "             {'C' : uniform(0.01, 20), \n",
    "              'solver': ['liblinear','lbfgs', 'newton-cg', 'sag','saga'],\n",
    "              'class_weight': [None, 'balanced']}\n",
    "             ]\n",
    "\n",
    "              \n",
    "\n",
    "n_iter_search = 20\n",
    "\n",
    "random_search = RandomizedSearchCV(model, param_distributions=parameters,cv=20,n_iter=n_iter_search,n_jobs = -1,verbose=1)\n",
    "\n",
    "random_search = random_search.fit(X_train_tf, y_train)\n",
    "\n",
    "best_accuracy = random_search.best_score_ \n",
    "best_parameters = random_search.best_params_  \n",
    "\n",
    "print('Best accuracy : ', random_search.best_score_)\n",
    "print('Best parameters :',random_search.best_params_  )\n",
    "\n",
    "y_pred = random_search.predict(X_test_tf)\n",
    "print(classification_report(y_test, y_pred))\n",
    "\n",
    "cf = confusion_matrix(y_test, y_pred)\n",
    "print(cf)\n",
    "print(accuracy_score(y_test, y_pred) * 100) "
   ]
  },
  {
   "cell_type": "code",
   "execution_count": 31,
   "metadata": {},
   "outputs": [
    {
     "name": "stdout",
     "output_type": "stream",
     "text": [
      "Fitting 20 folds for each of 960 candidates, totalling 19200 fits\n"
     ]
    },
    {
     "name": "stderr",
     "output_type": "stream",
     "text": [
      "[Parallel(n_jobs=-1)]: Using backend LokyBackend with 4 concurrent workers.\n",
      "[Parallel(n_jobs=-1)]: Done  10 tasks      | elapsed:   11.7s\n",
      "[Parallel(n_jobs=-1)]: Done  64 tasks      | elapsed:  1.1min\n",
      "[Parallel(n_jobs=-1)]: Done 154 tasks      | elapsed:  2.1min\n",
      "[Parallel(n_jobs=-1)]: Done 280 tasks      | elapsed:  2.5min\n",
      "[Parallel(n_jobs=-1)]: Done 442 tasks      | elapsed:  2.8min\n",
      "[Parallel(n_jobs=-1)]: Done 640 tasks      | elapsed:  3.2min\n",
      "[Parallel(n_jobs=-1)]: Done 874 tasks      | elapsed:  3.7min\n",
      "[Parallel(n_jobs=-1)]: Done 1144 tasks      | elapsed:  4.4min\n",
      "[Parallel(n_jobs=-1)]: Done 1450 tasks      | elapsed: 10.4min\n",
      "[Parallel(n_jobs=-1)]: Done 1792 tasks      | elapsed: 16.4min\n",
      "[Parallel(n_jobs=-1)]: Done 2170 tasks      | elapsed: 23.3min\n",
      "[Parallel(n_jobs=-1)]: Done 2584 tasks      | elapsed: 32.2min\n",
      "[Parallel(n_jobs=-1)]: Done 3034 tasks      | elapsed: 41.7min\n",
      "[Parallel(n_jobs=-1)]: Done 3520 tasks      | elapsed: 47.4min\n",
      "[Parallel(n_jobs=-1)]: Done 4042 tasks      | elapsed: 54.1min\n",
      "[Parallel(n_jobs=-1)]: Done 4600 tasks      | elapsed: 61.5min\n",
      "[Parallel(n_jobs=-1)]: Done 5194 tasks      | elapsed: 68.1min\n",
      "[Parallel(n_jobs=-1)]: Done 5824 tasks      | elapsed: 75.5min\n",
      "[Parallel(n_jobs=-1)]: Done 6490 tasks      | elapsed: 83.3min\n",
      "[Parallel(n_jobs=-1)]: Done 7192 tasks      | elapsed: 90.0min\n",
      "[Parallel(n_jobs=-1)]: Done 7930 tasks      | elapsed: 98.9min\n",
      "[Parallel(n_jobs=-1)]: Done 8704 tasks      | elapsed: 108.7min\n",
      "[Parallel(n_jobs=-1)]: Done 9514 tasks      | elapsed: 118.9min\n",
      "[Parallel(n_jobs=-1)]: Done 10360 tasks      | elapsed: 129.7min\n",
      "[Parallel(n_jobs=-1)]: Done 11242 tasks      | elapsed: 140.2min\n",
      "[Parallel(n_jobs=-1)]: Done 12160 tasks      | elapsed: 159.4min\n",
      "[Parallel(n_jobs=-1)]: Done 13114 tasks      | elapsed: 176.4min\n",
      "[Parallel(n_jobs=-1)]: Done 14104 tasks      | elapsed: 195.1min\n",
      "[Parallel(n_jobs=-1)]: Done 15130 tasks      | elapsed: 215.6min\n",
      "[Parallel(n_jobs=-1)]: Done 16192 tasks      | elapsed: 234.1min\n",
      "[Parallel(n_jobs=-1)]: Done 17290 tasks      | elapsed: 258.9min\n",
      "[Parallel(n_jobs=-1)]: Done 18424 tasks      | elapsed: 279.3min\n",
      "[Parallel(n_jobs=-1)]: Done 19200 out of 19200 | elapsed: 293.3min finished\n"
     ]
    },
    {
     "name": "stdout",
     "output_type": "stream",
     "text": [
      "Best accuracy :  0.9957758818140174\n",
      "Best parameters : {'C': 6.673333333333333, 'class_weight': None, 'degree': 2, 'gamma': 0.2, 'kernel': 'rbf'}\n",
      "              precision    recall  f1-score   support\n",
      "\n",
      "           0       1.00      0.99      0.99       440\n",
      "           1       0.99      1.00      0.99       560\n",
      "\n",
      "    accuracy                           0.99      1000\n",
      "   macro avg       0.99      0.99      0.99      1000\n",
      "weighted avg       0.99      0.99      0.99      1000\n",
      "\n",
      "[[436   4]\n",
      " [  2 558]]\n",
      "99.4\n"
     ]
    }
   ],
   "source": [
    "# hyperparameter tuning SVM - Grid Search\n",
    "from sklearn.model_selection import GridSearchCV\n",
    "from sklearn.svm import SVC\n",
    "\n",
    "model = SVC()\n",
    "\n",
    "paramaters = [ \n",
    "        {'kernel': ['linear'], \n",
    "         'C': np.linspace(0.01,20,10), \n",
    "         'degree': [2,3,4], \n",
    "         'class_weight': [None, 'balanced']},\n",
    "        {'kernel': ['rbf', 'poly', 'sigmoid'], \n",
    "         'C': np.linspace(0.01,20,10), \n",
    "         'gamma': [0.0001, 0.001, 0.01, 0.1, 0.2], \n",
    "         'degree': [2,3,4], \n",
    "         'class_weight': [None, 'balanced']},\n",
    "]\n",
    "\n",
    "grid_search = GridSearchCV(estimator = model, \n",
    "                           param_grid = paramaters,\n",
    "                           scoring = 'accuracy', \n",
    "                           cv = 20,\n",
    "                           n_jobs = -1,\n",
    "                           verbose =5)\n",
    "grid_search = grid_search.fit(X_train_tf, y_train)\n",
    "\n",
    "best_accuracy = grid_search.best_score_ \n",
    "best_parameters = grid_search.best_params_  \n",
    "print('Best accuracy : ', grid_search.best_score_)\n",
    "print('Best parameters :', grid_search.best_params_  )\n",
    "\n",
    "\n",
    "y_pred = grid_search.predict(X_test_tf)\n",
    "print(classification_report(y_test, y_pred))\n",
    "\n",
    "cf = confusion_matrix(y_test, y_pred)\n",
    "print(cf)\n",
    "print(accuracy_score(y_test, y_pred) * 100) "
   ]
  },
  {
   "cell_type": "code",
   "execution_count": 33,
   "metadata": {},
   "outputs": [
    {
     "name": "stdout",
     "output_type": "stream",
     "text": [
      "Fitting 5 folds for each of 20 candidates, totalling 100 fits\n"
     ]
    },
    {
     "name": "stderr",
     "output_type": "stream",
     "text": [
      "[Parallel(n_jobs=-1)]: Using backend LokyBackend with 4 concurrent workers.\n",
      "[Parallel(n_jobs=-1)]: Done  42 tasks      | elapsed:   19.9s\n",
      "[Parallel(n_jobs=-1)]: Done 100 out of 100 | elapsed:   55.9s finished\n"
     ]
    },
    {
     "name": "stdout",
     "output_type": "stream",
     "text": [
      "Best accuracy :  0.9962817847433231\n",
      "Best parameters : {'C': 10.723832850344332, 'class_weight': 'balanced', 'degree': 3, 'gamma': 0.0999159800285068, 'kernel': 'rbf'}\n",
      "              precision    recall  f1-score   support\n",
      "\n",
      "           0       1.00      0.99      0.99       440\n",
      "           1       0.99      1.00      0.99       560\n",
      "\n",
      "    accuracy                           0.99      1000\n",
      "   macro avg       0.99      0.99      0.99      1000\n",
      "weighted avg       0.99      0.99      0.99      1000\n",
      "\n",
      "[[436   4]\n",
      " [  2 558]]\n",
      "99.4\n"
     ]
    }
   ],
   "source": [
    "# hyperparameter tuning SVM - Random Search\n",
    "\n",
    "from sklearn.model_selection import RandomizedSearchCV\n",
    "from scipy.stats import randint \n",
    "from scipy.stats import uniform\n",
    "\n",
    "\n",
    "#svc trainen\n",
    "model = SVC()\n",
    "\n",
    "parameters = [\n",
    "    {'kernel': ['linear'], \n",
    "     'C': uniform(0.01, 20), \n",
    "     'degree': [2,3,4], \n",
    "     'class_weight': [None, 'balanced']\n",
    "    },\n",
    "    {'kernel': ['rbf', 'poly', 'sigmoid'], \n",
    "     'C': uniform(0.01, 20), \n",
    "     'gamma': uniform(0.001, 0.2), \n",
    "     'degree': [2,3,4], \n",
    "     'class_weight': [None, 'balanced']}\n",
    "]\n",
    " \n",
    "n_iter_search = 20\n",
    "\n",
    "random_search = RandomizedSearchCV(model, param_distributions=parameters,cv=5,n_iter=n_iter_search,n_jobs = -1,verbose=1)\n",
    "\n",
    "random_search = random_search.fit(X_train_tf, y_train)\n",
    "\n",
    "best_accuracy = random_search.best_score_ \n",
    "best_parameters = random_search.best_params_  \n",
    "\n",
    "print('Best accuracy : ', random_search.best_score_)\n",
    "print('Best parameters :',random_search.best_params_  )\n",
    "\n",
    "y_pred = random_search.predict(X_test_tf)\n",
    "print(classification_report(y_test, y_pred))\n",
    "\n",
    "cf = confusion_matrix(y_test, y_pred)\n",
    "print(cf)\n",
    "print(accuracy_score(y_test, y_pred) * 100) "
   ]
  },
  {
   "cell_type": "markdown",
   "metadata": {},
   "source": [
    "- Welke classifier heeft jouw voorkeur? Beargumenteer in de context van accuracy, f1-score en berekeningstijd."
   ]
  },
  {
   "cell_type": "markdown",
   "metadata": {},
   "source": [
    "In general if we compare the 3 classifiers, we can see that they all are doing well when it comes to the scores with a minimum of 97% which is ideal for the model. Therefore, the execution time is important for deciding the most suitable classifier. When it comes to execution time the order is as follows: Naive Bayes, Logistic Regression and SVM.Eventhough the accuracy rate of SVM is similar as Logistic Regression, the execution is the slowest. Therefore SVM is not an option. On the other hand, is Naive Bayes the fastest with an accuracy rate of 97.7%, slightly less than the logistic regression with 99.4%. This means that there are always upsides and downsides when it comes to choosing classifiers. At last, if I had to choose then the logistic regression classifier will be my preference for this case."
   ]
  },
  {
   "cell_type": "markdown",
   "metadata": {},
   "source": [
    "- Stel dat er continu bijgeleerd moet worden op nieuwe data (dagelijks komen er nieuwe reviews/beoordelingen bij), welke methode geniet dan jouw voorkeur?"
   ]
  },
  {
   "cell_type": "markdown",
   "metadata": {},
   "source": [
    "Naive bayes as this is the fastest for processing new data."
   ]
  },
  {
   "cell_type": "markdown",
   "metadata": {},
   "source": [
    "- Welke classifier valt te verkiezen als je zo weinig mogelijk false positives wilt? (false positive = een tekst die verkeerdelijk als positief wordt geklassificeerd. "
   ]
  },
  {
   "cell_type": "markdown",
   "metadata": {},
   "source": [
    "By evaluating the model we can see in the confusion matrix that the logistic regression (grid search) and SVM (grid search and random search) are the most suitable classifier when it comes to the least false positives. Both have 4 samples while Naive Bayes has 18."
   ]
  },
  {
   "cell_type": "markdown",
   "metadata": {},
   "source": [
    "## Deel 2 - Webshop women clothing\n",
    "\n",
    "Het bestand 'Womens_Clothing_Reviews.csv' bevat een collectie reviews over aangekochte kledij bij een bepaalde webwinkel. Deze dataset bestaat uit 23486 rijen met telkens 10 variabelen:\n",
    "\n",
    "- clothing ID: categorische variabele die verwijst naar het gereviewde product.\n",
    "- Age: de leeftijd van de reviewer.\n",
    "- Titel: titel van de review.\n",
    "- Review text: de review zelf.\n",
    "- Rating: Een score die door de reviewer aan het product werd toegekend. De slechtst mogelijke score is 1, de best is 5.\n",
    "- Recommended IND: binaire variabele die aanduidt of de klant het product aanbeveelt. 1 = aanbevolen, 0 = niet aanbevolen.\n",
    "- Positive feedback count: getal dat aangeeft hoeveel andere klanten deze review positief vonden.\n",
    "- Division name: categorische variabele van de afdeling waartoe het product behoort.\n",
    "- Department name: categorische variabele die het type product weergeeft.\n",
    "- Class name: categorische variabele die de subcategorie weergeeft.\n",
    "\n"
   ]
  },
  {
   "cell_type": "code",
   "execution_count": 56,
   "metadata": {},
   "outputs": [
    {
     "name": "stdout",
     "output_type": "stream",
     "text": [
      "(23486, 10)\n"
     ]
    },
    {
     "data": {
      "text/html": [
       "<div>\n",
       "<style scoped>\n",
       "    .dataframe tbody tr th:only-of-type {\n",
       "        vertical-align: middle;\n",
       "    }\n",
       "\n",
       "    .dataframe tbody tr th {\n",
       "        vertical-align: top;\n",
       "    }\n",
       "\n",
       "    .dataframe thead th {\n",
       "        text-align: right;\n",
       "    }\n",
       "</style>\n",
       "<table border=\"1\" class=\"dataframe\">\n",
       "  <thead>\n",
       "    <tr style=\"text-align: right;\">\n",
       "      <th></th>\n",
       "      <th>Clothing ID</th>\n",
       "      <th>Age</th>\n",
       "      <th>Title</th>\n",
       "      <th>Review Text</th>\n",
       "      <th>Rating</th>\n",
       "      <th>Recommended IND</th>\n",
       "      <th>Positive Feedback Count</th>\n",
       "      <th>Division Name</th>\n",
       "      <th>Department Name</th>\n",
       "      <th>Class Name</th>\n",
       "    </tr>\n",
       "  </thead>\n",
       "  <tbody>\n",
       "    <tr>\n",
       "      <th>0</th>\n",
       "      <td>767</td>\n",
       "      <td>33</td>\n",
       "      <td>NaN</td>\n",
       "      <td>Absolutely wonderful - silky and sexy and comf...</td>\n",
       "      <td>4</td>\n",
       "      <td>1</td>\n",
       "      <td>0</td>\n",
       "      <td>Initmates</td>\n",
       "      <td>Intimate</td>\n",
       "      <td>Intimates</td>\n",
       "    </tr>\n",
       "    <tr>\n",
       "      <th>1</th>\n",
       "      <td>1080</td>\n",
       "      <td>34</td>\n",
       "      <td>NaN</td>\n",
       "      <td>Love this dress!  it's sooo pretty.  i happene...</td>\n",
       "      <td>5</td>\n",
       "      <td>1</td>\n",
       "      <td>4</td>\n",
       "      <td>General</td>\n",
       "      <td>Dresses</td>\n",
       "      <td>Dresses</td>\n",
       "    </tr>\n",
       "    <tr>\n",
       "      <th>2</th>\n",
       "      <td>1077</td>\n",
       "      <td>60</td>\n",
       "      <td>Some major design flaws</td>\n",
       "      <td>I had such high hopes for this dress and reall...</td>\n",
       "      <td>3</td>\n",
       "      <td>0</td>\n",
       "      <td>0</td>\n",
       "      <td>General</td>\n",
       "      <td>Dresses</td>\n",
       "      <td>Dresses</td>\n",
       "    </tr>\n",
       "    <tr>\n",
       "      <th>3</th>\n",
       "      <td>1049</td>\n",
       "      <td>50</td>\n",
       "      <td>My favorite buy!</td>\n",
       "      <td>I love, love, love this jumpsuit. it's fun, fl...</td>\n",
       "      <td>5</td>\n",
       "      <td>1</td>\n",
       "      <td>0</td>\n",
       "      <td>General Petite</td>\n",
       "      <td>Bottoms</td>\n",
       "      <td>Pants</td>\n",
       "    </tr>\n",
       "    <tr>\n",
       "      <th>4</th>\n",
       "      <td>847</td>\n",
       "      <td>47</td>\n",
       "      <td>Flattering shirt</td>\n",
       "      <td>This shirt is very flattering to all due to th...</td>\n",
       "      <td>5</td>\n",
       "      <td>1</td>\n",
       "      <td>6</td>\n",
       "      <td>General</td>\n",
       "      <td>Tops</td>\n",
       "      <td>Blouses</td>\n",
       "    </tr>\n",
       "  </tbody>\n",
       "</table>\n",
       "</div>"
      ],
      "text/plain": [
       "   Clothing ID  Age                    Title  \\\n",
       "0          767   33                      NaN   \n",
       "1         1080   34                      NaN   \n",
       "2         1077   60  Some major design flaws   \n",
       "3         1049   50         My favorite buy!   \n",
       "4          847   47         Flattering shirt   \n",
       "\n",
       "                                         Review Text  Rating  Recommended IND  \\\n",
       "0  Absolutely wonderful - silky and sexy and comf...       4                1   \n",
       "1  Love this dress!  it's sooo pretty.  i happene...       5                1   \n",
       "2  I had such high hopes for this dress and reall...       3                0   \n",
       "3  I love, love, love this jumpsuit. it's fun, fl...       5                1   \n",
       "4  This shirt is very flattering to all due to th...       5                1   \n",
       "\n",
       "   Positive Feedback Count   Division Name Department Name Class Name  \n",
       "0                        0       Initmates        Intimate  Intimates  \n",
       "1                        4         General         Dresses    Dresses  \n",
       "2                        0         General         Dresses    Dresses  \n",
       "3                        0  General Petite         Bottoms      Pants  \n",
       "4                        6         General            Tops    Blouses  "
      ]
     },
     "execution_count": 56,
     "metadata": {},
     "output_type": "execute_result"
    }
   ],
   "source": [
    "# Inlezen van de dataset\n",
    "\n",
    "dataset = pd.read_csv('./Womens_Clothing_Reviews.csv')\n",
    "\n",
    "# verwijder kolom unnamed\n",
    "dataset.drop(['Unnamed: 0'], axis=1, inplace=True)\n",
    "\n",
    "print(dataset.shape)\n",
    "dataset.head()"
   ]
  },
  {
   "cell_type": "markdown",
   "metadata": {},
   "source": [
    "### 1. Vooranalyse van de data\n",
    "\n",
    "- Ga op zoek naar mogelijks ontbrekende waarden en verwijder de volledige rij via listwise deletion. Hoeveel reviews blijven nog over?\n",
    "- Welke leeftijdscategorie heeft het meest reviews gegeven (visualiseer via een histogram: https://matplotlib.org/api/_as_gen/matplotlib.pyplot.hist.html).\n",
    "\n",
    "- Stop alle reviews in een matrix X, de targets (= ratings) in een vector y.\n",
    "\n",
    "- Creëer een nieuwe vector ys (simplified y). positief sentiment = 1, neutraal sentiment = 0, negatief sentiment=-1. Bij een positief sentiment is de rating groter dan 3, bij een negatief sentiment kleiner dan 3 en tot slotte bij een neutraal sentiment gelijk aan 3.\n",
    "\n",
    "- In welke mate is de vector y gebalanceerd en in welke mate de vector ys? Visualiseer met een histogram.\n",
    "\n",
    "- Is er een verband tussen de lengte van een review en het sentiment?\n",
    "\n"
   ]
  },
  {
   "cell_type": "markdown",
   "metadata": {},
   "source": [
    "- Ga op zoek naar mogelijks ontbrekende waarden en verwijder de volledige rij via listwise deletion. Hoeveel reviews blijven nog over?"
   ]
  },
  {
   "cell_type": "code",
   "execution_count": 57,
   "metadata": {},
   "outputs": [
    {
     "name": "stdout",
     "output_type": "stream",
     "text": [
      "(23486, 10)\n",
      "(19662, 10)\n"
     ]
    }
   ],
   "source": [
    "# Vooranalyse van de data\n",
    "\n",
    "# total reviews\n",
    "print(dataset.shape)\n",
    "#Verwijderen van rijen met NaN waarden \n",
    "dataset.dropna(axis=0,inplace=True)\n",
    "print(dataset.shape)\n"
   ]
  },
  {
   "cell_type": "markdown",
   "metadata": {},
   "source": [
    "In total there are 23486 reviews. As you can see above we have deleted the rows with missing values and it has decreased to 19662. Therefore in total there are still 19662 review remaining."
   ]
  },
  {
   "cell_type": "markdown",
   "metadata": {},
   "source": [
    "- Welke leeftijdscategorie heeft het meest reviews gegeven (visualiseer via een histogram: https://matplotlib.org/api/_as_gen/matplotlib.pyplot.hist.html)."
   ]
  },
  {
   "cell_type": "code",
   "execution_count": 114,
   "metadata": {},
   "outputs": [
    {
     "data": {
      "text/plain": [
       "<matplotlib.axes._subplots.AxesSubplot at 0x23e40bf0be0>"
      ]
     },
     "execution_count": 114,
     "metadata": {},
     "output_type": "execute_result"
    },
    {
     "data": {
      "image/png": "[encoded data removed]",
      "text/plain": [
       "<Figure size 432x288 with 1 Axes>"
      ]
     },
     "metadata": {
      "needs_background": "light"
     },
     "output_type": "display_data"
    }
   ],
   "source": [
    "dataset['Age'].plot.hist(edgecolor='k')\n"
   ]
  },
  {
   "cell_type": "markdown",
   "metadata": {},
   "source": [
    "The age category between 34-41 has the most reviews."
   ]
  },
  {
   "cell_type": "markdown",
   "metadata": {},
   "source": [
    "- Stop alle reviews in een matrix X, de targets (= ratings) in een vector y."
   ]
  },
  {
   "cell_type": "code",
   "execution_count": 115,
   "metadata": {},
   "outputs": [
    {
     "name": "stdout",
     "output_type": "stream",
     "text": [
      "['I had such high hopes for this dress and really wanted it to work for me. i initially ordered the petite small (my usual size) but i found this to be outrageously small. so small in fact that i could not zip it up! i reordered it in petite medium, which was just ok. overall, the top half was comfortable and fit nicely, but the bottom half had a very tight under layer and several somewhat cheap (net) over layers. imo, a major design flaw was the net over layer sewn directly into the zipper - it c'\n",
      " \"I love, love, love this jumpsuit. it's fun, flirty, and fabulous! every time i wear it, i get nothing but great compliments!\"\n",
      " 'This shirt is very flattering to all due to the adjustable front tie. it is the perfect length to wear with leggings and it is sleeveless so it pairs well with any cardigan. love this shirt!!!'\n",
      " ...\n",
      " \"This fit well, but the top was very see through. this never would have worked for me. i'm glad i was able to try it on in the store and didn't order it online. with different fabric, it would have been great.\"\n",
      " \"I bought this dress for a wedding i have this summer, and it's so cute. unfortunately the fit isn't perfect. the medium fits my waist perfectly, but was way too long and too big in the bust and shoulders. if i wanted to spend the money, i could get it tailored, but i just felt like it might not be worth it. side note - this dress was delivered to me with a nordstrom tag on it and i found it much cheaper there after looking!\"\n",
      " 'This dress in a lovely platinum is feminine and fits perfectly, easy to wear and comfy, too! highly recommend!']\n",
      "[3 5 5 ... 3 3 5]\n",
      "(19662,)\n",
      "(19662,)\n"
     ]
    }
   ],
   "source": [
    "X = dataset['Review Text'].values\n",
    "y = dataset['Rating'].values\n",
    "\n",
    "print(X)\n",
    "print(y)\n",
    "\n",
    "print(X.shape)\n",
    "print(y.shape)"
   ]
  },
  {
   "cell_type": "markdown",
   "metadata": {},
   "source": [
    "- Creëer een nieuwe vector ys (simplified y). positief sentiment = 1, neutraal sentiment = 0, negatief sentiment=-1. Bij een positief sentiment is de rating groter dan 3, bij een negatief sentiment kleiner dan 3 en tot slotte bij een neutraal sentiment gelijk aan 3"
   ]
  },
  {
   "cell_type": "code",
   "execution_count": 116,
   "metadata": {},
   "outputs": [
    {
     "data": {
      "text/html": [
       "<div>\n",
       "<style scoped>\n",
       "    .dataframe tbody tr th:only-of-type {\n",
       "        vertical-align: middle;\n",
       "    }\n",
       "\n",
       "    .dataframe tbody tr th {\n",
       "        vertical-align: top;\n",
       "    }\n",
       "\n",
       "    .dataframe thead th {\n",
       "        text-align: right;\n",
       "    }\n",
       "</style>\n",
       "<table border=\"1\" class=\"dataframe\">\n",
       "  <thead>\n",
       "    <tr style=\"text-align: right;\">\n",
       "      <th></th>\n",
       "      <th>Clothing ID</th>\n",
       "      <th>Age</th>\n",
       "      <th>Title</th>\n",
       "      <th>Review Text</th>\n",
       "      <th>Rating</th>\n",
       "      <th>Recommended IND</th>\n",
       "      <th>Positive Feedback Count</th>\n",
       "      <th>Division Name</th>\n",
       "      <th>Department Name</th>\n",
       "      <th>Class Name</th>\n",
       "      <th>Sentiment</th>\n",
       "    </tr>\n",
       "  </thead>\n",
       "  <tbody>\n",
       "    <tr>\n",
       "      <th>2</th>\n",
       "      <td>1077</td>\n",
       "      <td>60</td>\n",
       "      <td>Some major design flaws</td>\n",
       "      <td>I had such high hopes for this dress and reall...</td>\n",
       "      <td>3</td>\n",
       "      <td>0</td>\n",
       "      <td>0</td>\n",
       "      <td>General</td>\n",
       "      <td>Dresses</td>\n",
       "      <td>Dresses</td>\n",
       "      <td>0</td>\n",
       "    </tr>\n",
       "    <tr>\n",
       "      <th>3</th>\n",
       "      <td>1049</td>\n",
       "      <td>50</td>\n",
       "      <td>My favorite buy!</td>\n",
       "      <td>I love, love, love this jumpsuit. it's fun, fl...</td>\n",
       "      <td>5</td>\n",
       "      <td>1</td>\n",
       "      <td>0</td>\n",
       "      <td>General Petite</td>\n",
       "      <td>Bottoms</td>\n",
       "      <td>Pants</td>\n",
       "      <td>1</td>\n",
       "    </tr>\n",
       "    <tr>\n",
       "      <th>4</th>\n",
       "      <td>847</td>\n",
       "      <td>47</td>\n",
       "      <td>Flattering shirt</td>\n",
       "      <td>This shirt is very flattering to all due to th...</td>\n",
       "      <td>5</td>\n",
       "      <td>1</td>\n",
       "      <td>6</td>\n",
       "      <td>General</td>\n",
       "      <td>Tops</td>\n",
       "      <td>Blouses</td>\n",
       "      <td>1</td>\n",
       "    </tr>\n",
       "    <tr>\n",
       "      <th>5</th>\n",
       "      <td>1080</td>\n",
       "      <td>49</td>\n",
       "      <td>Not for the very petite</td>\n",
       "      <td>I love tracy reese dresses, but this one is no...</td>\n",
       "      <td>2</td>\n",
       "      <td>0</td>\n",
       "      <td>4</td>\n",
       "      <td>General</td>\n",
       "      <td>Dresses</td>\n",
       "      <td>Dresses</td>\n",
       "      <td>-1</td>\n",
       "    </tr>\n",
       "    <tr>\n",
       "      <th>6</th>\n",
       "      <td>858</td>\n",
       "      <td>39</td>\n",
       "      <td>Cagrcoal shimmer fun</td>\n",
       "      <td>I aded this in my basket at hte last mintue to...</td>\n",
       "      <td>5</td>\n",
       "      <td>1</td>\n",
       "      <td>1</td>\n",
       "      <td>General Petite</td>\n",
       "      <td>Tops</td>\n",
       "      <td>Knits</td>\n",
       "      <td>1</td>\n",
       "    </tr>\n",
       "  </tbody>\n",
       "</table>\n",
       "</div>"
      ],
      "text/plain": [
       "   Clothing ID  Age                    Title  \\\n",
       "2         1077   60  Some major design flaws   \n",
       "3         1049   50         My favorite buy!   \n",
       "4          847   47         Flattering shirt   \n",
       "5         1080   49  Not for the very petite   \n",
       "6          858   39     Cagrcoal shimmer fun   \n",
       "\n",
       "                                         Review Text  Rating  Recommended IND  \\\n",
       "2  I had such high hopes for this dress and reall...       3                0   \n",
       "3  I love, love, love this jumpsuit. it's fun, fl...       5                1   \n",
       "4  This shirt is very flattering to all due to th...       5                1   \n",
       "5  I love tracy reese dresses, but this one is no...       2                0   \n",
       "6  I aded this in my basket at hte last mintue to...       5                1   \n",
       "\n",
       "   Positive Feedback Count   Division Name Department Name Class Name  \\\n",
       "2                        0         General         Dresses    Dresses   \n",
       "3                        0  General Petite         Bottoms      Pants   \n",
       "4                        6         General            Tops    Blouses   \n",
       "5                        4         General         Dresses    Dresses   \n",
       "6                        1  General Petite            Tops      Knits   \n",
       "\n",
       "   Sentiment  \n",
       "2          0  \n",
       "3          1  \n",
       "4          1  \n",
       "5         -1  \n",
       "6          1  "
      ]
     },
     "execution_count": 116,
     "metadata": {},
     "output_type": "execute_result"
    }
   ],
   "source": [
    "# create a list of our conditions\n",
    "\n",
    "conditions = [\n",
    "    (dataset['Rating'] > 3),\n",
    "    (dataset['Rating'] < 3),\n",
    "    (dataset['Rating'] == 3)\n",
    "]\n",
    "\n",
    "# create a list of the values we want to assign for each conditon\n",
    "values = [1, -1, 0]\n",
    "\n",
    "# create a new column and use np.select to assign to it using our lists as arguments\n",
    "dataset['Sentiment'] = np.select(conditions, values)\n",
    "\n",
    "# display updated DataFrame\n",
    "dataset.head()"
   ]
  },
  {
   "cell_type": "code",
   "execution_count": 117,
   "metadata": {},
   "outputs": [],
   "source": [
    "ys = dataset['Sentiment'].values"
   ]
  },
  {
   "cell_type": "markdown",
   "metadata": {},
   "source": [
    "- In welke mate is de vector y gebalanceerd en in welke mate de vector ys? Visualiseer met een histogram."
   ]
  },
  {
   "cell_type": "code",
   "execution_count": 63,
   "metadata": {},
   "outputs": [
    {
     "data": {
      "text/plain": [
       "(array([  691.,     0.,  1360.,     0.,     0.,  2464.,     0.,  4289.,\n",
       "            0., 10858.]),\n",
       " array([1. , 1.4, 1.8, 2.2, 2.6, 3. , 3.4, 3.8, 4.2, 4.6, 5. ]),\n",
       " <a list of 10 Patch objects>)"
      ]
     },
     "execution_count": 63,
     "metadata": {},
     "output_type": "execute_result"
    },
    {
     "data": {
      "image/png": "[encoded data removed]",
      "text/plain": [
       "<Figure size 432x288 with 1 Axes>"
      ]
     },
     "metadata": {
      "needs_background": "light"
     },
     "output_type": "display_data"
    }
   ],
   "source": [
    "plt.hist(y)"
   ]
  },
  {
   "cell_type": "code",
   "execution_count": 64,
   "metadata": {},
   "outputs": [
    {
     "data": {
      "text/plain": [
       "(array([ 2051.,     0.,     0.,     0.,     0.,  2464.,     0.,     0.,\n",
       "            0., 15147.]),\n",
       " array([-1. , -0.8, -0.6, -0.4, -0.2,  0. ,  0.2,  0.4,  0.6,  0.8,  1. ]),\n",
       " <a list of 10 Patch objects>)"
      ]
     },
     "execution_count": 64,
     "metadata": {},
     "output_type": "execute_result"
    },
    {
     "data": {
      "image/png": "[encoded data removed]",
      "text/plain": [
       "<Figure size 432x288 with 1 Axes>"
      ]
     },
     "metadata": {
      "needs_background": "light"
     },
     "output_type": "display_data"
    }
   ],
   "source": [
    "plt.hist(ys)"
   ]
  },
  {
   "cell_type": "code",
   "execution_count": 65,
   "metadata": {},
   "outputs": [
    {
     "data": {
      "text/plain": [
       "(array([ 2051.,     0.,     0.,     0.,     0.,  2464.,     0.,     0.,\n",
       "            0., 15147.]),\n",
       " array([-1. , -0.8, -0.6, -0.4, -0.2,  0. ,  0.2,  0.4,  0.6,  0.8,  1. ]),\n",
       " <a list of 10 Patch objects>)"
      ]
     },
     "execution_count": 65,
     "metadata": {},
     "output_type": "execute_result"
    },
    {
     "data": {
      "image/png": "[encoded data removed]",
      "text/plain": [
       "<Figure size 432x288 with 1 Axes>"
      ]
     },
     "metadata": {
      "needs_background": "light"
     },
     "output_type": "display_data"
    }
   ],
   "source": [
    "#plt.hist([y, ys])\n",
    "plt.hist(y, alpha=0.5)\n",
    "plt.hist(ys, alpha=0.5)"
   ]
  },
  {
   "cell_type": "markdown",
   "metadata": {},
   "source": [
    "As you can see from the histograms, both plots are not balanced. Moreover, the higher the rating, the higher the column is."
   ]
  },
  {
   "cell_type": "markdown",
   "metadata": {},
   "source": [
    "- Is er een verband tussen de lengte van een review en het sentiment?"
   ]
  },
  {
   "cell_type": "code",
   "execution_count": 119,
   "metadata": {},
   "outputs": [
    {
     "data": {
      "text/plain": [
       "<matplotlib.axes._subplots.AxesSubplot at 0x23e31c3ae80>"
      ]
     },
     "execution_count": 119,
     "metadata": {},
     "output_type": "execute_result"
    },
    {
     "data": {
      "image/png": "[encoded data removed]",
      "text/plain": [
       "<Figure size 720x720 with 1 Axes>"
      ]
     },
     "metadata": {
      "needs_background": "light"
     },
     "output_type": "display_data"
    }
   ],
   "source": [
    "dataset['Review Length']=dataset['Review Text'].apply(len)\n",
    "\n",
    "plt.figure(figsize=(10,10))\n",
    "sns.boxplot(x='Sentiment', y='Review Length', data=dataset)"
   ]
  },
  {
   "cell_type": "markdown",
   "metadata": {},
   "source": [
    "From the plot we can see that the rating 3 and 4 have a longer review"
   ]
  },
  {
   "cell_type": "code",
   "execution_count": 121,
   "metadata": {},
   "outputs": [
    {
     "data": {
      "text/html": [
       "<div>\n",
       "<style scoped>\n",
       "    .dataframe tbody tr th:only-of-type {\n",
       "        vertical-align: middle;\n",
       "    }\n",
       "\n",
       "    .dataframe tbody tr th {\n",
       "        vertical-align: top;\n",
       "    }\n",
       "\n",
       "    .dataframe thead th {\n",
       "        text-align: right;\n",
       "    }\n",
       "</style>\n",
       "<table border=\"1\" class=\"dataframe\">\n",
       "  <thead>\n",
       "    <tr style=\"text-align: right;\">\n",
       "      <th></th>\n",
       "      <th>Clothing ID</th>\n",
       "      <th>Age</th>\n",
       "      <th>Rating</th>\n",
       "      <th>Recommended IND</th>\n",
       "      <th>Positive Feedback Count</th>\n",
       "      <th>Sentiment</th>\n",
       "      <th>Review Length</th>\n",
       "    </tr>\n",
       "  </thead>\n",
       "  <tbody>\n",
       "    <tr>\n",
       "      <th>Clothing ID</th>\n",
       "      <td>1.000000</td>\n",
       "      <td>0.012547</td>\n",
       "      <td>-0.013529</td>\n",
       "      <td>-0.012949</td>\n",
       "      <td>0.041300</td>\n",
       "      <td>-0.011054</td>\n",
       "      <td>0.088266</td>\n",
       "    </tr>\n",
       "    <tr>\n",
       "      <th>Age</th>\n",
       "      <td>0.012547</td>\n",
       "      <td>1.000000</td>\n",
       "      <td>0.034910</td>\n",
       "      <td>0.035407</td>\n",
       "      <td>0.041167</td>\n",
       "      <td>0.028176</td>\n",
       "      <td>0.022189</td>\n",
       "    </tr>\n",
       "    <tr>\n",
       "      <th>Rating</th>\n",
       "      <td>-0.013529</td>\n",
       "      <td>0.034910</td>\n",
       "      <td>1.000000</td>\n",
       "      <td>0.793145</td>\n",
       "      <td>-0.056659</td>\n",
       "      <td>0.923051</td>\n",
       "      <td>-0.054845</td>\n",
       "    </tr>\n",
       "    <tr>\n",
       "      <th>Recommended IND</th>\n",
       "      <td>-0.012949</td>\n",
       "      <td>0.035407</td>\n",
       "      <td>0.793145</td>\n",
       "      <td>1.000000</td>\n",
       "      <td>-0.059452</td>\n",
       "      <td>0.839159</td>\n",
       "      <td>-0.027640</td>\n",
       "    </tr>\n",
       "    <tr>\n",
       "      <th>Positive Feedback Count</th>\n",
       "      <td>0.041300</td>\n",
       "      <td>0.041167</td>\n",
       "      <td>-0.056659</td>\n",
       "      <td>-0.059452</td>\n",
       "      <td>1.000000</td>\n",
       "      <td>-0.056920</td>\n",
       "      <td>0.192506</td>\n",
       "    </tr>\n",
       "    <tr>\n",
       "      <th>Sentiment</th>\n",
       "      <td>-0.011054</td>\n",
       "      <td>0.028176</td>\n",
       "      <td>0.923051</td>\n",
       "      <td>0.839159</td>\n",
       "      <td>-0.056920</td>\n",
       "      <td>1.000000</td>\n",
       "      <td>-0.034135</td>\n",
       "    </tr>\n",
       "    <tr>\n",
       "      <th>Review Length</th>\n",
       "      <td>0.088266</td>\n",
       "      <td>0.022189</td>\n",
       "      <td>-0.054845</td>\n",
       "      <td>-0.027640</td>\n",
       "      <td>0.192506</td>\n",
       "      <td>-0.034135</td>\n",
       "      <td>1.000000</td>\n",
       "    </tr>\n",
       "  </tbody>\n",
       "</table>\n",
       "</div>"
      ],
      "text/plain": [
       "                         Clothing ID       Age    Rating  Recommended IND  \\\n",
       "Clothing ID                 1.000000  0.012547 -0.013529        -0.012949   \n",
       "Age                         0.012547  1.000000  0.034910         0.035407   \n",
       "Rating                     -0.013529  0.034910  1.000000         0.793145   \n",
       "Recommended IND            -0.012949  0.035407  0.793145         1.000000   \n",
       "Positive Feedback Count     0.041300  0.041167 -0.056659        -0.059452   \n",
       "Sentiment                  -0.011054  0.028176  0.923051         0.839159   \n",
       "Review Length               0.088266  0.022189 -0.054845        -0.027640   \n",
       "\n",
       "                         Positive Feedback Count  Sentiment  Review Length  \n",
       "Clothing ID                             0.041300  -0.011054       0.088266  \n",
       "Age                                     0.041167   0.028176       0.022189  \n",
       "Rating                                 -0.056659   0.923051      -0.054845  \n",
       "Recommended IND                        -0.059452   0.839159      -0.027640  \n",
       "Positive Feedback Count                 1.000000  -0.056920       0.192506  \n",
       "Sentiment                              -0.056920   1.000000      -0.034135  \n",
       "Review Length                           0.192506  -0.034135       1.000000  "
      ]
     },
     "execution_count": 121,
     "metadata": {},
     "output_type": "execute_result"
    }
   ],
   "source": [
    "dataset.corr() "
   ]
  },
  {
   "cell_type": "markdown",
   "metadata": {},
   "source": [
    "Correlation coefficient of -0.03 indicates that the relationship is negative and has very little, almost no correlation. This means that the sentiment and the message length has no correlation."
   ]
  },
  {
   "cell_type": "markdown",
   "metadata": {},
   "source": [
    "### 2. Preprocessing van de tekst\n",
    "\n",
    "- Kuis de teksten op: verwijder stopwoorden en niet-letters, zet alles om naar lowercase, ... \n",
    "- Pas stemming toe."
   ]
  },
  {
   "cell_type": "code",
   "execution_count": 69,
   "metadata": {},
   "outputs": [],
   "source": [
    "# Preprocessing van de tekst.\n",
    "\n",
    "def text_preprocessing(text, language, minWordSize):\n",
    "    \n",
    "    # remove html\n",
    "    text_no_html = BeautifulSoup(str(text),\"html.parser\" ).get_text()\n",
    "    \n",
    "    # remove non-letters\n",
    "    text_alpha_chars = re.sub(\"[^a-zA-Z']\", \" \", str(text_no_html)) \n",
    "        \n",
    "    # convert to lower-case\n",
    "    text_lower = text_alpha_chars.lower()\n",
    "    \n",
    "    # remove stop words\n",
    "    stops = set(stopwords.words(language)) \n",
    "    text_no_stop_words = ' '\n",
    "    \n",
    "    for w in text_lower.split():\n",
    "        if w not in stops:  \n",
    "            text_no_stop_words = text_no_stop_words + w + ' '\n",
    "      \n",
    "       # do stemming\n",
    "    text_stemmer = ' '\n",
    "    stemmer = SnowballStemmer(language)\n",
    "    for w in text_no_stop_words.split():\n",
    "        text_stemmer = text_stemmer + stemmer.stem(w) + ' '\n",
    "         \n",
    "    # remove short words\n",
    "    text_no_short_words = ' '\n",
    "    for w in text_stemmer.split(): \n",
    "        if len(w) >=minWordSize:\n",
    "            text_no_short_words = text_no_short_words + w + ' '\n",
    " \n",
    "\n",
    "    return text_no_short_words"
   ]
  },
  {
   "cell_type": "markdown",
   "metadata": {},
   "source": [
    "### 3. Omzetten naar bag-of-words\n",
    "\n",
    "\n",
    "Creëer een training set en een test set. Zorg ervoor dat er 5000 reviews in de test set zitten.\n",
    "\n",
    "Maak gebruik van de CountVectorizer en TfidfTransformer om een bag-of-words model te creëren. \n",
    "\n",
    "Meer info:\n",
    "\n",
    "https://scikit-learn.org/stable/modules/generated/sklearn.feature_extraction.text.CountVectorizer.html \n",
    "\n",
    "https://scikit-learn.org/stable/modules/generated/sklearn.feature_extraction.text.TfidfTransformer.html#sklearn.feature_extraction.text.TfidfTransformer \n",
    "\n",
    "https://scikit-learn.org/stable/modules/generated/sklearn.feature_extraction.text.TfidfVectorizer.html#sklearn.feature_extraction.text.TfidfVectorizer"
   ]
  },
  {
   "cell_type": "code",
   "execution_count": 70,
   "metadata": {},
   "outputs": [],
   "source": [
    "# Opsplitsen in training set en test set\n",
    "X_train, X_test, y_train, y_test = train_test_split(X, ys, test_size=5000, random_state=0)\n",
    "\n"
   ]
  },
  {
   "cell_type": "code",
   "execution_count": 71,
   "metadata": {},
   "outputs": [],
   "source": [
    "# Convert training and test set to bag of words\n",
    "language = 'english'\n",
    "minWordLength = 2\n",
    "\n",
    "for i in range(X_train.size):\n",
    "    X_train[i] = text_preprocessing(X_train[i], language, minWordLength)\n",
    "    \n",
    "    \n",
    "for i in range(X_test.size):\n",
    "    X_test[i] = text_preprocessing(X_test[i], language, minWordLength)"
   ]
  },
  {
   "cell_type": "code",
   "execution_count": 72,
   "metadata": {},
   "outputs": [
    {
     "name": "stdout",
     "output_type": "stream",
     "text": [
      " bought moss navi fit perfect love style roll waist excel qualiti bought peachi color top eleph wear moss color one receiv lot compliment \n"
     ]
    }
   ],
   "source": [
    "print(X_train[0])"
   ]
  },
  {
   "cell_type": "code",
   "execution_count": 73,
   "metadata": {},
   "outputs": [
    {
     "name": "stdout",
     "output_type": "stream",
     "text": [
      "  (0, 780)\t2\n",
      "  (0, 1311)\t2\n",
      "  (0, 1379)\t1\n",
      "  (0, 2142)\t1\n",
      "  (0, 2295)\t1\n",
      "  (0, 2495)\t1\n",
      "  (0, 3913)\t1\n",
      "  (0, 3926)\t1\n",
      "  (0, 4317)\t2\n",
      "  (0, 4416)\t1\n",
      "  (0, 4638)\t1\n",
      "  (0, 4886)\t1\n",
      "  (0, 4931)\t1\n",
      "  (0, 5334)\t1\n",
      "  (0, 5431)\t1\n",
      "  (0, 5677)\t1\n",
      "  (0, 6580)\t1\n",
      "  (0, 7019)\t1\n",
      "  (0, 7496)\t1\n",
      "  (0, 7556)\t1\n",
      "  (1, 1311)\t1\n",
      "  (1, 1999)\t1\n",
      "  (1, 2916)\t2\n",
      "  (1, 3522)\t1\n",
      "  (1, 3755)\t1\n",
      "  :\t:\n",
      "  (14661, 1803)\t1\n",
      "  (14661, 1812)\t1\n",
      "  (14661, 2199)\t1\n",
      "  (14661, 2432)\t1\n",
      "  (14661, 2495)\t1\n",
      "  (14661, 2689)\t1\n",
      "  (14661, 2875)\t1\n",
      "  (14661, 3430)\t1\n",
      "  (14661, 3755)\t1\n",
      "  (14661, 3845)\t1\n",
      "  (14661, 3926)\t2\n",
      "  (14661, 4682)\t1\n",
      "  (14661, 4742)\t1\n",
      "  (14661, 4916)\t1\n",
      "  (14661, 4931)\t1\n",
      "  (14661, 5431)\t1\n",
      "  (14661, 5733)\t1\n",
      "  (14661, 5931)\t1\n",
      "  (14661, 6035)\t1\n",
      "  (14661, 6129)\t1\n",
      "  (14661, 6580)\t1\n",
      "  (14661, 6998)\t1\n",
      "  (14661, 7019)\t2\n",
      "  (14661, 7289)\t1\n",
      "  (14661, 7366)\t1\n"
     ]
    }
   ],
   "source": [
    "# Omzetten naar bag-of-words\n",
    "\n",
    "# Make sparse features vectors \n",
    "\n",
    "# create instance \n",
    "count_vect = CountVectorizer()\n",
    "\n",
    "# train the object on the training set\n",
    "X_train_bag_of_words = count_vect.fit(X_train)\n",
    "\n",
    "# apply  the function on train\n",
    "X_train_bag_of_words = count_vect.transform(X_train)\n",
    "# apply  the function on test\n",
    "X_test_bag_of_words = count_vect.transform(X_test)\n",
    "\n",
    "print(X_train_bag_of_words)\n",
    "#print(X_test_bag_of_words)\n",
    "\n",
    "tfidf_transformer = TfidfTransformer()\n",
    "tf_transformer = TfidfTransformer(use_idf=True).fit(X_train_bag_of_words)\n",
    "X_train_tf = tf_transformer.transform(X_train_bag_of_words)\n",
    "X_test_tf = tf_transformer.transform(X_test_bag_of_words)\n"
   ]
  },
  {
   "cell_type": "markdown",
   "metadata": {},
   "source": [
    "### 4. Trainen van de classifiers\n",
    "\n",
    "Train drie verschillende classifiers op de bag-of-words data: naive bayes classifier, logistic regression classifier en een Support Vector Machine classifier.\n",
    "\n",
    "\n"
   ]
  },
  {
   "cell_type": "code",
   "execution_count": 74,
   "metadata": {},
   "outputs": [
    {
     "data": {
      "text/plain": [
       "MultinomialNB(alpha=1)"
      ]
     },
     "execution_count": 74,
     "metadata": {},
     "output_type": "execute_result"
    }
   ],
   "source": [
    "# Train a Naive bayes classifier\n",
    "\n",
    "NBclassifier = MultinomialNB(alpha=1)\n",
    "\n",
    "NBclassifier.fit(X_train_tf, y_train)"
   ]
  },
  {
   "cell_type": "code",
   "execution_count": 75,
   "metadata": {},
   "outputs": [
    {
     "name": "stdout",
     "output_type": "stream",
     "text": [
      "              precision    recall  f1-score   support\n",
      "\n",
      "          -1       1.00      0.01      0.02       551\n",
      "           0       0.00      0.00      0.00       600\n",
      "           1       0.77      1.00      0.87      3849\n",
      "\n",
      "    accuracy                           0.77      5000\n",
      "   macro avg       0.59      0.34      0.30      5000\n",
      "weighted avg       0.70      0.77      0.67      5000\n",
      "\n",
      "[[   6    1  544]\n",
      " [   0    0  600]\n",
      " [   0    0 3849]]\n",
      "77.10000000000001\n"
     ]
    }
   ],
   "source": [
    "# test Naive Bayes classifier\n",
    "\n",
    "y_pred = NBclassifier.predict(X_test_tf)\n",
    "print(classification_report(y_test, y_pred))\n",
    "\n",
    "cf = confusion_matrix(y_test, y_pred)\n",
    "print(cf)\n",
    "print(accuracy_score(y_test, y_pred) * 100)"
   ]
  },
  {
   "cell_type": "code",
   "execution_count": 76,
   "metadata": {},
   "outputs": [
    {
     "name": "stderr",
     "output_type": "stream",
     "text": [
      "C:\\Users\\Dominic Ho\\anaconda3\\lib\\site-packages\\sklearn\\linear_model\\_logistic.py:762: ConvergenceWarning: lbfgs failed to converge (status=1):\n",
      "STOP: TOTAL NO. of ITERATIONS REACHED LIMIT.\n",
      "\n",
      "Increase the number of iterations (max_iter) or scale the data as shown in:\n",
      "    https://scikit-learn.org/stable/modules/preprocessing.html\n",
      "Please also refer to the documentation for alternative solver options:\n",
      "    https://scikit-learn.org/stable/modules/linear_model.html#logistic-regression\n",
      "  n_iter_i = _check_optimize_result(\n"
     ]
    },
    {
     "data": {
      "text/plain": [
       "LogisticRegression(C=10)"
      ]
     },
     "execution_count": 76,
     "metadata": {},
     "output_type": "execute_result"
    }
   ],
   "source": [
    "# train a logistic regression classifier\n",
    "lregclassifier = LogisticRegression(C=10)\n",
    "\n",
    "lregclassifier.fit(X_train_tf, y_train)"
   ]
  },
  {
   "cell_type": "code",
   "execution_count": 77,
   "metadata": {},
   "outputs": [
    {
     "name": "stdout",
     "output_type": "stream",
     "text": [
      "              precision    recall  f1-score   support\n",
      "\n",
      "          -1       0.57      0.43      0.49       551\n",
      "           0       0.38      0.33      0.35       600\n",
      "           1       0.89      0.94      0.91      3849\n",
      "\n",
      "    accuracy                           0.81      5000\n",
      "   macro avg       0.61      0.57      0.59      5000\n",
      "weighted avg       0.79      0.81      0.80      5000\n",
      "\n",
      "[[ 238  147  166]\n",
      " [ 101  198  301]\n",
      " [  79  171 3599]]\n",
      "80.7\n"
     ]
    }
   ],
   "source": [
    "# test logistic classifier\n",
    "\n",
    "y_pred = lregclassifier.predict(X_test_tf)\n",
    "print(classification_report(y_test, y_pred))\n",
    "\n",
    "cf = confusion_matrix(y_test, y_pred)\n",
    "print(cf)\n",
    "print(accuracy_score(y_test, y_pred) * 100) "
   ]
  },
  {
   "cell_type": "code",
   "execution_count": 78,
   "metadata": {},
   "outputs": [
    {
     "data": {
      "text/plain": [
       "SVC(C=0.1, kernel='linear')"
      ]
     },
     "execution_count": 78,
     "metadata": {},
     "output_type": "execute_result"
    }
   ],
   "source": [
    "# train a SVM\n",
    "SVMlinear = svm.SVC(kernel='linear',C=0.1)\n",
    "SVMlinear.fit(X_train_tf, y_train)"
   ]
  },
  {
   "cell_type": "code",
   "execution_count": 79,
   "metadata": {},
   "outputs": [
    {
     "name": "stdout",
     "output_type": "stream",
     "text": [
      "              precision    recall  f1-score   support\n",
      "\n",
      "          -1       0.90      0.05      0.09       551\n",
      "           0       0.00      0.00      0.00       600\n",
      "           1       0.77      1.00      0.87      3849\n",
      "\n",
      "    accuracy                           0.78      5000\n",
      "   macro avg       0.56      0.35      0.32      5000\n",
      "weighted avg       0.69      0.78      0.68      5000\n",
      "\n",
      "[[  26    0  525]\n",
      " [   3    0  597]\n",
      " [   0    0 3849]]\n",
      "77.5\n"
     ]
    },
    {
     "name": "stderr",
     "output_type": "stream",
     "text": [
      "C:\\Users\\Dominic Ho\\anaconda3\\lib\\site-packages\\sklearn\\metrics\\_classification.py:1221: UndefinedMetricWarning: Precision and F-score are ill-defined and being set to 0.0 in labels with no predicted samples. Use `zero_division` parameter to control this behavior.\n",
      "  _warn_prf(average, modifier, msg_start, len(result))\n"
     ]
    }
   ],
   "source": [
    "# test SVM\n",
    "y_pred = SVMlinear.predict(X_test_tf)\n",
    "print(classification_report(y_test, y_pred))\n",
    "\n",
    "cf = confusion_matrix(y_test, y_pred)\n",
    "print(cf)\n",
    "print(accuracy_score(y_test, y_pred) * 100) \n"
   ]
  },
  {
   "cell_type": "markdown",
   "metadata": {},
   "source": [
    "Logistic regression has the highest accuracy."
   ]
  },
  {
   "cell_type": "markdown",
   "metadata": {},
   "source": [
    "### 5. Testen en hyperparameter tuning\n",
    "\n",
    "- Voer hyperparameter tuning uit via grid-search, random search of Bayes Optimization.\n",
    "- Welke classifier heeft jouw voorkeur? Beargumenteer in de context van accuracy, f1-score en berekeningstijd.\n",
    "- Bekijk enkele verkeerd geklassificeerde reviews. Is er een verklaring voor te vinden?\n"
   ]
  },
  {
   "cell_type": "code",
   "execution_count": 26,
   "metadata": {},
   "outputs": [
    {
     "name": "stdout",
     "output_type": "stream",
     "text": [
      "Fitting 20 folds for each of 5 candidates, totalling 100 fits\n"
     ]
    },
    {
     "name": "stderr",
     "output_type": "stream",
     "text": [
      "[Parallel(n_jobs=-1)]: Using backend LokyBackend with 4 concurrent workers.\n",
      "[Parallel(n_jobs=-1)]: Done  10 tasks      | elapsed:    2.6s\n"
     ]
    },
    {
     "name": "stdout",
     "output_type": "stream",
     "text": [
      "Best accuracy :  0.7876826598168849\n",
      "Best parameters : {'alpha': 0.01}\n",
      "              precision    recall  f1-score   support\n",
      "\n",
      "          -1       0.67      0.17      0.27       551\n",
      "           0       0.42      0.09      0.14       600\n",
      "           1       0.80      0.99      0.89      3849\n",
      "\n",
      "    accuracy                           0.79      5000\n",
      "   macro avg       0.63      0.41      0.43      5000\n",
      "weighted avg       0.74      0.79      0.73      5000\n",
      "\n",
      "[[  94   42  415]\n",
      " [  28   52  520]\n",
      " [  18   30 3801]]\n",
      "78.94\n"
     ]
    },
    {
     "name": "stderr",
     "output_type": "stream",
     "text": [
      "[Parallel(n_jobs=-1)]: Done 100 out of 100 | elapsed:    3.2s finished\n"
     ]
    }
   ],
   "source": [
    "# hyperparameter tuning Naive Bayes - Grid Search\n",
    "\n",
    "from sklearn.model_selection import GridSearchCV\n",
    "\n",
    "\n",
    "model = MultinomialNB()\n",
    "paramaters = [\n",
    "             {'alpha' : [0.001, 0.01, 0.1, 1, 10]}                                       \n",
    "             ]\n",
    "\n",
    "grid_search = GridSearchCV(estimator = model, \n",
    "                           param_grid = paramaters,\n",
    "                           scoring = 'accuracy',\n",
    "                           cv = 20,\n",
    "                           n_jobs = -1,\n",
    "                           verbose=5)\n",
    "grid_search = grid_search.fit(X_train_tf, y_train)\n",
    "\n",
    "best_accuracy = grid_search.best_score_ \n",
    "best_parameters = grid_search.best_params_  \n",
    "\n",
    "print('Best accuracy : ', grid_search.best_score_)\n",
    "print('Best parameters :', grid_search.best_params_  )\n",
    "\n",
    "y_pred = grid_search.predict(X_test_tf)\n",
    "print(classification_report(y_test, y_pred))\n",
    "\n",
    "cf = confusion_matrix(y_test, y_pred)\n",
    "print(cf)\n",
    "print(accuracy_score(y_test, y_pred) * 100) \n"
   ]
  },
  {
   "cell_type": "code",
   "execution_count": 27,
   "metadata": {},
   "outputs": [
    {
     "name": "stderr",
     "output_type": "stream",
     "text": [
      "C:\\Users\\Dominic Ho\\anaconda3\\lib\\site-packages\\sklearn\\model_selection\\_search.py:278: UserWarning: The total space of parameters 5 is smaller than n_iter=20. Running 5 iterations. For exhaustive searches, use GridSearchCV.\n",
      "  warnings.warn(\n",
      "[Parallel(n_jobs=-1)]: Using backend LokyBackend with 4 concurrent workers.\n"
     ]
    },
    {
     "name": "stdout",
     "output_type": "stream",
     "text": [
      "Fitting 5 folds for each of 5 candidates, totalling 25 fits\n"
     ]
    },
    {
     "name": "stderr",
     "output_type": "stream",
     "text": [
      "[Parallel(n_jobs=-1)]: Done  18 out of  25 | elapsed:    0.1s remaining:    0.0s\n",
      "[Parallel(n_jobs=-1)]: Done  25 out of  25 | elapsed:    0.2s finished\n"
     ]
    },
    {
     "name": "stdout",
     "output_type": "stream",
     "text": [
      "Best accuracy :  0.7876144535834175\n",
      "Best parameters : {'alpha': 0.01}\n",
      "              precision    recall  f1-score   support\n",
      "\n",
      "          -1       0.67      0.17      0.27       551\n",
      "           0       0.42      0.09      0.14       600\n",
      "           1       0.80      0.99      0.89      3849\n",
      "\n",
      "    accuracy                           0.79      5000\n",
      "   macro avg       0.63      0.41      0.43      5000\n",
      "weighted avg       0.74      0.79      0.73      5000\n",
      "\n",
      "[[  94   42  415]\n",
      " [  28   52  520]\n",
      " [  18   30 3801]]\n",
      "78.94\n"
     ]
    }
   ],
   "source": [
    "# hyperparameter tuning Naive Bayes - Random Search\n",
    "\n",
    "from sklearn.model_selection import RandomizedSearchCV\n",
    "# distributions\n",
    "from scipy.stats import randint \n",
    "from scipy.stats import uniform\n",
    "\n",
    "\n",
    "model = MultinomialNB()\n",
    "parameters = [\n",
    "             {'alpha' : [0.001, 0.01, 0.1, 1, 10]}                                       \n",
    "             ]\n",
    "\n",
    "# random search zoeken, bv 20 willekeurig random searches\n",
    "n_iter_search = 20\n",
    "\n",
    "# cv = cross validatie\n",
    "random_search = RandomizedSearchCV(model, param_distributions=parameters,cv=5,n_iter=n_iter_search,n_jobs = -1,verbose=1)\n",
    "\n",
    "random_search = random_search.fit(X_train_tf, y_train)\n",
    "\n",
    "best_accuracy = random_search.best_score_ \n",
    "best_parameters = random_search.best_params_  \n",
    "\n",
    "print('Best accuracy : ', random_search.best_score_)\n",
    "print('Best parameters :',random_search.best_params_  )\n",
    "\n",
    "y_pred = random_search.predict(X_test_tf)\n",
    "print(classification_report(y_test, y_pred))\n",
    "\n",
    "cf = confusion_matrix(y_test, y_pred)\n",
    "print(cf)\n",
    "print(accuracy_score(y_test, y_pred) * 100) "
   ]
  },
  {
   "cell_type": "code",
   "execution_count": 28,
   "metadata": {},
   "outputs": [
    {
     "name": "stdout",
     "output_type": "stream",
     "text": [
      "Fitting 20 folds for each of 50 candidates, totalling 1000 fits\n"
     ]
    },
    {
     "name": "stderr",
     "output_type": "stream",
     "text": [
      "[Parallel(n_jobs=-1)]: Using backend LokyBackend with 4 concurrent workers.\n",
      "[Parallel(n_jobs=-1)]: Done  10 tasks      | elapsed:    0.8s\n",
      "[Parallel(n_jobs=-1)]: Done  64 tasks      | elapsed:    7.7s\n",
      "[Parallel(n_jobs=-1)]: Done 154 tasks      | elapsed:   19.5s\n",
      "[Parallel(n_jobs=-1)]: Done 280 tasks      | elapsed:   41.7s\n",
      "[Parallel(n_jobs=-1)]: Done 442 tasks      | elapsed:  1.5min\n",
      "[Parallel(n_jobs=-1)]: Done 640 tasks      | elapsed:  2.8min\n",
      "[Parallel(n_jobs=-1)]: Done 874 tasks      | elapsed:  5.3min\n",
      "[Parallel(n_jobs=-1)]: Done 1000 out of 1000 | elapsed:  6.8min finished\n"
     ]
    },
    {
     "name": "stdout",
     "output_type": "stream",
     "text": [
      "Best accuracy :  0.8179655292906238\n",
      "Best parameters : {'C': 1, 'class_weight': None, 'solver': 'saga'}\n",
      "              precision    recall  f1-score   support\n",
      "\n",
      "          -1       0.65      0.39      0.49       551\n",
      "           0       0.39      0.24      0.30       600\n",
      "           1       0.86      0.96      0.91      3849\n",
      "\n",
      "    accuracy                           0.81      5000\n",
      "   macro avg       0.64      0.53      0.57      5000\n",
      "weighted avg       0.78      0.81      0.79      5000\n",
      "\n",
      "[[ 216  119  216]\n",
      " [  79  143  378]\n",
      " [  36  102 3711]]\n",
      "81.39999999999999\n"
     ]
    }
   ],
   "source": [
    "# hyperparameter tuning Logistic Regression - Grid Search\n",
    "\n",
    "from sklearn.model_selection import GridSearchCV\n",
    "from sklearn.linear_model import LogisticRegression\n",
    "\n",
    "model = LogisticRegression()\n",
    "paramaters = [\n",
    "             {'C' : [0.01, 0.1, 1, 10, 100], \n",
    "              'solver': ['liblinear','lbfgs', 'newton-cg', 'sag','saga'], \n",
    "              'class_weight': [None, 'balanced']},                                       \n",
    "             ]\n",
    "\n",
    "\n",
    "grid_search = GridSearchCV(estimator = model, \n",
    "                           param_grid = paramaters,\n",
    "                           scoring = 'accuracy',\n",
    "                           cv = 20,\n",
    "                           n_jobs = -1,\n",
    "                           verbose=5)\n",
    "grid_search = grid_search.fit(X_train_tf, y_train)\n",
    "\n",
    "best_accuracy = grid_search.best_score_ \n",
    "best_parameters = grid_search.best_params_  \n",
    "\n",
    "print('Best accuracy : ', grid_search.best_score_)\n",
    "print('Best parameters :', grid_search.best_params_  )\n",
    "\n",
    "y_pred = grid_search.predict(X_test_tf)\n",
    "print(classification_report(y_test, y_pred))\n",
    "\n",
    "cf = confusion_matrix(y_test, y_pred)\n",
    "print(cf)\n",
    "print(accuracy_score(y_test, y_pred) * 100) \n"
   ]
  },
  {
   "cell_type": "code",
   "execution_count": 29,
   "metadata": {},
   "outputs": [
    {
     "name": "stdout",
     "output_type": "stream",
     "text": [
      "Fitting 20 folds for each of 20 candidates, totalling 400 fits\n"
     ]
    },
    {
     "name": "stderr",
     "output_type": "stream",
     "text": [
      "[Parallel(n_jobs=-1)]: Using backend LokyBackend with 4 concurrent workers.\n",
      "[Parallel(n_jobs=-1)]: Done  42 tasks      | elapsed:   19.7s\n",
      "[Parallel(n_jobs=-1)]: Done 192 tasks      | elapsed:  1.8min\n",
      "[Parallel(n_jobs=-1)]: Done 400 out of 400 | elapsed:  4.0min finished\n"
     ]
    },
    {
     "name": "stdout",
     "output_type": "stream",
     "text": [
      "Best accuracy :  0.8200806844329787\n",
      "Best parameters : {'C': 1.7440212848786218, 'class_weight': None, 'solver': 'newton-cg'}\n",
      "              precision    recall  f1-score   support\n",
      "\n",
      "          -1       0.64      0.41      0.50       551\n",
      "           0       0.39      0.27      0.32       600\n",
      "           1       0.87      0.96      0.91      3849\n",
      "\n",
      "    accuracy                           0.81      5000\n",
      "   macro avg       0.63      0.55      0.58      5000\n",
      "weighted avg       0.79      0.81      0.79      5000\n",
      "\n",
      "[[ 228  125  198]\n",
      " [  86  159  355]\n",
      " [  43  121 3685]]\n",
      "81.44\n"
     ]
    }
   ],
   "source": [
    "# hyperparameter tuning Logistic Regression - Random Search\n",
    "from sklearn.model_selection import RandomizedSearchCV\n",
    "from scipy.stats import randint \n",
    "from scipy.stats import uniform\n",
    "from sklearn.linear_model import LogisticRegression\n",
    "\n",
    "model = LogisticRegression()\n",
    "\n",
    "parameters = [\n",
    "             {'C' : uniform(0.01, 20), \n",
    "              'solver': ['liblinear','lbfgs', 'newton-cg', 'sag','saga'],\n",
    "              'class_weight': [None, 'balanced']}\n",
    "             ]\n",
    "\n",
    "n_iter_search = 20\n",
    "\n",
    "random_search = RandomizedSearchCV(model, param_distributions=parameters,cv=20,n_iter=n_iter_search,n_jobs = -1,verbose=1)\n",
    "\n",
    "random_search = random_search.fit(X_train_tf, y_train)\n",
    "\n",
    "best_accuracy = random_search.best_score_ \n",
    "best_parameters = random_search.best_params_  \n",
    "\n",
    "print('Best accuracy : ', random_search.best_score_)\n",
    "print('Best parameters :',random_search.best_params_  )\n",
    "\n",
    "y_pred = random_search.predict(X_test_tf)\n",
    "print(classification_report(y_test, y_pred))\n",
    "\n",
    "cf = confusion_matrix(y_test, y_pred)\n",
    "print(cf)\n",
    "print(accuracy_score(y_test, y_pred) * 100) "
   ]
  },
  {
   "cell_type": "code",
   "execution_count": 483,
   "metadata": {},
   "outputs": [
    {
     "name": "stdout",
     "output_type": "stream",
     "text": [
      "Fitting 5 folds for each of 130 candidates, totalling 650 fits\n"
     ]
    },
    {
     "name": "stderr",
     "output_type": "stream",
     "text": [
      "[Parallel(n_jobs=-1)]: Using backend LokyBackend with 4 concurrent workers.\n",
      "[Parallel(n_jobs=-1)]: Done  10 tasks      | elapsed:  4.0min\n",
      "[Parallel(n_jobs=-1)]: Done  64 tasks      | elapsed: 16.4min\n",
      "[Parallel(n_jobs=-1)]: Done 154 tasks      | elapsed: 51.3min\n",
      "[Parallel(n_jobs=-1)]: Done 280 tasks      | elapsed: 104.1min\n",
      "[Parallel(n_jobs=-1)]: Done 442 tasks      | elapsed: 162.0min\n",
      "[Parallel(n_jobs=-1)]: Done 640 tasks      | elapsed: 234.5min\n",
      "[Parallel(n_jobs=-1)]: Done 650 out of 650 | elapsed: 239.9min finished\n"
     ]
    },
    {
     "name": "stdout",
     "output_type": "stream",
     "text": [
      "Best accuracy :  0.8217162374429563\n",
      "Best parameters : {'C': 10, 'class_weight': None, 'degree': 2, 'gamma': 0.1, 'kernel': 'sigmoid'}\n",
      "              precision    recall  f1-score   support\n",
      "\n",
      "          -1       0.62      0.43      0.51       551\n",
      "           0       0.40      0.24      0.30       600\n",
      "           1       0.87      0.96      0.91      3849\n",
      "\n",
      "    accuracy                           0.82      5000\n",
      "   macro avg       0.63      0.54      0.57      5000\n",
      "weighted avg       0.79      0.82      0.79      5000\n",
      "\n",
      "[[ 236  120  195]\n",
      " [  91  147  362]\n",
      " [  53  103 3693]]\n",
      "81.52000000000001\n"
     ]
    }
   ],
   "source": [
    "# hyperparameter tuning SVM - Grid Search\n",
    "from sklearn.model_selection import GridSearchCV\n",
    "from sklearn.svm import SVC\n",
    "\n",
    "model = SVC()\n",
    "\n",
    "paramaters = [ \n",
    "        {'kernel': ['linear'], \n",
    "         'C': [0.01, 0.1, 1, 10, 100], \n",
    "         'degree': [2], \n",
    "         'class_weight': [None, 'balanced']},\n",
    "        {'kernel': ['rbf', 'poly', 'sigmoid'], \n",
    "         'C': [0.01, 0.1, 1, 10, 100], \n",
    "         'gamma': [0.001, 0.01, 0.1, 0.2], \n",
    "         'degree': [2], \n",
    "         'class_weight': [None, 'balanced']},\n",
    "]\n",
    "\n",
    "grid_search = GridSearchCV(estimator = model, \n",
    "                           param_grid = paramaters,\n",
    "                           scoring = 'accuracy', \n",
    "                           cv = 5,\n",
    "                           n_jobs = -1,\n",
    "                           verbose =5)\n",
    "grid_search = grid_search.fit(X_train_tf, y_train)\n",
    "\n",
    "best_accuracy = grid_search.best_score_ \n",
    "best_parameters = grid_search.best_params_  \n",
    "print('Best accuracy : ', grid_search.best_score_)\n",
    "print('Best parameters :', grid_search.best_params_  )\n",
    "\n",
    "\n",
    "y_pred = grid_search.predict(X_test_tf)\n",
    "print(classification_report(y_test, y_pred))\n",
    "\n",
    "cf = confusion_matrix(y_test, y_pred)\n",
    "print(cf)\n",
    "print(accuracy_score(y_test, y_pred) * 100) "
   ]
  },
  {
   "cell_type": "code",
   "execution_count": 484,
   "metadata": {},
   "outputs": [
    {
     "name": "stdout",
     "output_type": "stream",
     "text": [
      "Fitting 5 folds for each of 20 candidates, totalling 100 fits\n"
     ]
    },
    {
     "name": "stderr",
     "output_type": "stream",
     "text": [
      "[Parallel(n_jobs=-1)]: Using backend LokyBackend with 4 concurrent workers.\n",
      "[Parallel(n_jobs=-1)]: Done  42 tasks      | elapsed: 15.9min\n",
      "[Parallel(n_jobs=-1)]: Done 100 out of 100 | elapsed: 33.9min finished\n"
     ]
    },
    {
     "name": "stdout",
     "output_type": "stream",
     "text": [
      "Best accuracy :  0.8215798117949346\n",
      "Best parameters : {'C': 1, 'class_weight': None, 'degree': 4, 'kernel': 'linear'}\n",
      "              precision    recall  f1-score   support\n",
      "\n",
      "          -1       0.62      0.43      0.51       551\n",
      "           0       0.40      0.24      0.30       600\n",
      "           1       0.87      0.96      0.91      3849\n",
      "\n",
      "    accuracy                           0.82      5000\n",
      "   macro avg       0.63      0.54      0.57      5000\n",
      "weighted avg       0.79      0.82      0.79      5000\n",
      "\n",
      "[[ 236  120  195]\n",
      " [  91  147  362]\n",
      " [  53  103 3693]]\n",
      "81.52000000000001\n"
     ]
    }
   ],
   "source": [
    "# hyperparameter tuning SVM - Random Search\n",
    "\n",
    "from sklearn.model_selection import RandomizedSearchCV\n",
    "from scipy.stats import randint \n",
    "from scipy.stats import uniform\n",
    "\n",
    "\n",
    "#svc trainen\n",
    "model = SVC()\n",
    "\n",
    "parameters = [\n",
    "    {'kernel': ['linear'], \n",
    "     'C': [0.01, 0.1, 1, 10, 100], \n",
    "     'degree': [2,3,4], \n",
    "     'class_weight': [None, 'balanced']\n",
    "    },\n",
    "    {'kernel': ['rbf', 'poly', 'sigmoid'], \n",
    "     'C': [0.01, 0.1, 1, 10, 100], \n",
    "     'gamma': uniform(0.001, 0.2), \n",
    "     'degree': [2,3,4], \n",
    "     'class_weight': [None, 'balanced']}\n",
    "]\n",
    " \n",
    "n_iter_search = 20\n",
    "\n",
    "random_search = RandomizedSearchCV(model, param_distributions=parameters,cv=5,n_iter=n_iter_search,n_jobs = -1,verbose=1)\n",
    "\n",
    "random_search = random_search.fit(X_train_tf, y_train)\n",
    "\n",
    "best_accuracy = random_search.best_score_ \n",
    "best_parameters = random_search.best_params_  \n",
    "\n",
    "print('Best accuracy : ', random_search.best_score_)\n",
    "print('Best parameters :',random_search.best_params_  )\n",
    "\n",
    "y_pred = random_search.predict(X_test_tf)\n",
    "print(classification_report(y_test, y_pred))\n",
    "\n",
    "cf = confusion_matrix(y_test, y_pred)\n",
    "print(cf)\n",
    "print(accuracy_score(y_test, y_pred) * 100) "
   ]
  },
  {
   "cell_type": "markdown",
   "metadata": {},
   "source": [
    "- Welke classifier heeft jouw voorkeur? Beargumenteer in de context van accuracy, f1-score en berekeningstijd.\n"
   ]
  },
  {
   "cell_type": "markdown",
   "metadata": {},
   "source": [
    "In general if we compare the 3 classifiers, we can see that there are differences in scores. Based on the scores the order is as follows: SVM (81,52%), Logistic regression (81,44%) and Naive Bayes (78,94%). Moreover, if we take the execution time into consideration then the logistic regression would be the most suitable classifier for this case.\n",
    "\n"
   ]
  },
  {
   "cell_type": "markdown",
   "metadata": {},
   "source": [
    "- Bekijk enkele verkeerd geklassificeerde reviews. Is er een verklaring voor te vinden?"
   ]
  },
  {
   "cell_type": "code",
   "execution_count": 30,
   "metadata": {},
   "outputs": [],
   "source": [
    "indices = [i for i in range(len(y_test)) if y_test[i] != y_pred[i]]"
   ]
  },
  {
   "cell_type": "code",
   "execution_count": 31,
   "metadata": {},
   "outputs": [
    {
     "data": {
      "text/html": [
       "<div>\n",
       "<style scoped>\n",
       "    .dataframe tbody tr th:only-of-type {\n",
       "        vertical-align: middle;\n",
       "    }\n",
       "\n",
       "    .dataframe tbody tr th {\n",
       "        vertical-align: top;\n",
       "    }\n",
       "\n",
       "    .dataframe thead th {\n",
       "        text-align: right;\n",
       "    }\n",
       "</style>\n",
       "<table border=\"1\" class=\"dataframe\">\n",
       "  <thead>\n",
       "    <tr style=\"text-align: right;\">\n",
       "      <th></th>\n",
       "      <th>Clothing ID</th>\n",
       "      <th>Age</th>\n",
       "      <th>Title</th>\n",
       "      <th>Review Text</th>\n",
       "      <th>Rating</th>\n",
       "      <th>Recommended IND</th>\n",
       "      <th>Positive Feedback Count</th>\n",
       "      <th>Division Name</th>\n",
       "      <th>Department Name</th>\n",
       "      <th>Class Name</th>\n",
       "      <th>Sentiment</th>\n",
       "      <th>Review Length</th>\n",
       "    </tr>\n",
       "  </thead>\n",
       "  <tbody>\n",
       "    <tr>\n",
       "      <th>2</th>\n",
       "      <td>1077</td>\n",
       "      <td>60</td>\n",
       "      <td>Some major design flaws</td>\n",
       "      <td>I had such high hopes for this dress and reall...</td>\n",
       "      <td>3</td>\n",
       "      <td>0</td>\n",
       "      <td>0</td>\n",
       "      <td>General</td>\n",
       "      <td>Dresses</td>\n",
       "      <td>Dresses</td>\n",
       "      <td>0</td>\n",
       "      <td>500</td>\n",
       "    </tr>\n",
       "    <tr>\n",
       "      <th>5</th>\n",
       "      <td>1080</td>\n",
       "      <td>49</td>\n",
       "      <td>Not for the very petite</td>\n",
       "      <td>I love tracy reese dresses, but this one is no...</td>\n",
       "      <td>2</td>\n",
       "      <td>0</td>\n",
       "      <td>4</td>\n",
       "      <td>General</td>\n",
       "      <td>Dresses</td>\n",
       "      <td>Dresses</td>\n",
       "      <td>-1</td>\n",
       "      <td>488</td>\n",
       "    </tr>\n",
       "    <tr>\n",
       "      <th>6</th>\n",
       "      <td>858</td>\n",
       "      <td>39</td>\n",
       "      <td>Cagrcoal shimmer fun</td>\n",
       "      <td>I aded this in my basket at hte last mintue to...</td>\n",
       "      <td>5</td>\n",
       "      <td>1</td>\n",
       "      <td>1</td>\n",
       "      <td>General Petite</td>\n",
       "      <td>Tops</td>\n",
       "      <td>Knits</td>\n",
       "      <td>1</td>\n",
       "      <td>496</td>\n",
       "    </tr>\n",
       "    <tr>\n",
       "      <th>13</th>\n",
       "      <td>767</td>\n",
       "      <td>44</td>\n",
       "      <td>Runs big</td>\n",
       "      <td>Bought the black xs to go under the larkspur m...</td>\n",
       "      <td>5</td>\n",
       "      <td>1</td>\n",
       "      <td>0</td>\n",
       "      <td>Initmates</td>\n",
       "      <td>Intimate</td>\n",
       "      <td>Intimates</td>\n",
       "      <td>1</td>\n",
       "      <td>377</td>\n",
       "    </tr>\n",
       "    <tr>\n",
       "      <th>23</th>\n",
       "      <td>1077</td>\n",
       "      <td>34</td>\n",
       "      <td>Like it, but don't love it.</td>\n",
       "      <td>Cute little dress fits tts. it is a little hig...</td>\n",
       "      <td>3</td>\n",
       "      <td>1</td>\n",
       "      <td>0</td>\n",
       "      <td>General</td>\n",
       "      <td>Dresses</td>\n",
       "      <td>Dresses</td>\n",
       "      <td>0</td>\n",
       "      <td>202</td>\n",
       "    </tr>\n",
       "    <tr>\n",
       "      <th>...</th>\n",
       "      <td>...</td>\n",
       "      <td>...</td>\n",
       "      <td>...</td>\n",
       "      <td>...</td>\n",
       "      <td>...</td>\n",
       "      <td>...</td>\n",
       "      <td>...</td>\n",
       "      <td>...</td>\n",
       "      <td>...</td>\n",
       "      <td>...</td>\n",
       "      <td>...</td>\n",
       "      <td>...</td>\n",
       "    </tr>\n",
       "    <tr>\n",
       "      <th>5963</th>\n",
       "      <td>873</td>\n",
       "      <td>41</td>\n",
       "      <td>Flattering tank</td>\n",
       "      <td>I purchased the coral color. i'm usually betwe...</td>\n",
       "      <td>5</td>\n",
       "      <td>1</td>\n",
       "      <td>1</td>\n",
       "      <td>General</td>\n",
       "      <td>Tops</td>\n",
       "      <td>Knits</td>\n",
       "      <td>1</td>\n",
       "      <td>173</td>\n",
       "    </tr>\n",
       "    <tr>\n",
       "      <th>5964</th>\n",
       "      <td>1004</td>\n",
       "      <td>23</td>\n",
       "      <td>Love the structure, not the length</td>\n",
       "      <td>I got this skirt earlier this week and wore it...</td>\n",
       "      <td>4</td>\n",
       "      <td>1</td>\n",
       "      <td>4</td>\n",
       "      <td>General Petite</td>\n",
       "      <td>Bottoms</td>\n",
       "      <td>Skirts</td>\n",
       "      <td>1</td>\n",
       "      <td>489</td>\n",
       "    </tr>\n",
       "    <tr>\n",
       "      <th>5974</th>\n",
       "      <td>839</td>\n",
       "      <td>56</td>\n",
       "      <td>Darling summer top</td>\n",
       "      <td>I usually try to avoid paying full price for i...</td>\n",
       "      <td>5</td>\n",
       "      <td>1</td>\n",
       "      <td>1</td>\n",
       "      <td>General</td>\n",
       "      <td>Tops</td>\n",
       "      <td>Blouses</td>\n",
       "      <td>1</td>\n",
       "      <td>284</td>\n",
       "    </tr>\n",
       "    <tr>\n",
       "      <th>5978</th>\n",
       "      <td>1086</td>\n",
       "      <td>29</td>\n",
       "      <td>Very cute dress, but odd sizing</td>\n",
       "      <td>The pattern and fabric are very nice! i'm usua...</td>\n",
       "      <td>4</td>\n",
       "      <td>0</td>\n",
       "      <td>1</td>\n",
       "      <td>General</td>\n",
       "      <td>Dresses</td>\n",
       "      <td>Dresses</td>\n",
       "      <td>1</td>\n",
       "      <td>219</td>\n",
       "    </tr>\n",
       "    <tr>\n",
       "      <th>5979</th>\n",
       "      <td>873</td>\n",
       "      <td>51</td>\n",
       "      <td>Great too</td>\n",
       "      <td>This is a perfect casual too to pair with jns ...</td>\n",
       "      <td>5</td>\n",
       "      <td>1</td>\n",
       "      <td>0</td>\n",
       "      <td>General</td>\n",
       "      <td>Tops</td>\n",
       "      <td>Knits</td>\n",
       "      <td>1</td>\n",
       "      <td>69</td>\n",
       "    </tr>\n",
       "  </tbody>\n",
       "</table>\n",
       "<p>928 rows × 12 columns</p>\n",
       "</div>"
      ],
      "text/plain": [
       "      Clothing ID  Age                               Title  \\\n",
       "2            1077   60             Some major design flaws   \n",
       "5            1080   49             Not for the very petite   \n",
       "6             858   39                Cagrcoal shimmer fun   \n",
       "13            767   44                            Runs big   \n",
       "23           1077   34         Like it, but don't love it.   \n",
       "...           ...  ...                                 ...   \n",
       "5963          873   41                     Flattering tank   \n",
       "5964         1004   23  Love the structure, not the length   \n",
       "5974          839   56                  Darling summer top   \n",
       "5978         1086   29     Very cute dress, but odd sizing   \n",
       "5979          873   51                           Great too   \n",
       "\n",
       "                                            Review Text  Rating  \\\n",
       "2     I had such high hopes for this dress and reall...       3   \n",
       "5     I love tracy reese dresses, but this one is no...       2   \n",
       "6     I aded this in my basket at hte last mintue to...       5   \n",
       "13    Bought the black xs to go under the larkspur m...       5   \n",
       "23    Cute little dress fits tts. it is a little hig...       3   \n",
       "...                                                 ...     ...   \n",
       "5963  I purchased the coral color. i'm usually betwe...       5   \n",
       "5964  I got this skirt earlier this week and wore it...       4   \n",
       "5974  I usually try to avoid paying full price for i...       5   \n",
       "5978  The pattern and fabric are very nice! i'm usua...       4   \n",
       "5979  This is a perfect casual too to pair with jns ...       5   \n",
       "\n",
       "      Recommended IND  Positive Feedback Count   Division Name  \\\n",
       "2                   0                        0         General   \n",
       "5                   0                        4         General   \n",
       "6                   1                        1  General Petite   \n",
       "13                  1                        0       Initmates   \n",
       "23                  1                        0         General   \n",
       "...               ...                      ...             ...   \n",
       "5963                1                        1         General   \n",
       "5964                1                        4  General Petite   \n",
       "5974                1                        1         General   \n",
       "5978                0                        1         General   \n",
       "5979                1                        0         General   \n",
       "\n",
       "     Department Name Class Name  Sentiment  Review Length  \n",
       "2            Dresses    Dresses          0            500  \n",
       "5            Dresses    Dresses         -1            488  \n",
       "6               Tops      Knits          1            496  \n",
       "13          Intimate  Intimates          1            377  \n",
       "23           Dresses    Dresses          0            202  \n",
       "...              ...        ...        ...            ...  \n",
       "5963            Tops      Knits          1            173  \n",
       "5964         Bottoms     Skirts          1            489  \n",
       "5974            Tops    Blouses          1            284  \n",
       "5978         Dresses    Dresses          1            219  \n",
       "5979            Tops      Knits          1             69  \n",
       "\n",
       "[928 rows x 12 columns]"
      ]
     },
     "execution_count": 31,
     "metadata": {},
     "output_type": "execute_result"
    }
   ],
   "source": [
    "wrong_predictions = dataset.iloc[indices,:]\n",
    "wrong_predictions"
   ]
  },
  {
   "cell_type": "code",
   "execution_count": 32,
   "metadata": {},
   "outputs": [
    {
     "data": {
      "text/plain": [
       "2       I had such high hopes for this dress and reall...\n",
       "5       I love tracy reese dresses, but this one is no...\n",
       "6       I aded this in my basket at hte last mintue to...\n",
       "13      Bought the black xs to go under the larkspur m...\n",
       "23      Cute little dress fits tts. it is a little hig...\n",
       "                              ...                        \n",
       "5963    I purchased the coral color. i'm usually betwe...\n",
       "5964    I got this skirt earlier this week and wore it...\n",
       "5974    I usually try to avoid paying full price for i...\n",
       "5978    The pattern and fabric are very nice! i'm usua...\n",
       "5979    This is a perfect casual too to pair with jns ...\n",
       "Name: Review Text, Length: 928, dtype: object"
      ]
     },
     "execution_count": 32,
     "metadata": {},
     "output_type": "execute_result"
    }
   ],
   "source": [
    "wrong_predictions['Review Text']"
   ]
  },
  {
   "cell_type": "markdown",
   "metadata": {},
   "source": [
    "### 6. Uitbreidingen\n",
    "\n",
    "- Bij niet gebalanceerde data kan het helpen om de data op te splitsen via stratified sampling. Zoek het verschil uit tussen stratified sampling en random sampling. Meer info: http://statl6.blogspot.com/2015/11/other-effective-sampling-methods.html.\n",
    "Pas deze stratified sampling toe via StratifiedShuffleSplit: https://scikit-learn.org/stable/modules/generated/sklearn.model_selection.StratifiedShuffleSplit.html. Train de modellen opnieuw en vergelijk de accuracy en f1-score met de deze bekomen via het trainen van de modellen op random sampled data.\n",
    "\n",
    "- Voorspel in plaats van het sentiment (negatief, neutraal, positief) de rating zelf.\n",
    "\n",
    "- Gebruik andere features om betere sentiment predicties te bekomen. Dit kan door andere features (zoals de recommended IND) mee te nemen als input features. Een andere optie is om de output van de reeds getrainde text classifier als nieuwe feature te zien en daarmee samen met andere features (bijvoorbeeld recommended IND, lengte review, leeftijd) een nieuwe classifier te trainen die het sentiment of rating voorspelt.\n"
   ]
  },
  {
   "cell_type": "markdown",
   "metadata": {},
   "source": [
    "- Bij niet gebalanceerde data kan het helpen om de data op te splitsen via stratified sampling. Zoek het verschil uit tussen stratified sampling en random sampling. Meer info: http://statl6.blogspot.com/2015/11/other-effective-sampling-methods.html.\n",
    "Pas deze stratified sampling toe via StratifiedShuffleSplit: https://scikit-learn.org/stable/modules/generated/sklearn.model_selection.StratifiedShuffleSplit.html. Train de modellen opnieuw en vergelijk de accuracy en f1-score met de deze bekomen via het trainen van de modellen op random sampled data."
   ]
  },
  {
   "cell_type": "code",
   "execution_count": 80,
   "metadata": {},
   "outputs": [
    {
     "name": "stdout",
     "output_type": "stream",
     "text": [
      "[0 1 1 ... 0 0 1]\n"
     ]
    }
   ],
   "source": [
    "y = ys\n",
    "print(y)"
   ]
  },
  {
   "cell_type": "code",
   "execution_count": 81,
   "metadata": {},
   "outputs": [
    {
     "name": "stdout",
     "output_type": "stream",
     "text": [
      "StratifiedShuffleSplit(n_splits=5, random_state=0, test_size=5000,\n",
      "            train_size=None)\n",
      "TRAIN: [ 8619 13698 12159 ...  2788 17404  5926] TEST: [10181 15066  3865 ...  3520 17056  7081]\n",
      "TRAIN: [ 5296 12948  4483 ... 11925 16813 10017] TEST: [18309  7973  6250 ... 17115  6955 10745]\n",
      "TRAIN: [  120  1728 17998 ... 17681 18365  1331] TEST: [14940   193  5163 ...  6177 13093  6135]\n",
      "TRAIN: [ 7428  9917   725 ...  6097 14217 17586] TEST: [ 8128 15355  6112 ... 13610 15551 13318]\n",
      "TRAIN: [19007  4916 10409 ... 17132  7165 16981] TEST: [10392  1117 10688 ...  5696 11158  9694]\n"
     ]
    }
   ],
   "source": [
    "from sklearn.model_selection import StratifiedShuffleSplit\n",
    "\n",
    "sss = StratifiedShuffleSplit(n_splits=5, test_size=5000, random_state=0)\n",
    "sss.get_n_splits(X, y)\n",
    "print(sss)\n",
    "\n",
    "for train_index, test_index in sss.split(X, y):\n",
    "    print(\"TRAIN:\", train_index, \"TEST:\", test_index)\n",
    "    X_train, X_test = X[train_index], X[test_index]\n",
    "    y_train, y_test = y[train_index], y[test_index]"
   ]
  },
  {
   "cell_type": "code",
   "execution_count": 82,
   "metadata": {},
   "outputs": [],
   "source": [
    "# Convert training and test set to bag of words\n",
    "language = 'english'\n",
    "minWordLength = 2\n",
    "\n",
    "for i in range(X_train.size):\n",
    "    X_train[i] = text_preprocessing(X_train[i], language, minWordLength)\n",
    "    \n",
    "    \n",
    "for i in range(X_test.size):\n",
    "    X_test[i] = text_preprocessing(X_test[i], language, minWordLength)"
   ]
  },
  {
   "cell_type": "code",
   "execution_count": 83,
   "metadata": {},
   "outputs": [
    {
     "name": "stdout",
     "output_type": "stream",
     "text": [
      "  (0, 424)\t1\n",
      "  (0, 524)\t1\n",
      "  (0, 1129)\t1\n",
      "  (0, 1299)\t1\n",
      "  (0, 2010)\t1\n",
      "  (0, 2342)\t2\n",
      "  (0, 2792)\t1\n",
      "  (0, 2818)\t1\n",
      "  (0, 3097)\t1\n",
      "  (0, 3902)\t1\n",
      "  (0, 4324)\t1\n",
      "  (0, 5377)\t1\n",
      "  (0, 5914)\t1\n",
      "  (0, 7453)\t1\n",
      "  (1, 1129)\t1\n",
      "  (1, 1299)\t1\n",
      "  (1, 1807)\t1\n",
      "  (1, 3097)\t1\n",
      "  (1, 3324)\t1\n",
      "  (1, 3655)\t1\n",
      "  (1, 5156)\t1\n",
      "  (1, 5964)\t1\n",
      "  (1, 6245)\t1\n",
      "  (1, 7216)\t1\n",
      "  (1, 7587)\t1\n",
      "  :\t:\n",
      "  (14660, 5644)\t1\n",
      "  (14660, 5692)\t1\n",
      "  (14660, 6175)\t1\n",
      "  (14660, 6522)\t2\n",
      "  (14660, 7587)\t1\n",
      "  (14661, 21)\t1\n",
      "  (14661, 590)\t1\n",
      "  (14661, 710)\t1\n",
      "  (14661, 903)\t1\n",
      "  (14661, 1477)\t1\n",
      "  (14661, 1627)\t1\n",
      "  (14661, 1797)\t1\n",
      "  (14661, 2010)\t2\n",
      "  (14661, 2426)\t1\n",
      "  (14661, 2454)\t1\n",
      "  (14661, 2482)\t2\n",
      "  (14661, 3902)\t1\n",
      "  (14661, 4618)\t1\n",
      "  (14661, 5608)\t1\n",
      "  (14661, 5776)\t1\n",
      "  (14661, 6144)\t1\n",
      "  (14661, 6849)\t1\n",
      "  (14661, 7222)\t1\n",
      "  (14661, 7667)\t1\n",
      "  (14661, 7691)\t1\n"
     ]
    }
   ],
   "source": [
    "# Make sparse features vectors\n",
    "\n",
    "# Omzetten naar bag-of-words\n",
    "\n",
    "# create instance \n",
    "count_vect = CountVectorizer()\n",
    "\n",
    "# train the object on the training set\n",
    "X_train_bag_of_words = count_vect.fit(X_train)\n",
    "\n",
    "# apply  the function on train\n",
    "X_train_bag_of_words = count_vect.transform(X_train)\n",
    "# apply  the function on test\n",
    "X_test_bag_of_words = count_vect.transform(X_test)\n",
    "\n",
    "print(X_train_bag_of_words)\n",
    "#print(X_test_bag_of_words)\n",
    "\n",
    "tfidf_transformer = TfidfTransformer()\n",
    "tf_transformer = TfidfTransformer(use_idf=True).fit(X_train_bag_of_words)\n",
    "X_train_tf = tf_transformer.transform(X_train_bag_of_words)\n",
    "X_test_tf = tf_transformer.transform(X_test_bag_of_words)\n"
   ]
  },
  {
   "cell_type": "markdown",
   "metadata": {},
   "source": [
    "### Evaluate the model"
   ]
  },
  {
   "cell_type": "code",
   "execution_count": 84,
   "metadata": {},
   "outputs": [
    {
     "data": {
      "text/plain": [
       "MultinomialNB(alpha=1)"
      ]
     },
     "execution_count": 84,
     "metadata": {},
     "output_type": "execute_result"
    }
   ],
   "source": [
    "# Train a Naive bayes classifier\n",
    "\n",
    "NBclassifier = MultinomialNB(alpha=1)\n",
    "\n",
    "NBclassifier.fit(X_train_tf, y_train)"
   ]
  },
  {
   "cell_type": "code",
   "execution_count": 85,
   "metadata": {},
   "outputs": [
    {
     "name": "stdout",
     "output_type": "stream",
     "text": [
      "              precision    recall  f1-score   support\n",
      "\n",
      "          -1       0.88      0.01      0.03       521\n",
      "           0       0.00      0.00      0.00       627\n",
      "           1       0.77      1.00      0.87      3852\n",
      "\n",
      "    accuracy                           0.77      5000\n",
      "   macro avg       0.55      0.34      0.30      5000\n",
      "weighted avg       0.69      0.77      0.67      5000\n",
      "\n",
      "[[   7    1  513]\n",
      " [   1    0  626]\n",
      " [   0    0 3852]]\n",
      "77.18\n"
     ]
    }
   ],
   "source": [
    "# test Naive Bayes classifier\n",
    "\n",
    "y_pred = NBclassifier.predict(X_test_tf)\n",
    "print(classification_report(y_test, y_pred))\n",
    "\n",
    "cf = confusion_matrix(y_test, y_pred)\n",
    "print(cf)\n",
    "print(accuracy_score(y_test, y_pred) * 100)"
   ]
  },
  {
   "cell_type": "code",
   "execution_count": 86,
   "metadata": {},
   "outputs": [
    {
     "name": "stderr",
     "output_type": "stream",
     "text": [
      "C:\\Users\\Dominic Ho\\anaconda3\\lib\\site-packages\\sklearn\\linear_model\\_logistic.py:762: ConvergenceWarning: lbfgs failed to converge (status=1):\n",
      "STOP: TOTAL NO. of ITERATIONS REACHED LIMIT.\n",
      "\n",
      "Increase the number of iterations (max_iter) or scale the data as shown in:\n",
      "    https://scikit-learn.org/stable/modules/preprocessing.html\n",
      "Please also refer to the documentation for alternative solver options:\n",
      "    https://scikit-learn.org/stable/modules/linear_model.html#logistic-regression\n",
      "  n_iter_i = _check_optimize_result(\n"
     ]
    },
    {
     "data": {
      "text/plain": [
       "LogisticRegression(C=10)"
      ]
     },
     "execution_count": 86,
     "metadata": {},
     "output_type": "execute_result"
    }
   ],
   "source": [
    "# train a logistic regression classifier\n",
    "lregclassifier = LogisticRegression(C=10)\n",
    "\n",
    "lregclassifier.fit(X_train_tf, y_train)"
   ]
  },
  {
   "cell_type": "code",
   "execution_count": 87,
   "metadata": {},
   "outputs": [
    {
     "name": "stdout",
     "output_type": "stream",
     "text": [
      "              precision    recall  f1-score   support\n",
      "\n",
      "          -1       0.53      0.44      0.48       521\n",
      "           0       0.41      0.29      0.34       627\n",
      "           1       0.89      0.95      0.92      3852\n",
      "\n",
      "    accuracy                           0.81      5000\n",
      "   macro avg       0.61      0.56      0.58      5000\n",
      "weighted avg       0.79      0.81      0.80      5000\n",
      "\n",
      "[[ 227  133  161]\n",
      " [ 136  183  308]\n",
      " [  69  130 3653]]\n",
      "81.26\n"
     ]
    }
   ],
   "source": [
    "# test logistic classifier\n",
    "\n",
    "y_pred = lregclassifier.predict(X_test_tf)\n",
    "print(classification_report(y_test, y_pred))\n",
    "\n",
    "cf = confusion_matrix(y_test, y_pred)\n",
    "print(cf)\n",
    "print(accuracy_score(y_test, y_pred) * 100) "
   ]
  },
  {
   "cell_type": "code",
   "execution_count": 88,
   "metadata": {},
   "outputs": [
    {
     "data": {
      "text/plain": [
       "SVC(C=0.1, kernel='linear')"
      ]
     },
     "execution_count": 88,
     "metadata": {},
     "output_type": "execute_result"
    }
   ],
   "source": [
    "# train a SVM\n",
    "SVMlinear = svm.SVC(kernel='linear',C=0.1)\n",
    "SVMlinear.fit(X_train_tf, y_train)"
   ]
  },
  {
   "cell_type": "code",
   "execution_count": 89,
   "metadata": {},
   "outputs": [
    {
     "name": "stdout",
     "output_type": "stream",
     "text": [
      "              precision    recall  f1-score   support\n",
      "\n",
      "          -1       0.81      0.06      0.10       521\n",
      "           0       0.00      0.00      0.00       627\n",
      "           1       0.78      1.00      0.87      3852\n",
      "\n",
      "    accuracy                           0.78      5000\n",
      "   macro avg       0.53      0.35      0.33      5000\n",
      "weighted avg       0.68      0.78      0.68      5000\n",
      "\n",
      "[[  29    0  492]\n",
      " [   7    0  620]\n",
      " [   0    0 3852]]\n",
      "77.62\n"
     ]
    },
    {
     "name": "stderr",
     "output_type": "stream",
     "text": [
      "C:\\Users\\Dominic Ho\\anaconda3\\lib\\site-packages\\sklearn\\metrics\\_classification.py:1221: UndefinedMetricWarning: Precision and F-score are ill-defined and being set to 0.0 in labels with no predicted samples. Use `zero_division` parameter to control this behavior.\n",
      "  _warn_prf(average, modifier, msg_start, len(result))\n"
     ]
    }
   ],
   "source": [
    "# test SVM\n",
    "y_pred = SVMlinear.predict(X_test_tf)\n",
    "print(classification_report(y_test, y_pred))\n",
    "\n",
    "cf = confusion_matrix(y_test, y_pred)\n",
    "print(cf)\n",
    "print(accuracy_score(y_test, y_pred) * 100) \n"
   ]
  },
  {
   "cell_type": "markdown",
   "metadata": {},
   "source": [
    "### Testen en hyperparameter tuning"
   ]
  },
  {
   "cell_type": "code",
   "execution_count": 90,
   "metadata": {},
   "outputs": [
    {
     "name": "stderr",
     "output_type": "stream",
     "text": [
      "[Parallel(n_jobs=-1)]: Using backend LokyBackend with 4 concurrent workers.\n"
     ]
    },
    {
     "name": "stdout",
     "output_type": "stream",
     "text": [
      "Fitting 20 folds for each of 5 candidates, totalling 100 fits\n"
     ]
    },
    {
     "name": "stderr",
     "output_type": "stream",
     "text": [
      "[Parallel(n_jobs=-1)]: Done  10 tasks      | elapsed:    2.1s\n"
     ]
    },
    {
     "name": "stdout",
     "output_type": "stream",
     "text": [
      "Best accuracy :  0.7894561003081659\n",
      "Best parameters : {'alpha': 0.01}\n",
      "              precision    recall  f1-score   support\n",
      "\n",
      "          -1       0.63      0.17      0.27       521\n",
      "           0       0.38      0.08      0.13       627\n",
      "           1       0.81      0.99      0.89      3852\n",
      "\n",
      "    accuracy                           0.79      5000\n",
      "   macro avg       0.60      0.41      0.43      5000\n",
      "weighted avg       0.73      0.79      0.73      5000\n",
      "\n",
      "[[  91   53  377]\n",
      " [  40   49  538]\n",
      " [  14   27 3811]]\n",
      "79.02\n"
     ]
    },
    {
     "name": "stderr",
     "output_type": "stream",
     "text": [
      "[Parallel(n_jobs=-1)]: Done 100 out of 100 | elapsed:    2.7s finished\n"
     ]
    }
   ],
   "source": [
    "# hyperparameter tuning Naive Bayes - Grid Search\n",
    "\n",
    "from sklearn.model_selection import GridSearchCV\n",
    "\n",
    "\n",
    "model = MultinomialNB()\n",
    "paramaters = [\n",
    "             {'alpha' : [0.001, 0.01, 0.1, 1, 10]}                                       \n",
    "             ]\n",
    "\n",
    "grid_search = GridSearchCV(estimator = model, \n",
    "                           param_grid = paramaters,\n",
    "                           scoring = 'accuracy',\n",
    "                           cv = 20,\n",
    "                           n_jobs = -1,\n",
    "                           verbose=5)\n",
    "grid_search = grid_search.fit(X_train_tf, y_train)\n",
    "\n",
    "best_accuracy = grid_search.best_score_ \n",
    "best_parameters = grid_search.best_params_  \n",
    "\n",
    "print('Best accuracy : ', grid_search.best_score_)\n",
    "print('Best parameters :', grid_search.best_params_  )\n",
    "\n",
    "y_pred = grid_search.predict(X_test_tf)\n",
    "print(classification_report(y_test, y_pred))\n",
    "\n",
    "cf = confusion_matrix(y_test, y_pred)\n",
    "print(cf)\n",
    "print(accuracy_score(y_test, y_pred) * 100) "
   ]
  },
  {
   "cell_type": "code",
   "execution_count": 91,
   "metadata": {},
   "outputs": [
    {
     "name": "stderr",
     "output_type": "stream",
     "text": [
      "C:\\Users\\Dominic Ho\\anaconda3\\lib\\site-packages\\sklearn\\model_selection\\_search.py:278: UserWarning: The total space of parameters 5 is smaller than n_iter=20. Running 5 iterations. For exhaustive searches, use GridSearchCV.\n",
      "  warnings.warn(\n",
      "[Parallel(n_jobs=-1)]: Using backend LokyBackend with 4 concurrent workers.\n",
      "[Parallel(n_jobs=-1)]: Done  18 out of  25 | elapsed:    0.1s remaining:    0.0s\n"
     ]
    },
    {
     "name": "stdout",
     "output_type": "stream",
     "text": [
      "Fitting 5 folds for each of 5 candidates, totalling 25 fits\n"
     ]
    },
    {
     "name": "stderr",
     "output_type": "stream",
     "text": [
      "[Parallel(n_jobs=-1)]: Done  25 out of  25 | elapsed:    0.1s finished\n"
     ]
    },
    {
     "name": "stdout",
     "output_type": "stream",
     "text": [
      "Best accuracy :  0.7884328214154313\n",
      "Best parameters : {'alpha': 0.1}\n",
      "              precision    recall  f1-score   support\n",
      "\n",
      "          -1       0.70      0.15      0.24       521\n",
      "           0       0.34      0.04      0.08       627\n",
      "           1       0.80      1.00      0.89      3852\n",
      "\n",
      "    accuracy                           0.79      5000\n",
      "   macro avg       0.61      0.40      0.40      5000\n",
      "weighted avg       0.73      0.79      0.72      5000\n",
      "\n",
      "[[  76   43  402]\n",
      " [  27   28  572]\n",
      " [   6   12 3834]]\n",
      "78.75999999999999\n"
     ]
    }
   ],
   "source": [
    "# hyperparameter tuning Naive Bayes - Random Search\n",
    "\n",
    "from sklearn.model_selection import RandomizedSearchCV\n",
    "# distributions\n",
    "from scipy.stats import randint \n",
    "from scipy.stats import uniform\n",
    "\n",
    "\n",
    "model = MultinomialNB()\n",
    "parameters = [\n",
    "             {'alpha' : [0.001, 0.01, 0.1, 1, 10]}                                       \n",
    "             ]\n",
    "\n",
    "# random search zoeken, bv 20 willekeurig random searches\n",
    "n_iter_search = 20\n",
    "\n",
    "# cv = cross validatie\n",
    "random_search = RandomizedSearchCV(model, param_distributions=parameters,cv=5,n_iter=n_iter_search,n_jobs = -1,verbose=1)\n",
    "\n",
    "random_search = random_search.fit(X_train_tf, y_train)\n",
    "\n",
    "best_accuracy = random_search.best_score_ \n",
    "best_parameters = random_search.best_params_  \n",
    "\n",
    "print('Best accuracy : ', random_search.best_score_)\n",
    "print('Best parameters :',random_search.best_params_  )\n",
    "\n",
    "y_pred = random_search.predict(X_test_tf)\n",
    "print(classification_report(y_test, y_pred))\n",
    "\n",
    "cf = confusion_matrix(y_test, y_pred)\n",
    "print(cf)\n",
    "print(accuracy_score(y_test, y_pred) * 100) "
   ]
  },
  {
   "cell_type": "code",
   "execution_count": 92,
   "metadata": {},
   "outputs": [
    {
     "name": "stdout",
     "output_type": "stream",
     "text": [
      "Fitting 20 folds for each of 50 candidates, totalling 1000 fits\n"
     ]
    },
    {
     "name": "stderr",
     "output_type": "stream",
     "text": [
      "[Parallel(n_jobs=-1)]: Using backend LokyBackend with 4 concurrent workers.\n",
      "[Parallel(n_jobs=-1)]: Done  10 tasks      | elapsed:    0.7s\n",
      "[Parallel(n_jobs=-1)]: Done  64 tasks      | elapsed:    8.3s\n",
      "[Parallel(n_jobs=-1)]: Done 154 tasks      | elapsed:   20.9s\n",
      "[Parallel(n_jobs=-1)]: Done 280 tasks      | elapsed:   43.7s\n",
      "[Parallel(n_jobs=-1)]: Done 442 tasks      | elapsed:  1.6min\n",
      "[Parallel(n_jobs=-1)]: Done 640 tasks      | elapsed:  2.9min\n",
      "[Parallel(n_jobs=-1)]: Done 874 tasks      | elapsed:  5.2min\n",
      "[Parallel(n_jobs=-1)]: Done 1000 out of 1000 | elapsed:  6.6min finished\n"
     ]
    },
    {
     "name": "stdout",
     "output_type": "stream",
     "text": [
      "Best accuracy :  0.8181013044076264\n",
      "Best parameters : {'C': 1, 'class_weight': None, 'solver': 'newton-cg'}\n",
      "              precision    recall  f1-score   support\n",
      "\n",
      "          -1       0.59      0.39      0.47       521\n",
      "           0       0.41      0.20      0.27       627\n",
      "           1       0.86      0.97      0.91      3852\n",
      "\n",
      "    accuracy                           0.82      5000\n",
      "   macro avg       0.62      0.52      0.55      5000\n",
      "weighted avg       0.78      0.82      0.79      5000\n",
      "\n",
      "[[ 204  110  207]\n",
      " [ 107  127  393]\n",
      " [  35   71 3746]]\n",
      "81.54\n"
     ]
    }
   ],
   "source": [
    "# hyperparameter tuning Logistic Regression - Grid Search\n",
    "\n",
    "from sklearn.model_selection import GridSearchCV\n",
    "from sklearn.linear_model import LogisticRegression\n",
    "\n",
    "model = LogisticRegression()\n",
    "paramaters = [\n",
    "             {'C' : [0.01, 0.1, 1, 10, 100], \n",
    "              'solver': ['liblinear','lbfgs', 'newton-cg', 'sag','saga'], \n",
    "              'class_weight': [None, 'balanced']},                                       \n",
    "             ]\n",
    "\n",
    "\n",
    "grid_search = GridSearchCV(estimator = model, \n",
    "                           param_grid = paramaters,\n",
    "                           scoring = 'accuracy',\n",
    "                           cv = 20,\n",
    "                           n_jobs = -1,\n",
    "                           verbose=5)\n",
    "grid_search = grid_search.fit(X_train_tf, y_train)\n",
    "\n",
    "best_accuracy = grid_search.best_score_ \n",
    "best_parameters = grid_search.best_params_  \n",
    "\n",
    "print('Best accuracy : ', grid_search.best_score_)\n",
    "print('Best parameters :', grid_search.best_params_  )\n",
    "\n",
    "y_pred = grid_search.predict(X_test_tf)\n",
    "print(classification_report(y_test, y_pred))\n",
    "\n",
    "cf = confusion_matrix(y_test, y_pred)\n",
    "print(cf)\n",
    "print(accuracy_score(y_test, y_pred) * 100) "
   ]
  },
  {
   "cell_type": "code",
   "execution_count": 93,
   "metadata": {},
   "outputs": [
    {
     "name": "stdout",
     "output_type": "stream",
     "text": [
      "Fitting 20 folds for each of 20 candidates, totalling 400 fits\n"
     ]
    },
    {
     "name": "stderr",
     "output_type": "stream",
     "text": [
      "[Parallel(n_jobs=-1)]: Using backend LokyBackend with 4 concurrent workers.\n",
      "[Parallel(n_jobs=-1)]: Done  42 tasks      | elapsed:   26.9s\n",
      "[Parallel(n_jobs=-1)]: Done 192 tasks      | elapsed:  1.8min\n",
      "[Parallel(n_jobs=-1)]: Done 400 out of 400 | elapsed:  3.5min finished\n"
     ]
    },
    {
     "name": "stdout",
     "output_type": "stream",
     "text": [
      "Best accuracy :  0.8166007152123893\n",
      "Best parameters : {'C': 2.5042558060299855, 'class_weight': None, 'solver': 'newton-cg'}\n",
      "              precision    recall  f1-score   support\n",
      "\n",
      "          -1       0.57      0.43      0.49       521\n",
      "           0       0.42      0.25      0.31       627\n",
      "           1       0.88      0.96      0.92      3852\n",
      "\n",
      "    accuracy                           0.82      5000\n",
      "   macro avg       0.62      0.55      0.57      5000\n",
      "weighted avg       0.79      0.82      0.80      5000\n",
      "\n",
      "[[ 226  125  170]\n",
      " [ 125  155  347]\n",
      " [  46   92 3714]]\n",
      "81.89999999999999\n"
     ]
    }
   ],
   "source": [
    "# hyperparameter tuning Logistic Regression - Random Search\n",
    "from sklearn.model_selection import RandomizedSearchCV\n",
    "from scipy.stats import randint \n",
    "from scipy.stats import uniform\n",
    "from sklearn.linear_model import LogisticRegression\n",
    "\n",
    "model = LogisticRegression()\n",
    "\n",
    "parameters = [\n",
    "             {'C' : uniform(0.01, 20), \n",
    "              'solver': ['liblinear','lbfgs', 'newton-cg', 'sag','saga'],\n",
    "              'class_weight': [None, 'balanced']}\n",
    "             ]\n",
    "\n",
    "n_iter_search = 20\n",
    "\n",
    "random_search = RandomizedSearchCV(model, param_distributions=parameters,cv=20,n_iter=n_iter_search,n_jobs = -1,verbose=1)\n",
    "\n",
    "random_search = random_search.fit(X_train_tf, y_train)\n",
    "\n",
    "best_accuracy = random_search.best_score_ \n",
    "best_parameters = random_search.best_params_  \n",
    "\n",
    "print('Best accuracy : ', random_search.best_score_)\n",
    "print('Best parameters :',random_search.best_params_  )\n",
    "\n",
    "y_pred = random_search.predict(X_test_tf)\n",
    "print(classification_report(y_test, y_pred))\n",
    "\n",
    "cf = confusion_matrix(y_test, y_pred)\n",
    "print(cf)\n",
    "print(accuracy_score(y_test, y_pred) * 100) "
   ]
  },
  {
   "cell_type": "code",
   "execution_count": 94,
   "metadata": {},
   "outputs": [
    {
     "name": "stdout",
     "output_type": "stream",
     "text": [
      "Fitting 5 folds for each of 20 candidates, totalling 100 fits\n"
     ]
    },
    {
     "name": "stderr",
     "output_type": "stream",
     "text": [
      "[Parallel(n_jobs=-1)]: Using backend LokyBackend with 4 concurrent workers.\n",
      "[Parallel(n_jobs=-1)]: Done  42 tasks      | elapsed: 14.7min\n",
      "[Parallel(n_jobs=-1)]: Done 100 out of 100 | elapsed: 35.8min finished\n"
     ]
    },
    {
     "name": "stdout",
     "output_type": "stream",
     "text": [
      "Best accuracy :  0.816327982514446\n",
      "Best parameters : {'C': 1, 'class_weight': None, 'degree': 2, 'kernel': 'linear'}\n",
      "              precision    recall  f1-score   support\n",
      "\n",
      "          -1       0.57      0.44      0.50       521\n",
      "           0       0.42      0.22      0.29       627\n",
      "           1       0.87      0.97      0.92      3852\n",
      "\n",
      "    accuracy                           0.82      5000\n",
      "   macro avg       0.62      0.54      0.57      5000\n",
      "weighted avg       0.79      0.82      0.80      5000\n",
      "\n",
      "[[ 230  120  171]\n",
      " [ 122  138  367]\n",
      " [  50   70 3732]]\n",
      "82.0\n"
     ]
    }
   ],
   "source": [
    "# hyperparameter tuning SVM - Random Search\n",
    "\n",
    "from sklearn.model_selection import RandomizedSearchCV\n",
    "from scipy.stats import randint \n",
    "from scipy.stats import uniform\n",
    "\n",
    "\n",
    "#svc trainen\n",
    "model = SVC()\n",
    "\n",
    "parameters = [\n",
    "    {'kernel': ['linear'], \n",
    "     'C': [0.01, 0.1, 1, 10, 100], \n",
    "     'degree': [2,3,4], \n",
    "     'class_weight': [None, 'balanced']\n",
    "    },\n",
    "    {'kernel': ['rbf', 'poly', 'sigmoid'], \n",
    "     'C': [0.01, 0.1, 1, 10, 100], \n",
    "     'gamma': uniform(0.001, 0.2), \n",
    "     'degree': [2,3,4], \n",
    "     'class_weight': [None, 'balanced']}\n",
    "]\n",
    " \n",
    "n_iter_search = 20\n",
    "\n",
    "random_search = RandomizedSearchCV(model, param_distributions=parameters,cv=5,n_iter=n_iter_search,n_jobs = -1,verbose=1)\n",
    "\n",
    "random_search = random_search.fit(X_train_tf, y_train)\n",
    "\n",
    "best_accuracy = random_search.best_score_ \n",
    "best_parameters = random_search.best_params_  \n",
    "\n",
    "print('Best accuracy : ', random_search.best_score_)\n",
    "print('Best parameters :',random_search.best_params_  )\n",
    "\n",
    "y_pred = random_search.predict(X_test_tf)\n",
    "print(classification_report(y_test, y_pred))\n",
    "\n",
    "cf = confusion_matrix(y_test, y_pred)\n",
    "print(cf)\n",
    "print(accuracy_score(y_test, y_pred) * 100) "
   ]
  },
  {
   "cell_type": "markdown",
   "metadata": {},
   "source": [
    "In general there is a slight increase for the 3 classifiers. Therefore the use of StratifiedShuffleSplit is recommended as it improves the performance of the model."
   ]
  },
  {
   "cell_type": "markdown",
   "metadata": {},
   "source": [
    "- Voorspel in plaats van het sentiment (negatief, neutraal, positief) de rating zelf."
   ]
  },
  {
   "cell_type": "code",
   "execution_count": 95,
   "metadata": {},
   "outputs": [
    {
     "name": "stdout",
     "output_type": "stream",
     "text": [
      "(19662, 10)\n"
     ]
    },
    {
     "data": {
      "text/html": [
       "<div>\n",
       "<style scoped>\n",
       "    .dataframe tbody tr th:only-of-type {\n",
       "        vertical-align: middle;\n",
       "    }\n",
       "\n",
       "    .dataframe tbody tr th {\n",
       "        vertical-align: top;\n",
       "    }\n",
       "\n",
       "    .dataframe thead th {\n",
       "        text-align: right;\n",
       "    }\n",
       "</style>\n",
       "<table border=\"1\" class=\"dataframe\">\n",
       "  <thead>\n",
       "    <tr style=\"text-align: right;\">\n",
       "      <th></th>\n",
       "      <th>Clothing ID</th>\n",
       "      <th>Age</th>\n",
       "      <th>Title</th>\n",
       "      <th>Review Text</th>\n",
       "      <th>Rating</th>\n",
       "      <th>Recommended IND</th>\n",
       "      <th>Positive Feedback Count</th>\n",
       "      <th>Division Name</th>\n",
       "      <th>Department Name</th>\n",
       "      <th>Class Name</th>\n",
       "    </tr>\n",
       "  </thead>\n",
       "  <tbody>\n",
       "    <tr>\n",
       "      <th>2</th>\n",
       "      <td>1077</td>\n",
       "      <td>60</td>\n",
       "      <td>Some major design flaws</td>\n",
       "      <td>I had such high hopes for this dress and reall...</td>\n",
       "      <td>3</td>\n",
       "      <td>0</td>\n",
       "      <td>0</td>\n",
       "      <td>General</td>\n",
       "      <td>Dresses</td>\n",
       "      <td>Dresses</td>\n",
       "    </tr>\n",
       "    <tr>\n",
       "      <th>3</th>\n",
       "      <td>1049</td>\n",
       "      <td>50</td>\n",
       "      <td>My favorite buy!</td>\n",
       "      <td>I love, love, love this jumpsuit. it's fun, fl...</td>\n",
       "      <td>5</td>\n",
       "      <td>1</td>\n",
       "      <td>0</td>\n",
       "      <td>General Petite</td>\n",
       "      <td>Bottoms</td>\n",
       "      <td>Pants</td>\n",
       "    </tr>\n",
       "    <tr>\n",
       "      <th>4</th>\n",
       "      <td>847</td>\n",
       "      <td>47</td>\n",
       "      <td>Flattering shirt</td>\n",
       "      <td>This shirt is very flattering to all due to th...</td>\n",
       "      <td>5</td>\n",
       "      <td>1</td>\n",
       "      <td>6</td>\n",
       "      <td>General</td>\n",
       "      <td>Tops</td>\n",
       "      <td>Blouses</td>\n",
       "    </tr>\n",
       "    <tr>\n",
       "      <th>5</th>\n",
       "      <td>1080</td>\n",
       "      <td>49</td>\n",
       "      <td>Not for the very petite</td>\n",
       "      <td>I love tracy reese dresses, but this one is no...</td>\n",
       "      <td>2</td>\n",
       "      <td>0</td>\n",
       "      <td>4</td>\n",
       "      <td>General</td>\n",
       "      <td>Dresses</td>\n",
       "      <td>Dresses</td>\n",
       "    </tr>\n",
       "    <tr>\n",
       "      <th>6</th>\n",
       "      <td>858</td>\n",
       "      <td>39</td>\n",
       "      <td>Cagrcoal shimmer fun</td>\n",
       "      <td>I aded this in my basket at hte last mintue to...</td>\n",
       "      <td>5</td>\n",
       "      <td>1</td>\n",
       "      <td>1</td>\n",
       "      <td>General Petite</td>\n",
       "      <td>Tops</td>\n",
       "      <td>Knits</td>\n",
       "    </tr>\n",
       "  </tbody>\n",
       "</table>\n",
       "</div>"
      ],
      "text/plain": [
       "   Clothing ID  Age                    Title  \\\n",
       "2         1077   60  Some major design flaws   \n",
       "3         1049   50         My favorite buy!   \n",
       "4          847   47         Flattering shirt   \n",
       "5         1080   49  Not for the very petite   \n",
       "6          858   39     Cagrcoal shimmer fun   \n",
       "\n",
       "                                         Review Text  Rating  Recommended IND  \\\n",
       "2  I had such high hopes for this dress and reall...       3                0   \n",
       "3  I love, love, love this jumpsuit. it's fun, fl...       5                1   \n",
       "4  This shirt is very flattering to all due to th...       5                1   \n",
       "5  I love tracy reese dresses, but this one is no...       2                0   \n",
       "6  I aded this in my basket at hte last mintue to...       5                1   \n",
       "\n",
       "   Positive Feedback Count   Division Name Department Name Class Name  \n",
       "2                        0         General         Dresses    Dresses  \n",
       "3                        0  General Petite         Bottoms      Pants  \n",
       "4                        6         General            Tops    Blouses  \n",
       "5                        4         General         Dresses    Dresses  \n",
       "6                        1  General Petite            Tops      Knits  "
      ]
     },
     "execution_count": 95,
     "metadata": {},
     "output_type": "execute_result"
    }
   ],
   "source": [
    "# Inlezen van de dataset\n",
    "\n",
    "dataset = pd.read_csv('./Womens_Clothing_Reviews.csv')\n",
    "\n",
    "# verwijder kolom unnamed\n",
    "dataset.drop(['Unnamed: 0'], axis=1, inplace=True)\n",
    "#Verwijderen van rijen met NaN waarden \n",
    "dataset.dropna(axis=0,inplace=True)\n",
    "\n",
    "print(dataset.shape)\n",
    "dataset.head()"
   ]
  },
  {
   "cell_type": "code",
   "execution_count": 96,
   "metadata": {},
   "outputs": [
    {
     "name": "stdout",
     "output_type": "stream",
     "text": [
      "['I had such high hopes for this dress and really wanted it to work for me. i initially ordered the petite small (my usual size) but i found this to be outrageously small. so small in fact that i could not zip it up! i reordered it in petite medium, which was just ok. overall, the top half was comfortable and fit nicely, but the bottom half had a very tight under layer and several somewhat cheap (net) over layers. imo, a major design flaw was the net over layer sewn directly into the zipper - it c'\n",
      " \"I love, love, love this jumpsuit. it's fun, flirty, and fabulous! every time i wear it, i get nothing but great compliments!\"\n",
      " 'This shirt is very flattering to all due to the adjustable front tie. it is the perfect length to wear with leggings and it is sleeveless so it pairs well with any cardigan. love this shirt!!!'\n",
      " ...\n",
      " \"This fit well, but the top was very see through. this never would have worked for me. i'm glad i was able to try it on in the store and didn't order it online. with different fabric, it would have been great.\"\n",
      " \"I bought this dress for a wedding i have this summer, and it's so cute. unfortunately the fit isn't perfect. the medium fits my waist perfectly, but was way too long and too big in the bust and shoulders. if i wanted to spend the money, i could get it tailored, but i just felt like it might not be worth it. side note - this dress was delivered to me with a nordstrom tag on it and i found it much cheaper there after looking!\"\n",
      " 'This dress in a lovely platinum is feminine and fits perfectly, easy to wear and comfy, too! highly recommend!']\n",
      "[3 5 5 ... 3 3 5]\n",
      "(19662,)\n",
      "(19662,)\n"
     ]
    }
   ],
   "source": [
    "X = dataset['Review Text'].values\n",
    "y = dataset['Rating'].values\n",
    "\n",
    "print(X)\n",
    "print(y)\n",
    "\n",
    "print(X.shape)\n",
    "print(y.shape)"
   ]
  },
  {
   "cell_type": "code",
   "execution_count": 97,
   "metadata": {},
   "outputs": [],
   "source": [
    "# Preprocessing van de tekst.\n",
    "\n",
    "def text_preprocessing(text, language, minWordSize):\n",
    "    \n",
    "    # remove html\n",
    "    text_no_html = BeautifulSoup(str(text),\"html.parser\" ).get_text()\n",
    "    \n",
    "    # remove non-letters\n",
    "    text_alpha_chars = re.sub(\"[^a-zA-Z']\", \" \", str(text_no_html)) \n",
    "        \n",
    "    # convert to lower-case\n",
    "    text_lower = text_alpha_chars.lower()\n",
    "    \n",
    "    # remove stop words\n",
    "    stops = set(stopwords.words(language)) \n",
    "    text_no_stop_words = ' '\n",
    "    \n",
    "    for w in text_lower.split():\n",
    "        if w not in stops:  \n",
    "            text_no_stop_words = text_no_stop_words + w + ' '\n",
    "      \n",
    "       # do stemming\n",
    "    text_stemmer = ' '\n",
    "    stemmer = SnowballStemmer(language)\n",
    "    for w in text_no_stop_words.split():\n",
    "        text_stemmer = text_stemmer + stemmer.stem(w) + ' '\n",
    "         \n",
    "    # remove short words\n",
    "    text_no_short_words = ' '\n",
    "    for w in text_stemmer.split(): \n",
    "        if len(w) >=minWordSize:\n",
    "            text_no_short_words = text_no_short_words + w + ' '\n",
    " \n",
    "\n",
    "    return text_no_short_words"
   ]
  },
  {
   "cell_type": "code",
   "execution_count": 99,
   "metadata": {},
   "outputs": [
    {
     "name": "stdout",
     "output_type": "stream",
     "text": [
      "StratifiedShuffleSplit(n_splits=5, random_state=0, test_size=5000,\n",
      "            train_size=None)\n",
      "TRAIN: [ 4582 16410 10951 ...  5575  1668  5133] TEST: [  430  7563 16048 ...  9540  7920 17310]\n",
      "TRAIN: [ 9009  2014 14354 ...  6782  7831  6013] TEST: [17985  3640 10105 ... 11760 14736  4901]\n",
      "TRAIN: [ 1420 17234  7739 ...  4823 18817 13779] TEST: [12306 15253  5823 ...  4765 12923 15106]\n",
      "TRAIN: [ 6446 19023 12143 ... 18254  5918 17758] TEST: [17267  8389 17226 ...  8518 13056 16730]\n",
      "TRAIN: [ 3286  4332  5867 ...  3634  4439 12416] TEST: [ 5485 12406  3059 ... 12932  4341  9573]\n"
     ]
    }
   ],
   "source": [
    "from sklearn.model_selection import StratifiedShuffleSplit\n",
    "\n",
    "sss = StratifiedShuffleSplit(n_splits=5, test_size=5000, random_state=0)\n",
    "sss.get_n_splits(X, y)\n",
    "print(sss)\n",
    "\n",
    "for train_index, test_index in sss.split(X, y):\n",
    "    print(\"TRAIN:\", train_index, \"TEST:\", test_index)\n",
    "    X_train, X_test = X[train_index], X[test_index]\n",
    "    y_train, y_test = y[train_index], y[test_index]"
   ]
  },
  {
   "cell_type": "code",
   "execution_count": 100,
   "metadata": {},
   "outputs": [],
   "source": [
    "# Convert training and test set to bag of words\n",
    "language = 'english'\n",
    "minWordLength = 2\n",
    "\n",
    "for i in range(X_train.size):\n",
    "    X_train[i] = text_preprocessing(X_train[i], language, minWordLength)\n",
    "    \n",
    "    \n",
    "for i in range(X_test.size):\n",
    "    X_test[i] = text_preprocessing(X_test[i], language, minWordLength)"
   ]
  },
  {
   "cell_type": "code",
   "execution_count": 101,
   "metadata": {},
   "outputs": [
    {
     "name": "stdout",
     "output_type": "stream",
     "text": [
      "  (0, 187)\t1\n",
      "  (0, 438)\t1\n",
      "  (0, 451)\t1\n",
      "  (0, 766)\t1\n",
      "  (0, 960)\t1\n",
      "  (0, 1102)\t1\n",
      "  (0, 1109)\t1\n",
      "  (0, 1805)\t1\n",
      "  (0, 2268)\t2\n",
      "  (0, 2545)\t1\n",
      "  (0, 2692)\t1\n",
      "  (0, 3650)\t1\n",
      "  (0, 3683)\t1\n",
      "  (0, 3740)\t1\n",
      "  (0, 3839)\t1\n",
      "  (0, 4031)\t1\n",
      "  (0, 4060)\t1\n",
      "  (0, 4375)\t1\n",
      "  (0, 4656)\t2\n",
      "  (0, 4798)\t1\n",
      "  (0, 5208)\t1\n",
      "  (0, 5869)\t1\n",
      "  (0, 6019)\t2\n",
      "  (0, 6077)\t1\n",
      "  (0, 6243)\t1\n",
      "  :\t:\n",
      "  (14661, 1256)\t1\n",
      "  (14661, 2013)\t1\n",
      "  (14661, 2339)\t1\n",
      "  (14661, 2354)\t1\n",
      "  (14661, 2442)\t1\n",
      "  (14661, 2497)\t2\n",
      "  (14661, 2526)\t1\n",
      "  (14661, 2692)\t1\n",
      "  (14661, 2795)\t1\n",
      "  (14661, 3129)\t1\n",
      "  (14661, 3575)\t1\n",
      "  (14661, 3708)\t2\n",
      "  (14661, 3743)\t1\n",
      "  (14661, 3797)\t1\n",
      "  (14661, 3997)\t1\n",
      "  (14661, 4251)\t1\n",
      "  (14661, 4254)\t1\n",
      "  (14661, 4635)\t1\n",
      "  (14661, 4947)\t2\n",
      "  (14661, 5998)\t1\n",
      "  (14661, 6169)\t1\n",
      "  (14661, 6349)\t1\n",
      "  (14661, 6580)\t1\n",
      "  (14661, 7335)\t3\n",
      "  (14661, 7434)\t1\n"
     ]
    }
   ],
   "source": [
    "# Make sparse features vectors\n",
    "\n",
    "# Omzetten naar bag-of-words\n",
    "\n",
    "# create instance \n",
    "count_vect = CountVectorizer()\n",
    "\n",
    "# train the object on the training set\n",
    "X_train_bag_of_words = count_vect.fit(X_train)\n",
    "\n",
    "# apply  the function on train\n",
    "X_train_bag_of_words = count_vect.transform(X_train)\n",
    "# apply  the function on test\n",
    "X_test_bag_of_words = count_vect.transform(X_test)\n",
    "\n",
    "print(X_train_bag_of_words)\n",
    "#print(X_test_bag_of_words)\n",
    "\n",
    "tfidf_transformer = TfidfTransformer()\n",
    "tf_transformer = TfidfTransformer(use_idf=True).fit(X_train_bag_of_words)\n",
    "X_train_tf = tf_transformer.transform(X_train_bag_of_words)\n",
    "X_test_tf = tf_transformer.transform(X_test_bag_of_words)\n"
   ]
  },
  {
   "cell_type": "code",
   "execution_count": 102,
   "metadata": {},
   "outputs": [
    {
     "data": {
      "text/plain": [
       "MultinomialNB(alpha=1)"
      ]
     },
     "execution_count": 102,
     "metadata": {},
     "output_type": "execute_result"
    }
   ],
   "source": [
    "# Train a Naive bayes classifier\n",
    "\n",
    "NBclassifier = MultinomialNB(alpha=1)\n",
    "\n",
    "NBclassifier.fit(X_train_tf, y_train)"
   ]
  },
  {
   "cell_type": "code",
   "execution_count": 103,
   "metadata": {},
   "outputs": [
    {
     "name": "stdout",
     "output_type": "stream",
     "text": [
      "              precision    recall  f1-score   support\n",
      "\n",
      "           1       0.00      0.00      0.00       176\n",
      "           2       0.00      0.00      0.00       346\n",
      "           3       0.17      0.01      0.02       626\n",
      "           4       0.24      0.01      0.01      1091\n",
      "           5       0.56      1.00      0.72      2761\n",
      "\n",
      "    accuracy                           0.55      5000\n",
      "   macro avg       0.19      0.20      0.15      5000\n",
      "weighted avg       0.38      0.55      0.40      5000\n",
      "\n",
      "[[   0    0   10    4  162]\n",
      " [   0    0   12    6  328]\n",
      " [   0    0    5   13  608]\n",
      " [   0    0    3    8 1080]\n",
      " [   0    0    0    2 2759]]\n",
      "55.44\n"
     ]
    },
    {
     "name": "stderr",
     "output_type": "stream",
     "text": [
      "C:\\Users\\Dominic Ho\\anaconda3\\lib\\site-packages\\sklearn\\metrics\\_classification.py:1221: UndefinedMetricWarning: Precision and F-score are ill-defined and being set to 0.0 in labels with no predicted samples. Use `zero_division` parameter to control this behavior.\n",
      "  _warn_prf(average, modifier, msg_start, len(result))\n"
     ]
    }
   ],
   "source": [
    "# test Naive Bayes classifier\n",
    "\n",
    "y_pred = NBclassifier.predict(X_test_tf)\n",
    "print(classification_report(y_test, y_pred))\n",
    "\n",
    "cf = confusion_matrix(y_test, y_pred)\n",
    "print(cf)\n",
    "print(accuracy_score(y_test, y_pred) * 100)"
   ]
  },
  {
   "cell_type": "code",
   "execution_count": 104,
   "metadata": {},
   "outputs": [
    {
     "name": "stderr",
     "output_type": "stream",
     "text": [
      "C:\\Users\\Dominic Ho\\anaconda3\\lib\\site-packages\\sklearn\\linear_model\\_logistic.py:762: ConvergenceWarning: lbfgs failed to converge (status=1):\n",
      "STOP: TOTAL NO. of ITERATIONS REACHED LIMIT.\n",
      "\n",
      "Increase the number of iterations (max_iter) or scale the data as shown in:\n",
      "    https://scikit-learn.org/stable/modules/preprocessing.html\n",
      "Please also refer to the documentation for alternative solver options:\n",
      "    https://scikit-learn.org/stable/modules/linear_model.html#logistic-regression\n",
      "  n_iter_i = _check_optimize_result(\n"
     ]
    },
    {
     "data": {
      "text/plain": [
       "LogisticRegression(C=10)"
      ]
     },
     "execution_count": 104,
     "metadata": {},
     "output_type": "execute_result"
    }
   ],
   "source": [
    "# train a logistic regression classifier\n",
    "lregclassifier = LogisticRegression(C=10)\n",
    "\n",
    "lregclassifier.fit(X_train_tf, y_train)"
   ]
  },
  {
   "cell_type": "code",
   "execution_count": 105,
   "metadata": {},
   "outputs": [
    {
     "name": "stdout",
     "output_type": "stream",
     "text": [
      "              precision    recall  f1-score   support\n",
      "\n",
      "           1       0.32      0.20      0.25       176\n",
      "           2       0.26      0.21      0.23       346\n",
      "           3       0.35      0.36      0.36       626\n",
      "           4       0.39      0.33      0.36      1091\n",
      "           5       0.76      0.85      0.80      2761\n",
      "\n",
      "    accuracy                           0.61      5000\n",
      "   macro avg       0.42      0.39      0.40      5000\n",
      "weighted avg       0.58      0.61      0.59      5000\n",
      "\n",
      "[[  36   51   59    8   22]\n",
      " [  40   72  134   59   41]\n",
      " [  24   93  225  161  123]\n",
      " [   4   43  154  355  535]\n",
      " [   8   19   68  325 2341]]\n",
      "60.58\n"
     ]
    }
   ],
   "source": [
    "# test logistic classifier\n",
    "\n",
    "y_pred = lregclassifier.predict(X_test_tf)\n",
    "print(classification_report(y_test, y_pred))\n",
    "\n",
    "cf = confusion_matrix(y_test, y_pred)\n",
    "print(cf)\n",
    "print(accuracy_score(y_test, y_pred) * 100) "
   ]
  },
  {
   "cell_type": "code",
   "execution_count": 106,
   "metadata": {},
   "outputs": [
    {
     "data": {
      "text/plain": [
       "SVC(C=0.1, kernel='linear')"
      ]
     },
     "execution_count": 106,
     "metadata": {},
     "output_type": "execute_result"
    }
   ],
   "source": [
    "# train a SVM\n",
    "SVMlinear = svm.SVC(kernel='linear',C=0.1)\n",
    "SVMlinear.fit(X_train_tf, y_train)"
   ]
  },
  {
   "cell_type": "code",
   "execution_count": 107,
   "metadata": {},
   "outputs": [
    {
     "name": "stdout",
     "output_type": "stream",
     "text": [
      "              precision    recall  f1-score   support\n",
      "\n",
      "           1       0.00      0.00      0.00       176\n",
      "           2       0.00      0.00      0.00       346\n",
      "           3       0.39      0.19      0.25       626\n",
      "           4       0.62      0.00      0.01      1091\n",
      "           5       0.59      1.00      0.74      2761\n",
      "\n",
      "    accuracy                           0.58      5000\n",
      "   macro avg       0.32      0.24      0.20      5000\n",
      "weighted avg       0.51      0.58      0.44      5000\n",
      "\n",
      "[[   0    0   49    0  127]\n",
      " [   0    0   83    0  263]\n",
      " [   0    0  118    3  505]\n",
      " [   0    0   51    5 1035]\n",
      " [   0    0    4    0 2757]]\n",
      "57.599999999999994\n"
     ]
    },
    {
     "name": "stderr",
     "output_type": "stream",
     "text": [
      "C:\\Users\\Dominic Ho\\anaconda3\\lib\\site-packages\\sklearn\\metrics\\_classification.py:1221: UndefinedMetricWarning: Precision and F-score are ill-defined and being set to 0.0 in labels with no predicted samples. Use `zero_division` parameter to control this behavior.\n",
      "  _warn_prf(average, modifier, msg_start, len(result))\n"
     ]
    }
   ],
   "source": [
    "# test SVM\n",
    "y_pred = SVMlinear.predict(X_test_tf)\n",
    "print(classification_report(y_test, y_pred))\n",
    "\n",
    "cf = confusion_matrix(y_test, y_pred)\n",
    "print(cf)\n",
    "print(accuracy_score(y_test, y_pred) * 100) \n"
   ]
  },
  {
   "cell_type": "markdown",
   "metadata": {},
   "source": [
    "### Evaluate the model"
   ]
  },
  {
   "cell_type": "code",
   "execution_count": 108,
   "metadata": {},
   "outputs": [
    {
     "name": "stdout",
     "output_type": "stream",
     "text": [
      "Fitting 20 folds for each of 5 candidates, totalling 100 fits\n"
     ]
    },
    {
     "name": "stderr",
     "output_type": "stream",
     "text": [
      "[Parallel(n_jobs=-1)]: Using backend LokyBackend with 4 concurrent workers.\n",
      "[Parallel(n_jobs=-1)]: Done  10 tasks      | elapsed:    2.5s\n"
     ]
    },
    {
     "name": "stdout",
     "output_type": "stream",
     "text": [
      "Best accuracy :  0.590369167060083\n",
      "Best parameters : {'alpha': 0.1}\n",
      "              precision    recall  f1-score   support\n",
      "\n",
      "           1       0.36      0.03      0.05       176\n",
      "           2       0.25      0.03      0.06       346\n",
      "           3       0.36      0.19      0.25       626\n",
      "           4       0.35      0.12      0.18      1091\n",
      "           5       0.63      0.97      0.77      2761\n",
      "\n",
      "    accuracy                           0.59      5000\n",
      "   macro avg       0.39      0.27      0.26      5000\n",
      "weighted avg       0.50      0.59      0.50      5000\n",
      "\n",
      "[[   5   20   56   19   76]\n",
      " [   5   12  100   52  177]\n",
      " [   3   13  120  105  385]\n",
      " [   0    3   50  135  903]\n",
      " [   1    0    9   73 2678]]\n",
      "59.0\n"
     ]
    },
    {
     "name": "stderr",
     "output_type": "stream",
     "text": [
      "[Parallel(n_jobs=-1)]: Done 100 out of 100 | elapsed:    3.4s finished\n"
     ]
    }
   ],
   "source": [
    "# hyperparameter tuning Naive Bayes - Grid Search\n",
    "\n",
    "from sklearn.model_selection import GridSearchCV\n",
    "\n",
    "\n",
    "model = MultinomialNB()\n",
    "paramaters = [\n",
    "             {'alpha' : [0.001, 0.01, 0.1, 1, 10]}                                       \n",
    "             ]\n",
    "\n",
    "grid_search = GridSearchCV(estimator = model, \n",
    "                           param_grid = paramaters,\n",
    "                           scoring = 'accuracy',\n",
    "                           cv = 20,\n",
    "                           n_jobs = -1,\n",
    "                           verbose=5)\n",
    "grid_search = grid_search.fit(X_train_tf, y_train)\n",
    "\n",
    "best_accuracy = grid_search.best_score_ \n",
    "best_parameters = grid_search.best_params_  \n",
    "\n",
    "print('Best accuracy : ', grid_search.best_score_)\n",
    "print('Best parameters :', grid_search.best_params_  )\n",
    "\n",
    "y_pred = grid_search.predict(X_test_tf)\n",
    "print(classification_report(y_test, y_pred))\n",
    "\n",
    "cf = confusion_matrix(y_test, y_pred)\n",
    "print(cf)\n",
    "print(accuracy_score(y_test, y_pred) * 100) "
   ]
  },
  {
   "cell_type": "code",
   "execution_count": 109,
   "metadata": {},
   "outputs": [
    {
     "name": "stderr",
     "output_type": "stream",
     "text": [
      "C:\\Users\\Dominic Ho\\anaconda3\\lib\\site-packages\\sklearn\\model_selection\\_search.py:278: UserWarning: The total space of parameters 5 is smaller than n_iter=20. Running 5 iterations. For exhaustive searches, use GridSearchCV.\n",
      "  warnings.warn(\n",
      "[Parallel(n_jobs=-1)]: Using backend LokyBackend with 4 concurrent workers.\n"
     ]
    },
    {
     "name": "stdout",
     "output_type": "stream",
     "text": [
      "Fitting 5 folds for each of 5 candidates, totalling 25 fits\n"
     ]
    },
    {
     "name": "stderr",
     "output_type": "stream",
     "text": [
      "[Parallel(n_jobs=-1)]: Done  18 out of  25 | elapsed:    0.1s remaining:    0.0s\n",
      "[Parallel(n_jobs=-1)]: Done  25 out of  25 | elapsed:    0.2s finished\n"
     ]
    },
    {
     "name": "stdout",
     "output_type": "stream",
     "text": [
      "Best accuracy :  0.5885279658624236\n",
      "Best parameters : {'alpha': 0.1}\n",
      "              precision    recall  f1-score   support\n",
      "\n",
      "           1       0.36      0.03      0.05       176\n",
      "           2       0.25      0.03      0.06       346\n",
      "           3       0.36      0.19      0.25       626\n",
      "           4       0.35      0.12      0.18      1091\n",
      "           5       0.63      0.97      0.77      2761\n",
      "\n",
      "    accuracy                           0.59      5000\n",
      "   macro avg       0.39      0.27      0.26      5000\n",
      "weighted avg       0.50      0.59      0.50      5000\n",
      "\n",
      "[[   5   20   56   19   76]\n",
      " [   5   12  100   52  177]\n",
      " [   3   13  120  105  385]\n",
      " [   0    3   50  135  903]\n",
      " [   1    0    9   73 2678]]\n",
      "59.0\n"
     ]
    }
   ],
   "source": [
    "# hyperparameter tuning Naive Bayes - Random Search\n",
    "\n",
    "from sklearn.model_selection import RandomizedSearchCV\n",
    "# distributions\n",
    "from scipy.stats import randint \n",
    "from scipy.stats import uniform\n",
    "\n",
    "\n",
    "model = MultinomialNB()\n",
    "parameters = [\n",
    "             {'alpha' : [0.001, 0.01, 0.1, 1, 10]}                                       \n",
    "             ]\n",
    "\n",
    "# random search zoeken, bv 20 willekeurig random searches\n",
    "n_iter_search = 20\n",
    "\n",
    "# cv = cross validatie\n",
    "random_search = RandomizedSearchCV(model, param_distributions=parameters,cv=5,n_iter=n_iter_search,n_jobs = -1,verbose=1)\n",
    "\n",
    "random_search = random_search.fit(X_train_tf, y_train)\n",
    "\n",
    "best_accuracy = random_search.best_score_ \n",
    "best_parameters = random_search.best_params_  \n",
    "\n",
    "print('Best accuracy : ', random_search.best_score_)\n",
    "print('Best parameters :',random_search.best_params_  )\n",
    "\n",
    "y_pred = random_search.predict(X_test_tf)\n",
    "print(classification_report(y_test, y_pred))\n",
    "\n",
    "cf = confusion_matrix(y_test, y_pred)\n",
    "print(cf)\n",
    "print(accuracy_score(y_test, y_pred) * 100) "
   ]
  },
  {
   "cell_type": "code",
   "execution_count": 110,
   "metadata": {},
   "outputs": [
    {
     "name": "stdout",
     "output_type": "stream",
     "text": [
      "Fitting 20 folds for each of 50 candidates, totalling 1000 fits\n"
     ]
    },
    {
     "name": "stderr",
     "output_type": "stream",
     "text": [
      "[Parallel(n_jobs=-1)]: Using backend LokyBackend with 4 concurrent workers.\n",
      "[Parallel(n_jobs=-1)]: Done  10 tasks      | elapsed:    1.5s\n",
      "[Parallel(n_jobs=-1)]: Done  64 tasks      | elapsed:   18.1s\n",
      "[Parallel(n_jobs=-1)]: Done 154 tasks      | elapsed:   35.5s\n",
      "[Parallel(n_jobs=-1)]: Done 280 tasks      | elapsed:  1.2min\n",
      "[Parallel(n_jobs=-1)]: Done 442 tasks      | elapsed:  2.4min\n",
      "[Parallel(n_jobs=-1)]: Done 640 tasks      | elapsed:  4.4min\n",
      "[Parallel(n_jobs=-1)]: Done 874 tasks      | elapsed:  8.5min\n",
      "[Parallel(n_jobs=-1)]: Done 1000 out of 1000 | elapsed: 10.8min finished\n"
     ]
    },
    {
     "name": "stdout",
     "output_type": "stream",
     "text": [
      "Best accuracy :  0.6320392102925159\n",
      "Best parameters : {'C': 1, 'class_weight': None, 'solver': 'lbfgs'}\n",
      "              precision    recall  f1-score   support\n",
      "\n",
      "           1       0.50      0.12      0.20       176\n",
      "           2       0.36      0.16      0.23       346\n",
      "           3       0.39      0.37      0.38       626\n",
      "           4       0.42      0.29      0.35      1091\n",
      "           5       0.73      0.91      0.81      2761\n",
      "\n",
      "    accuracy                           0.63      5000\n",
      "   macro avg       0.48      0.37      0.39      5000\n",
      "weighted avg       0.59      0.63      0.59      5000\n",
      "\n",
      "[[  22   32   73   14   35]\n",
      " [  17   57  145   57   70]\n",
      " [   3   50  230  169  174]\n",
      " [   0   17  110  321  643]\n",
      " [   2    4   38  202 2515]]\n",
      "62.9\n"
     ]
    },
    {
     "name": "stderr",
     "output_type": "stream",
     "text": [
      "C:\\Users\\Dominic Ho\\anaconda3\\lib\\site-packages\\sklearn\\linear_model\\_logistic.py:762: ConvergenceWarning: lbfgs failed to converge (status=1):\n",
      "STOP: TOTAL NO. of ITERATIONS REACHED LIMIT.\n",
      "\n",
      "Increase the number of iterations (max_iter) or scale the data as shown in:\n",
      "    https://scikit-learn.org/stable/modules/preprocessing.html\n",
      "Please also refer to the documentation for alternative solver options:\n",
      "    https://scikit-learn.org/stable/modules/linear_model.html#logistic-regression\n",
      "  n_iter_i = _check_optimize_result(\n"
     ]
    }
   ],
   "source": [
    "# hyperparameter tuning Logistic Regression - Grid Search\n",
    "\n",
    "from sklearn.model_selection import GridSearchCV\n",
    "from sklearn.linear_model import LogisticRegression\n",
    "\n",
    "model = LogisticRegression()\n",
    "paramaters = [\n",
    "             {'C' : [0.01, 0.1, 1, 10, 100], \n",
    "              'solver': ['liblinear','lbfgs', 'newton-cg', 'sag','saga'], \n",
    "              'class_weight': [None, 'balanced']},                                       \n",
    "             ]\n",
    "\n",
    "\n",
    "grid_search = GridSearchCV(estimator = model, \n",
    "                           param_grid = paramaters,\n",
    "                           scoring = 'accuracy',\n",
    "                           cv = 20,\n",
    "                           n_jobs = -1,\n",
    "                           verbose=5)\n",
    "grid_search = grid_search.fit(X_train_tf, y_train)\n",
    "\n",
    "best_accuracy = grid_search.best_score_ \n",
    "best_parameters = grid_search.best_params_  \n",
    "\n",
    "print('Best accuracy : ', grid_search.best_score_)\n",
    "print('Best parameters :', grid_search.best_params_  )\n",
    "\n",
    "y_pred = grid_search.predict(X_test_tf)\n",
    "print(classification_report(y_test, y_pred))\n",
    "\n",
    "cf = confusion_matrix(y_test, y_pred)\n",
    "print(cf)\n",
    "print(accuracy_score(y_test, y_pred) * 100) "
   ]
  },
  {
   "cell_type": "code",
   "execution_count": 111,
   "metadata": {},
   "outputs": [
    {
     "name": "stderr",
     "output_type": "stream",
     "text": [
      "[Parallel(n_jobs=-1)]: Using backend LokyBackend with 4 concurrent workers.\n"
     ]
    },
    {
     "name": "stdout",
     "output_type": "stream",
     "text": [
      "Fitting 20 folds for each of 20 candidates, totalling 400 fits\n"
     ]
    },
    {
     "name": "stderr",
     "output_type": "stream",
     "text": [
      "[Parallel(n_jobs=-1)]: Done  42 tasks      | elapsed:   16.7s\n",
      "[Parallel(n_jobs=-1)]: Done 192 tasks      | elapsed:  2.6min\n",
      "[Parallel(n_jobs=-1)]: Done 400 out of 400 | elapsed:  5.6min finished\n"
     ]
    },
    {
     "name": "stdout",
     "output_type": "stream",
     "text": [
      "Best accuracy :  0.6320398608235351\n",
      "Best parameters : {'C': 1.0809497939862422, 'class_weight': None, 'solver': 'newton-cg'}\n",
      "              precision    recall  f1-score   support\n",
      "\n",
      "           1       0.51      0.13      0.21       176\n",
      "           2       0.35      0.17      0.23       346\n",
      "           3       0.39      0.37      0.38       626\n",
      "           4       0.42      0.30      0.35      1091\n",
      "           5       0.73      0.91      0.81      2761\n",
      "\n",
      "    accuracy                           0.63      5000\n",
      "   macro avg       0.48      0.38      0.40      5000\n",
      "weighted avg       0.59      0.63      0.60      5000\n",
      "\n",
      "[[  23   33   73   14   33]\n",
      " [  17   58  145   59   67]\n",
      " [   3   52  233  167  171]\n",
      " [   0   17  111  326  637]\n",
      " [   2    4   38  208 2509]]\n",
      "62.980000000000004\n"
     ]
    }
   ],
   "source": [
    "# hyperparameter tuning Logistic Regression - Random Search\n",
    "from sklearn.model_selection import RandomizedSearchCV\n",
    "from scipy.stats import randint \n",
    "from scipy.stats import uniform\n",
    "from sklearn.linear_model import LogisticRegression\n",
    "\n",
    "model = LogisticRegression()\n",
    "\n",
    "parameters = [\n",
    "             {'C' : uniform(0.01, 20), \n",
    "              'solver': ['liblinear','lbfgs', 'newton-cg', 'sag','saga'],\n",
    "              'class_weight': [None, 'balanced']}\n",
    "             ]\n",
    "\n",
    "n_iter_search = 20\n",
    "\n",
    "random_search = RandomizedSearchCV(model, param_distributions=parameters,cv=20,n_iter=n_iter_search,n_jobs = -1,verbose=1)\n",
    "\n",
    "random_search = random_search.fit(X_train_tf, y_train)\n",
    "\n",
    "best_accuracy = random_search.best_score_ \n",
    "best_parameters = random_search.best_params_  \n",
    "\n",
    "print('Best accuracy : ', random_search.best_score_)\n",
    "print('Best parameters :',random_search.best_params_  )\n",
    "\n",
    "y_pred = random_search.predict(X_test_tf)\n",
    "print(classification_report(y_test, y_pred))\n",
    "cf = confusion_matrix(y_test, y_pred)\n",
    "print(cf)\n",
    "print(accuracy_score(y_test, y_pred) * 100) "
   ]
  },
  {
   "cell_type": "code",
   "execution_count": 112,
   "metadata": {},
   "outputs": [
    {
     "name": "stdout",
     "output_type": "stream",
     "text": [
      "Fitting 5 folds for each of 20 candidates, totalling 100 fits\n"
     ]
    },
    {
     "name": "stderr",
     "output_type": "stream",
     "text": [
      "[Parallel(n_jobs=-1)]: Using backend LokyBackend with 4 concurrent workers.\n",
      "[Parallel(n_jobs=-1)]: Done  42 tasks      | elapsed: 19.5min\n",
      "[Parallel(n_jobs=-1)]: Done 100 out of 100 | elapsed: 50.1min finished\n"
     ]
    },
    {
     "name": "stdout",
     "output_type": "stream",
     "text": [
      "Best accuracy :  0.6260397164690829\n",
      "Best parameters : {'C': 1, 'class_weight': None, 'degree': 2, 'kernel': 'linear'}\n",
      "              precision    recall  f1-score   support\n",
      "\n",
      "           1       0.41      0.14      0.20       176\n",
      "           2       0.33      0.19      0.24       346\n",
      "           3       0.38      0.41      0.39       626\n",
      "           4       0.41      0.28      0.33      1091\n",
      "           5       0.74      0.90      0.81      2761\n",
      "\n",
      "    accuracy                           0.63      5000\n",
      "   macro avg       0.45      0.38      0.40      5000\n",
      "weighted avg       0.59      0.63      0.60      5000\n",
      "\n",
      "[[  24   44   72   13   23]\n",
      " [  20   67  156   55   48]\n",
      " [  11   60  256  147  152]\n",
      " [   1   22  137  302  629]\n",
      " [   3   13   51  215 2479]]\n",
      "62.56\n"
     ]
    }
   ],
   "source": [
    "# hyperparameter tuning SVM - Random Search\n",
    "\n",
    "from sklearn.model_selection import RandomizedSearchCV\n",
    "from scipy.stats import randint \n",
    "from scipy.stats import uniform\n",
    "\n",
    "\n",
    "#svc trainen\n",
    "model = SVC()\n",
    "\n",
    "parameters = [\n",
    "    {'kernel': ['linear'], \n",
    "     'C': [0.01, 0.1, 1, 10, 100], \n",
    "     'degree': [2,3,4], \n",
    "     'class_weight': [None, 'balanced']\n",
    "    },\n",
    "    {'kernel': ['rbf', 'poly', 'sigmoid'], \n",
    "     'C': [0.01, 0.1, 1, 10, 100], \n",
    "     'gamma': uniform(0.001, 0.2), \n",
    "     'degree': [2,3,4], \n",
    "     'class_weight': [None, 'balanced']}\n",
    "]\n",
    " \n",
    "n_iter_search = 20\n",
    "\n",
    "random_search = RandomizedSearchCV(model, param_distributions=parameters,cv=5,n_iter=n_iter_search,n_jobs = -1,verbose=1)\n",
    "\n",
    "random_search = random_search.fit(X_train_tf, y_train)\n",
    "\n",
    "best_accuracy = random_search.best_score_ \n",
    "best_parameters = random_search.best_params_  \n",
    "\n",
    "print('Best accuracy : ', random_search.best_score_)\n",
    "print('Best parameters :',random_search.best_params_  )\n",
    "\n",
    "y_pred = random_search.predict(X_test_tf)\n",
    "print(classification_report(y_test, y_pred))\n",
    "\n",
    "cf = confusion_matrix(y_test, y_pred)\n",
    "print(cf)\n",
    "print(accuracy_score(y_test, y_pred) * 100) "
   ]
  },
  {
   "cell_type": "markdown",
   "metadata": {},
   "source": [
    "If we compare the models between the sentiment and the rating. We can see that the models that predicts with the sentiment scores higher.Therefore the StratifiedShuffleSplit on the rating models are not improving the models at all."
   ]
  },
  {
   "cell_type": "markdown",
   "metadata": {},
   "source": [
    "- Gebruik andere features om betere sentiment predicties te bekomen. Dit kan door andere features (zoals de recommended IND) mee te nemen als input features. Een andere optie is om de output van de reeds getrainde text classifier als nieuwe feature te zien en daarmee samen met andere features (bijvoorbeeld recommended IND, lengte review, leeftijd) een nieuwe classifier te trainen die het sentiment of rating voorspelt."
   ]
  },
  {
   "cell_type": "code",
   "execution_count": 37,
   "metadata": {},
   "outputs": [
    {
     "name": "stdout",
     "output_type": "stream",
     "text": [
      "(19662, 10)\n"
     ]
    },
    {
     "data": {
      "text/html": [
       "<div>\n",
       "<style scoped>\n",
       "    .dataframe tbody tr th:only-of-type {\n",
       "        vertical-align: middle;\n",
       "    }\n",
       "\n",
       "    .dataframe tbody tr th {\n",
       "        vertical-align: top;\n",
       "    }\n",
       "\n",
       "    .dataframe thead th {\n",
       "        text-align: right;\n",
       "    }\n",
       "</style>\n",
       "<table border=\"1\" class=\"dataframe\">\n",
       "  <thead>\n",
       "    <tr style=\"text-align: right;\">\n",
       "      <th></th>\n",
       "      <th>Clothing ID</th>\n",
       "      <th>Age</th>\n",
       "      <th>Title</th>\n",
       "      <th>Review Text</th>\n",
       "      <th>Rating</th>\n",
       "      <th>Recommended IND</th>\n",
       "      <th>Positive Feedback Count</th>\n",
       "      <th>Division Name</th>\n",
       "      <th>Department Name</th>\n",
       "      <th>Class Name</th>\n",
       "    </tr>\n",
       "  </thead>\n",
       "  <tbody>\n",
       "    <tr>\n",
       "      <th>2</th>\n",
       "      <td>1077</td>\n",
       "      <td>60</td>\n",
       "      <td>Some major design flaws</td>\n",
       "      <td>I had such high hopes for this dress and reall...</td>\n",
       "      <td>3</td>\n",
       "      <td>0</td>\n",
       "      <td>0</td>\n",
       "      <td>General</td>\n",
       "      <td>Dresses</td>\n",
       "      <td>Dresses</td>\n",
       "    </tr>\n",
       "    <tr>\n",
       "      <th>3</th>\n",
       "      <td>1049</td>\n",
       "      <td>50</td>\n",
       "      <td>My favorite buy!</td>\n",
       "      <td>I love, love, love this jumpsuit. it's fun, fl...</td>\n",
       "      <td>5</td>\n",
       "      <td>1</td>\n",
       "      <td>0</td>\n",
       "      <td>General Petite</td>\n",
       "      <td>Bottoms</td>\n",
       "      <td>Pants</td>\n",
       "    </tr>\n",
       "    <tr>\n",
       "      <th>4</th>\n",
       "      <td>847</td>\n",
       "      <td>47</td>\n",
       "      <td>Flattering shirt</td>\n",
       "      <td>This shirt is very flattering to all due to th...</td>\n",
       "      <td>5</td>\n",
       "      <td>1</td>\n",
       "      <td>6</td>\n",
       "      <td>General</td>\n",
       "      <td>Tops</td>\n",
       "      <td>Blouses</td>\n",
       "    </tr>\n",
       "    <tr>\n",
       "      <th>5</th>\n",
       "      <td>1080</td>\n",
       "      <td>49</td>\n",
       "      <td>Not for the very petite</td>\n",
       "      <td>I love tracy reese dresses, but this one is no...</td>\n",
       "      <td>2</td>\n",
       "      <td>0</td>\n",
       "      <td>4</td>\n",
       "      <td>General</td>\n",
       "      <td>Dresses</td>\n",
       "      <td>Dresses</td>\n",
       "    </tr>\n",
       "    <tr>\n",
       "      <th>6</th>\n",
       "      <td>858</td>\n",
       "      <td>39</td>\n",
       "      <td>Cagrcoal shimmer fun</td>\n",
       "      <td>I aded this in my basket at hte last mintue to...</td>\n",
       "      <td>5</td>\n",
       "      <td>1</td>\n",
       "      <td>1</td>\n",
       "      <td>General Petite</td>\n",
       "      <td>Tops</td>\n",
       "      <td>Knits</td>\n",
       "    </tr>\n",
       "  </tbody>\n",
       "</table>\n",
       "</div>"
      ],
      "text/plain": [
       "   Clothing ID  Age                    Title  \\\n",
       "2         1077   60  Some major design flaws   \n",
       "3         1049   50         My favorite buy!   \n",
       "4          847   47         Flattering shirt   \n",
       "5         1080   49  Not for the very petite   \n",
       "6          858   39     Cagrcoal shimmer fun   \n",
       "\n",
       "                                         Review Text  Rating  Recommended IND  \\\n",
       "2  I had such high hopes for this dress and reall...       3                0   \n",
       "3  I love, love, love this jumpsuit. it's fun, fl...       5                1   \n",
       "4  This shirt is very flattering to all due to th...       5                1   \n",
       "5  I love tracy reese dresses, but this one is no...       2                0   \n",
       "6  I aded this in my basket at hte last mintue to...       5                1   \n",
       "\n",
       "   Positive Feedback Count   Division Name Department Name Class Name  \n",
       "2                        0         General         Dresses    Dresses  \n",
       "3                        0  General Petite         Bottoms      Pants  \n",
       "4                        6         General            Tops    Blouses  \n",
       "5                        4         General         Dresses    Dresses  \n",
       "6                        1  General Petite            Tops      Knits  "
      ]
     },
     "execution_count": 37,
     "metadata": {},
     "output_type": "execute_result"
    }
   ],
   "source": [
    "# Inlezen van de dataset\n",
    "\n",
    "dataset = pd.read_csv('./Womens_Clothing_Reviews.csv')\n",
    "\n",
    "# verwijder kolom unnamed\n",
    "dataset.drop(['Unnamed: 0'], axis=1, inplace=True)\n",
    "\n",
    "#Verwijderen van rijen met NaN waarden \n",
    "dataset.dropna(axis=0,inplace=True)\n",
    "\n",
    "print(dataset.shape)\n",
    "dataset.head()"
   ]
  },
  {
   "cell_type": "code",
   "execution_count": 38,
   "metadata": {},
   "outputs": [
    {
     "data": {
      "text/html": [
       "<div>\n",
       "<style scoped>\n",
       "    .dataframe tbody tr th:only-of-type {\n",
       "        vertical-align: middle;\n",
       "    }\n",
       "\n",
       "    .dataframe tbody tr th {\n",
       "        vertical-align: top;\n",
       "    }\n",
       "\n",
       "    .dataframe thead th {\n",
       "        text-align: right;\n",
       "    }\n",
       "</style>\n",
       "<table border=\"1\" class=\"dataframe\">\n",
       "  <thead>\n",
       "    <tr style=\"text-align: right;\">\n",
       "      <th></th>\n",
       "      <th>Clothing ID</th>\n",
       "      <th>Age</th>\n",
       "      <th>Title</th>\n",
       "      <th>Review Text</th>\n",
       "      <th>Rating</th>\n",
       "      <th>Recommended IND</th>\n",
       "      <th>Positive Feedback Count</th>\n",
       "      <th>Division Name</th>\n",
       "      <th>Department Name</th>\n",
       "      <th>Class Name</th>\n",
       "      <th>Sentiment</th>\n",
       "    </tr>\n",
       "  </thead>\n",
       "  <tbody>\n",
       "    <tr>\n",
       "      <th>2</th>\n",
       "      <td>1077</td>\n",
       "      <td>60</td>\n",
       "      <td>Some major design flaws</td>\n",
       "      <td>I had such high hopes for this dress and reall...</td>\n",
       "      <td>3</td>\n",
       "      <td>0</td>\n",
       "      <td>0</td>\n",
       "      <td>General</td>\n",
       "      <td>Dresses</td>\n",
       "      <td>Dresses</td>\n",
       "      <td>0</td>\n",
       "    </tr>\n",
       "    <tr>\n",
       "      <th>3</th>\n",
       "      <td>1049</td>\n",
       "      <td>50</td>\n",
       "      <td>My favorite buy!</td>\n",
       "      <td>I love, love, love this jumpsuit. it's fun, fl...</td>\n",
       "      <td>5</td>\n",
       "      <td>1</td>\n",
       "      <td>0</td>\n",
       "      <td>General Petite</td>\n",
       "      <td>Bottoms</td>\n",
       "      <td>Pants</td>\n",
       "      <td>1</td>\n",
       "    </tr>\n",
       "    <tr>\n",
       "      <th>4</th>\n",
       "      <td>847</td>\n",
       "      <td>47</td>\n",
       "      <td>Flattering shirt</td>\n",
       "      <td>This shirt is very flattering to all due to th...</td>\n",
       "      <td>5</td>\n",
       "      <td>1</td>\n",
       "      <td>6</td>\n",
       "      <td>General</td>\n",
       "      <td>Tops</td>\n",
       "      <td>Blouses</td>\n",
       "      <td>1</td>\n",
       "    </tr>\n",
       "    <tr>\n",
       "      <th>5</th>\n",
       "      <td>1080</td>\n",
       "      <td>49</td>\n",
       "      <td>Not for the very petite</td>\n",
       "      <td>I love tracy reese dresses, but this one is no...</td>\n",
       "      <td>2</td>\n",
       "      <td>0</td>\n",
       "      <td>4</td>\n",
       "      <td>General</td>\n",
       "      <td>Dresses</td>\n",
       "      <td>Dresses</td>\n",
       "      <td>-1</td>\n",
       "    </tr>\n",
       "    <tr>\n",
       "      <th>6</th>\n",
       "      <td>858</td>\n",
       "      <td>39</td>\n",
       "      <td>Cagrcoal shimmer fun</td>\n",
       "      <td>I aded this in my basket at hte last mintue to...</td>\n",
       "      <td>5</td>\n",
       "      <td>1</td>\n",
       "      <td>1</td>\n",
       "      <td>General Petite</td>\n",
       "      <td>Tops</td>\n",
       "      <td>Knits</td>\n",
       "      <td>1</td>\n",
       "    </tr>\n",
       "  </tbody>\n",
       "</table>\n",
       "</div>"
      ],
      "text/plain": [
       "   Clothing ID  Age                    Title  \\\n",
       "2         1077   60  Some major design flaws   \n",
       "3         1049   50         My favorite buy!   \n",
       "4          847   47         Flattering shirt   \n",
       "5         1080   49  Not for the very petite   \n",
       "6          858   39     Cagrcoal shimmer fun   \n",
       "\n",
       "                                         Review Text  Rating  Recommended IND  \\\n",
       "2  I had such high hopes for this dress and reall...       3                0   \n",
       "3  I love, love, love this jumpsuit. it's fun, fl...       5                1   \n",
       "4  This shirt is very flattering to all due to th...       5                1   \n",
       "5  I love tracy reese dresses, but this one is no...       2                0   \n",
       "6  I aded this in my basket at hte last mintue to...       5                1   \n",
       "\n",
       "   Positive Feedback Count   Division Name Department Name Class Name  \\\n",
       "2                        0         General         Dresses    Dresses   \n",
       "3                        0  General Petite         Bottoms      Pants   \n",
       "4                        6         General            Tops    Blouses   \n",
       "5                        4         General         Dresses    Dresses   \n",
       "6                        1  General Petite            Tops      Knits   \n",
       "\n",
       "   Sentiment  \n",
       "2          0  \n",
       "3          1  \n",
       "4          1  \n",
       "5         -1  \n",
       "6          1  "
      ]
     },
     "execution_count": 38,
     "metadata": {},
     "output_type": "execute_result"
    }
   ],
   "source": [
    "# create a list of our conditions\n",
    "\n",
    "conditions = [\n",
    "    (dataset['Rating'] > 3),\n",
    "    (dataset['Rating'] < 3),\n",
    "    (dataset['Rating'] == 3)\n",
    "]\n",
    "\n",
    "# create a list of the values we want to assign for each conditon\n",
    "values = [1, -1, 0]\n",
    "\n",
    "# create a new column and use np.select to assign to it using our lists as arguments\n",
    "dataset['Sentiment'] = np.select(conditions, values)\n",
    "\n",
    "# display updated DataFrame\n",
    "dataset.head()"
   ]
  },
  {
   "cell_type": "code",
   "execution_count": 39,
   "metadata": {},
   "outputs": [],
   "source": [
    "dataset['Review Length']=dataset['Review Text'].apply(len)\n"
   ]
  },
  {
   "cell_type": "code",
   "execution_count": 40,
   "metadata": {},
   "outputs": [
    {
     "name": "stdout",
     "output_type": "stream",
     "text": [
      "[[ 60   0   0 500]\n",
      " [ 50   1   0 124]\n",
      " [ 47   1   6 192]\n",
      " ...\n",
      " [ 31   0   1 208]\n",
      " [ 28   1   2 427]\n",
      " [ 52   1  22 110]]\n",
      "[0 1 1 ... 0 0 1]\n"
     ]
    }
   ],
   "source": [
    "dataset = dataset.drop(['Clothing ID'], axis=1)\n",
    "dataset = dataset.drop(['Rating'], axis=1)\n",
    "dataset = dataset.drop(['Division Name'], axis=1)\n",
    "dataset = dataset.drop(['Department Name'], axis= 1)\n",
    "dataset = dataset.drop(['Class Name'], axis=1)\n",
    "dataset = dataset.drop(['Review Text'], axis=1)\n",
    "dataset = dataset.drop(['Title'], axis=1)\n",
    "\n",
    "\n",
    "X = dataset.drop(['Sentiment'], axis=1).values\n",
    "y = dataset['Sentiment'].values\n",
    "\n",
    "print(X)\n",
    "print(y)\n"
   ]
  },
  {
   "cell_type": "code",
   "execution_count": 41,
   "metadata": {},
   "outputs": [
    {
     "name": "stdout",
     "output_type": "stream",
     "text": [
      "(14662, 4)\n",
      "(14662,)\n",
      "(5000, 4)\n",
      "(5000,)\n"
     ]
    }
   ],
   "source": [
    "# Opsplitsen in training set en test set\n",
    "X_train, X_test, y_train, y_test = train_test_split(X, y, test_size=5000, random_state=0)\n",
    "\n",
    "print(X_train.shape)\n",
    "print(y_train.shape)\n",
    "\n",
    "\n",
    "print(X_test.shape)\n",
    "print(y_test.shape)\n"
   ]
  },
  {
   "cell_type": "markdown",
   "metadata": {},
   "source": [
    "### Trainen van de classifiers"
   ]
  },
  {
   "cell_type": "code",
   "execution_count": 42,
   "metadata": {},
   "outputs": [
    {
     "data": {
      "text/plain": [
       "MultinomialNB(alpha=1)"
      ]
     },
     "execution_count": 42,
     "metadata": {},
     "output_type": "execute_result"
    }
   ],
   "source": [
    "# Train a Naive bayes classifier\n",
    "\n",
    "NBclassifier = MultinomialNB(alpha=1)\n",
    "\n",
    "NBclassifier.fit(X_train, y_train)"
   ]
  },
  {
   "cell_type": "code",
   "execution_count": 43,
   "metadata": {},
   "outputs": [
    {
     "name": "stdout",
     "output_type": "stream",
     "text": [
      "              precision    recall  f1-score   support\n",
      "\n",
      "          -1       0.42      0.10      0.16       551\n",
      "           0       0.18      0.23      0.20       600\n",
      "           1       0.81      0.86      0.83      3849\n",
      "\n",
      "    accuracy                           0.70      5000\n",
      "   macro avg       0.47      0.40      0.40      5000\n",
      "weighted avg       0.69      0.70      0.68      5000\n",
      "\n",
      "[[  55  133  363]\n",
      " [  41  140  419]\n",
      " [  34  515 3300]]\n",
      "69.89999999999999\n"
     ]
    }
   ],
   "source": [
    "# test Naive Bayes classifier\n",
    "\n",
    "y_pred = NBclassifier.predict(X_test)\n",
    "print(classification_report(y_test, y_pred))\n",
    "\n",
    "cf = confusion_matrix(y_test, y_pred)\n",
    "print(cf)\n",
    "print(accuracy_score(y_test, y_pred) * 100)"
   ]
  },
  {
   "cell_type": "code",
   "execution_count": 44,
   "metadata": {},
   "outputs": [
    {
     "name": "stderr",
     "output_type": "stream",
     "text": [
      "C:\\Users\\Dominic Ho\\anaconda3\\lib\\site-packages\\sklearn\\linear_model\\_logistic.py:762: ConvergenceWarning: lbfgs failed to converge (status=1):\n",
      "STOP: TOTAL NO. of ITERATIONS REACHED LIMIT.\n",
      "\n",
      "Increase the number of iterations (max_iter) or scale the data as shown in:\n",
      "    https://scikit-learn.org/stable/modules/preprocessing.html\n",
      "Please also refer to the documentation for alternative solver options:\n",
      "    https://scikit-learn.org/stable/modules/linear_model.html#logistic-regression\n",
      "  n_iter_i = _check_optimize_result(\n"
     ]
    },
    {
     "data": {
      "text/plain": [
       "LogisticRegression(C=10)"
      ]
     },
     "execution_count": 44,
     "metadata": {},
     "output_type": "execute_result"
    }
   ],
   "source": [
    "# train a logistic regression classifier\n",
    "lregclassifier = LogisticRegression(C=10)\n",
    "\n",
    "lregclassifier.fit(X_train, y_train)"
   ]
  },
  {
   "cell_type": "code",
   "execution_count": 45,
   "metadata": {},
   "outputs": [
    {
     "name": "stdout",
     "output_type": "stream",
     "text": [
      "              precision    recall  f1-score   support\n",
      "\n",
      "          -1       0.61      0.49      0.55       551\n",
      "           0       0.41      0.32      0.36       600\n",
      "           1       0.93      0.99      0.96      3849\n",
      "\n",
      "    accuracy                           0.85      5000\n",
      "   macro avg       0.65      0.60      0.62      5000\n",
      "weighted avg       0.83      0.85      0.84      5000\n",
      "\n",
      "[[ 272  256   23]\n",
      " [ 153  191  256]\n",
      " [  21   23 3805]]\n",
      "85.36\n"
     ]
    }
   ],
   "source": [
    "# test logistic classifier\n",
    "\n",
    "y_pred = lregclassifier.predict(X_test)\n",
    "print(classification_report(y_test, y_pred))\n",
    "\n",
    "cf = confusion_matrix(y_test, y_pred)\n",
    "print(cf)\n",
    "print(accuracy_score(y_test, y_pred) * 100) "
   ]
  },
  {
   "cell_type": "code",
   "execution_count": 46,
   "metadata": {},
   "outputs": [
    {
     "data": {
      "text/plain": [
       "SVC(C=0.1, kernel='linear')"
      ]
     },
     "execution_count": 46,
     "metadata": {},
     "output_type": "execute_result"
    }
   ],
   "source": [
    "# train a SVM\n",
    "SVMlinear = svm.SVC(kernel='linear',C=0.1)\n",
    "SVMlinear.fit(X_train, y_train)"
   ]
  },
  {
   "cell_type": "code",
   "execution_count": 47,
   "metadata": {},
   "outputs": [
    {
     "name": "stdout",
     "output_type": "stream",
     "text": [
      "              precision    recall  f1-score   support\n",
      "\n",
      "          -1       0.58      0.96      0.72       551\n",
      "           0       0.00      0.00      0.00       600\n",
      "           1       0.93      0.99      0.96      3849\n",
      "\n",
      "    accuracy                           0.87      5000\n",
      "   macro avg       0.50      0.65      0.56      5000\n",
      "weighted avg       0.78      0.87      0.82      5000\n",
      "\n",
      "[[ 528    0   23]\n",
      " [ 344    0  256]\n",
      " [  44    0 3805]]\n",
      "86.66\n"
     ]
    },
    {
     "name": "stderr",
     "output_type": "stream",
     "text": [
      "C:\\Users\\Dominic Ho\\anaconda3\\lib\\site-packages\\sklearn\\metrics\\_classification.py:1221: UndefinedMetricWarning: Precision and F-score are ill-defined and being set to 0.0 in labels with no predicted samples. Use `zero_division` parameter to control this behavior.\n",
      "  _warn_prf(average, modifier, msg_start, len(result))\n"
     ]
    }
   ],
   "source": [
    "# test SVM\n",
    "y_pred = SVMlinear.predict(X_test)\n",
    "print(classification_report(y_test, y_pred))\n",
    "\n",
    "cf = confusion_matrix(y_test, y_pred)\n",
    "print(cf)\n",
    "print(accuracy_score(y_test, y_pred) * 100) "
   ]
  },
  {
   "cell_type": "markdown",
   "metadata": {},
   "source": [
    "### Evalute the model"
   ]
  },
  {
   "cell_type": "code",
   "execution_count": 48,
   "metadata": {},
   "outputs": [
    {
     "name": "stdout",
     "output_type": "stream",
     "text": [
      "Fitting 20 folds for each of 5 candidates, totalling 100 fits\n"
     ]
    },
    {
     "name": "stderr",
     "output_type": "stream",
     "text": [
      "[Parallel(n_jobs=-1)]: Using backend LokyBackend with 4 concurrent workers.\n",
      "[Parallel(n_jobs=-1)]: Done  10 tasks      | elapsed:    2.0s\n"
     ]
    },
    {
     "name": "stdout",
     "output_type": "stream",
     "text": [
      "Best accuracy :  0.6912435736828605\n",
      "Best parameters : {'alpha': 0.001}\n",
      "              precision    recall  f1-score   support\n",
      "\n",
      "          -1       0.42      0.10      0.16       551\n",
      "           0       0.18      0.23      0.20       600\n",
      "           1       0.81      0.86      0.83      3849\n",
      "\n",
      "    accuracy                           0.70      5000\n",
      "   macro avg       0.47      0.40      0.40      5000\n",
      "weighted avg       0.69      0.70      0.68      5000\n",
      "\n",
      "[[  55  133  363]\n",
      " [  41  140  419]\n",
      " [  34  515 3300]]\n",
      "69.89999999999999\n"
     ]
    },
    {
     "name": "stderr",
     "output_type": "stream",
     "text": [
      "[Parallel(n_jobs=-1)]: Done 100 out of 100 | elapsed:    2.3s finished\n"
     ]
    }
   ],
   "source": [
    "# hyperparameter tuning Naive Bayes - Grid Search\n",
    "\n",
    "from sklearn.model_selection import GridSearchCV\n",
    "\n",
    "\n",
    "model = MultinomialNB()\n",
    "paramaters = [\n",
    "             {'alpha' : [0.001, 0.01, 0.1, 1, 10]}                                       \n",
    "             ]\n",
    "\n",
    "grid_search = GridSearchCV(estimator = model, \n",
    "                           param_grid = paramaters,\n",
    "                           scoring = 'accuracy',\n",
    "                           cv = 20,\n",
    "                           n_jobs = -1,\n",
    "                           verbose=5)\n",
    "grid_search = grid_search.fit(X_train, y_train)\n",
    "\n",
    "best_accuracy = grid_search.best_score_ \n",
    "best_parameters = grid_search.best_params_  \n",
    "\n",
    "print('Best accuracy : ', grid_search.best_score_)\n",
    "print('Best parameters :', grid_search.best_params_  )\n",
    "\n",
    "y_pred = grid_search.predict(X_test)\n",
    "print(classification_report(y_test, y_pred))\n",
    "\n",
    "cf = confusion_matrix(y_test, y_pred)\n",
    "print(cf)\n",
    "print(accuracy_score(y_test, y_pred) * 100) "
   ]
  },
  {
   "cell_type": "code",
   "execution_count": 49,
   "metadata": {},
   "outputs": [
    {
     "name": "stdout",
     "output_type": "stream",
     "text": [
      "Fitting 5 folds for each of 5 candidates, totalling 25 fits\n",
      "Best accuracy :  0.6913092955031632\n",
      "Best parameters : {'alpha': 0.001}\n",
      "              precision    recall  f1-score   support\n",
      "\n",
      "          -1       0.42      0.10      0.16       551\n",
      "           0       0.18      0.23      0.20       600\n",
      "           1       0.81      0.86      0.83      3849\n",
      "\n",
      "    accuracy                           0.70      5000\n",
      "   macro avg       0.47      0.40      0.40      5000\n",
      "weighted avg       0.69      0.70      0.68      5000\n",
      "\n",
      "[[  55  133  363]\n",
      " [  41  140  419]\n",
      " [  34  515 3300]]\n",
      "69.89999999999999\n"
     ]
    },
    {
     "name": "stderr",
     "output_type": "stream",
     "text": [
      "C:\\Users\\Dominic Ho\\anaconda3\\lib\\site-packages\\sklearn\\model_selection\\_search.py:278: UserWarning: The total space of parameters 5 is smaller than n_iter=20. Running 5 iterations. For exhaustive searches, use GridSearchCV.\n",
      "  warnings.warn(\n",
      "[Parallel(n_jobs=-1)]: Using backend LokyBackend with 4 concurrent workers.\n",
      "[Parallel(n_jobs=-1)]: Done  18 out of  25 | elapsed:    0.0s remaining:    0.0s\n",
      "[Parallel(n_jobs=-1)]: Done  25 out of  25 | elapsed:    0.0s finished\n"
     ]
    }
   ],
   "source": [
    "# hyperparameter tuning Naive Bayes - Random Search\n",
    "\n",
    "from sklearn.model_selection import RandomizedSearchCV\n",
    "# distributions\n",
    "from scipy.stats import randint \n",
    "from scipy.stats import uniform\n",
    "\n",
    "\n",
    "model = MultinomialNB()\n",
    "parameters = [\n",
    "             {'alpha' : [0.001, 0.01, 0.1, 1, 10]}                                       \n",
    "             ]\n",
    "\n",
    "# random search zoeken, bv 20 willekeurig random searches\n",
    "n_iter_search = 20\n",
    "\n",
    "# cv = cross validatie\n",
    "random_search = RandomizedSearchCV(model, param_distributions=parameters,cv=5,n_iter=n_iter_search,n_jobs = -1,verbose=1)\n",
    "\n",
    "random_search = random_search.fit(X_train, y_train)\n",
    "\n",
    "best_accuracy = random_search.best_score_ \n",
    "best_parameters = random_search.best_params_  \n",
    "\n",
    "print('Best accuracy : ', random_search.best_score_)\n",
    "print('Best parameters :',random_search.best_params_  )\n",
    "\n",
    "y_pred = random_search.predict(X_test)\n",
    "print(classification_report(y_test, y_pred))\n",
    "\n",
    "cf = confusion_matrix(y_test, y_pred)\n",
    "print(cf)\n",
    "print(accuracy_score(y_test, y_pred) * 100)"
   ]
  },
  {
   "cell_type": "code",
   "execution_count": 50,
   "metadata": {},
   "outputs": [
    {
     "name": "stdout",
     "output_type": "stream",
     "text": [
      "Fitting 20 folds for each of 50 candidates, totalling 1000 fits\n"
     ]
    },
    {
     "name": "stderr",
     "output_type": "stream",
     "text": [
      "[Parallel(n_jobs=-1)]: Using backend LokyBackend with 4 concurrent workers.\n",
      "[Parallel(n_jobs=-1)]: Done  10 tasks      | elapsed:    0.8s\n",
      "[Parallel(n_jobs=-1)]: Done  64 tasks      | elapsed:   17.4s\n",
      "[Parallel(n_jobs=-1)]: Done 154 tasks      | elapsed:   36.3s\n",
      "[Parallel(n_jobs=-1)]: Done 280 tasks      | elapsed:  1.1min\n",
      "[Parallel(n_jobs=-1)]: Done 442 tasks      | elapsed:  1.8min\n",
      "[Parallel(n_jobs=-1)]: Done 640 tasks      | elapsed:  2.6min\n",
      "[Parallel(n_jobs=-1)]: Done 874 tasks      | elapsed:  3.8min\n",
      "[Parallel(n_jobs=-1)]: Done 1000 out of 1000 | elapsed:  4.4min finished\n"
     ]
    },
    {
     "name": "stdout",
     "output_type": "stream",
     "text": [
      "Best accuracy :  0.860524012029248\n",
      "Best parameters : {'C': 0.1, 'class_weight': None, 'solver': 'newton-cg'}\n",
      "              precision    recall  f1-score   support\n",
      "\n",
      "          -1       0.58      0.95      0.72       551\n",
      "           0       0.00      0.00      0.00       600\n",
      "           1       0.93      0.99      0.96      3849\n",
      "\n",
      "    accuracy                           0.87      5000\n",
      "   macro avg       0.50      0.65      0.56      5000\n",
      "weighted avg       0.78      0.87      0.82      5000\n",
      "\n",
      "[[ 526    2   23]\n",
      " [ 344    0  256]\n",
      " [  44    0 3805]]\n",
      "86.61999999999999\n"
     ]
    }
   ],
   "source": [
    "# hyperparameter tuning Logistic Regression - Grid Search\n",
    "\n",
    "from sklearn.model_selection import GridSearchCV\n",
    "from sklearn.linear_model import LogisticRegression\n",
    "\n",
    "model = LogisticRegression()\n",
    "paramaters = [\n",
    "             {'C' : [0.01, 0.1, 1, 10, 100], \n",
    "              'solver': ['liblinear','lbfgs', 'newton-cg', 'sag','saga'], \n",
    "              'class_weight': [None, 'balanced']},                                       \n",
    "             ]\n",
    "\n",
    "\n",
    "grid_search = GridSearchCV(estimator = model, \n",
    "                           param_grid = paramaters,\n",
    "                           scoring = 'accuracy',\n",
    "                           cv = 20,\n",
    "                           n_jobs = -1,\n",
    "                           verbose=5)\n",
    "grid_search = grid_search.fit(X_train, y_train)\n",
    "\n",
    "best_accuracy = grid_search.best_score_ \n",
    "best_parameters = grid_search.best_params_  \n",
    "\n",
    "print('Best accuracy : ', grid_search.best_score_)\n",
    "print('Best parameters :', grid_search.best_params_  )\n",
    "\n",
    "y_pred = grid_search.predict(X_test)\n",
    "print(classification_report(y_test, y_pred))\n",
    "\n",
    "cf = confusion_matrix(y_test, y_pred)\n",
    "print(cf)\n",
    "print(accuracy_score(y_test, y_pred) * 100) "
   ]
  },
  {
   "cell_type": "code",
   "execution_count": 51,
   "metadata": {},
   "outputs": [
    {
     "name": "stdout",
     "output_type": "stream",
     "text": [
      "Fitting 20 folds for each of 20 candidates, totalling 400 fits\n"
     ]
    },
    {
     "name": "stderr",
     "output_type": "stream",
     "text": [
      "[Parallel(n_jobs=-1)]: Using backend LokyBackend with 4 concurrent workers.\n",
      "[Parallel(n_jobs=-1)]: Done  42 tasks      | elapsed:   32.0s\n",
      "[Parallel(n_jobs=-1)]: Done 192 tasks      | elapsed:  1.3min\n"
     ]
    },
    {
     "name": "stdout",
     "output_type": "stream",
     "text": [
      "Best accuracy :  0.8602511607332042\n",
      "Best parameters : {'C': 12.267933515119251, 'class_weight': None, 'solver': 'liblinear'}\n",
      "              precision    recall  f1-score   support\n",
      "\n",
      "          -1       0.58      0.95      0.72       551\n",
      "           0       0.00      0.00      0.00       600\n",
      "           1       0.93      0.99      0.96      3849\n",
      "\n",
      "    accuracy                           0.87      5000\n",
      "   macro avg       0.50      0.65      0.56      5000\n",
      "weighted avg       0.78      0.87      0.82      5000\n",
      "\n",
      "[[ 526    2   23]\n",
      " [ 344    0  256]\n",
      " [  44    0 3805]]\n",
      "86.61999999999999\n"
     ]
    },
    {
     "name": "stderr",
     "output_type": "stream",
     "text": [
      "[Parallel(n_jobs=-1)]: Done 400 out of 400 | elapsed:  2.6min finished\n"
     ]
    }
   ],
   "source": [
    "# hyperparameter tuning Logistic Regression - Random Search\n",
    "from sklearn.model_selection import RandomizedSearchCV\n",
    "from scipy.stats import randint \n",
    "from scipy.stats import uniform\n",
    "from sklearn.linear_model import LogisticRegression\n",
    "\n",
    "model = LogisticRegression()\n",
    "\n",
    "parameters = [\n",
    "             {'C' : uniform(0.01, 20), \n",
    "              'solver': ['liblinear','lbfgs', 'newton-cg', 'sag','saga'],\n",
    "              'class_weight': [None, 'balanced']}\n",
    "             ]\n",
    "\n",
    "              \n",
    "\n",
    "n_iter_search = 20\n",
    "\n",
    "random_search = RandomizedSearchCV(model, param_distributions=parameters,cv=20,n_iter=n_iter_search,n_jobs = -1,verbose=1)\n",
    "\n",
    "random_search = random_search.fit(X_train, y_train)\n",
    "\n",
    "best_accuracy = random_search.best_score_ \n",
    "best_parameters = random_search.best_params_  \n",
    "\n",
    "print('Best accuracy : ', random_search.best_score_)\n",
    "print('Best parameters :',random_search.best_params_  )\n",
    "\n",
    "y_pred = random_search.predict(X_test)\n",
    "print(classification_report(y_test, y_pred))\n",
    "\n",
    "cf = confusion_matrix(y_test, y_pred)\n",
    "print(cf)\n",
    "print(accuracy_score(y_test, y_pred) * 100) "
   ]
  },
  {
   "cell_type": "markdown",
   "metadata": {},
   "source": [
    "\n",
    "### svm - grid search\n",
    "from sklearn.model_selection import GridSearchCV\n",
    "from sklearn.svm import SVC\n",
    "\n",
    "model = SVC()\n",
    "\n",
    "paramaters = [ \n",
    "        {'kernel': ['linear'], \n",
    "         'C': [0.1, 1, 10], \n",
    "         'class_weight': [None, 'balanced']},\n",
    "        {'kernel': ['rbf', 'poly', 'sigmoid'], \n",
    "         'C': [0.1, 1, 10], \n",
    "         'gamma': [0.001, 0.01, 0.1, 0.2], \n",
    "         'class_weight': [None, 'balanced']},\n",
    "]\n",
    "\n",
    "grid_search = GridSearchCV(estimator = model, \n",
    "                           param_grid = paramaters,\n",
    "                           scoring = 'accuracy', \n",
    "                           cv = 2,\n",
    "                           n_jobs = -1,\n",
    "                           verbose =5)\n",
    "grid_search = grid_search.fit(X_train, y_train)\n",
    "\n",
    "best_accuracy = grid_search.best_score_ \n",
    "best_parameters = grid_search.best_params_  \n",
    "print('Best accuracy : ', grid_search.best_score_)\n",
    "print('Best parameters :', grid_search.best_params_  )\n",
    "\n",
    "\n",
    "y_pred = grid_search.predict(X_test)\n",
    "print(classification_report(y_test, y_pred))\n",
    "\n",
    "cf = confusion_matrix(y_test, y_pred)\n",
    "print(cf)\n",
    "print(accuracy_score(y_test, y_pred) * 100) "
   ]
  },
  {
   "cell_type": "code",
   "execution_count": 54,
   "metadata": {},
   "outputs": [
    {
     "name": "stdout",
     "output_type": "stream",
     "text": [
      "Fitting 5 folds for each of 20 candidates, totalling 100 fits\n"
     ]
    },
    {
     "name": "stderr",
     "output_type": "stream",
     "text": [
      "[Parallel(n_jobs=-1)]: Using backend LokyBackend with 4 concurrent workers.\n",
      "[Parallel(n_jobs=-1)]: Done  42 tasks      | elapsed: 20.2min\n",
      "[Parallel(n_jobs=-1)]: Done 100 out of 100 | elapsed: 46.1min finished\n"
     ]
    },
    {
     "name": "stdout",
     "output_type": "stream",
     "text": [
      "Best accuracy :  0.7705633639690235\n",
      "Best parameters : {'kernel': 'sigmoid', 'gamma': 0.01, 'degree': 3, 'class_weight': None, 'C': 10}\n",
      "              precision    recall  f1-score   support\n",
      "\n",
      "          -1       0.00      0.00      0.00       551\n",
      "           0       0.00      0.00      0.00       600\n",
      "           1       0.77      1.00      0.87      3849\n",
      "\n",
      "    accuracy                           0.77      5000\n",
      "   macro avg       0.26      0.33      0.29      5000\n",
      "weighted avg       0.59      0.77      0.67      5000\n",
      "\n",
      "[[   0    0  551]\n",
      " [   0    0  600]\n",
      " [   0    0 3849]]\n",
      "76.98\n"
     ]
    },
    {
     "name": "stderr",
     "output_type": "stream",
     "text": [
      "C:\\Users\\Dominic Ho\\anaconda3\\lib\\site-packages\\sklearn\\metrics\\_classification.py:1221: UndefinedMetricWarning: Precision and F-score are ill-defined and being set to 0.0 in labels with no predicted samples. Use `zero_division` parameter to control this behavior.\n",
      "  _warn_prf(average, modifier, msg_start, len(result))\n"
     ]
    }
   ],
   "source": [
    "# hyperparameter tuning SVM - Random Search\n",
    "\n",
    "from sklearn.model_selection import RandomizedSearchCV\n",
    "from scipy.stats import randint \n",
    "from scipy.stats import uniform\n",
    "\n",
    "#svc trainen\n",
    "model = SVC()\n",
    "\n",
    "parameters = [\n",
    "    {'kernel': ['linear'], \n",
    "     'C': [0.01, 0.1, 1, 10], \n",
    "     'degree': [2,3,4], \n",
    "     'class_weight': [None, 'balanced']\n",
    "    },\n",
    "    {'kernel': ['rbf', 'poly', 'sigmoid'], \n",
    "     'C': [0.01, 0.1, 1, 10],\n",
    "     'gamma': [0.001, 0.01, 0.1, 0.2], \n",
    "     'degree': [2,3,4], \n",
    "     'class_weight': [None, 'balanced']}\n",
    "]\n",
    " \n",
    "n_iter_search = 20\n",
    "\n",
    "random_search_svm = RandomizedSearchCV(model, param_distributions=parameters,cv=5,n_iter=n_iter_search,n_jobs = -1,verbose=1)\n",
    "\n",
    "random_search_svm = random_search_svm.fit(X_train_tf, y_train)\n",
    "\n",
    "best_accuracy = random_search_svm.best_score_ \n",
    "best_parameters = random_search_svm.best_params_  \n",
    "\n",
    "print('Best accuracy : ', random_search_svm.best_score_)\n",
    "print('Best parameters :',random_search_svm.best_params_  )\n",
    "\n",
    "y_pred = random_search_svm.predict(X_test_tf)\n",
    "print(classification_report(y_test, y_pred))\n",
    "\n",
    "cf = confusion_matrix(y_test, y_pred)\n",
    "print(cf)\n",
    "print(accuracy_score(y_test, y_pred) * 100) "
   ]
  },
  {
   "cell_type": "markdown",
   "metadata": {},
   "source": [
    "In general if we compare the 3 classifiers, we can see that there are differences in scores. Based on the scores the order is as follows: Logistic regression (86,61%), SVM (76,98%) and Naive Bayes (69,89%). Moreover, if we take the execution time into consideration then the logistic regression would be the most suitable classifier with a preference for class 1."
   ]
  },
  {
   "cell_type": "markdown",
   "metadata": {},
   "source": [
    "## Deel 3 - Cyber trolls\n",
    "\n",
    "Een cyber troll heeft als bedoeling emotionele reacties uit te lokken door opzettelijk verkeerde, kwetsende en agressieve berichten te plaatsen op forums, newsgroups, social media, etc. \n",
    "Online platformen hebben er een groot belang bij om deze cyber trolls te kunnen detecteren en weren van hun platform. Daarvoor gebruiken ze geavanceerde nlp algoritmes.\n",
    "Ontwerp zelf een cyber troll detector op basis. Je kan daarvoor beroep doen op de dataset 'Cybetrolls.csv'.\n",
    "Om de dataset te evalueren gebruik je een test set van 5000 berichten.\n",
    "\n",
    "Voor het evalueren van de classifier gebruik je de volgende metrics: accuracy, f1 score en de ROC. Formuleer conclusies. Bijvoorbeeld naar de keuze toe van de classifier, interpretatie van de ROC of auROC. Toon enkele verkeerd geclassificeerde berichten en probeer te achterhalen waarom ze verkeerd geclassificeerd werden."
   ]
  },
  {
   "cell_type": "code",
   "execution_count": 125,
   "metadata": {},
   "outputs": [
    {
     "data": {
      "text/html": [
       "<div>\n",
       "<style scoped>\n",
       "    .dataframe tbody tr th:only-of-type {\n",
       "        vertical-align: middle;\n",
       "    }\n",
       "\n",
       "    .dataframe tbody tr th {\n",
       "        vertical-align: top;\n",
       "    }\n",
       "\n",
       "    .dataframe thead th {\n",
       "        text-align: right;\n",
       "    }\n",
       "</style>\n",
       "<table border=\"1\" class=\"dataframe\">\n",
       "  <thead>\n",
       "    <tr style=\"text-align: right;\">\n",
       "      <th></th>\n",
       "      <th>annotation</th>\n",
       "      <th>content</th>\n",
       "    </tr>\n",
       "  </thead>\n",
       "  <tbody>\n",
       "    <tr>\n",
       "      <th>0</th>\n",
       "      <td>1</td>\n",
       "      <td>Get fucking real dude.</td>\n",
       "    </tr>\n",
       "    <tr>\n",
       "      <th>1</th>\n",
       "      <td>1</td>\n",
       "      <td>She is as dirty as they come  and that crook ...</td>\n",
       "    </tr>\n",
       "    <tr>\n",
       "      <th>2</th>\n",
       "      <td>1</td>\n",
       "      <td>why did you fuck it up. I could do it all day...</td>\n",
       "    </tr>\n",
       "    <tr>\n",
       "      <th>3</th>\n",
       "      <td>1</td>\n",
       "      <td>Dude they dont finish enclosing the fucking s...</td>\n",
       "    </tr>\n",
       "    <tr>\n",
       "      <th>4</th>\n",
       "      <td>1</td>\n",
       "      <td>WTF are you talking about Men? No men thats n...</td>\n",
       "    </tr>\n",
       "  </tbody>\n",
       "</table>\n",
       "</div>"
      ],
      "text/plain": [
       "   annotation                                            content\n",
       "0           1                             Get fucking real dude.\n",
       "1           1   She is as dirty as they come  and that crook ...\n",
       "2           1   why did you fuck it up. I could do it all day...\n",
       "3           1   Dude they dont finish enclosing the fucking s...\n",
       "4           1   WTF are you talking about Men? No men thats n..."
      ]
     },
     "execution_count": 125,
     "metadata": {},
     "output_type": "execute_result"
    }
   ],
   "source": [
    "dataset = pd.read_csv('Cybetrolls.csv')\n",
    "dataset.head()"
   ]
  },
  {
   "cell_type": "markdown",
   "metadata": {},
   "source": [
    "1. Vooranalyse van de data.\n",
    "2. Preprocessing van de tekst.\n",
    "3. Omzetten naar bag-of-words.\n",
    "4. Trainen van de classifiers.\n",
    "5. Testen van de getrainde classifiers + uitvoeren van hyperparameter tuning."
   ]
  },
  {
   "cell_type": "code",
   "execution_count": 132,
   "metadata": {},
   "outputs": [],
   "source": [
    "# Uitwerking Cyber trolls\n",
    "X = dataset.drop(['annotation'], axis=1).values\n",
    "y = dataset['annotation'].values\n",
    "\n",
    "\n",
    "# Opsplitsen in training set en test set\n",
    "X_train, X_test, y_train, y_test = train_test_split(X, y, test_size=5000, random_state=0)\n",
    "X_train = X_train.reshape(-1)\n",
    "X_test = X_test.reshape(-1)\n"
   ]
  },
  {
   "cell_type": "markdown",
   "metadata": {},
   "source": [
    "### 1. Vooranalyse van de data"
   ]
  },
  {
   "cell_type": "markdown",
   "metadata": {},
   "source": [
    "- Onderzoek of er ontbrekende waarden in de datasets voorkomen.\n",
    "- Is de dataset gebalanceerd?\n",
    "- Onderzoek of er een correlatie te vinden is tussen de lengte van een bericht enerzijds en het sentiment anderzijds. Dit mag grafisch (via bijvoorbeeld een boxplot) of via correlatiecoëfficiënten."
   ]
  },
  {
   "cell_type": "code",
   "execution_count": 17,
   "metadata": {},
   "outputs": [
    {
     "name": "stdout",
     "output_type": "stream",
     "text": [
      "annotation    0\n",
      "content       0\n",
      "dtype: int64\n",
      "No missing values.\n"
     ]
    }
   ],
   "source": [
    "# to find existing missing values\n",
    "print(dataset.isnull().sum())\n",
    "print('No missing values.')"
   ]
  },
  {
   "cell_type": "code",
   "execution_count": 18,
   "metadata": {},
   "outputs": [
    {
     "data": {
      "text/plain": [
       "0    12179\n",
       "1     7822\n",
       "Name: annotation, dtype: int64"
      ]
     },
     "execution_count": 18,
     "metadata": {},
     "output_type": "execute_result"
    },
    {
     "data": {
      "image/png": "[encoded data removed]",
      "text/plain": [
       "<Figure size 432x288 with 1 Axes>"
      ]
     },
     "metadata": {
      "needs_background": "light"
     },
     "output_type": "display_data"
    }
   ],
   "source": [
    "# is de dataset gebalanceerd?\n",
    "\n",
    "# gebalanceerdheid controleren\n",
    "sns.countplot(x='annotation',data=dataset)\n",
    "\n",
    "dataset['annotation'].value_counts()"
   ]
  },
  {
   "cell_type": "markdown",
   "metadata": {},
   "source": [
    "Not perfectly balanced. There are approximately 4350 samples more in the negative class than in the positive class. The classifier has a preference for the class without annotation (class 0)."
   ]
  },
  {
   "cell_type": "code",
   "execution_count": 19,
   "metadata": {},
   "outputs": [
    {
     "data": {
      "text/plain": [
       "<matplotlib.axes._subplots.AxesSubplot at 0x1eebd461eb0>"
      ]
     },
     "execution_count": 19,
     "metadata": {},
     "output_type": "execute_result"
    },
    {
     "data": {
      "image/png": "[encoded data removed]",
      "text/plain": [
       "<Figure size 720x720 with 1 Axes>"
      ]
     },
     "metadata": {
      "needs_background": "light"
     },
     "output_type": "display_data"
    }
   ],
   "source": [
    "dataset['Content Length']=dataset['content'].apply(len)\n",
    "\n",
    "plt.figure(figsize=(10,10))\n",
    "sns.boxplot(x='annotation', y='Content Length', data=dataset)"
   ]
  },
  {
   "cell_type": "code",
   "execution_count": 20,
   "metadata": {},
   "outputs": [
    {
     "data": {
      "text/html": [
       "<div>\n",
       "<style scoped>\n",
       "    .dataframe tbody tr th:only-of-type {\n",
       "        vertical-align: middle;\n",
       "    }\n",
       "\n",
       "    .dataframe tbody tr th {\n",
       "        vertical-align: top;\n",
       "    }\n",
       "\n",
       "    .dataframe thead th {\n",
       "        text-align: right;\n",
       "    }\n",
       "</style>\n",
       "<table border=\"1\" class=\"dataframe\">\n",
       "  <thead>\n",
       "    <tr style=\"text-align: right;\">\n",
       "      <th></th>\n",
       "      <th>annotation</th>\n",
       "      <th>Content Length</th>\n",
       "    </tr>\n",
       "  </thead>\n",
       "  <tbody>\n",
       "    <tr>\n",
       "      <th>annotation</th>\n",
       "      <td>1.000000</td>\n",
       "      <td>0.053249</td>\n",
       "    </tr>\n",
       "    <tr>\n",
       "      <th>Content Length</th>\n",
       "      <td>0.053249</td>\n",
       "      <td>1.000000</td>\n",
       "    </tr>\n",
       "  </tbody>\n",
       "</table>\n",
       "</div>"
      ],
      "text/plain": [
       "                annotation  Content Length\n",
       "annotation        1.000000        0.053249\n",
       "Content Length    0.053249        1.000000"
      ]
     },
     "execution_count": 20,
     "metadata": {},
     "output_type": "execute_result"
    }
   ],
   "source": [
    "dataset.corr()"
   ]
  },
  {
   "cell_type": "markdown",
   "metadata": {},
   "source": [
    "Correlation coefficient of 0.05 indicates that the relationship is positive and has very little, almost no correlation. This means that the annotation and the content length has no correlation."
   ]
  },
  {
   "cell_type": "markdown",
   "metadata": {},
   "source": [
    "### 2. Preprocessing van de tekst"
   ]
  },
  {
   "cell_type": "markdown",
   "metadata": {},
   "source": [
    "- Kuis de teksten op: verwijder stopwoorden en niet-letters, zet alles om naar lowercase, ... \n",
    "- Pas stemming toe."
   ]
  },
  {
   "cell_type": "code",
   "execution_count": 21,
   "metadata": {},
   "outputs": [],
   "source": [
    "# Preprocessing van de tekst\n",
    "\n",
    "def text_preprocessing(text, language, minWordSize):\n",
    "    \n",
    "    # remove html\n",
    "    text_no_html = BeautifulSoup(str(text),\"html.parser\" ).get_text()\n",
    "    \n",
    "    # remove non-letters\n",
    "    text_alpha_chars = re.sub(\"[^a-zA-Z']\", \" \", str(text_no_html)) \n",
    "        \n",
    "    # convert to lower-case\n",
    "    text_lower = text_alpha_chars.lower()\n",
    "    \n",
    "    # remove stop words\n",
    "    stops = set(stopwords.words(language)) \n",
    "    text_no_stop_words = ' '\n",
    "    \n",
    "    for w in text_lower.split():\n",
    "        if w not in stops:  \n",
    "            text_no_stop_words = text_no_stop_words + w + ' '\n",
    "      \n",
    "       # do stemming\n",
    "    text_stemmer = ' '\n",
    "    stemmer = SnowballStemmer(language)\n",
    "    for w in text_no_stop_words.split():\n",
    "        text_stemmer = text_stemmer + stemmer.stem(w) + ' '\n",
    "         \n",
    "    # remove short words\n",
    "    text_no_short_words = ' '\n",
    "    for w in text_stemmer.split(): \n",
    "        if len(w) >=minWordSize:\n",
    "            text_no_short_words = text_no_short_words + w + ' '\n",
    " \n",
    "\n",
    "    return text_no_short_words\n"
   ]
  },
  {
   "cell_type": "code",
   "execution_count": 22,
   "metadata": {},
   "outputs": [
    {
     "name": "stderr",
     "output_type": "stream",
     "text": [
      "C:\\Users\\Dominic Ho\\anaconda3\\lib\\site-packages\\bs4\\__init__.py:329: MarkupResemblesLocatorWarning: \"  ..\" looks like a filename, not markup. You should probably open this file and pass the filehandle into Beautiful Soup.\n",
      "  warnings.warn(\n",
      "C:\\Users\\Dominic Ho\\anaconda3\\lib\\site-packages\\bs4\\__init__.py:414: MarkupResemblesLocatorWarning: \"http://tinyurl.com/these-hats-are-damn-tradition\" looks like a URL. Beautiful Soup is not an HTTP client. You should probably use an HTTP client like requests to get the document behind the URL, and feed that document to Beautiful Soup.\n",
      "  warnings.warn(\n",
      "C:\\Users\\Dominic Ho\\anaconda3\\lib\\site-packages\\bs4\\__init__.py:329: MarkupResemblesLocatorWarning: \"  .\" looks like a filename, not markup. You should probably open this file and pass the filehandle into Beautiful Soup.\n",
      "  warnings.warn(\n",
      "C:\\Users\\Dominic Ho\\anaconda3\\lib\\site-packages\\bs4\\__init__.py:329: MarkupResemblesLocatorWarning: \"  ....\" looks like a filename, not markup. You should probably open this file and pass the filehandle into Beautiful Soup.\n",
      "  warnings.warn(\n",
      "C:\\Users\\Dominic Ho\\anaconda3\\lib\\site-packages\\bs4\\__init__.py:329: MarkupResemblesLocatorWarning: \" .\" looks like a filename, not markup. You should probably open this file and pass the filehandle into Beautiful Soup.\n",
      "  warnings.warn(\n"
     ]
    }
   ],
   "source": [
    "# Convert training and test set to bag of words\n",
    "language = 'english'\n",
    "minWordLength = 2\n",
    "\n",
    "for i in range(X_train.size):\n",
    "    X_train[i] = text_preprocessing(X_train[i], language, minWordLength)\n",
    "    \n",
    "    \n",
    "for i in range(X_test.size):\n",
    "    X_test[i] = text_preprocessing(X_test[i], language, minWordLength)"
   ]
  },
  {
   "cell_type": "markdown",
   "metadata": {},
   "source": [
    "### 3. Omzetten naar bag-of-words"
   ]
  },
  {
   "cell_type": "markdown",
   "metadata": {},
   "source": [
    "Maak gebruik van de CountVectorizer en TfidfTransformer om een bag-of-words model te creëren. \n",
    "\n",
    "Meer info: \n",
    "\n",
    "https://scikit-learn.org/stable/modules/generated/sklearn.feature_extraction.text.CountVectorizer.html \n",
    "\n",
    "https://scikit-learn.org/stable/modules/generated/sklearn.feature_extraction.text.TfidfTransformer.html#sklearn.feature_extraction.text.TfidfTransformer \n",
    "\n",
    "https://scikit-learn.org/stable/modules/generated/sklearn.feature_extraction.text.TfidfVectorizer.html#sklearn.feature_extraction.text.TfidfVectorizer\n",
    "\n"
   ]
  },
  {
   "cell_type": "code",
   "execution_count": 23,
   "metadata": {},
   "outputs": [
    {
     "name": "stdout",
     "output_type": "stream",
     "text": [
      "  (0, 3317)\t1\n",
      "  (0, 5689)\t1\n",
      "  (0, 5979)\t1\n",
      "  (0, 7363)\t1\n",
      "  (1, 1673)\t1\n",
      "  (1, 3256)\t1\n",
      "  (1, 6575)\t1\n",
      "  (1, 8098)\t1\n",
      "  (1, 8588)\t1\n",
      "  (1, 9563)\t1\n",
      "  (1, 10611)\t2\n",
      "  (2, 659)\t1\n",
      "  (2, 1007)\t1\n",
      "  (2, 3336)\t2\n",
      "  (2, 4671)\t1\n",
      "  (2, 5689)\t1\n",
      "  (2, 5951)\t2\n",
      "  (2, 7283)\t1\n",
      "  (2, 7585)\t1\n",
      "  (2, 7908)\t1\n",
      "  (2, 8241)\t1\n",
      "  (2, 8648)\t1\n",
      "  (2, 9314)\t1\n",
      "  (2, 9558)\t1\n",
      "  (3, 391)\t1\n",
      "  :\t:\n",
      "  (14996, 7952)\t1\n",
      "  (14996, 9804)\t1\n",
      "  (14996, 10662)\t1\n",
      "  (14997, 8694)\t1\n",
      "  (14997, 11094)\t1\n",
      "  (14998, 2225)\t1\n",
      "  (14998, 3668)\t1\n",
      "  (14998, 6701)\t1\n",
      "  (14998, 8785)\t1\n",
      "  (14998, 9336)\t1\n",
      "  (14998, 9590)\t1\n",
      "  (14999, 491)\t1\n",
      "  (14999, 3968)\t1\n",
      "  (14999, 5781)\t1\n",
      "  (14999, 6340)\t1\n",
      "  (14999, 9140)\t1\n",
      "  (14999, 9684)\t1\n",
      "  (14999, 10801)\t1\n",
      "  (15000, 987)\t1\n",
      "  (15000, 1419)\t1\n",
      "  (15000, 3256)\t3\n",
      "  (15000, 3556)\t1\n",
      "  (15000, 4270)\t1\n",
      "  (15000, 5506)\t1\n",
      "  (15000, 7948)\t1\n"
     ]
    }
   ],
   "source": [
    "# Omzetten naar bag-of-words\n",
    "\n",
    "# Make sparse features vectors \n",
    "\n",
    "# create instance \n",
    "count_vect = CountVectorizer()\n",
    "\n",
    "# train the object on the training set\n",
    "X_train_bag_of_words = count_vect.fit(X_train)\n",
    "\n",
    "# apply  the function on train\n",
    "X_train_bag_of_words = count_vect.transform(X_train)\n",
    "# apply  the function on test\n",
    "X_test_bag_of_words = count_vect.transform(X_test)\n",
    "\n",
    "print(X_train_bag_of_words)\n",
    "#print(X_test_bag_of_words)\n",
    "\n",
    "tfidf_transformer = TfidfTransformer()\n",
    "tf_transformer = TfidfTransformer(use_idf=True).fit(X_train_bag_of_words)\n",
    "X_train_tf = tf_transformer.transform(X_train_bag_of_words)\n",
    "X_test_tf = tf_transformer.transform(X_test_bag_of_words)\n"
   ]
  },
  {
   "cell_type": "code",
   "execution_count": 24,
   "metadata": {},
   "outputs": [
    {
     "name": "stdout",
     "output_type": "stream",
     "text": [
      " like mani photo fb \n"
     ]
    }
   ],
   "source": [
    "print(X_train[0])"
   ]
  },
  {
   "cell_type": "markdown",
   "metadata": {},
   "source": [
    "### 4. Trainen van de classifiers"
   ]
  },
  {
   "cell_type": "markdown",
   "metadata": {},
   "source": [
    "Train drie verschillende classifiers op de bag-of-words data: naive bayes classifier, logistic regression classifier en een Support Vector Machine classifier.\n"
   ]
  },
  {
   "cell_type": "code",
   "execution_count": 25,
   "metadata": {},
   "outputs": [
    {
     "data": {
      "text/plain": [
       "MultinomialNB(alpha=1)"
      ]
     },
     "execution_count": 25,
     "metadata": {},
     "output_type": "execute_result"
    }
   ],
   "source": [
    "# Train a Naive bayes classifier\n",
    "\n",
    "NBclassifier = MultinomialNB(alpha=1)\n",
    "\n",
    "NBclassifier.fit(X_train_tf, y_train)"
   ]
  },
  {
   "cell_type": "code",
   "execution_count": 26,
   "metadata": {},
   "outputs": [
    {
     "name": "stdout",
     "output_type": "stream",
     "text": [
      "              precision    recall  f1-score   support\n",
      "\n",
      "           0       0.76      0.91      0.83      3053\n",
      "           1       0.80      0.55      0.65      1947\n",
      "\n",
      "    accuracy                           0.77      5000\n",
      "   macro avg       0.78      0.73      0.74      5000\n",
      "weighted avg       0.78      0.77      0.76      5000\n",
      "\n",
      "[[2789  264]\n",
      " [ 876 1071]]\n",
      "77.2\n"
     ]
    }
   ],
   "source": [
    "# test Naive Bayes classifier\n",
    "\n",
    "y_pred = NBclassifier.predict(X_test_tf)\n",
    "print(classification_report(y_test, y_pred))\n",
    "\n",
    "cf = confusion_matrix(y_test, y_pred)\n",
    "print(cf)\n",
    "print(accuracy_score(y_test, y_pred) * 100)"
   ]
  },
  {
   "cell_type": "code",
   "execution_count": 27,
   "metadata": {},
   "outputs": [
    {
     "name": "stderr",
     "output_type": "stream",
     "text": [
      "C:\\Users\\Dominic Ho\\anaconda3\\lib\\site-packages\\sklearn\\linear_model\\_logistic.py:762: ConvergenceWarning: lbfgs failed to converge (status=1):\n",
      "STOP: TOTAL NO. of ITERATIONS REACHED LIMIT.\n",
      "\n",
      "Increase the number of iterations (max_iter) or scale the data as shown in:\n",
      "    https://scikit-learn.org/stable/modules/preprocessing.html\n",
      "Please also refer to the documentation for alternative solver options:\n",
      "    https://scikit-learn.org/stable/modules/linear_model.html#logistic-regression\n",
      "  n_iter_i = _check_optimize_result(\n"
     ]
    },
    {
     "data": {
      "text/plain": [
       "LogisticRegression(C=10)"
      ]
     },
     "execution_count": 27,
     "metadata": {},
     "output_type": "execute_result"
    }
   ],
   "source": [
    "# train a logistic regression classifier\n",
    "lregclassifier = LogisticRegression(C=10)\n",
    "\n",
    "lregclassifier.fit(X_train_tf, y_train)"
   ]
  },
  {
   "cell_type": "code",
   "execution_count": 28,
   "metadata": {},
   "outputs": [
    {
     "name": "stdout",
     "output_type": "stream",
     "text": [
      "              precision    recall  f1-score   support\n",
      "\n",
      "           0       0.90      0.83      0.87      3053\n",
      "           1       0.76      0.86      0.81      1947\n",
      "\n",
      "    accuracy                           0.84      5000\n",
      "   macro avg       0.83      0.85      0.84      5000\n",
      "weighted avg       0.85      0.84      0.84      5000\n",
      "\n",
      "[[2536  517]\n",
      " [ 267 1680]]\n",
      "84.32\n"
     ]
    }
   ],
   "source": [
    "# test logistic classifier\n",
    "\n",
    "y_pred = lregclassifier.predict(X_test_tf)\n",
    "print(classification_report(y_test, y_pred))\n",
    "\n",
    "cf = confusion_matrix(y_test, y_pred)\n",
    "print(cf)\n",
    "print(accuracy_score(y_test, y_pred) * 100) "
   ]
  },
  {
   "cell_type": "code",
   "execution_count": 29,
   "metadata": {},
   "outputs": [
    {
     "data": {
      "text/plain": [
       "SVC(C=0.1, kernel='linear', probability=True)"
      ]
     },
     "execution_count": 29,
     "metadata": {},
     "output_type": "execute_result"
    }
   ],
   "source": [
    "# train a SVM\n",
    "SVMlinear = svm.SVC(kernel='linear',C=0.1, probability=True)\n",
    "SVMlinear.fit(X_train_tf, y_train)"
   ]
  },
  {
   "cell_type": "code",
   "execution_count": 30,
   "metadata": {},
   "outputs": [
    {
     "name": "stdout",
     "output_type": "stream",
     "text": [
      "              precision    recall  f1-score   support\n",
      "\n",
      "           0       0.69      0.92      0.79      3053\n",
      "           1       0.72      0.34      0.47      1947\n",
      "\n",
      "    accuracy                           0.69      5000\n",
      "   macro avg       0.71      0.63      0.63      5000\n",
      "weighted avg       0.70      0.69      0.66      5000\n",
      "\n",
      "[[2797  256]\n",
      " [1276  671]]\n",
      "69.36\n"
     ]
    }
   ],
   "source": [
    "# test SVM\n",
    "y_pred = SVMlinear.predict(X_test_tf)\n",
    "print(classification_report(y_test, y_pred))\n",
    "\n",
    "cf = confusion_matrix(y_test, y_pred)\n",
    "print(cf)\n",
    "print(accuracy_score(y_test, y_pred) * 100) \n"
   ]
  },
  {
   "cell_type": "markdown",
   "metadata": {},
   "source": [
    "The logistic regression has the highest accuracy rate of 84,32%."
   ]
  },
  {
   "cell_type": "markdown",
   "metadata": {},
   "source": [
    "### 5. Testen van de getrainde classifiers + uitvoeren van hyperparameter tuning"
   ]
  },
  {
   "cell_type": "markdown",
   "metadata": {},
   "source": [
    "- Voer hyperparameter tuning uit via grid-search, random search of Bayes Optimization.\n",
    "- Welke classifier heeft jouw voorkeur? Beargumenteer in de context van accuracy, f1-score en berekeningstijd.\n",
    "- Bekijk enkele verkeerd geklassificeerde reviews. Is er een verklaring voor te vinden?\n",
    "\n",
    "\n",
    "Voor het evalueren van de classifier gebruik je de volgende metrics: accuracy, f1 score en de ROC. Formuleer conclusies. Bijvoorbeeld naar de keuze toe van de classifier, interpretatie van de ROC of auROC. Toon enkele verkeerd geclassificeerde berichten en probeer te achterhalen waarom ze verkeerd geclassificeerd werden."
   ]
  },
  {
   "cell_type": "code",
   "execution_count": 31,
   "metadata": {},
   "outputs": [
    {
     "name": "stdout",
     "output_type": "stream",
     "text": [
      "Fitting 20 folds for each of 5 candidates, totalling 100 fits\n"
     ]
    },
    {
     "name": "stderr",
     "output_type": "stream",
     "text": [
      "[Parallel(n_jobs=-1)]: Using backend LokyBackend with 4 concurrent workers.\n",
      "[Parallel(n_jobs=-1)]: Done  10 tasks      | elapsed:    2.3s\n"
     ]
    },
    {
     "name": "stdout",
     "output_type": "stream",
     "text": [
      "Best accuracy :  0.7953489569462937\n",
      "Best parameters : {'alpha': 0.001}\n",
      "              precision    recall  f1-score   support\n",
      "\n",
      "           0       0.85      0.83      0.84      3053\n",
      "           1       0.75      0.77      0.76      1947\n",
      "\n",
      "    accuracy                           0.81      5000\n",
      "   macro avg       0.80      0.80      0.80      5000\n",
      "weighted avg       0.81      0.81      0.81      5000\n",
      "\n",
      "[[2549  504]\n",
      " [ 442 1505]]\n",
      "81.08\n"
     ]
    },
    {
     "name": "stderr",
     "output_type": "stream",
     "text": [
      "[Parallel(n_jobs=-1)]: Done 100 out of 100 | elapsed:    2.8s finished\n"
     ]
    }
   ],
   "source": [
    "# hyperparameter tuning Naive Bayes - Grid Search\n",
    "\n",
    "from sklearn.model_selection import GridSearchCV\n",
    "\n",
    "\n",
    "model = MultinomialNB()\n",
    "paramaters = [\n",
    "             {'alpha' : [0.001, 0.01, 0.1, 1, 10]}                                       \n",
    "             ]\n",
    "\n",
    "grid_search_nb = GridSearchCV(estimator = model, \n",
    "                           param_grid = paramaters,\n",
    "                           scoring = 'accuracy',\n",
    "                           cv = 20,\n",
    "                           n_jobs = -1,\n",
    "                           verbose=5)\n",
    "grid_search_nb = grid_search_nb.fit(X_train_tf, y_train)\n",
    "\n",
    "best_accuracy = grid_search_nb.best_score_ \n",
    "best_parameters = grid_search_nb.best_params_  \n",
    "\n",
    "print('Best accuracy : ', grid_search_nb.best_score_)\n",
    "print('Best parameters :', grid_search_nb.best_params_  )\n",
    "\n",
    "y_pred = grid_search_nb.predict(X_test_tf)\n",
    "print(classification_report(y_test, y_pred))\n",
    "\n",
    "cf = confusion_matrix(y_test, y_pred)\n",
    "print(cf)\n",
    "print(accuracy_score(y_test, y_pred) * 100) \n"
   ]
  },
  {
   "cell_type": "code",
   "execution_count": 33,
   "metadata": {},
   "outputs": [
    {
     "name": "stderr",
     "output_type": "stream",
     "text": [
      "C:\\Users\\Dominic Ho\\anaconda3\\lib\\site-packages\\sklearn\\model_selection\\_search.py:278: UserWarning: The total space of parameters 5 is smaller than n_iter=20. Running 5 iterations. For exhaustive searches, use GridSearchCV.\n",
      "  warnings.warn(\n",
      "[Parallel(n_jobs=-1)]: Using backend LokyBackend with 4 concurrent workers.\n",
      "[Parallel(n_jobs=-1)]: Done  18 out of  25 | elapsed:    0.0s remaining:    0.0s\n",
      "[Parallel(n_jobs=-1)]: Done  25 out of  25 | elapsed:    0.1s finished\n"
     ]
    },
    {
     "name": "stdout",
     "output_type": "stream",
     "text": [
      "Fitting 5 folds for each of 5 candidates, totalling 25 fits\n",
      "Best accuracy :  0.7770822392535821\n",
      "Best parameters : {'alpha': 0.01}\n",
      "              precision    recall  f1-score   support\n",
      "\n",
      "           0       0.85      0.83      0.84      3053\n",
      "           1       0.75      0.77      0.76      1947\n",
      "\n",
      "    accuracy                           0.81      5000\n",
      "   macro avg       0.80      0.80      0.80      5000\n",
      "weighted avg       0.81      0.81      0.81      5000\n",
      "\n",
      "[[2548  505]\n",
      " [ 445 1502]]\n",
      "81.0\n"
     ]
    }
   ],
   "source": [
    "# hyperparameter tuning Naive Bayes - Random Search\n",
    "\n",
    "from sklearn.model_selection import RandomizedSearchCV\n",
    "# distributions\n",
    "from scipy.stats import randint \n",
    "from scipy.stats import uniform\n",
    "\n",
    "\n",
    "model = MultinomialNB()\n",
    "parameters = [\n",
    "             {'alpha' : [0.001, 0.01, 0.1, 1, 10]}                                       \n",
    "             ]\n",
    "\n",
    "# random search zoeken, bv 20 willekeurig random searches\n",
    "n_iter_search = 20\n",
    "\n",
    "# cv = cross validatie\n",
    "random_search_nb = RandomizedSearchCV(model, param_distributions=parameters,cv=5,n_iter=n_iter_search,n_jobs = -1,verbose=1)\n",
    "\n",
    "random_search_nb = random_search_nb.fit(X_train_tf, y_train)\n",
    "\n",
    "best_accuracy = random_search_nb.best_score_ \n",
    "best_parameters = random_search_nb.best_params_  \n",
    "\n",
    "print('Best accuracy : ', random_search_nb.best_score_)\n",
    "print('Best parameters :',random_search_nb.best_params_  )\n",
    "\n",
    "y_pred = random_search_nb.predict(X_test_tf)\n",
    "print(classification_report(y_test, y_pred))\n",
    "\n",
    "cf = confusion_matrix(y_test, y_pred)\n",
    "print(cf)\n",
    "print(accuracy_score(y_test, y_pred) * 100) "
   ]
  },
  {
   "cell_type": "code",
   "execution_count": 36,
   "metadata": {},
   "outputs": [
    {
     "data": {
      "image/png": "[encoded data removed]",
      "text/plain": [
       "<Figure size 432x288 with 1 Axes>"
      ]
     },
     "metadata": {
      "needs_background": "light"
     },
     "output_type": "display_data"
    }
   ],
   "source": [
    "# ROC\n",
    "\n",
    "import sklearn.metrics as metrics\n",
    "\n",
    "probs = grid_search_nb.predict_proba(X_test_tf)\n",
    "preds = probs[:,1]\n",
    "fpr, tpr, threshold = metrics.roc_curve(y_test, preds)\n",
    "roc_auc = metrics.auc(fpr, tpr)\n",
    "\n",
    "\n",
    "import matplotlib.pyplot as plt\n",
    "plt.title('Receiver Operating Characteristic')\n",
    "plt.plot(fpr, tpr, 'b', label = 'AUC = %0.2f' % roc_auc)\n",
    "plt.legend(loc = 'lower right')\n",
    "plt.plot([0, 1], [0, 1],'r--')\n",
    "plt.xlim([0, 1])\n",
    "plt.ylim([0, 1])\n",
    "plt.ylabel('True Positive Rate')\n",
    "plt.xlabel('False Positive Rate')\n",
    "plt.show()"
   ]
  },
  {
   "cell_type": "code",
   "execution_count": 37,
   "metadata": {},
   "outputs": [
    {
     "name": "stdout",
     "output_type": "stream",
     "text": [
      "Fitting 20 folds for each of 50 candidates, totalling 1000 fits\n"
     ]
    },
    {
     "name": "stderr",
     "output_type": "stream",
     "text": [
      "[Parallel(n_jobs=-1)]: Using backend LokyBackend with 4 concurrent workers.\n",
      "[Parallel(n_jobs=-1)]: Done  12 tasks      | elapsed:    0.3s\n",
      "[Parallel(n_jobs=-1)]: Done 216 tasks      | elapsed:    7.8s\n",
      "[Parallel(n_jobs=-1)]: Done 522 tasks      | elapsed:   22.4s\n",
      "[Parallel(n_jobs=-1)]: Done 648 tasks      | elapsed:   33.2s\n",
      "[Parallel(n_jobs=-1)]: Done 810 tasks      | elapsed:   54.2s\n",
      "[Parallel(n_jobs=-1)]: Done 1000 out of 1000 | elapsed:  1.6min finished\n"
     ]
    },
    {
     "name": "stdout",
     "output_type": "stream",
     "text": [
      "Best accuracy :  0.8636106524633821\n",
      "Best parameters : {'C': 100, 'class_weight': None, 'solver': 'lbfgs'}\n",
      "              precision    recall  f1-score   support\n",
      "\n",
      "           0       0.92      0.82      0.87      3053\n",
      "           1       0.76      0.89      0.82      1947\n",
      "\n",
      "    accuracy                           0.85      5000\n",
      "   macro avg       0.84      0.86      0.84      5000\n",
      "weighted avg       0.86      0.85      0.85      5000\n",
      "\n",
      "[[2493  560]\n",
      " [ 205 1742]]\n",
      "84.7\n"
     ]
    },
    {
     "name": "stderr",
     "output_type": "stream",
     "text": [
      "C:\\Users\\Dominic Ho\\anaconda3\\lib\\site-packages\\sklearn\\linear_model\\_logistic.py:762: ConvergenceWarning: lbfgs failed to converge (status=1):\n",
      "STOP: TOTAL NO. of ITERATIONS REACHED LIMIT.\n",
      "\n",
      "Increase the number of iterations (max_iter) or scale the data as shown in:\n",
      "    https://scikit-learn.org/stable/modules/preprocessing.html\n",
      "Please also refer to the documentation for alternative solver options:\n",
      "    https://scikit-learn.org/stable/modules/linear_model.html#logistic-regression\n",
      "  n_iter_i = _check_optimize_result(\n"
     ]
    }
   ],
   "source": [
    "# hyperparameter tuning Logistic Regression - Grid Search\n",
    "\n",
    "from sklearn.model_selection import GridSearchCV\n",
    "from sklearn.linear_model import LogisticRegression\n",
    "\n",
    "model = LogisticRegression()\n",
    "paramaters = [\n",
    "             {'C' : [0.01, 0.1, 1, 10, 100], \n",
    "              'solver': ['liblinear','lbfgs', 'newton-cg', 'sag','saga'], \n",
    "              'class_weight': [None, 'balanced']},                                       \n",
    "             ]\n",
    "\n",
    "\n",
    "grid_search_lr = GridSearchCV(estimator = model, \n",
    "                           param_grid = paramaters,\n",
    "                           scoring = 'accuracy',\n",
    "                           cv = 20,\n",
    "                           n_jobs = -1,\n",
    "                           verbose=5)\n",
    "grid_search_lr = grid_search_lr.fit(X_train_tf, y_train)\n",
    "\n",
    "best_accuracy = grid_search_lr.best_score_ \n",
    "best_parameters = grid_search_lr.best_params_  \n",
    "\n",
    "print('Best accuracy : ', grid_search_lr.best_score_)\n",
    "print('Best parameters :', grid_search_lr.best_params_  )\n",
    "\n",
    "y_pred = grid_search_lr.predict(X_test_tf)\n",
    "print(classification_report(y_test, y_pred))\n",
    "\n",
    "cf = confusion_matrix(y_test, y_pred)\n",
    "print(cf)\n",
    "print(accuracy_score(y_test, y_pred) * 100) "
   ]
  },
  {
   "cell_type": "code",
   "execution_count": 38,
   "metadata": {},
   "outputs": [
    {
     "name": "stdout",
     "output_type": "stream",
     "text": [
      "Fitting 20 folds for each of 20 candidates, totalling 400 fits\n"
     ]
    },
    {
     "name": "stderr",
     "output_type": "stream",
     "text": [
      "[Parallel(n_jobs=-1)]: Using backend LokyBackend with 4 concurrent workers.\n",
      "[Parallel(n_jobs=-1)]: Done  42 tasks      | elapsed:    6.8s\n",
      "[Parallel(n_jobs=-1)]: Done 192 tasks      | elapsed:   32.1s\n",
      "[Parallel(n_jobs=-1)]: Done 400 out of 400 | elapsed:  1.1min finished\n"
     ]
    },
    {
     "name": "stdout",
     "output_type": "stream",
     "text": [
      "Best accuracy :  0.8574778517532179\n",
      "Best parameters : {'C': 18.042249491270713, 'class_weight': None, 'solver': 'lbfgs'}\n",
      "              precision    recall  f1-score   support\n",
      "\n",
      "           0       0.92      0.83      0.87      3053\n",
      "           1       0.77      0.88      0.82      1947\n",
      "\n",
      "    accuracy                           0.85      5000\n",
      "   macro avg       0.84      0.86      0.85      5000\n",
      "weighted avg       0.86      0.85      0.85      5000\n",
      "\n",
      "[[2536  517]\n",
      " [ 224 1723]]\n",
      "85.18\n"
     ]
    },
    {
     "name": "stderr",
     "output_type": "stream",
     "text": [
      "C:\\Users\\Dominic Ho\\anaconda3\\lib\\site-packages\\sklearn\\linear_model\\_logistic.py:762: ConvergenceWarning: lbfgs failed to converge (status=1):\n",
      "STOP: TOTAL NO. of ITERATIONS REACHED LIMIT.\n",
      "\n",
      "Increase the number of iterations (max_iter) or scale the data as shown in:\n",
      "    https://scikit-learn.org/stable/modules/preprocessing.html\n",
      "Please also refer to the documentation for alternative solver options:\n",
      "    https://scikit-learn.org/stable/modules/linear_model.html#logistic-regression\n",
      "  n_iter_i = _check_optimize_result(\n"
     ]
    }
   ],
   "source": [
    "# hyperparameter tuning Logistic Regression - Random Search\n",
    "from sklearn.model_selection import RandomizedSearchCV\n",
    "from scipy.stats import randint \n",
    "from scipy.stats import uniform\n",
    "from sklearn.linear_model import LogisticRegression\n",
    "\n",
    "model = LogisticRegression()\n",
    "\n",
    "parameters = [\n",
    "             {'C' : uniform(0.01, 20), \n",
    "              'solver': ['liblinear','lbfgs', 'newton-cg', 'sag','saga'],\n",
    "              'class_weight': [None, 'balanced']}\n",
    "             ]\n",
    "\n",
    "              \n",
    "\n",
    "n_iter_search = 20\n",
    "\n",
    "random_search_lr = RandomizedSearchCV(model, param_distributions=parameters,cv=20,n_iter=n_iter_search,n_jobs = -1,verbose=1)\n",
    "\n",
    "random_search_lr = random_search_lr.fit(X_train_tf, y_train)\n",
    "\n",
    "best_accuracy = random_search_lr.best_score_ \n",
    "best_parameters = random_search_lr.best_params_  \n",
    "\n",
    "print('Best accuracy : ', random_search_lr.best_score_)\n",
    "print('Best parameters :',random_search_lr.best_params_  )\n",
    "\n",
    "y_pred = random_search_lr.predict(X_test_tf)\n",
    "print(classification_report(y_test, y_pred))\n",
    "\n",
    "cf = confusion_matrix(y_test, y_pred)\n",
    "print(cf)\n",
    "print(accuracy_score(y_test, y_pred) * 100) "
   ]
  },
  {
   "cell_type": "code",
   "execution_count": 39,
   "metadata": {},
   "outputs": [
    {
     "data": {
      "image/png": "[encoded data removed]",
      "text/plain": [
       "<Figure size 432x288 with 1 Axes>"
      ]
     },
     "metadata": {
      "needs_background": "light"
     },
     "output_type": "display_data"
    }
   ],
   "source": [
    "# ROC\n",
    "\n",
    "import sklearn.metrics as metrics\n",
    "\n",
    "probs = random_search_lr.predict_proba(X_test_tf)\n",
    "preds = probs[:,1]\n",
    "fpr, tpr, threshold = metrics.roc_curve(y_test, preds)\n",
    "roc_auc = metrics.auc(fpr, tpr)\n",
    "\n",
    "import matplotlib.pyplot as plt\n",
    "plt.title('Receiver Operating Characteristic')\n",
    "plt.plot(fpr, tpr, 'b', label = 'AUC = %0.2f' % roc_auc)\n",
    "plt.legend(loc = 'lower right')\n",
    "plt.plot([0, 1], [0, 1],'r--')\n",
    "plt.xlim([0, 1])\n",
    "plt.ylim([0, 1])\n",
    "plt.ylabel('True Positive Rate')\n",
    "plt.xlabel('False Positive Rate')\n",
    "plt.show()"
   ]
  },
  {
   "cell_type": "code",
   "execution_count": 40,
   "metadata": {},
   "outputs": [
    {
     "name": "stdout",
     "output_type": "stream",
     "text": [
      "Fitting 2 folds for each of 78 candidates, totalling 156 fits\n"
     ]
    },
    {
     "name": "stderr",
     "output_type": "stream",
     "text": [
      "[Parallel(n_jobs=-1)]: Using backend LokyBackend with 4 concurrent workers.\n",
      "[Parallel(n_jobs=-1)]: Done  10 tasks      | elapsed:  2.4min\n",
      "[Parallel(n_jobs=-1)]: Done  64 tasks      | elapsed: 14.6min\n",
      "[Parallel(n_jobs=-1)]: Done 156 out of 156 | elapsed: 42.1min finished\n"
     ]
    },
    {
     "name": "stdout",
     "output_type": "stream",
     "text": [
      "Best accuracy :  0.8006137759409857\n",
      "Best parameters : {'C': 10, 'class_weight': None, 'gamma': 0.2, 'kernel': 'rbf'}\n",
      "              precision    recall  f1-score   support\n",
      "\n",
      "           0       0.94      0.85      0.89      3053\n",
      "           1       0.79      0.92      0.85      1947\n",
      "\n",
      "    accuracy                           0.87      5000\n",
      "   macro avg       0.87      0.88      0.87      5000\n",
      "weighted avg       0.88      0.87      0.88      5000\n",
      "\n",
      "[[2581  472]\n",
      " [ 159 1788]]\n",
      "87.38\n"
     ]
    }
   ],
   "source": [
    "# laten draaien\n",
    "# hyperparameter tuning SVM - Grid Search\n",
    "from sklearn.model_selection import GridSearchCV\n",
    "from sklearn.svm import SVC\n",
    "\n",
    "model = SVC(probability=True)\n",
    "\n",
    "paramaters = [ \n",
    "        {'kernel': ['linear'], \n",
    "         'C':  [0.1, 1, 10], \n",
    "         'class_weight': [None, 'balanced']},\n",
    "        {'kernel': ['rbf', 'poly', 'sigmoid'], \n",
    "         'C': [0.1, 1, 10], \n",
    "         'gamma': [0.001, 0.01, 0.1, 0.2], \n",
    "         'class_weight': [None, 'balanced']},\n",
    "]\n",
    "\n",
    "grid_search_svm = GridSearchCV(estimator = model, \n",
    "                           param_grid = paramaters,\n",
    "                           scoring = 'accuracy', \n",
    "                           cv = 2,\n",
    "                           n_jobs = -1,\n",
    "                           verbose =5,)\n",
    "\n",
    "grid_search_svm = grid_search_svm.fit(X_train_tf, y_train)\n",
    "\n",
    "best_accuracy = grid_search_svm.best_score_ \n",
    "best_parameters = grid_search_svm.best_params_  \n",
    "print('Best accuracy : ', grid_search_svm.best_score_)\n",
    "print('Best parameters :', grid_search_svm.best_params_  )\n",
    "\n",
    "\n",
    "y_pred = grid_search_svm.predict(X_test_tf)\n",
    "print(classification_report(y_test, y_pred))\n",
    "\n",
    "cf = confusion_matrix(y_test, y_pred)\n",
    "print(cf)\n",
    "print(accuracy_score(y_test, y_pred) * 100) "
   ]
  },
  {
   "cell_type": "code",
   "execution_count": 44,
   "metadata": {},
   "outputs": [
    {
     "name": "stdout",
     "output_type": "stream",
     "text": [
      "Fitting 5 folds for each of 20 candidates, totalling 100 fits\n"
     ]
    },
    {
     "name": "stderr",
     "output_type": "stream",
     "text": [
      "[Parallel(n_jobs=-1)]: Using backend LokyBackend with 4 concurrent workers.\n",
      "[Parallel(n_jobs=-1)]: Done  42 tasks      | elapsed:  9.2min\n",
      "[Parallel(n_jobs=-1)]: Done 100 out of 100 | elapsed: 21.5min finished\n"
     ]
    },
    {
     "name": "stdout",
     "output_type": "stream",
     "text": [
      "Best accuracy :  0.8356113073419971\n",
      "Best parameters : {'C': 18.606927335765125, 'class_weight': None, 'degree': 4, 'kernel': 'linear'}\n",
      "              precision    recall  f1-score   support\n",
      "\n",
      "           0       0.92      0.80      0.86      3053\n",
      "           1       0.74      0.90      0.81      1947\n",
      "\n",
      "    accuracy                           0.84      5000\n",
      "   macro avg       0.83      0.85      0.83      5000\n",
      "weighted avg       0.85      0.84      0.84      5000\n",
      "\n",
      "[[2442  611]\n",
      " [ 199 1748]]\n",
      "83.8\n"
     ]
    }
   ],
   "source": [
    "# laten draaien\n",
    "# hyperparameter tuning SVM - Random Search\n",
    "\n",
    "from sklearn.model_selection import RandomizedSearchCV\n",
    "from scipy.stats import randint \n",
    "from scipy.stats import uniform\n",
    "\n",
    "\n",
    "#svc trainen\n",
    "model = SVC()\n",
    "\n",
    "parameters = [\n",
    "    {'kernel': ['linear'], \n",
    "     'C': uniform(0.01, 20), \n",
    "     'degree': [2,3,4], \n",
    "     'class_weight': [None, 'balanced']\n",
    "    },\n",
    "    {'kernel': ['rbf', 'poly', 'sigmoid'], \n",
    "     'C': uniform(0.01, 20), \n",
    "     'gamma': uniform(0.001, 0.2), \n",
    "     'degree': [2,3,4], \n",
    "     'class_weight': [None, 'balanced']}\n",
    "]\n",
    " \n",
    "n_iter_search = 20\n",
    "\n",
    "random_search_svm = RandomizedSearchCV(model, param_distributions=parameters,cv=5,n_iter=n_iter_search,n_jobs = -1,verbose=1)\n",
    "\n",
    "random_search_svm = random_search_svm.fit(X_train_tf, y_train)\n",
    "\n",
    "best_accuracy = random_search_svm.best_score_ \n",
    "best_parameters = random_search_svm.best_params_  \n",
    "\n",
    "print('Best accuracy : ', random_search_svm.best_score_)\n",
    "print('Best parameters :',random_search_svm.best_params_  )\n",
    "\n",
    "y_pred = random_search_svm.predict(X_test_tf)\n",
    "print(classification_report(y_test, y_pred))\n",
    "\n",
    "cf = confusion_matrix(y_test, y_pred)\n",
    "print(cf)\n",
    "print(accuracy_score(y_test, y_pred) * 100) "
   ]
  },
  {
   "cell_type": "code",
   "execution_count": 45,
   "metadata": {},
   "outputs": [
    {
     "data": {
      "image/png": "[encoded data removed]",
      "text/plain": [
       "<Figure size 432x288 with 1 Axes>"
      ]
     },
     "metadata": {
      "needs_background": "light"
     },
     "output_type": "display_data"
    }
   ],
   "source": [
    "# ROC\n",
    "\n",
    "import sklearn.metrics as metrics\n",
    "\n",
    "probs = grid_search_svm.predict_proba(X_test_tf)\n",
    "preds = probs[:,1]\n",
    "fpr, tpr, threshold = metrics.roc_curve(y_test, preds)\n",
    "roc_auc = metrics.auc(fpr, tpr)\n",
    "\n",
    "import matplotlib.pyplot as plt\n",
    "plt.title('Receiver Operating Characteristic')\n",
    "plt.plot(fpr, tpr, 'b', label = 'AUC = %0.2f' % roc_auc)\n",
    "plt.legend(loc = 'lower right')\n",
    "plt.plot([0, 1], [0, 1],'r--')\n",
    "plt.xlim([0, 1])\n",
    "plt.ylim([0, 1])\n",
    "plt.ylabel('True Positive Rate')\n",
    "plt.xlabel('False Positive Rate')\n",
    "plt.show()"
   ]
  },
  {
   "cell_type": "markdown",
   "metadata": {},
   "source": [
    "In general if we compare the 3 classifiers, we can see that there are differences in scores. Based on the scores the order is as follows: SVM - Grid Search(87,38%), Logistic Regression (85,18%) and Naive Bayes (81,08%). Eventhough the SVM has the longest execution time, it is still the most suitable classifier due to the fact that the difference of accuracy is huge between the classifiers. Therefore it is also more reliable.\n",
    "\n",
    "The ROC curve is a good graph to summarize the quality of our classifier. The higher the curve is above the diagonal baseline, the better the predictions. In this case, the highest AUC amounts 0.95 from the SVM (grid search) classifier. "
   ]
  },
  {
   "cell_type": "markdown",
   "metadata": {},
   "source": [
    "Toon enkele verkeerd geclassificeerde berichten en probeer te achterhalen waarom ze verkeerd geclassificeerd werden."
   ]
  },
  {
   "cell_type": "code",
   "execution_count": 126,
   "metadata": {},
   "outputs": [],
   "source": [
    "indices = [i for i in range(len(y_test)) if y_test[i] != y_pred[i]]"
   ]
  },
  {
   "cell_type": "code",
   "execution_count": 127,
   "metadata": {},
   "outputs": [
    {
     "data": {
      "text/html": [
       "<div>\n",
       "<style scoped>\n",
       "    .dataframe tbody tr th:only-of-type {\n",
       "        vertical-align: middle;\n",
       "    }\n",
       "\n",
       "    .dataframe tbody tr th {\n",
       "        vertical-align: top;\n",
       "    }\n",
       "\n",
       "    .dataframe thead th {\n",
       "        text-align: right;\n",
       "    }\n",
       "</style>\n",
       "<table border=\"1\" class=\"dataframe\">\n",
       "  <thead>\n",
       "    <tr style=\"text-align: right;\">\n",
       "      <th></th>\n",
       "      <th>annotation</th>\n",
       "      <th>content</th>\n",
       "    </tr>\n",
       "  </thead>\n",
       "  <tbody>\n",
       "    <tr>\n",
       "      <th>0</th>\n",
       "      <td>1</td>\n",
       "      <td>Get fucking real dude.</td>\n",
       "    </tr>\n",
       "    <tr>\n",
       "      <th>4</th>\n",
       "      <td>1</td>\n",
       "      <td>WTF are you talking about Men? No men thats n...</td>\n",
       "    </tr>\n",
       "    <tr>\n",
       "      <th>7</th>\n",
       "      <td>1</td>\n",
       "      <td>...go absolutely insane.hate to be the bearer ...</td>\n",
       "    </tr>\n",
       "    <tr>\n",
       "      <th>8</th>\n",
       "      <td>1</td>\n",
       "      <td>Lmao  im watching the same thing ahaha. The ga...</td>\n",
       "    </tr>\n",
       "    <tr>\n",
       "      <th>14</th>\n",
       "      <td>1</td>\n",
       "      <td>damn it i totally forgot that one!</td>\n",
       "    </tr>\n",
       "    <tr>\n",
       "      <th>...</th>\n",
       "      <td>...</td>\n",
       "      <td>...</td>\n",
       "    </tr>\n",
       "    <tr>\n",
       "      <th>4987</th>\n",
       "      <td>1</td>\n",
       "      <td>lol ur whale penis</td>\n",
       "    </tr>\n",
       "    <tr>\n",
       "      <th>4988</th>\n",
       "      <td>1</td>\n",
       "      <td>I know there's a bottle of bourbon in that hou...</td>\n",
       "    </tr>\n",
       "    <tr>\n",
       "      <th>4991</th>\n",
       "      <td>1</td>\n",
       "      <td>DAMN.</td>\n",
       "    </tr>\n",
       "    <tr>\n",
       "      <th>4995</th>\n",
       "      <td>1</td>\n",
       "      <td>ouch that sucks..</td>\n",
       "    </tr>\n",
       "    <tr>\n",
       "      <th>4999</th>\n",
       "      <td>1</td>\n",
       "      <td>dawns a Fucking twat and @occultclassic that i...</td>\n",
       "    </tr>\n",
       "  </tbody>\n",
       "</table>\n",
       "<p>1872 rows × 2 columns</p>\n",
       "</div>"
      ],
      "text/plain": [
       "      annotation                                            content\n",
       "0              1                             Get fucking real dude.\n",
       "4              1   WTF are you talking about Men? No men thats n...\n",
       "7              1  ...go absolutely insane.hate to be the bearer ...\n",
       "8              1  Lmao  im watching the same thing ahaha. The ga...\n",
       "14             1                 damn it i totally forgot that one!\n",
       "...          ...                                                ...\n",
       "4987           1                                 lol ur whale penis\n",
       "4988           1  I know there's a bottle of bourbon in that hou...\n",
       "4991           1                                              DAMN.\n",
       "4995           1                                  ouch that sucks..\n",
       "4999           1  dawns a Fucking twat and @occultclassic that i...\n",
       "\n",
       "[1872 rows x 2 columns]"
      ]
     },
     "execution_count": 127,
     "metadata": {},
     "output_type": "execute_result"
    }
   ],
   "source": [
    "wrong_predictions = dataset.iloc[indices,:]\n",
    "wrong_predictions"
   ]
  },
  {
   "cell_type": "markdown",
   "metadata": {},
   "source": [
    "As we can see from the wrong classified predictions, we could say that words with spelling mistakes and slang words are often used."
   ]
  }
 ],
 "metadata": {
  "kernelspec": {
   "display_name": "Python 3",
   "language": "python",
   "name": "python3"
  },
  "language_info": {
   "codemirror_mode": {
    "name": "ipython",
    "version": 3
   },
   "file_extension": ".py",
   "mimetype": "text/x-python",
   "name": "python",
   "nbconvert_exporter": "python",
   "pygments_lexer": "ipython3",
   "version": "3.8.8"
  }
 },
 "nbformat": 4,
 "nbformat_minor": 2
}
