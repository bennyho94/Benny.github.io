{
 "cells": [
  {
   "cell_type": "code",
   "execution_count": 1,
   "id": "9a452c44",
   "metadata": {},
   "outputs": [],
   "source": [
    "import nltk\n",
    "import json\n",
    "import pandas as pd\n",
    "import numpy as np\n",
    "import re \n",
    "import matplotlib.pyplot as plt\n",
    "from nltk.stem.porter import PorterStemmer\n",
    "from nltk.corpus import stopwords\n",
    "from bs4 import BeautifulSoup\n",
    "from sklearn.model_selection import train_test_split\n",
    "from sklearn.feature_extraction.text import CountVectorizer\n",
    "from sklearn.feature_extraction.text import TfidfTransformer\n",
    "from sklearn.linear_model import LogisticRegression\n",
    "from sklearn import svm\n",
    "from sklearn.naive_bayes import MultinomialNB\n",
    "from sklearn.naive_bayes import GaussianNB\n",
    "from sklearn.model_selection import RandomizedSearchCV\n",
    "from sklearn.metrics import classification_report\n",
    "from sklearn.metrics import confusion_matrix\n",
    "from sklearn.metrics import accuracy_score"
   ]
  },
  {
   "cell_type": "markdown",
   "id": "f8991a4e",
   "metadata": {},
   "source": [
    "### Import and load the data file"
   ]
  },
  {
   "cell_type": "code",
   "execution_count": 2,
   "id": "e9636267",
   "metadata": {},
   "outputs": [],
   "source": [
    "with open('intents.json', 'r') as f:\n",
    "    intents = json.load(f)"
   ]
  },
  {
   "cell_type": "code",
   "execution_count": 3,
   "id": "a75571dd",
   "metadata": {},
   "outputs": [],
   "source": [
    "# getting all the data to lists\n",
    "tags = []\n",
    "patterns = []\n",
    "labels = []\n",
    "for intent in intents['intents']:\n",
    "    for lines in intent['patterns']:\n",
    "        patterns.append(lines)\n",
    "        tags.append(intent['tag'])"
   ]
  },
  {
   "cell_type": "code",
   "execution_count": 4,
   "id": "33fe1557",
   "metadata": {},
   "outputs": [
    {
     "data": {
      "text/html": [
       "<div>\n",
       "<style scoped>\n",
       "    .dataframe tbody tr th:only-of-type {\n",
       "        vertical-align: middle;\n",
       "    }\n",
       "\n",
       "    .dataframe tbody tr th {\n",
       "        vertical-align: top;\n",
       "    }\n",
       "\n",
       "    .dataframe thead th {\n",
       "        text-align: right;\n",
       "    }\n",
       "</style>\n",
       "<table border=\"1\" class=\"dataframe\">\n",
       "  <thead>\n",
       "    <tr style=\"text-align: right;\">\n",
       "      <th></th>\n",
       "      <th>patterns</th>\n",
       "      <th>tags</th>\n",
       "    </tr>\n",
       "  </thead>\n",
       "  <tbody>\n",
       "    <tr>\n",
       "      <th>0</th>\n",
       "      <td>Hi</td>\n",
       "      <td>greetings</td>\n",
       "    </tr>\n",
       "    <tr>\n",
       "      <th>1</th>\n",
       "      <td>Hey</td>\n",
       "      <td>greetings</td>\n",
       "    </tr>\n",
       "    <tr>\n",
       "      <th>2</th>\n",
       "      <td>Hello</td>\n",
       "      <td>greetings</td>\n",
       "    </tr>\n",
       "    <tr>\n",
       "      <th>3</th>\n",
       "      <td>Hey there</td>\n",
       "      <td>greetings</td>\n",
       "    </tr>\n",
       "    <tr>\n",
       "      <th>4</th>\n",
       "      <td>Hello restaurant Taiwan</td>\n",
       "      <td>greetings</td>\n",
       "    </tr>\n",
       "    <tr>\n",
       "      <th>...</th>\n",
       "      <td>...</td>\n",
       "      <td>...</td>\n",
       "    </tr>\n",
       "    <tr>\n",
       "      <th>193</th>\n",
       "      <td>How big is the restaurant?</td>\n",
       "      <td>seats</td>\n",
       "    </tr>\n",
       "    <tr>\n",
       "      <th>194</th>\n",
       "      <td>How many seats</td>\n",
       "      <td>seats</td>\n",
       "    </tr>\n",
       "    <tr>\n",
       "      <th>195</th>\n",
       "      <td>seats</td>\n",
       "      <td>seats</td>\n",
       "    </tr>\n",
       "    <tr>\n",
       "      <th>196</th>\n",
       "      <td></td>\n",
       "      <td>unknown</td>\n",
       "    </tr>\n",
       "    <tr>\n",
       "      <th>197</th>\n",
       "      <td>rthbsd</td>\n",
       "      <td>unknown</td>\n",
       "    </tr>\n",
       "  </tbody>\n",
       "</table>\n",
       "<p>198 rows × 2 columns</p>\n",
       "</div>"
      ],
      "text/plain": [
       "                       patterns       tags\n",
       "0                            Hi  greetings\n",
       "1                           Hey  greetings\n",
       "2                         Hello  greetings\n",
       "3                     Hey there  greetings\n",
       "4       Hello restaurant Taiwan  greetings\n",
       "..                          ...        ...\n",
       "193  How big is the restaurant?      seats\n",
       "194              How many seats      seats\n",
       "195                       seats      seats\n",
       "196                                unknown\n",
       "197                      rthbsd    unknown\n",
       "\n",
       "[198 rows x 2 columns]"
      ]
     },
     "execution_count": 4,
     "metadata": {},
     "output_type": "execute_result"
    }
   ],
   "source": [
    "#converting to dataframe\n",
    "df = pd.DataFrame({\"patterns\":patterns,\n",
    "                     \"tags\":tags})\n",
    "df"
   ]
  },
  {
   "cell_type": "markdown",
   "id": "243fcd40",
   "metadata": {},
   "source": [
    "### Test train split"
   ]
  },
  {
   "cell_type": "code",
   "execution_count": 5,
   "id": "1038e62a",
   "metadata": {},
   "outputs": [],
   "source": [
    "X = df['patterns']\n",
    "y = df['tags']\n",
    "\n",
    "X_train, X_test, y_train, y_test = train_test_split(X, y, test_size=0.20, random_state=42)\n",
    "v = dict(zip(list(y), df['tags'].to_list()))"
   ]
  },
  {
   "cell_type": "markdown",
   "id": "888d22c6",
   "metadata": {},
   "source": [
    "### Preprocessing"
   ]
  },
  {
   "cell_type": "code",
   "execution_count": 6,
   "id": "7ab93402",
   "metadata": {},
   "outputs": [],
   "source": [
    "def text_preprocessing(text, language):\n",
    "    \n",
    "    punctuations = '''!()-[]{};:'\"\\,<>./?@#$%^&*_~'''\n",
    "    \n",
    "    text_alpha_chars = \"\"\n",
    "    for char in text:\n",
    "        if char not in punctuations:\n",
    "            text_alpha_chars = text_alpha_chars + char\n",
    "    \n",
    "     # convert to lower-case\n",
    "    text_lower = text_alpha_chars.lower()\n",
    "    \n",
    "    \n",
    "    # remove stop words\n",
    "    stops = set(stopwords.words(language)) \n",
    "    text_no_stop_words = ''  \n",
    "    \n",
    "    for word in text_lower.split():\n",
    "        if word not in stops:  \n",
    "            text_no_stop_words = text_no_stop_words + word + ' '\n",
    "         \n",
    "    # do stemming, porterstemmer\n",
    "    text_stemmer = ' '\n",
    "    stemmer = PorterStemmer()\n",
    "    for w in text_no_stop_words.split():\n",
    "        text_stemmer = text_stemmer + stemmer.stem(w) + ' '\n",
    "        \n",
    "    return text_stemmer\n",
    " \n"
   ]
  },
  {
   "cell_type": "code",
   "execution_count": 7,
   "id": "9f91e132",
   "metadata": {},
   "outputs": [],
   "source": [
    "language = 'english'\n",
    "text_prep = np.empty\n",
    "\n",
    "for i in range(X_train.shape[0]):\n",
    "    X_train.iloc[i] = text_preprocessing(X_train.iloc[i], language)\n",
    "    \n",
    "    \n",
    "for i in range(X_test.shape[0]):\n",
    "    X_test.iloc[i] = text_preprocessing(X_test.iloc[i], language)\n"
   ]
  },
  {
   "cell_type": "markdown",
   "id": "7a07f0f6",
   "metadata": {},
   "source": [
    "### Convert to bag-of-words"
   ]
  },
  {
   "cell_type": "code",
   "execution_count": 8,
   "id": "1b4e2e84",
   "metadata": {},
   "outputs": [],
   "source": [
    "count_vect = CountVectorizer() \n",
    "X_train_bag_of_words = count_vect.fit_transform(X_train)\n",
    "X_test_bag_of_words = count_vect.transform(X_test)\n",
    "\n",
    "\n",
    "tfidf_transformer = TfidfTransformer()  \n",
    "tf_transformer = TfidfTransformer(use_idf=True).fit(X_train_bag_of_words)\n",
    "X_train_tf = tf_transformer.transform(X_train_bag_of_words)\n",
    "X_test_tf = tf_transformer.transform(X_test_bag_of_words)"
   ]
  },
  {
   "cell_type": "markdown",
   "id": "4ccccff1",
   "metadata": {},
   "source": [
    "### Building the model"
   ]
  },
  {
   "cell_type": "markdown",
   "id": "57400caf",
   "metadata": {},
   "source": [
    "\n",
    "#### Machine learning algorithms"
   ]
  },
  {
   "cell_type": "markdown",
   "id": "72a09894",
   "metadata": {},
   "source": [
    "#### Logistic regression"
   ]
  },
  {
   "cell_type": "code",
   "execution_count": 9,
   "id": "a7f84fb0",
   "metadata": {},
   "outputs": [
    {
     "name": "stdout",
     "output_type": "stream",
     "text": [
      "                 precision    recall  f1-score   support\n",
      "\n",
      "      allergies       1.00      0.20      0.33         5\n",
      " appetizeritems       1.00      1.00      1.00         2\n",
      "       delivery       1.00      1.00      1.00         1\n",
      "       location       0.00      0.00      0.00         1\n",
      "makereservation       1.00      1.00      1.00         1\n",
      "      meatitems       1.00      1.00      1.00         2\n",
      "    noodleitems       1.00      1.00      1.00         1\n",
      "   openinghours       1.00      1.00      1.00         1\n",
      "          order       0.58      1.00      0.73        11\n",
      "       payments       1.00      0.25      0.40         4\n",
      "   poultryitems       1.00      1.00      1.00         3\n",
      "    reservation       1.00      1.00      1.00         1\n",
      "       showmenu       1.00      1.00      1.00         1\n",
      "      soupitems       1.00      1.00      1.00         3\n",
      "     spicyitems       1.00      1.00      1.00         1\n",
      "vegetarianitems       1.00      1.00      1.00         2\n",
      "\n",
      "       accuracy                           0.80        40\n",
      "      macro avg       0.91      0.84      0.84        40\n",
      "   weighted avg       0.86      0.80      0.76        40\n",
      "\n",
      "[[ 1  0  0  0  0  0  0  0  4  0  0  0  0  0  0  0]\n",
      " [ 0  2  0  0  0  0  0  0  0  0  0  0  0  0  0  0]\n",
      " [ 0  0  1  0  0  0  0  0  0  0  0  0  0  0  0  0]\n",
      " [ 0  0  0  0  0  0  0  0  1  0  0  0  0  0  0  0]\n",
      " [ 0  0  0  0  1  0  0  0  0  0  0  0  0  0  0  0]\n",
      " [ 0  0  0  0  0  2  0  0  0  0  0  0  0  0  0  0]\n",
      " [ 0  0  0  0  0  0  1  0  0  0  0  0  0  0  0  0]\n",
      " [ 0  0  0  0  0  0  0  1  0  0  0  0  0  0  0  0]\n",
      " [ 0  0  0  0  0  0  0  0 11  0  0  0  0  0  0  0]\n",
      " [ 0  0  0  0  0  0  0  0  3  1  0  0  0  0  0  0]\n",
      " [ 0  0  0  0  0  0  0  0  0  0  3  0  0  0  0  0]\n",
      " [ 0  0  0  0  0  0  0  0  0  0  0  1  0  0  0  0]\n",
      " [ 0  0  0  0  0  0  0  0  0  0  0  0  1  0  0  0]\n",
      " [ 0  0  0  0  0  0  0  0  0  0  0  0  0  3  0  0]\n",
      " [ 0  0  0  0  0  0  0  0  0  0  0  0  0  0  1  0]\n",
      " [ 0  0  0  0  0  0  0  0  0  0  0  0  0  0  0  2]]\n",
      "80.0\n"
     ]
    },
    {
     "name": "stderr",
     "output_type": "stream",
     "text": [
      "C:\\Anaconda\\lib\\site-packages\\sklearn\\metrics\\_classification.py:1245: UndefinedMetricWarning: Precision and F-score are ill-defined and being set to 0.0 in labels with no predicted samples. Use `zero_division` parameter to control this behavior.\n",
      "  _warn_prf(average, modifier, msg_start, len(result))\n",
      "C:\\Anaconda\\lib\\site-packages\\sklearn\\metrics\\_classification.py:1245: UndefinedMetricWarning: Precision and F-score are ill-defined and being set to 0.0 in labels with no predicted samples. Use `zero_division` parameter to control this behavior.\n",
      "  _warn_prf(average, modifier, msg_start, len(result))\n",
      "C:\\Anaconda\\lib\\site-packages\\sklearn\\metrics\\_classification.py:1245: UndefinedMetricWarning: Precision and F-score are ill-defined and being set to 0.0 in labels with no predicted samples. Use `zero_division` parameter to control this behavior.\n",
      "  _warn_prf(average, modifier, msg_start, len(result))\n"
     ]
    }
   ],
   "source": [
    "lregclassifier = LogisticRegression(C=10)\n",
    "\n",
    "lregclassifier.fit(X_train_tf, y_train)\n",
    "\n",
    "y_pred = lregclassifier.predict(X_test_tf)\n",
    "print(classification_report(y_test, y_pred))\n",
    "\n",
    "cf = confusion_matrix(y_test, y_pred)\n",
    "print(cf)\n",
    "print(accuracy_score(y_test, y_pred) * 100) "
   ]
  },
  {
   "cell_type": "code",
   "execution_count": 10,
   "id": "24c8ea25",
   "metadata": {},
   "outputs": [
    {
     "name": "stdout",
     "output_type": "stream",
     "text": [
      "score on train: 98.73417721518987\n",
      "score on test: 80.0\n"
     ]
    }
   ],
   "source": [
    "print(\"score on train: \"+ str(lregclassifier.score(X_train_tf, y_train) * 100))\n",
    "print(\"score on test: \" + str(lregclassifier.score(X_test_tf, y_test) * 100))"
   ]
  },
  {
   "cell_type": "markdown",
   "id": "ae588fcd",
   "metadata": {},
   "source": [
    "#### Hyperparameter tuning"
   ]
  },
  {
   "cell_type": "markdown",
   "id": "32b890cc",
   "metadata": {},
   "source": [
    "#### Grid search"
   ]
  },
  {
   "cell_type": "code",
   "execution_count": 11,
   "id": "c9704d40",
   "metadata": {},
   "outputs": [
    {
     "name": "stderr",
     "output_type": "stream",
     "text": [
      "C:\\Anaconda\\lib\\site-packages\\sklearn\\model_selection\\_split.py:666: UserWarning: The least populated class in y has only 2 members, which is less than n_splits=4.\n",
      "  warnings.warn((\"The least populated class in y has only %d\"\n"
     ]
    },
    {
     "name": "stdout",
     "output_type": "stream",
     "text": [
      "Fitting 4 folds for each of 70 candidates, totalling 280 fits\n",
      "Best accuracy :  0.7661858974358975\n",
      "Best parameters : {'C': 50, 'class_weight': None, 'solver': 'liblinear'}\n"
     ]
    }
   ],
   "source": [
    "from sklearn.model_selection import GridSearchCV\n",
    "from sklearn.linear_model import LogisticRegression\n",
    "\n",
    "model = LogisticRegression()\n",
    "paramaters = [\n",
    "             {'C' : [0.25, 0.5, 0.75, 1, 10, 50, 100], \n",
    "              'solver': ['liblinear','lbfgs', 'newton-cg', 'sag','saga'], \n",
    "              'class_weight': [None, 'balanced']},\n",
    "             ]\n",
    "grid_search = GridSearchCV(estimator = model, \n",
    "                           param_grid = paramaters,\n",
    "                           scoring = 'accuracy',\n",
    "                           cv = 4,\n",
    "                           n_jobs = -1,\n",
    "                           verbose=5)\n",
    "grid_search = grid_search.fit(X_train_tf, y_train)\n",
    "\n",
    "best_accuracy = grid_search.best_score_ \n",
    "best_parameters = grid_search.best_params_  \n",
    "\n",
    "print('Best accuracy : ', grid_search.best_score_)\n",
    "print('Best parameters :', grid_search.best_params_  )"
   ]
  },
  {
   "cell_type": "markdown",
   "id": "b4b3a8f3",
   "metadata": {},
   "source": [
    "#### Random search"
   ]
  },
  {
   "cell_type": "code",
   "execution_count": 12,
   "id": "276e753d",
   "metadata": {},
   "outputs": [
    {
     "name": "stdout",
     "output_type": "stream",
     "text": [
      "Fitting 4 folds for each of 20 candidates, totalling 80 fits\n",
      "Best accuracy :  0.7661858974358975\n",
      "Best parameters : {'solver': 'liblinear', 'class_weight': None, 'C': 50}\n"
     ]
    },
    {
     "name": "stderr",
     "output_type": "stream",
     "text": [
      "C:\\Anaconda\\lib\\site-packages\\sklearn\\model_selection\\_split.py:666: UserWarning: The least populated class in y has only 2 members, which is less than n_splits=4.\n",
      "  warnings.warn((\"The least populated class in y has only %d\"\n"
     ]
    }
   ],
   "source": [
    "from sklearn.model_selection import RandomizedSearchCV\n",
    "from scipy.stats import randint \n",
    "from scipy.stats import uniform\n",
    "from sklearn.linear_model import LogisticRegression\n",
    "\n",
    "model = LogisticRegression()\n",
    "\n",
    "parameters = [\n",
    "             {'C' : [0.25, 0.5, 0.75, 1, 10, 50, 100], \n",
    "              'solver': ['liblinear','lbfgs', 'newton-cg', 'sag','saga'],\n",
    "              'class_weight': [None, 'balanced']}\n",
    "             ]\n",
    "\n",
    "              \n",
    "\n",
    "n_iter_search = 20\n",
    "\n",
    "random_search = RandomizedSearchCV(model, param_distributions=parameters,cv=4,n_iter=n_iter_search,n_jobs = -1,verbose=1)\n",
    "\n",
    "random_search = random_search.fit(X_train_tf, y_train)\n",
    "\n",
    "best_accuracy = random_search.best_score_ \n",
    "best_parameters = random_search.best_params_  \n",
    "\n",
    "print('Best accuracy : ', random_search.best_score_)\n",
    "print('Best parameters :',random_search.best_params_  )"
   ]
  },
  {
   "cell_type": "markdown",
   "id": "df359b01",
   "metadata": {},
   "source": [
    "#### Naive Bayes"
   ]
  },
  {
   "cell_type": "code",
   "execution_count": 13,
   "id": "f8794f1e",
   "metadata": {},
   "outputs": [
    {
     "name": "stdout",
     "output_type": "stream",
     "text": [
      "                 precision    recall  f1-score   support\n",
      "\n",
      "      allergies       0.00      0.00      0.00         5\n",
      " appetizeritems       0.00      0.00      0.00         2\n",
      "       delivery       0.00      0.00      0.00         1\n",
      "       location       0.00      0.00      0.00         1\n",
      "makereservation       1.00      1.00      1.00         1\n",
      "      meatitems       0.00      0.00      0.00         2\n",
      "    noodleitems       0.00      0.00      0.00         1\n",
      "   openinghours       0.00      0.00      0.00         1\n",
      "          order       0.29      1.00      0.45        11\n",
      "       payments       0.00      0.00      0.00         4\n",
      "   poultryitems       0.00      0.00      0.00         3\n",
      "    reservation       0.00      0.00      0.00         1\n",
      "       showmenu       0.00      0.00      0.00         1\n",
      "      soupitems       0.00      0.00      0.00         3\n",
      "     spicyitems       1.00      1.00      1.00         1\n",
      "vegetarianitems       0.00      0.00      0.00         2\n",
      "\n",
      "       accuracy                           0.33        40\n",
      "      macro avg       0.14      0.19      0.15        40\n",
      "   weighted avg       0.13      0.33      0.17        40\n",
      "\n",
      "[[ 0  0  0  0  0  0  0  0  5  0  0  0  0  0  0  0]\n",
      " [ 0  0  0  0  0  0  0  0  2  0  0  0  0  0  0  0]\n",
      " [ 0  0  0  0  0  0  0  0  1  0  0  0  0  0  0  0]\n",
      " [ 0  0  0  0  0  0  0  0  1  0  0  0  0  0  0  0]\n",
      " [ 0  0  0  0  1  0  0  0  0  0  0  0  0  0  0  0]\n",
      " [ 0  0  0  0  0  0  0  0  2  0  0  0  0  0  0  0]\n",
      " [ 0  0  0  0  0  0  0  0  1  0  0  0  0  0  0  0]\n",
      " [ 0  0  0  0  0  0  0  0  1  0  0  0  0  0  0  0]\n",
      " [ 0  0  0  0  0  0  0  0 11  0  0  0  0  0  0  0]\n",
      " [ 0  0  0  0  0  0  0  0  4  0  0  0  0  0  0  0]\n",
      " [ 0  0  0  0  0  0  0  0  3  0  0  0  0  0  0  0]\n",
      " [ 0  0  0  0  0  0  0  0  1  0  0  0  0  0  0  0]\n",
      " [ 0  0  0  0  0  0  0  0  1  0  0  0  0  0  0  0]\n",
      " [ 0  0  0  0  0  0  0  0  3  0  0  0  0  0  0  0]\n",
      " [ 0  0  0  0  0  0  0  0  0  0  0  0  0  0  1  0]\n",
      " [ 0  0  0  0  0  0  0  0  2  0  0  0  0  0  0  0]]\n",
      "32.5\n"
     ]
    },
    {
     "name": "stderr",
     "output_type": "stream",
     "text": [
      "C:\\Anaconda\\lib\\site-packages\\sklearn\\metrics\\_classification.py:1245: UndefinedMetricWarning: Precision and F-score are ill-defined and being set to 0.0 in labels with no predicted samples. Use `zero_division` parameter to control this behavior.\n",
      "  _warn_prf(average, modifier, msg_start, len(result))\n",
      "C:\\Anaconda\\lib\\site-packages\\sklearn\\metrics\\_classification.py:1245: UndefinedMetricWarning: Precision and F-score are ill-defined and being set to 0.0 in labels with no predicted samples. Use `zero_division` parameter to control this behavior.\n",
      "  _warn_prf(average, modifier, msg_start, len(result))\n",
      "C:\\Anaconda\\lib\\site-packages\\sklearn\\metrics\\_classification.py:1245: UndefinedMetricWarning: Precision and F-score are ill-defined and being set to 0.0 in labels with no predicted samples. Use `zero_division` parameter to control this behavior.\n",
      "  _warn_prf(average, modifier, msg_start, len(result))\n"
     ]
    }
   ],
   "source": [
    "from sklearn.naive_bayes import MultinomialNB\n",
    "\n",
    "NBclassifier = MultinomialNB(alpha=1)\n",
    "\n",
    "NBclassifier.fit(X_train_tf, y_train)\n",
    "\n",
    "y_pred = NBclassifier.predict(X_test_tf)\n",
    "print(classification_report(y_test, y_pred))\n",
    "\n",
    "cf = confusion_matrix(y_test, y_pred)\n",
    "print(cf)\n",
    "print(accuracy_score(y_test, y_pred) * 100)"
   ]
  },
  {
   "cell_type": "code",
   "execution_count": 14,
   "id": "dd98e304",
   "metadata": {},
   "outputs": [
    {
     "name": "stdout",
     "output_type": "stream",
     "text": [
      "score on train: 48.734177215189874\n",
      "score on test: 32.5\n"
     ]
    }
   ],
   "source": [
    "print(\"score on train: \"+ str(NBclassifier.score(X_train_tf, y_train) * 100))\n",
    "print(\"score on test: \" + str(NBclassifier.score(X_test_tf, y_test) * 100))"
   ]
  },
  {
   "cell_type": "markdown",
   "id": "ba8b8f1d",
   "metadata": {},
   "source": [
    "#### Hyperparameter tuning"
   ]
  },
  {
   "cell_type": "markdown",
   "id": "aea37fa0",
   "metadata": {},
   "source": [
    "#### Grid search"
   ]
  },
  {
   "cell_type": "code",
   "execution_count": 15,
   "id": "6b3f3622",
   "metadata": {},
   "outputs": [
    {
     "name": "stdout",
     "output_type": "stream",
     "text": [
      "Fitting 4 folds for each of 7 candidates, totalling 28 fits\n",
      "Best accuracy :  0.6969551282051282\n",
      "Best parameters : {'alpha': 0.1}\n"
     ]
    },
    {
     "name": "stderr",
     "output_type": "stream",
     "text": [
      "C:\\Anaconda\\lib\\site-packages\\sklearn\\model_selection\\_split.py:666: UserWarning: The least populated class in y has only 2 members, which is less than n_splits=4.\n",
      "  warnings.warn((\"The least populated class in y has only %d\"\n"
     ]
    }
   ],
   "source": [
    "from sklearn.model_selection import GridSearchCV\n",
    "\n",
    "\n",
    "model = MultinomialNB()\n",
    "paramaters = [\n",
    "             {'alpha' : [0.001, 0.01, 0.1, 1, 10, 100, 1000]}                                       \n",
    "             ]\n",
    "\n",
    "grid_search = GridSearchCV(estimator = model, \n",
    "                           param_grid = paramaters,\n",
    "                           scoring = 'accuracy',\n",
    "                           cv = 4,\n",
    "                           n_jobs = -1,\n",
    "                           verbose=5)\n",
    "grid_search = grid_search.fit(X_train_tf, y_train)\n",
    "\n",
    "best_accuracy = grid_search.best_score_ \n",
    "best_parameters = grid_search.best_params_  \n",
    "\n",
    "print('Best accuracy : ', grid_search.best_score_)\n",
    "print('Best parameters :', grid_search.best_params_  )"
   ]
  },
  {
   "cell_type": "markdown",
   "id": "41aaedb3",
   "metadata": {},
   "source": [
    "#### Random search"
   ]
  },
  {
   "cell_type": "code",
   "execution_count": 16,
   "id": "97c7e109",
   "metadata": {},
   "outputs": [
    {
     "name": "stdout",
     "output_type": "stream",
     "text": [
      "Fitting 4 folds for each of 7 candidates, totalling 28 fits\n",
      "Best accuracy :  0.6969551282051282\n",
      "Best parameters : {'alpha': 0.1}\n"
     ]
    },
    {
     "name": "stderr",
     "output_type": "stream",
     "text": [
      "C:\\Anaconda\\lib\\site-packages\\sklearn\\model_selection\\_search.py:285: UserWarning: The total space of parameters 7 is smaller than n_iter=20. Running 7 iterations. For exhaustive searches, use GridSearchCV.\n",
      "  warnings.warn(\n",
      "C:\\Anaconda\\lib\\site-packages\\sklearn\\model_selection\\_split.py:666: UserWarning: The least populated class in y has only 2 members, which is less than n_splits=4.\n",
      "  warnings.warn((\"The least populated class in y has only %d\"\n"
     ]
    }
   ],
   "source": [
    "\n",
    "model = MultinomialNB()\n",
    "parameters = [\n",
    "             {'alpha' : [0.001, 0.01, 0.1, 1, 10, 100, 1000]}                                       \n",
    "             ]\n",
    "\n",
    "n_iter_search = 20\n",
    "\n",
    "random_search = RandomizedSearchCV(model, param_distributions=parameters,cv=4,n_iter=n_iter_search,n_jobs = -1,verbose=1)\n",
    "\n",
    "random_search = random_search.fit(X_train_tf, y_train)\n",
    "\n",
    "best_accuracy = random_search.best_score_ \n",
    "best_parameters = random_search.best_params_  \n",
    "\n",
    "print('Best accuracy : ', random_search.best_score_)\n",
    "print('Best parameters :',random_search.best_params_  )"
   ]
  },
  {
   "cell_type": "markdown",
   "id": "36370b38",
   "metadata": {},
   "source": [
    "### SVM"
   ]
  },
  {
   "cell_type": "code",
   "execution_count": 17,
   "id": "99df651b",
   "metadata": {},
   "outputs": [
    {
     "name": "stdout",
     "output_type": "stream",
     "text": [
      "                 precision    recall  f1-score   support\n",
      "\n",
      "      allergies       0.00      0.00      0.00         5\n",
      " appetizeritems       1.00      0.50      0.67         2\n",
      "       delivery       1.00      1.00      1.00         1\n",
      "       location       0.00      0.00      0.00         1\n",
      "makereservation       1.00      1.00      1.00         1\n",
      "      meatitems       1.00      1.00      1.00         2\n",
      "    noodleitems       1.00      1.00      1.00         1\n",
      "   openinghours       1.00      1.00      1.00         1\n",
      "          order       0.46      1.00      0.63        11\n",
      "       payments       1.00      0.25      0.40         4\n",
      "   poultryitems       1.00      0.67      0.80         3\n",
      "    reservation       1.00      1.00      1.00         1\n",
      "       showmenu       0.00      0.00      0.00         1\n",
      "      soupitems       1.00      0.67      0.80         3\n",
      "     spicyitems       1.00      1.00      1.00         1\n",
      "vegetarianitems       1.00      1.00      1.00         2\n",
      "\n",
      "       accuracy                           0.68        40\n",
      "      macro avg       0.78      0.69      0.71        40\n",
      "   weighted avg       0.68      0.68      0.62        40\n",
      "\n",
      "[[ 0  0  0  0  0  0  0  0  5  0  0  0  0  0  0  0]\n",
      " [ 0  1  0  0  0  0  0  0  1  0  0  0  0  0  0  0]\n",
      " [ 0  0  1  0  0  0  0  0  0  0  0  0  0  0  0  0]\n",
      " [ 0  0  0  0  0  0  0  0  1  0  0  0  0  0  0  0]\n",
      " [ 0  0  0  0  1  0  0  0  0  0  0  0  0  0  0  0]\n",
      " [ 0  0  0  0  0  2  0  0  0  0  0  0  0  0  0  0]\n",
      " [ 0  0  0  0  0  0  1  0  0  0  0  0  0  0  0  0]\n",
      " [ 0  0  0  0  0  0  0  1  0  0  0  0  0  0  0  0]\n",
      " [ 0  0  0  0  0  0  0  0 11  0  0  0  0  0  0  0]\n",
      " [ 0  0  0  0  0  0  0  0  3  1  0  0  0  0  0  0]\n",
      " [ 0  0  0  0  0  0  0  0  1  0  2  0  0  0  0  0]\n",
      " [ 0  0  0  0  0  0  0  0  0  0  0  1  0  0  0  0]\n",
      " [ 0  0  0  0  0  0  0  0  1  0  0  0  0  0  0  0]\n",
      " [ 0  0  0  0  0  0  0  0  1  0  0  0  0  2  0  0]\n",
      " [ 0  0  0  0  0  0  0  0  0  0  0  0  0  0  1  0]\n",
      " [ 0  0  0  0  0  0  0  0  0  0  0  0  0  0  0  2]]\n",
      "67.5\n"
     ]
    },
    {
     "name": "stderr",
     "output_type": "stream",
     "text": [
      "C:\\Anaconda\\lib\\site-packages\\sklearn\\metrics\\_classification.py:1245: UndefinedMetricWarning: Precision and F-score are ill-defined and being set to 0.0 in labels with no predicted samples. Use `zero_division` parameter to control this behavior.\n",
      "  _warn_prf(average, modifier, msg_start, len(result))\n",
      "C:\\Anaconda\\lib\\site-packages\\sklearn\\metrics\\_classification.py:1245: UndefinedMetricWarning: Precision and F-score are ill-defined and being set to 0.0 in labels with no predicted samples. Use `zero_division` parameter to control this behavior.\n",
      "  _warn_prf(average, modifier, msg_start, len(result))\n",
      "C:\\Anaconda\\lib\\site-packages\\sklearn\\metrics\\_classification.py:1245: UndefinedMetricWarning: Precision and F-score are ill-defined and being set to 0.0 in labels with no predicted samples. Use `zero_division` parameter to control this behavior.\n",
      "  _warn_prf(average, modifier, msg_start, len(result))\n"
     ]
    }
   ],
   "source": [
    "from sklearn.svm import SVC\n",
    "svc = SVC()\n",
    "svc.fit(X_train_tf, y_train)\n",
    "\n",
    "y_pred = svc.predict(X_test_tf)\n",
    "print(classification_report(y_test, y_pred))\n",
    "\n",
    "cf = confusion_matrix(y_test, y_pred)\n",
    "print(cf)\n",
    "print(accuracy_score(y_test, y_pred) * 100)"
   ]
  },
  {
   "cell_type": "code",
   "execution_count": 18,
   "id": "9d53b3c9",
   "metadata": {},
   "outputs": [
    {
     "name": "stdout",
     "output_type": "stream",
     "text": [
      "score on train: 96.20253164556962\n",
      "score on test: 67.5\n"
     ]
    }
   ],
   "source": [
    "print(\"score on train: \"+ str(svc.score(X_train_tf, y_train) * 100))\n",
    "print(\"score on test: \" + str(svc.score(X_test_tf, y_test) * 100))"
   ]
  },
  {
   "cell_type": "markdown",
   "id": "63a9364a",
   "metadata": {},
   "source": [
    "#### Hyperparameter tuning"
   ]
  },
  {
   "cell_type": "markdown",
   "id": "1aa365ff",
   "metadata": {},
   "source": [
    "#### Grid search"
   ]
  },
  {
   "cell_type": "code",
   "execution_count": 19,
   "id": "eb5a1488",
   "metadata": {},
   "outputs": [
    {
     "name": "stdout",
     "output_type": "stream",
     "text": [
      "Fitting 4 folds for each of 960 candidates, totalling 3840 fits\n"
     ]
    },
    {
     "name": "stderr",
     "output_type": "stream",
     "text": [
      "C:\\Anaconda\\lib\\site-packages\\sklearn\\model_selection\\_split.py:666: UserWarning: The least populated class in y has only 2 members, which is less than n_splits=4.\n",
      "  warnings.warn((\"The least populated class in y has only %d\"\n"
     ]
    },
    {
     "name": "stdout",
     "output_type": "stream",
     "text": [
      "Best accuracy :  0.7533653846153846\n",
      "Best parameters : {'C': 11.115555555555554, 'class_weight': None, 'degree': 2, 'gamma': 0.1, 'kernel': 'rbf'}\n"
     ]
    }
   ],
   "source": [
    "from sklearn.model_selection import GridSearchCV\n",
    "from sklearn.svm import SVC\n",
    "\n",
    "model = SVC()\n",
    "\n",
    "paramaters = [ \n",
    "        {'kernel': ['linear'], \n",
    "         'C': np.linspace(0.01,20,10), \n",
    "         'degree': [2,3,4], \n",
    "         'class_weight': [None, 'balanced']},\n",
    "        {'kernel': ['rbf', 'poly', 'sigmoid'], \n",
    "         'C': np.linspace(0.01,20,10), \n",
    "         'gamma': [0.0001, 0.001, 0.01, 0.1, 0.2], \n",
    "         'degree': [2,3,4], \n",
    "         'class_weight': [None, 'balanced']},\n",
    "]\n",
    "\n",
    "grid_search = GridSearchCV(estimator = model, \n",
    "                           param_grid = paramaters,\n",
    "                           scoring = 'accuracy', \n",
    "                           cv = 4,\n",
    "                           n_jobs = -1,\n",
    "                           verbose =5)\n",
    "grid_search = grid_search.fit(X_train_tf, y_train)\n",
    "\n",
    "best_accuracy = grid_search.best_score_ \n",
    "best_parameters = grid_search.best_params_  \n",
    "print('Best accuracy : ', grid_search.best_score_)\n",
    "print('Best parameters :', grid_search.best_params_  )"
   ]
  },
  {
   "cell_type": "markdown",
   "id": "618f034d",
   "metadata": {},
   "source": [
    "#### Random search"
   ]
  },
  {
   "cell_type": "code",
   "execution_count": 20,
   "id": "da2d0857",
   "metadata": {},
   "outputs": [
    {
     "name": "stdout",
     "output_type": "stream",
     "text": [
      "Fitting 4 folds for each of 20 candidates, totalling 80 fits\n",
      "Best accuracy :  0.7471153846153846\n",
      "Best parameters : {'C': 5.196139408781772, 'class_weight': None, 'degree': 2, 'kernel': 'linear'}\n"
     ]
    },
    {
     "name": "stderr",
     "output_type": "stream",
     "text": [
      "C:\\Anaconda\\lib\\site-packages\\sklearn\\model_selection\\_split.py:666: UserWarning: The least populated class in y has only 2 members, which is less than n_splits=4.\n",
      "  warnings.warn((\"The least populated class in y has only %d\"\n"
     ]
    }
   ],
   "source": [
    "from sklearn.model_selection import RandomizedSearchCV\n",
    "from scipy.stats import randint \n",
    "from scipy.stats import uniform\n",
    "\n",
    "\n",
    "\n",
    "model = SVC()\n",
    "\n",
    "parameters = [\n",
    "    {'kernel': ['linear'], \n",
    "     'C': uniform(0.01, 20), \n",
    "     'degree': [2,3,4], \n",
    "     'class_weight': [None, 'balanced']\n",
    "    },\n",
    "    {'kernel': ['rbf', 'poly', 'sigmoid'], \n",
    "     'C': uniform(0.01, 20), \n",
    "     'gamma': uniform(0.001, 0.2), \n",
    "     'degree': [2,3,4], \n",
    "     'class_weight': [None, 'balanced']}\n",
    "]\n",
    " \n",
    "n_iter_search = 20\n",
    "\n",
    "random_search = RandomizedSearchCV(model, param_distributions=parameters,cv=4,n_iter=n_iter_search,n_jobs = -1,verbose=1)\n",
    "\n",
    "random_search = random_search.fit(X_train_tf, y_train)\n",
    "\n",
    "best_accuracy = random_search.best_score_ \n",
    "best_parameters = random_search.best_params_  \n",
    "\n",
    "print('Best accuracy : ', random_search.best_score_)\n",
    "print('Best parameters :',random_search.best_params_  )"
   ]
  },
  {
   "cell_type": "markdown",
   "id": "f8dbecac",
   "metadata": {},
   "source": [
    "#### Decision tree"
   ]
  },
  {
   "cell_type": "code",
   "execution_count": 21,
   "id": "0a613078",
   "metadata": {},
   "outputs": [
    {
     "name": "stdout",
     "output_type": "stream",
     "text": [
      "                 precision    recall  f1-score   support\n",
      "\n",
      "      allergies       0.00      0.00      0.00         5\n",
      " appetizeritems       1.00      1.00      1.00         2\n",
      "       delivery       1.00      1.00      1.00         1\n",
      "       location       0.00      0.00      0.00         1\n",
      "makereservation       1.00      1.00      1.00         1\n",
      "      meatitems       1.00      1.00      1.00         2\n",
      "    noodleitems       0.00      0.00      0.00         1\n",
      "   openinghours       1.00      1.00      1.00         1\n",
      "          order       1.00      1.00      1.00        11\n",
      "       payments       1.00      0.25      0.40         4\n",
      "   poultryitems       1.00      0.67      0.80         3\n",
      "    reservation       1.00      1.00      1.00         1\n",
      "       showmenu       1.00      1.00      1.00         1\n",
      "      soupitems       1.00      1.00      1.00         3\n",
      "     spicyitems       1.00      1.00      1.00         1\n",
      "        unknown       0.00      0.00      0.00         0\n",
      "vegetarianitems       1.00      0.50      0.67         2\n",
      "\n",
      "       accuracy                           0.70        40\n",
      "      macro avg       0.76      0.67      0.70        40\n",
      "   weighted avg       0.82      0.70      0.73        40\n",
      "\n",
      "[[ 0  0  0  0  0  0  0  0  0  0  0  0  0  0  0  5  0]\n",
      " [ 0  2  0  0  0  0  0  0  0  0  0  0  0  0  0  0  0]\n",
      " [ 0  0  1  0  0  0  0  0  0  0  0  0  0  0  0  0  0]\n",
      " [ 0  0  0  0  0  0  0  0  0  0  0  0  0  0  0  1  0]\n",
      " [ 0  0  0  0  1  0  0  0  0  0  0  0  0  0  0  0  0]\n",
      " [ 0  0  0  0  0  2  0  0  0  0  0  0  0  0  0  0  0]\n",
      " [ 0  0  0  0  0  0  0  0  0  0  0  0  0  0  0  1  0]\n",
      " [ 0  0  0  0  0  0  0  1  0  0  0  0  0  0  0  0  0]\n",
      " [ 0  0  0  0  0  0  0  0 11  0  0  0  0  0  0  0  0]\n",
      " [ 0  0  0  0  0  0  0  0  0  1  0  0  0  0  0  3  0]\n",
      " [ 0  0  0  0  0  0  0  0  0  0  2  0  0  0  0  1  0]\n",
      " [ 0  0  0  0  0  0  0  0  0  0  0  1  0  0  0  0  0]\n",
      " [ 0  0  0  0  0  0  0  0  0  0  0  0  1  0  0  0  0]\n",
      " [ 0  0  0  0  0  0  0  0  0  0  0  0  0  3  0  0  0]\n",
      " [ 0  0  0  0  0  0  0  0  0  0  0  0  0  0  1  0  0]\n",
      " [ 0  0  0  0  0  0  0  0  0  0  0  0  0  0  0  0  0]\n",
      " [ 0  0  0  0  0  0  0  0  0  0  0  0  0  0  0  1  1]]\n",
      "70.0\n"
     ]
    },
    {
     "name": "stderr",
     "output_type": "stream",
     "text": [
      "C:\\Anaconda\\lib\\site-packages\\sklearn\\metrics\\_classification.py:1245: UndefinedMetricWarning: Precision and F-score are ill-defined and being set to 0.0 in labels with no predicted samples. Use `zero_division` parameter to control this behavior.\n",
      "  _warn_prf(average, modifier, msg_start, len(result))\n",
      "C:\\Anaconda\\lib\\site-packages\\sklearn\\metrics\\_classification.py:1245: UndefinedMetricWarning: Recall and F-score are ill-defined and being set to 0.0 in labels with no true samples. Use `zero_division` parameter to control this behavior.\n",
      "  _warn_prf(average, modifier, msg_start, len(result))\n",
      "C:\\Anaconda\\lib\\site-packages\\sklearn\\metrics\\_classification.py:1245: UndefinedMetricWarning: Precision and F-score are ill-defined and being set to 0.0 in labels with no predicted samples. Use `zero_division` parameter to control this behavior.\n",
      "  _warn_prf(average, modifier, msg_start, len(result))\n",
      "C:\\Anaconda\\lib\\site-packages\\sklearn\\metrics\\_classification.py:1245: UndefinedMetricWarning: Recall and F-score are ill-defined and being set to 0.0 in labels with no true samples. Use `zero_division` parameter to control this behavior.\n",
      "  _warn_prf(average, modifier, msg_start, len(result))\n",
      "C:\\Anaconda\\lib\\site-packages\\sklearn\\metrics\\_classification.py:1245: UndefinedMetricWarning: Precision and F-score are ill-defined and being set to 0.0 in labels with no predicted samples. Use `zero_division` parameter to control this behavior.\n",
      "  _warn_prf(average, modifier, msg_start, len(result))\n",
      "C:\\Anaconda\\lib\\site-packages\\sklearn\\metrics\\_classification.py:1245: UndefinedMetricWarning: Recall and F-score are ill-defined and being set to 0.0 in labels with no true samples. Use `zero_division` parameter to control this behavior.\n",
      "  _warn_prf(average, modifier, msg_start, len(result))\n"
     ]
    }
   ],
   "source": [
    "from sklearn.tree import DecisionTreeClassifier\n",
    "\n",
    "decisiontree = DecisionTreeClassifier(criterion='entropy')\n",
    "decisiontree.fit(X_train_tf, y_train)\n",
    "\n",
    "y_pred = decisiontree.predict(X_test_tf)\n",
    "print(classification_report(y_test, y_pred))\n",
    "\n",
    "cf = confusion_matrix(y_test, y_pred)\n",
    "print(cf)\n",
    "print(accuracy_score(y_test, y_pred) * 100)"
   ]
  },
  {
   "cell_type": "code",
   "execution_count": 22,
   "id": "6d628e04",
   "metadata": {},
   "outputs": [
    {
     "name": "stdout",
     "output_type": "stream",
     "text": [
      "score on train: 99.36708860759494\n",
      "score on test: 70.0\n"
     ]
    }
   ],
   "source": [
    "print(\"score on train: \"+ str(decisiontree.score(X_train_tf, y_train) * 100))\n",
    "print(\"score on test: \" + str(decisiontree.score(X_test_tf, y_test) * 100))"
   ]
  },
  {
   "cell_type": "markdown",
   "id": "38b7a760",
   "metadata": {},
   "source": [
    "#### hyperparemeter tuning"
   ]
  },
  {
   "cell_type": "markdown",
   "id": "eb1619fb",
   "metadata": {},
   "source": [
    "#### Grid search"
   ]
  },
  {
   "cell_type": "code",
   "execution_count": 23,
   "id": "e8ec3997",
   "metadata": {},
   "outputs": [
    {
     "name": "stdout",
     "output_type": "stream",
     "text": [
      "Fitting 4 folds for each of 8 candidates, totalling 32 fits\n",
      "Best accuracy :  0.6009615384615384\n",
      "Best parameters : {'criterion': 'gini', 'max_depth': 1000}\n"
     ]
    },
    {
     "name": "stderr",
     "output_type": "stream",
     "text": [
      "C:\\Anaconda\\lib\\site-packages\\sklearn\\model_selection\\_split.py:666: UserWarning: The least populated class in y has only 2 members, which is less than n_splits=4.\n",
      "  warnings.warn((\"The least populated class in y has only %d\"\n"
     ]
    }
   ],
   "source": [
    "model = DecisionTreeClassifier()\n",
    "parameters = [\n",
    "             {'criterion' : ['gini', 'entropy'],\n",
    "              'max_depth':[5, 10, 100, 1000] }                                       \n",
    "             ]\n",
    "\n",
    "n_iter_search = 20\n",
    "\n",
    "grid_search = GridSearchCV(estimator = model, \n",
    "                           param_grid = parameters,\n",
    "                           scoring = 'accuracy', \n",
    "                           cv = 4,\n",
    "                           n_jobs = -1,\n",
    "                           verbose =5)\n",
    "grid_search = grid_search.fit(X_train_tf, y_train)\n",
    "\n",
    "best_accuracy = grid_search.best_score_ \n",
    "best_parameters = grid_search.best_params_  \n",
    "print('Best accuracy : ', grid_search.best_score_)\n",
    "print('Best parameters :', grid_search.best_params_  )"
   ]
  },
  {
   "cell_type": "markdown",
   "id": "9b17dd42",
   "metadata": {},
   "source": [
    "#### Random search"
   ]
  },
  {
   "cell_type": "code",
   "execution_count": 24,
   "id": "0916589b",
   "metadata": {},
   "outputs": [
    {
     "name": "stdout",
     "output_type": "stream",
     "text": [
      "Fitting 4 folds for each of 8 candidates, totalling 32 fits\n",
      "Best accuracy :  0.5947115384615385\n",
      "Best parameters : {'max_depth': 100, 'criterion': 'gini'}\n"
     ]
    },
    {
     "name": "stderr",
     "output_type": "stream",
     "text": [
      "C:\\Anaconda\\lib\\site-packages\\sklearn\\model_selection\\_search.py:285: UserWarning: The total space of parameters 8 is smaller than n_iter=20. Running 8 iterations. For exhaustive searches, use GridSearchCV.\n",
      "  warnings.warn(\n",
      "C:\\Anaconda\\lib\\site-packages\\sklearn\\model_selection\\_split.py:666: UserWarning: The least populated class in y has only 2 members, which is less than n_splits=4.\n",
      "  warnings.warn((\"The least populated class in y has only %d\"\n"
     ]
    }
   ],
   "source": [
    "model = DecisionTreeClassifier()\n",
    "parameters = [\n",
    "             {'criterion' : ['gini', 'entropy'],\n",
    "              'max_depth':[5, 10, 100, 1000] }                                       \n",
    "             ]\n",
    "\n",
    "n_iter_search = 20\n",
    "\n",
    "random_search = RandomizedSearchCV(model, param_distributions=parameters,cv=4,n_iter=n_iter_search,n_jobs = -1,verbose=1)\n",
    "\n",
    "random_search = random_search.fit(X_train_tf, y_train)\n",
    "\n",
    "best_accuracy = random_search.best_score_ \n",
    "best_parameters = random_search.best_params_  \n",
    "\n",
    "print('Best accuracy : ', random_search.best_score_)\n",
    "print('Best parameters :',random_search.best_params_  )"
   ]
  },
  {
   "cell_type": "markdown",
   "id": "bc2e6e84",
   "metadata": {},
   "source": [
    "#### Random forest"
   ]
  },
  {
   "cell_type": "code",
   "execution_count": 25,
   "id": "a666838a",
   "metadata": {},
   "outputs": [
    {
     "name": "stdout",
     "output_type": "stream",
     "text": [
      "                 precision    recall  f1-score   support\n",
      "\n",
      "      allergies       0.00      0.00      0.00         5\n",
      " appetizeritems       1.00      0.50      0.67         2\n",
      "       delivery       1.00      1.00      1.00         1\n",
      "       location       0.00      0.00      0.00         1\n",
      "makereservation       1.00      1.00      1.00         1\n",
      "      meatitems       0.67      1.00      0.80         2\n",
      "    noodleitems       0.00      0.00      0.00         1\n",
      "   openinghours       1.00      1.00      1.00         1\n",
      "          order       1.00      1.00      1.00        11\n",
      "       payments       0.00      0.00      0.00         4\n",
      "   poultryitems       0.00      0.00      0.00         3\n",
      "    reservation       1.00      1.00      1.00         1\n",
      "       showmenu       1.00      1.00      1.00         1\n",
      "      soupitems       1.00      0.67      0.80         3\n",
      "     spicyitems       1.00      1.00      1.00         1\n",
      "        unknown       0.00      0.00      0.00         0\n",
      "vegetarianitems       1.00      0.50      0.67         2\n",
      "\n",
      "       accuracy                           0.57        40\n",
      "      macro avg       0.63      0.57      0.58        40\n",
      "   weighted avg       0.63      0.57      0.59        40\n",
      "\n",
      "[[ 0  0  0  0  0  0  0  0  0  0  0  0  0  0  0  5  0]\n",
      " [ 0  1  0  0  0  1  0  0  0  0  0  0  0  0  0  0  0]\n",
      " [ 0  0  1  0  0  0  0  0  0  0  0  0  0  0  0  0  0]\n",
      " [ 0  0  0  0  0  0  0  0  0  0  0  0  0  0  0  1  0]\n",
      " [ 0  0  0  0  1  0  0  0  0  0  0  0  0  0  0  0  0]\n",
      " [ 0  0  0  0  0  2  0  0  0  0  0  0  0  0  0  0  0]\n",
      " [ 0  0  0  0  0  0  0  0  0  0  0  0  0  0  0  1  0]\n",
      " [ 0  0  0  0  0  0  0  1  0  0  0  0  0  0  0  0  0]\n",
      " [ 0  0  0  0  0  0  0  0 11  0  0  0  0  0  0  0  0]\n",
      " [ 0  0  0  0  0  0  0  0  0  0  0  0  0  0  0  4  0]\n",
      " [ 0  0  0  0  0  0  2  0  0  0  0  0  0  0  0  1  0]\n",
      " [ 0  0  0  0  0  0  0  0  0  0  0  1  0  0  0  0  0]\n",
      " [ 0  0  0  0  0  0  0  0  0  0  0  0  1  0  0  0  0]\n",
      " [ 0  0  0  0  0  0  0  0  0  0  1  0  0  2  0  0  0]\n",
      " [ 0  0  0  0  0  0  0  0  0  0  0  0  0  0  1  0  0]\n",
      " [ 0  0  0  0  0  0  0  0  0  0  0  0  0  0  0  0  0]\n",
      " [ 0  0  0  0  0  0  0  0  0  0  0  0  0  0  0  1  1]]\n",
      "57.49999999999999\n"
     ]
    },
    {
     "name": "stderr",
     "output_type": "stream",
     "text": [
      "C:\\Anaconda\\lib\\site-packages\\sklearn\\metrics\\_classification.py:1245: UndefinedMetricWarning: Precision and F-score are ill-defined and being set to 0.0 in labels with no predicted samples. Use `zero_division` parameter to control this behavior.\n",
      "  _warn_prf(average, modifier, msg_start, len(result))\n",
      "C:\\Anaconda\\lib\\site-packages\\sklearn\\metrics\\_classification.py:1245: UndefinedMetricWarning: Recall and F-score are ill-defined and being set to 0.0 in labels with no true samples. Use `zero_division` parameter to control this behavior.\n",
      "  _warn_prf(average, modifier, msg_start, len(result))\n",
      "C:\\Anaconda\\lib\\site-packages\\sklearn\\metrics\\_classification.py:1245: UndefinedMetricWarning: Precision and F-score are ill-defined and being set to 0.0 in labels with no predicted samples. Use `zero_division` parameter to control this behavior.\n",
      "  _warn_prf(average, modifier, msg_start, len(result))\n",
      "C:\\Anaconda\\lib\\site-packages\\sklearn\\metrics\\_classification.py:1245: UndefinedMetricWarning: Recall and F-score are ill-defined and being set to 0.0 in labels with no true samples. Use `zero_division` parameter to control this behavior.\n",
      "  _warn_prf(average, modifier, msg_start, len(result))\n",
      "C:\\Anaconda\\lib\\site-packages\\sklearn\\metrics\\_classification.py:1245: UndefinedMetricWarning: Precision and F-score are ill-defined and being set to 0.0 in labels with no predicted samples. Use `zero_division` parameter to control this behavior.\n",
      "  _warn_prf(average, modifier, msg_start, len(result))\n",
      "C:\\Anaconda\\lib\\site-packages\\sklearn\\metrics\\_classification.py:1245: UndefinedMetricWarning: Recall and F-score are ill-defined and being set to 0.0 in labels with no true samples. Use `zero_division` parameter to control this behavior.\n",
      "  _warn_prf(average, modifier, msg_start, len(result))\n"
     ]
    }
   ],
   "source": [
    "from sklearn.ensemble import RandomForestClassifier\n",
    "\n",
    "randomforest = RandomForestClassifier(n_estimators = 10, criterion = 'entropy')\n",
    "randomforest.fit(X_train_tf, y_train)\n",
    "\n",
    "y_pred = randomforest.predict(X_test_tf)\n",
    "print(classification_report(y_test, y_pred))\n",
    "\n",
    "cf = confusion_matrix(y_test, y_pred)\n",
    "print(cf)\n",
    "print(accuracy_score(y_test, y_pred) * 100)"
   ]
  },
  {
   "cell_type": "code",
   "execution_count": 26,
   "id": "f2ef4a83",
   "metadata": {},
   "outputs": [
    {
     "name": "stdout",
     "output_type": "stream",
     "text": [
      "score on train: 98.73417721518987\n",
      "score on test: 57.49999999999999\n"
     ]
    }
   ],
   "source": [
    "print(\"score on train: \"+ str(randomforest.score(X_train_tf, y_train) * 100))\n",
    "print(\"score on test: \" + str(randomforest.score(X_test_tf, y_test) * 100))"
   ]
  },
  {
   "cell_type": "markdown",
   "id": "d4eee0f8",
   "metadata": {},
   "source": [
    "#### Hyperparameter tuning"
   ]
  },
  {
   "cell_type": "markdown",
   "id": "7f5f069b",
   "metadata": {},
   "source": [
    "#### Grid search"
   ]
  },
  {
   "cell_type": "code",
   "execution_count": 27,
   "id": "3e2625a9",
   "metadata": {},
   "outputs": [
    {
     "name": "stdout",
     "output_type": "stream",
     "text": [
      "Fitting 4 folds for each of 6 candidates, totalling 24 fits\n"
     ]
    },
    {
     "name": "stderr",
     "output_type": "stream",
     "text": [
      "C:\\Anaconda\\lib\\site-packages\\sklearn\\model_selection\\_split.py:666: UserWarning: The least populated class in y has only 2 members, which is less than n_splits=4.\n",
      "  warnings.warn((\"The least populated class in y has only %d\"\n"
     ]
    },
    {
     "name": "stdout",
     "output_type": "stream",
     "text": [
      "Best accuracy :  0.6389423076923076\n",
      "Best parameters : {'criterion': 'gini', 'n_estimators': 100}\n"
     ]
    }
   ],
   "source": [
    "model = RandomForestClassifier()\n",
    "parameters = [\n",
    "             {'criterion' : ['gini', 'entropy'],\n",
    "              'n_estimators':[10, 100, 1000] }                                       \n",
    "             ]\n",
    "\n",
    "n_iter_search = 20\n",
    "\n",
    "grid_search = GridSearchCV(estimator = model, \n",
    "                           param_grid = parameters,\n",
    "                           scoring = 'accuracy', \n",
    "                           cv = 4,\n",
    "                           n_jobs = -1,\n",
    "                           verbose =5)\n",
    "grid_search = grid_search.fit(X_train_tf, y_train)\n",
    "\n",
    "best_accuracy = grid_search.best_score_ \n",
    "best_parameters = grid_search.best_params_  \n",
    "print('Best accuracy : ', grid_search.best_score_)\n",
    "print('Best parameters :', grid_search.best_params_  )"
   ]
  },
  {
   "cell_type": "markdown",
   "id": "4843b3f4",
   "metadata": {},
   "source": [
    "#### Random search"
   ]
  },
  {
   "cell_type": "code",
   "execution_count": 28,
   "id": "d4b83818",
   "metadata": {},
   "outputs": [
    {
     "name": "stdout",
     "output_type": "stream",
     "text": [
      "Fitting 4 folds for each of 6 candidates, totalling 24 fits\n"
     ]
    },
    {
     "name": "stderr",
     "output_type": "stream",
     "text": [
      "C:\\Anaconda\\lib\\site-packages\\sklearn\\model_selection\\_search.py:285: UserWarning: The total space of parameters 6 is smaller than n_iter=20. Running 6 iterations. For exhaustive searches, use GridSearchCV.\n",
      "  warnings.warn(\n",
      "C:\\Anaconda\\lib\\site-packages\\sklearn\\model_selection\\_split.py:666: UserWarning: The least populated class in y has only 2 members, which is less than n_splits=4.\n",
      "  warnings.warn((\"The least populated class in y has only %d\"\n"
     ]
    },
    {
     "name": "stdout",
     "output_type": "stream",
     "text": [
      "Best accuracy :  0.6325320512820513\n",
      "Best parameters : {'n_estimators': 1000, 'criterion': 'gini'}\n"
     ]
    }
   ],
   "source": [
    "model = RandomForestClassifier()\n",
    "parameters = [\n",
    "             {'criterion' : ['gini', 'entropy'],\n",
    "              'n_estimators':[10, 100, 1000] }                                       \n",
    "             ]\n",
    "\n",
    "n_iter_search = 20\n",
    "\n",
    "random_search = RandomizedSearchCV(model, param_distributions=parameters,cv=4,n_iter=n_iter_search,n_jobs = -1,verbose=1)\n",
    "\n",
    "random_search = random_search.fit(X_train_tf, y_train)\n",
    "\n",
    "best_accuracy = random_search.best_score_ \n",
    "best_parameters = random_search.best_params_  \n",
    "\n",
    "print('Best accuracy : ', random_search.best_score_)\n",
    "print('Best parameters :',random_search.best_params_  )"
   ]
  },
  {
   "cell_type": "markdown",
   "id": "2dcd479a",
   "metadata": {},
   "source": [
    "### Evaluate the model"
   ]
  },
  {
   "cell_type": "markdown",
   "id": "ef14fbe0",
   "metadata": {},
   "source": [
    "I chose the logistic regression model for evaluation as it has the highest accuracy"
   ]
  },
  {
   "cell_type": "markdown",
   "id": "21de805a",
   "metadata": {},
   "source": [
    "#### Trying model"
   ]
  },
  {
   "cell_type": "code",
   "execution_count": 29,
   "id": "8394edf4",
   "metadata": {},
   "outputs": [],
   "source": [
    "from sklearn.pipeline import Pipeline\n",
    "\n",
    "text_lregclassifier = Pipeline([\n",
    "    ('vect', CountVectorizer()),\n",
    "    ('tfidf', TfidfTransformer(use_idf=True)),\n",
    "    ('lregclassifier', LogisticRegression(C=10)),\n",
    "])"
   ]
  },
  {
   "cell_type": "code",
   "execution_count": 30,
   "id": "6c0c8c74",
   "metadata": {},
   "outputs": [
    {
     "data": {
      "text/plain": [
       "Pipeline(steps=[('vect', CountVectorizer()), ('tfidf', TfidfTransformer()),\n",
       "                ('lregclassifier', LogisticRegression(C=10))])"
      ]
     },
     "execution_count": 30,
     "metadata": {},
     "output_type": "execute_result"
    }
   ],
   "source": [
    "text_lregclassifier.fit(X_train.to_list(), list(y_train))"
   ]
  },
  {
   "cell_type": "markdown",
   "id": "22d1c233",
   "metadata": {},
   "source": [
    "#### Testing model"
   ]
  },
  {
   "cell_type": "code",
   "execution_count": 31,
   "id": "8efa5d6e",
   "metadata": {},
   "outputs": [],
   "source": [
    "X_TEST = X_test.to_list()\n",
    "Y_TEST = list(y_test)"
   ]
  },
  {
   "cell_type": "code",
   "execution_count": 32,
   "id": "7bea9e2f",
   "metadata": {},
   "outputs": [],
   "source": [
    "predicted = text_lregclassifier.predict(X_TEST)"
   ]
  },
  {
   "cell_type": "code",
   "execution_count": 33,
   "id": "c7e95cc9",
   "metadata": {},
   "outputs": [
    {
     "name": "stdout",
     "output_type": "stream",
     "text": [
      " kippenfilet met divers groenten \n",
      "order\n",
      "-------------------------------------------------------\n",
      " soup dish \n",
      "soupitems\n",
      "-------------------------------------------------------\n",
      " amex \n",
      "order\n",
      "-------------------------------------------------------\n",
      " meat dish \n",
      "meatitems\n",
      "-------------------------------------------------------\n",
      " vegetarian dish \n",
      "vegetarianitems\n",
      "-------------------------------------------------------\n"
     ]
    }
   ],
   "source": [
    "c = 0\n",
    "\n",
    "for doc, category in zip(X_TEST, predicted):\n",
    "    \n",
    "    if c == 5:\n",
    "        break\n",
    "    \n",
    "    \n",
    "    print(doc)\n",
    "    print(v[category])\n",
    "    print(\"-\"*55)\n",
    "    \n",
    "    c = c + 1"
   ]
  },
  {
   "cell_type": "markdown",
   "id": "93cfc1bb",
   "metadata": {},
   "source": [
    "#### Accuracy"
   ]
  },
  {
   "cell_type": "code",
   "execution_count": 34,
   "id": "382d473d",
   "metadata": {},
   "outputs": [
    {
     "data": {
      "text/plain": [
       "80.0"
      ]
     },
     "execution_count": 34,
     "metadata": {},
     "output_type": "execute_result"
    }
   ],
   "source": [
    "np.mean((predicted == Y_TEST)* 100)"
   ]
  },
  {
   "cell_type": "markdown",
   "id": "34fa761e",
   "metadata": {},
   "source": [
    "#### Prediction"
   ]
  },
  {
   "cell_type": "code",
   "execution_count": 35,
   "id": "26d944ed",
   "metadata": {},
   "outputs": [],
   "source": [
    "new_sentence = ['Where can I find the restaurant?']"
   ]
  },
  {
   "cell_type": "code",
   "execution_count": 36,
   "id": "c671a398",
   "metadata": {
    "scrolled": true
   },
   "outputs": [],
   "source": [
    "predicted = text_lregclassifier.predict(new_sentence)"
   ]
  },
  {
   "cell_type": "code",
   "execution_count": 37,
   "id": "edfbff38",
   "metadata": {},
   "outputs": [
    {
     "data": {
      "text/plain": [
       "'contact'"
      ]
     },
     "execution_count": 37,
     "metadata": {},
     "output_type": "execute_result"
    }
   ],
   "source": [
    "v[predicted[0]]"
   ]
  },
  {
   "cell_type": "code",
   "execution_count": 38,
   "id": "c53a08e9",
   "metadata": {},
   "outputs": [],
   "source": [
    "new_sentence = ['Which dishes are vegetarian?']"
   ]
  },
  {
   "cell_type": "code",
   "execution_count": 39,
   "id": "fcb3f106",
   "metadata": {},
   "outputs": [],
   "source": [
    "predicted = text_lregclassifier.predict(new_sentence)"
   ]
  },
  {
   "cell_type": "code",
   "execution_count": 40,
   "id": "5f20245d",
   "metadata": {},
   "outputs": [
    {
     "data": {
      "text/plain": [
       "'vegetarianitems'"
      ]
     },
     "execution_count": 40,
     "metadata": {},
     "output_type": "execute_result"
    }
   ],
   "source": [
    "v[predicted[0]]"
   ]
  },
  {
   "cell_type": "code",
   "execution_count": 41,
   "id": "a9ca385d",
   "metadata": {},
   "outputs": [],
   "source": [
    "new_sentence = ['Do you have rice dishes?']"
   ]
  },
  {
   "cell_type": "code",
   "execution_count": 42,
   "id": "b68b34e9",
   "metadata": {},
   "outputs": [],
   "source": [
    "predicted = text_lregclassifier.predict(new_sentence)"
   ]
  },
  {
   "cell_type": "code",
   "execution_count": 43,
   "id": "21e24d83",
   "metadata": {},
   "outputs": [
    {
     "data": {
      "text/plain": [
       "'riceitems'"
      ]
     },
     "execution_count": 43,
     "metadata": {},
     "output_type": "execute_result"
    }
   ],
   "source": [
    "v[predicted[0]]"
   ]
  },
  {
   "cell_type": "code",
   "execution_count": 44,
   "id": "d1c04957",
   "metadata": {},
   "outputs": [],
   "source": [
    "new_sentence = ['Can you give me the menu?']"
   ]
  },
  {
   "cell_type": "code",
   "execution_count": 45,
   "id": "ca5132b6",
   "metadata": {},
   "outputs": [],
   "source": [
    "predicted = text_lregclassifier.predict(new_sentence)"
   ]
  },
  {
   "cell_type": "code",
   "execution_count": 46,
   "id": "0b98f673",
   "metadata": {},
   "outputs": [
    {
     "data": {
      "text/plain": [
       "'showmenu'"
      ]
     },
     "execution_count": 46,
     "metadata": {},
     "output_type": "execute_result"
    }
   ],
   "source": [
    "v[predicted[0]]"
   ]
  }
 ],
 "metadata": {
  "kernelspec": {
   "display_name": "Python 3",
   "language": "python",
   "name": "python3"
  },
  "language_info": {
   "codemirror_mode": {
    "name": "ipython",
    "version": 3
   },
   "file_extension": ".py",
   "mimetype": "text/x-python",
   "name": "python",
   "nbconvert_exporter": "python",
   "pygments_lexer": "ipython3",
   "version": "3.8.8"
  }
 },
 "nbformat": 4,
 "nbformat_minor": 5
}
