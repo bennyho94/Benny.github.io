{
 "cells": [
  {
   "cell_type": "code",
   "execution_count": 770,
   "id": "3123e32e",
   "metadata": {},
   "outputs": [
    {
     "name": "stderr",
     "output_type": "stream",
     "text": [
      "[nltk_data] Downloading package stopwords to C:\\Users\\Benny\n",
      "[nltk_data]     Ho\\AppData\\Roaming\\nltk_data...\n",
      "[nltk_data]   Package stopwords is already up-to-date!\n"
     ]
    }
   ],
   "source": [
    "%matplotlib inline\n",
    "import numpy as np\n",
    "import pandas as pd\n",
    "import seaborn as sns\n",
    "import re\n",
    "import matplotlib.pyplot as plt\n",
    "from sklearn.model_selection import train_test_split\n",
    "from sklearn.metrics import classification_report\n",
    "from sklearn.metrics import confusion_matrix\n",
    "from sklearn.metrics import accuracy_score\n",
    "from sklearn.utils import shuffle\n",
    "from sklearn.linear_model import LogisticRegression\n",
    "from sklearn.model_selection import RandomizedSearchCV\n",
    "import nltk\n",
    "nltk.download('stopwords')\n",
    "from nltk.corpus import stopwords\n",
    "from nltk.tokenize import word_tokenize\n",
    "from nltk.stem import WordNetLemmatizer\n",
    "from nltk.stem.porter import PorterStemmer\n",
    "from nltk.tokenize import sent_tokenize, word_tokenize\n",
    "import re \n",
    "from bs4 import BeautifulSoup\n",
    "from nltk.stem.snowball import SnowballStemmer\n",
    "from sklearn.feature_extraction.text import CountVectorizer\n",
    "from sklearn.feature_extraction.text import TfidfTransformer\n",
    "from tensorflow.python.keras.models import Sequential\n",
    "from tensorflow.python.keras.layers import LSTM, Bidirectional, Dense, Activation, Dropout, Embedding\n",
    "from keras.callbacks import EarlyStopping\n",
    "stemmer = SnowballStemmer('english')"
   ]
  },
  {
   "cell_type": "markdown",
   "id": "4cba0fa8",
   "metadata": {},
   "source": [
    "## Project"
   ]
  },
  {
   "cell_type": "markdown",
   "id": "bb53143d",
   "metadata": {},
   "source": [
    "In this competition, you have to predict the genre of a song given a segment of lyrics.\n",
    "\n",
    "The two genres are pop(1) and rap(0).\n",
    "\n",
    "Lyrics were scraped from Genius.com. We have censored several words by replacing letters with asterisks. Please note that some lyrics were taken from explicit songs.\n",
    "Genre was determined based on Billboard Charts.\n",
    "\n",
    "You can use deep learning and NLP libraries for this competition.\n",
    "\n",
    "link: https://www.kaggle.com/c/rnn-competition-2020-2021/leaderboard"
   ]
  },
  {
   "cell_type": "markdown",
   "id": "8dede36d",
   "metadata": {},
   "source": [
    "## Load data"
   ]
  },
  {
   "cell_type": "code",
   "execution_count": 772,
   "id": "65fab8f0",
   "metadata": {},
   "outputs": [],
   "source": [
    "train_df = pd.read_csv('train.csv')\n",
    "test_df = pd.read_csv('test.csv')"
   ]
  },
  {
   "cell_type": "code",
   "execution_count": 773,
   "id": "6f523f6f",
   "metadata": {},
   "outputs": [
    {
     "data": {
      "text/html": [
       "<div>\n",
       "<style scoped>\n",
       "    .dataframe tbody tr th:only-of-type {\n",
       "        vertical-align: middle;\n",
       "    }\n",
       "\n",
       "    .dataframe tbody tr th {\n",
       "        vertical-align: top;\n",
       "    }\n",
       "\n",
       "    .dataframe thead th {\n",
       "        text-align: right;\n",
       "    }\n",
       "</style>\n",
       "<table border=\"1\" class=\"dataframe\">\n",
       "  <thead>\n",
       "    <tr style=\"text-align: right;\">\n",
       "      <th></th>\n",
       "      <th>lyric</th>\n",
       "      <th>class</th>\n",
       "    </tr>\n",
       "  </thead>\n",
       "  <tbody>\n",
       "    <tr>\n",
       "      <th>0</th>\n",
       "      <td>Can't drink without thinkin' about you</td>\n",
       "      <td>1</td>\n",
       "    </tr>\n",
       "    <tr>\n",
       "      <th>1</th>\n",
       "      <td>Now Lil Pump flyin' private jet (Yuh)</td>\n",
       "      <td>0</td>\n",
       "    </tr>\n",
       "    <tr>\n",
       "      <th>2</th>\n",
       "      <td>No, matter fact, you ain't help me when I had ...</td>\n",
       "      <td>0</td>\n",
       "    </tr>\n",
       "    <tr>\n",
       "      <th>3</th>\n",
       "      <td>And you could find me, I ain't hidin'</td>\n",
       "      <td>0</td>\n",
       "    </tr>\n",
       "    <tr>\n",
       "      <th>4</th>\n",
       "      <td>From the way you talk to the way you move</td>\n",
       "      <td>1</td>\n",
       "    </tr>\n",
       "  </tbody>\n",
       "</table>\n",
       "</div>"
      ],
      "text/plain": [
       "                                               lyric  class\n",
       "0             Can't drink without thinkin' about you      1\n",
       "1              Now Lil Pump flyin' private jet (Yuh)      0\n",
       "2  No, matter fact, you ain't help me when I had ...      0\n",
       "3              And you could find me, I ain't hidin'      0\n",
       "4          From the way you talk to the way you move      1"
      ]
     },
     "execution_count": 773,
     "metadata": {},
     "output_type": "execute_result"
    }
   ],
   "source": [
    "train_df.head(5)"
   ]
  },
  {
   "cell_type": "code",
   "execution_count": 774,
   "id": "266a2456",
   "metadata": {},
   "outputs": [
    {
     "data": {
      "text/html": [
       "<div>\n",
       "<style scoped>\n",
       "    .dataframe tbody tr th:only-of-type {\n",
       "        vertical-align: middle;\n",
       "    }\n",
       "\n",
       "    .dataframe tbody tr th {\n",
       "        vertical-align: top;\n",
       "    }\n",
       "\n",
       "    .dataframe thead th {\n",
       "        text-align: right;\n",
       "    }\n",
       "</style>\n",
       "<table border=\"1\" class=\"dataframe\">\n",
       "  <thead>\n",
       "    <tr style=\"text-align: right;\">\n",
       "      <th></th>\n",
       "      <th>id</th>\n",
       "      <th>lyric</th>\n",
       "    </tr>\n",
       "  </thead>\n",
       "  <tbody>\n",
       "    <tr>\n",
       "      <th>0</th>\n",
       "      <td>0</td>\n",
       "      <td>Now they know my name wherever I go</td>\n",
       "    </tr>\n",
       "    <tr>\n",
       "      <th>1</th>\n",
       "      <td>1</td>\n",
       "      <td>If your girl don't get it poppin', put me on y...</td>\n",
       "    </tr>\n",
       "    <tr>\n",
       "      <th>2</th>\n",
       "      <td>2</td>\n",
       "      <td>P1 cleaner than your church shoes, ah</td>\n",
       "    </tr>\n",
       "    <tr>\n",
       "      <th>3</th>\n",
       "      <td>3</td>\n",
       "      <td>Bodies start to drop, ayy (Hit the floor)</td>\n",
       "    </tr>\n",
       "    <tr>\n",
       "      <th>4</th>\n",
       "      <td>4</td>\n",
       "      <td>I don't look to the sky no mo'</td>\n",
       "    </tr>\n",
       "  </tbody>\n",
       "</table>\n",
       "</div>"
      ],
      "text/plain": [
       "   id                                              lyric\n",
       "0   0                Now they know my name wherever I go\n",
       "1   1  If your girl don't get it poppin', put me on y...\n",
       "2   2              P1 cleaner than your church shoes, ah\n",
       "3   3          Bodies start to drop, ayy (Hit the floor)\n",
       "4   4                     I don't look to the sky no mo'"
      ]
     },
     "execution_count": 774,
     "metadata": {},
     "output_type": "execute_result"
    }
   ],
   "source": [
    "test_df.head(5)"
   ]
  },
  {
   "cell_type": "markdown",
   "id": "24aef0e5",
   "metadata": {},
   "source": [
    "## Exploratory data analysis"
   ]
  },
  {
   "cell_type": "code",
   "execution_count": 775,
   "id": "8ca44ec2",
   "metadata": {},
   "outputs": [
    {
     "name": "stdout",
     "output_type": "stream",
     "text": [
      "(51054, 2)\n",
      "(2676, 2)\n"
     ]
    }
   ],
   "source": [
    "# check dimension\n",
    "print(train_df.shape)\n",
    "print(test_df.shape)"
   ]
  },
  {
   "cell_type": "markdown",
   "id": "797293ba",
   "metadata": {},
   "source": [
    "The train dataset has 51054 rows and 2 columns while the test set has 2676 rows and 2 columns. "
   ]
  },
  {
   "cell_type": "markdown",
   "id": "77e9605f",
   "metadata": {},
   "source": [
    "### Data type for each attribute"
   ]
  },
  {
   "cell_type": "code",
   "execution_count": 776,
   "id": "e796d4f9",
   "metadata": {},
   "outputs": [
    {
     "name": "stdout",
     "output_type": "stream",
     "text": [
      "<class 'pandas.core.frame.DataFrame'>\n",
      "RangeIndex: 51054 entries, 0 to 51053\n",
      "Data columns (total 2 columns):\n",
      " #   Column  Non-Null Count  Dtype \n",
      "---  ------  --------------  ----- \n",
      " 0   lyric   51054 non-null  object\n",
      " 1   class   51054 non-null  int64 \n",
      "dtypes: int64(1), object(1)\n",
      "memory usage: 797.8+ KB\n"
     ]
    }
   ],
   "source": [
    "train_df.info()"
   ]
  },
  {
   "cell_type": "code",
   "execution_count": 777,
   "id": "5d79458f",
   "metadata": {},
   "outputs": [
    {
     "name": "stdout",
     "output_type": "stream",
     "text": [
      "<class 'pandas.core.frame.DataFrame'>\n",
      "RangeIndex: 2676 entries, 0 to 2675\n",
      "Data columns (total 2 columns):\n",
      " #   Column  Non-Null Count  Dtype \n",
      "---  ------  --------------  ----- \n",
      " 0   id      2676 non-null   int64 \n",
      " 1   lyric   2676 non-null   object\n",
      "dtypes: int64(1), object(1)\n",
      "memory usage: 41.9+ KB\n"
     ]
    }
   ],
   "source": [
    "test_df.info()"
   ]
  },
  {
   "cell_type": "markdown",
   "id": "481685cb",
   "metadata": {},
   "source": [
    "- The attributes of the train set consists of 1 integer and 1 object data type\n",
    "- The attributes of the test set consists of 1 integer and 1 object data type"
   ]
  },
  {
   "cell_type": "markdown",
   "id": "2ac1a38c",
   "metadata": {},
   "source": [
    "### Descriptive statistics"
   ]
  },
  {
   "cell_type": "code",
   "execution_count": 778,
   "id": "97723199",
   "metadata": {},
   "outputs": [
    {
     "data": {
      "text/html": [
       "<div>\n",
       "<style scoped>\n",
       "    .dataframe tbody tr th:only-of-type {\n",
       "        vertical-align: middle;\n",
       "    }\n",
       "\n",
       "    .dataframe tbody tr th {\n",
       "        vertical-align: top;\n",
       "    }\n",
       "\n",
       "    .dataframe thead th {\n",
       "        text-align: right;\n",
       "    }\n",
       "</style>\n",
       "<table border=\"1\" class=\"dataframe\">\n",
       "  <thead>\n",
       "    <tr style=\"text-align: right;\">\n",
       "      <th></th>\n",
       "      <th>class</th>\n",
       "    </tr>\n",
       "  </thead>\n",
       "  <tbody>\n",
       "    <tr>\n",
       "      <th>count</th>\n",
       "      <td>51054.000000</td>\n",
       "    </tr>\n",
       "    <tr>\n",
       "      <th>mean</th>\n",
       "      <td>0.434227</td>\n",
       "    </tr>\n",
       "    <tr>\n",
       "      <th>std</th>\n",
       "      <td>0.495660</td>\n",
       "    </tr>\n",
       "    <tr>\n",
       "      <th>min</th>\n",
       "      <td>0.000000</td>\n",
       "    </tr>\n",
       "    <tr>\n",
       "      <th>25%</th>\n",
       "      <td>0.000000</td>\n",
       "    </tr>\n",
       "    <tr>\n",
       "      <th>50%</th>\n",
       "      <td>0.000000</td>\n",
       "    </tr>\n",
       "    <tr>\n",
       "      <th>75%</th>\n",
       "      <td>1.000000</td>\n",
       "    </tr>\n",
       "    <tr>\n",
       "      <th>max</th>\n",
       "      <td>1.000000</td>\n",
       "    </tr>\n",
       "  </tbody>\n",
       "</table>\n",
       "</div>"
      ],
      "text/plain": [
       "              class\n",
       "count  51054.000000\n",
       "mean       0.434227\n",
       "std        0.495660\n",
       "min        0.000000\n",
       "25%        0.000000\n",
       "50%        0.000000\n",
       "75%        1.000000\n",
       "max        1.000000"
      ]
     },
     "execution_count": 778,
     "metadata": {},
     "output_type": "execute_result"
    }
   ],
   "source": [
    "train_df.describe()"
   ]
  },
  {
   "cell_type": "code",
   "execution_count": 779,
   "id": "cbdeebfc",
   "metadata": {},
   "outputs": [
    {
     "data": {
      "text/html": [
       "<div>\n",
       "<style scoped>\n",
       "    .dataframe tbody tr th:only-of-type {\n",
       "        vertical-align: middle;\n",
       "    }\n",
       "\n",
       "    .dataframe tbody tr th {\n",
       "        vertical-align: top;\n",
       "    }\n",
       "\n",
       "    .dataframe thead th {\n",
       "        text-align: right;\n",
       "    }\n",
       "</style>\n",
       "<table border=\"1\" class=\"dataframe\">\n",
       "  <thead>\n",
       "    <tr style=\"text-align: right;\">\n",
       "      <th></th>\n",
       "      <th>id</th>\n",
       "    </tr>\n",
       "  </thead>\n",
       "  <tbody>\n",
       "    <tr>\n",
       "      <th>count</th>\n",
       "      <td>2676.000000</td>\n",
       "    </tr>\n",
       "    <tr>\n",
       "      <th>mean</th>\n",
       "      <td>1337.500000</td>\n",
       "    </tr>\n",
       "    <tr>\n",
       "      <th>std</th>\n",
       "      <td>772.638984</td>\n",
       "    </tr>\n",
       "    <tr>\n",
       "      <th>min</th>\n",
       "      <td>0.000000</td>\n",
       "    </tr>\n",
       "    <tr>\n",
       "      <th>25%</th>\n",
       "      <td>668.750000</td>\n",
       "    </tr>\n",
       "    <tr>\n",
       "      <th>50%</th>\n",
       "      <td>1337.500000</td>\n",
       "    </tr>\n",
       "    <tr>\n",
       "      <th>75%</th>\n",
       "      <td>2006.250000</td>\n",
       "    </tr>\n",
       "    <tr>\n",
       "      <th>max</th>\n",
       "      <td>2675.000000</td>\n",
       "    </tr>\n",
       "  </tbody>\n",
       "</table>\n",
       "</div>"
      ],
      "text/plain": [
       "                id\n",
       "count  2676.000000\n",
       "mean   1337.500000\n",
       "std     772.638984\n",
       "min       0.000000\n",
       "25%     668.750000\n",
       "50%    1337.500000\n",
       "75%    2006.250000\n",
       "max    2675.000000"
      ]
     },
     "execution_count": 779,
     "metadata": {},
     "output_type": "execute_result"
    }
   ],
   "source": [
    "test_df.describe()"
   ]
  },
  {
   "cell_type": "code",
   "execution_count": 780,
   "id": "c255c766",
   "metadata": {},
   "outputs": [
    {
     "data": {
      "text/plain": [
       "0    28885\n",
       "1    22169\n",
       "Name: class, dtype: int64"
      ]
     },
     "execution_count": 780,
     "metadata": {},
     "output_type": "execute_result"
    }
   ],
   "source": [
    "# check the distribution of the class variable\n",
    "train_df['class'].value_counts()"
   ]
  },
  {
   "cell_type": "code",
   "execution_count": 781,
   "id": "b37f2308",
   "metadata": {},
   "outputs": [
    {
     "name": "stderr",
     "output_type": "stream",
     "text": [
      "C:\\Anaconda\\lib\\site-packages\\seaborn\\_decorators.py:36: FutureWarning: Pass the following variable as a keyword arg: x. From version 0.12, the only valid positional argument will be `data`, and passing other arguments without an explicit keyword will result in an error or misinterpretation.\n",
      "  warnings.warn(\n"
     ]
    },
    {
     "data": {
      "text/plain": [
       "Text(0.5, 1.0, 'Disribution of target variable')"
      ]
     },
     "execution_count": 781,
     "metadata": {},
     "output_type": "execute_result"
    },
    {
     "data": {
      "image/png": "[encoded data removed]",
      "text/plain": [
       "<Figure size 720x432 with 1 Axes>"
      ]
     },
     "metadata": {
      "needs_background": "light"
     },
     "output_type": "display_data"
    }
   ],
   "source": [
    "plt.figure(figsize=(10,6))\n",
    "sns.countplot('class', data=train_df).set_title('Disribution of target variable')"
   ]
  },
  {
   "cell_type": "markdown",
   "id": "ce3a4472",
   "metadata": {},
   "source": [
    "The class variable has imbalanced class distribution. Class with value 1 (pop) is less than class with value 0 (rap), which means there are more genres of rap than genres of pop. For overcoming this problem, we can upsample or downsample the dataset."
   ]
  },
  {
   "cell_type": "markdown",
   "id": "c6abd940",
   "metadata": {},
   "source": [
    "## Data Preparation"
   ]
  },
  {
   "cell_type": "markdown",
   "id": "e68f2bb6",
   "metadata": {},
   "source": [
    "### Data cleaning"
   ]
  },
  {
   "cell_type": "code",
   "execution_count": 782,
   "id": "04ec056e",
   "metadata": {},
   "outputs": [
    {
     "data": {
      "text/plain": [
       "lyric    0\n",
       "class    0\n",
       "dtype: int64"
      ]
     },
     "execution_count": 782,
     "metadata": {},
     "output_type": "execute_result"
    }
   ],
   "source": [
    "# check for missing values\n",
    "train_df.isnull().sum()"
   ]
  },
  {
   "cell_type": "code",
   "execution_count": 783,
   "id": "13c488f8",
   "metadata": {},
   "outputs": [
    {
     "data": {
      "text/plain": [
       "id       0\n",
       "lyric    0\n",
       "dtype: int64"
      ]
     },
     "execution_count": 783,
     "metadata": {},
     "output_type": "execute_result"
    }
   ],
   "source": [
    "test_df.isnull().sum()"
   ]
  },
  {
   "cell_type": "markdown",
   "id": "b14f80cc",
   "metadata": {},
   "source": [
    "There are no missing values in both datasets."
   ]
  },
  {
   "cell_type": "code",
   "execution_count": 784,
   "id": "c178e72c",
   "metadata": {},
   "outputs": [
    {
     "data": {
      "text/html": [
       "<div>\n",
       "<style scoped>\n",
       "    .dataframe tbody tr th:only-of-type {\n",
       "        vertical-align: middle;\n",
       "    }\n",
       "\n",
       "    .dataframe tbody tr th {\n",
       "        vertical-align: top;\n",
       "    }\n",
       "\n",
       "    .dataframe thead th {\n",
       "        text-align: right;\n",
       "    }\n",
       "</style>\n",
       "<table border=\"1\" class=\"dataframe\">\n",
       "  <thead>\n",
       "    <tr style=\"text-align: right;\">\n",
       "      <th></th>\n",
       "      <th>lyric</th>\n",
       "      <th>class</th>\n",
       "    </tr>\n",
       "  </thead>\n",
       "  <tbody>\n",
       "    <tr>\n",
       "      <th>0</th>\n",
       "      <td>Can't drink without thinkin' about you</td>\n",
       "      <td>1</td>\n",
       "    </tr>\n",
       "    <tr>\n",
       "      <th>1</th>\n",
       "      <td>Now Lil Pump flyin' private jet (Yuh)</td>\n",
       "      <td>0</td>\n",
       "    </tr>\n",
       "    <tr>\n",
       "      <th>2</th>\n",
       "      <td>No, matter fact, you ain't help me when I had ...</td>\n",
       "      <td>0</td>\n",
       "    </tr>\n",
       "    <tr>\n",
       "      <th>3</th>\n",
       "      <td>And you could find me, I ain't hidin'</td>\n",
       "      <td>0</td>\n",
       "    </tr>\n",
       "    <tr>\n",
       "      <th>4</th>\n",
       "      <td>From the way you talk to the way you move</td>\n",
       "      <td>1</td>\n",
       "    </tr>\n",
       "  </tbody>\n",
       "</table>\n",
       "</div>"
      ],
      "text/plain": [
       "                                               lyric  class\n",
       "0             Can't drink without thinkin' about you      1\n",
       "1              Now Lil Pump flyin' private jet (Yuh)      0\n",
       "2  No, matter fact, you ain't help me when I had ...      0\n",
       "3              And you could find me, I ain't hidin'      0\n",
       "4          From the way you talk to the way you move      1"
      ]
     },
     "execution_count": 784,
     "metadata": {},
     "output_type": "execute_result"
    }
   ],
   "source": [
    "train_df.head(5)"
   ]
  },
  {
   "cell_type": "code",
   "execution_count": 785,
   "id": "f8940457",
   "metadata": {},
   "outputs": [
    {
     "data": {
      "text/html": [
       "<div>\n",
       "<style scoped>\n",
       "    .dataframe tbody tr th:only-of-type {\n",
       "        vertical-align: middle;\n",
       "    }\n",
       "\n",
       "    .dataframe tbody tr th {\n",
       "        vertical-align: top;\n",
       "    }\n",
       "\n",
       "    .dataframe thead th {\n",
       "        text-align: right;\n",
       "    }\n",
       "</style>\n",
       "<table border=\"1\" class=\"dataframe\">\n",
       "  <thead>\n",
       "    <tr style=\"text-align: right;\">\n",
       "      <th></th>\n",
       "      <th>id</th>\n",
       "      <th>lyric</th>\n",
       "    </tr>\n",
       "  </thead>\n",
       "  <tbody>\n",
       "    <tr>\n",
       "      <th>0</th>\n",
       "      <td>0</td>\n",
       "      <td>Now they know my name wherever I go</td>\n",
       "    </tr>\n",
       "    <tr>\n",
       "      <th>1</th>\n",
       "      <td>1</td>\n",
       "      <td>If your girl don't get it poppin', put me on y...</td>\n",
       "    </tr>\n",
       "    <tr>\n",
       "      <th>2</th>\n",
       "      <td>2</td>\n",
       "      <td>P1 cleaner than your church shoes, ah</td>\n",
       "    </tr>\n",
       "    <tr>\n",
       "      <th>3</th>\n",
       "      <td>3</td>\n",
       "      <td>Bodies start to drop, ayy (Hit the floor)</td>\n",
       "    </tr>\n",
       "    <tr>\n",
       "      <th>4</th>\n",
       "      <td>4</td>\n",
       "      <td>I don't look to the sky no mo'</td>\n",
       "    </tr>\n",
       "  </tbody>\n",
       "</table>\n",
       "</div>"
      ],
      "text/plain": [
       "   id                                              lyric\n",
       "0   0                Now they know my name wherever I go\n",
       "1   1  If your girl don't get it poppin', put me on y...\n",
       "2   2              P1 cleaner than your church shoes, ah\n",
       "3   3          Bodies start to drop, ayy (Hit the floor)\n",
       "4   4                     I don't look to the sky no mo'"
      ]
     },
     "execution_count": 785,
     "metadata": {},
     "output_type": "execute_result"
    }
   ],
   "source": [
    "test_df.head(5)"
   ]
  },
  {
   "cell_type": "markdown",
   "id": "d04bce90",
   "metadata": {},
   "source": [
    "The id column seems to be irrelevant. Therefore the column will be removed."
   ]
  },
  {
   "cell_type": "code",
   "execution_count": 786,
   "id": "c8bc8eb1",
   "metadata": {},
   "outputs": [],
   "source": [
    "test_df = test_df.drop(['id'], axis=1)"
   ]
  },
  {
   "cell_type": "code",
   "execution_count": 787,
   "id": "fa4df067",
   "metadata": {},
   "outputs": [
    {
     "data": {
      "text/html": [
       "<div>\n",
       "<style scoped>\n",
       "    .dataframe tbody tr th:only-of-type {\n",
       "        vertical-align: middle;\n",
       "    }\n",
       "\n",
       "    .dataframe tbody tr th {\n",
       "        vertical-align: top;\n",
       "    }\n",
       "\n",
       "    .dataframe thead th {\n",
       "        text-align: right;\n",
       "    }\n",
       "</style>\n",
       "<table border=\"1\" class=\"dataframe\">\n",
       "  <thead>\n",
       "    <tr style=\"text-align: right;\">\n",
       "      <th></th>\n",
       "      <th>lyric</th>\n",
       "      <th>class</th>\n",
       "    </tr>\n",
       "  </thead>\n",
       "  <tbody>\n",
       "    <tr>\n",
       "      <th>0</th>\n",
       "      <td>Can't drink without thinkin' about you</td>\n",
       "      <td>1</td>\n",
       "    </tr>\n",
       "    <tr>\n",
       "      <th>1</th>\n",
       "      <td>Now Lil Pump flyin' private jet (Yuh)</td>\n",
       "      <td>0</td>\n",
       "    </tr>\n",
       "    <tr>\n",
       "      <th>2</th>\n",
       "      <td>No, matter fact, you ain't help me when I had ...</td>\n",
       "      <td>0</td>\n",
       "    </tr>\n",
       "    <tr>\n",
       "      <th>3</th>\n",
       "      <td>And you could find me, I ain't hidin'</td>\n",
       "      <td>0</td>\n",
       "    </tr>\n",
       "    <tr>\n",
       "      <th>4</th>\n",
       "      <td>From the way you talk to the way you move</td>\n",
       "      <td>1</td>\n",
       "    </tr>\n",
       "  </tbody>\n",
       "</table>\n",
       "</div>"
      ],
      "text/plain": [
       "                                               lyric  class\n",
       "0             Can't drink without thinkin' about you      1\n",
       "1              Now Lil Pump flyin' private jet (Yuh)      0\n",
       "2  No, matter fact, you ain't help me when I had ...      0\n",
       "3              And you could find me, I ain't hidin'      0\n",
       "4          From the way you talk to the way you move      1"
      ]
     },
     "execution_count": 787,
     "metadata": {},
     "output_type": "execute_result"
    }
   ],
   "source": [
    "train_df.head(5)"
   ]
  },
  {
   "cell_type": "code",
   "execution_count": 788,
   "id": "f73b7f6f",
   "metadata": {},
   "outputs": [
    {
     "data": {
      "text/html": [
       "<div>\n",
       "<style scoped>\n",
       "    .dataframe tbody tr th:only-of-type {\n",
       "        vertical-align: middle;\n",
       "    }\n",
       "\n",
       "    .dataframe tbody tr th {\n",
       "        vertical-align: top;\n",
       "    }\n",
       "\n",
       "    .dataframe thead th {\n",
       "        text-align: right;\n",
       "    }\n",
       "</style>\n",
       "<table border=\"1\" class=\"dataframe\">\n",
       "  <thead>\n",
       "    <tr style=\"text-align: right;\">\n",
       "      <th></th>\n",
       "      <th>lyric</th>\n",
       "    </tr>\n",
       "  </thead>\n",
       "  <tbody>\n",
       "    <tr>\n",
       "      <th>0</th>\n",
       "      <td>Now they know my name wherever I go</td>\n",
       "    </tr>\n",
       "    <tr>\n",
       "      <th>1</th>\n",
       "      <td>If your girl don't get it poppin', put me on y...</td>\n",
       "    </tr>\n",
       "    <tr>\n",
       "      <th>2</th>\n",
       "      <td>P1 cleaner than your church shoes, ah</td>\n",
       "    </tr>\n",
       "    <tr>\n",
       "      <th>3</th>\n",
       "      <td>Bodies start to drop, ayy (Hit the floor)</td>\n",
       "    </tr>\n",
       "    <tr>\n",
       "      <th>4</th>\n",
       "      <td>I don't look to the sky no mo'</td>\n",
       "    </tr>\n",
       "  </tbody>\n",
       "</table>\n",
       "</div>"
      ],
      "text/plain": [
       "                                               lyric\n",
       "0                Now they know my name wherever I go\n",
       "1  If your girl don't get it poppin', put me on y...\n",
       "2              P1 cleaner than your church shoes, ah\n",
       "3          Bodies start to drop, ayy (Hit the floor)\n",
       "4                     I don't look to the sky no mo'"
      ]
     },
     "execution_count": 788,
     "metadata": {},
     "output_type": "execute_result"
    }
   ],
   "source": [
    "test_df.head(5)"
   ]
  },
  {
   "cell_type": "markdown",
   "id": "9c292d30",
   "metadata": {},
   "source": [
    "## Data preprocessing"
   ]
  },
  {
   "cell_type": "markdown",
   "id": "9b3c0c73",
   "metadata": {},
   "source": [
    "### Clean data"
   ]
  },
  {
   "cell_type": "code",
   "execution_count": 789,
   "id": "7ed78205",
   "metadata": {},
   "outputs": [],
   "source": [
    "def clean(sentence):\n",
    "    # remove non-letters\n",
    "    text_alpha_chars = re.sub(\"[^a-zA-Z']\", \" \", str(sentence))\n",
    "    \n",
    "    # convert to lower-case\n",
    "    text_lower = text_alpha_chars.lower()\n",
    "    \n",
    "    return text_lower"
   ]
  },
  {
   "cell_type": "code",
   "execution_count": 790,
   "id": "4be7b012",
   "metadata": {},
   "outputs": [
    {
     "data": {
      "text/html": [
       "<div>\n",
       "<style scoped>\n",
       "    .dataframe tbody tr th:only-of-type {\n",
       "        vertical-align: middle;\n",
       "    }\n",
       "\n",
       "    .dataframe tbody tr th {\n",
       "        vertical-align: top;\n",
       "    }\n",
       "\n",
       "    .dataframe thead th {\n",
       "        text-align: right;\n",
       "    }\n",
       "</style>\n",
       "<table border=\"1\" class=\"dataframe\">\n",
       "  <thead>\n",
       "    <tr style=\"text-align: right;\">\n",
       "      <th></th>\n",
       "      <th>lyric</th>\n",
       "      <th>class</th>\n",
       "    </tr>\n",
       "  </thead>\n",
       "  <tbody>\n",
       "    <tr>\n",
       "      <th>0</th>\n",
       "      <td>can't drink without thinkin' about you</td>\n",
       "      <td>1</td>\n",
       "    </tr>\n",
       "    <tr>\n",
       "      <th>1</th>\n",
       "      <td>now lil pump flyin' private jet  yuh</td>\n",
       "      <td>0</td>\n",
       "    </tr>\n",
       "    <tr>\n",
       "      <th>2</th>\n",
       "      <td>no  matter fact  you ain't help me when i had ...</td>\n",
       "      <td>0</td>\n",
       "    </tr>\n",
       "    <tr>\n",
       "      <th>3</th>\n",
       "      <td>and you could find me  i ain't hidin'</td>\n",
       "      <td>0</td>\n",
       "    </tr>\n",
       "    <tr>\n",
       "      <th>4</th>\n",
       "      <td>from the way you talk to the way you move</td>\n",
       "      <td>1</td>\n",
       "    </tr>\n",
       "    <tr>\n",
       "      <th>...</th>\n",
       "      <td>...</td>\n",
       "      <td>...</td>\n",
       "    </tr>\n",
       "    <tr>\n",
       "      <th>51049</th>\n",
       "      <td>i told her pour me some more  then she went ri...</td>\n",
       "      <td>0</td>\n",
       "    </tr>\n",
       "    <tr>\n",
       "      <th>51050</th>\n",
       "      <td>hit the ground and crawl to the dresser</td>\n",
       "      <td>0</td>\n",
       "    </tr>\n",
       "    <tr>\n",
       "      <th>51051</th>\n",
       "      <td>just keep breathin' and breathin' and breathin...</td>\n",
       "      <td>1</td>\n",
       "    </tr>\n",
       "    <tr>\n",
       "      <th>51052</th>\n",
       "      <td>down go the system  long live the king  king</td>\n",
       "      <td>0</td>\n",
       "    </tr>\n",
       "    <tr>\n",
       "      <th>51053</th>\n",
       "      <td>if your mother knew all the things we do  from...</td>\n",
       "      <td>1</td>\n",
       "    </tr>\n",
       "  </tbody>\n",
       "</table>\n",
       "<p>51054 rows × 2 columns</p>\n",
       "</div>"
      ],
      "text/plain": [
       "                                                   lyric  class\n",
       "0                 can't drink without thinkin' about you      1\n",
       "1                  now lil pump flyin' private jet  yuh       0\n",
       "2      no  matter fact  you ain't help me when i had ...      0\n",
       "3                  and you could find me  i ain't hidin'      0\n",
       "4              from the way you talk to the way you move      1\n",
       "...                                                  ...    ...\n",
       "51049  i told her pour me some more  then she went ri...      0\n",
       "51050            hit the ground and crawl to the dresser      0\n",
       "51051  just keep breathin' and breathin' and breathin...      1\n",
       "51052      down go the system  long live the king  king       0\n",
       "51053  if your mother knew all the things we do  from...      1\n",
       "\n",
       "[51054 rows x 2 columns]"
      ]
     },
     "execution_count": 790,
     "metadata": {},
     "output_type": "execute_result"
    }
   ],
   "source": [
    "train_df['lyric'] = train_df['lyric'].apply(lambda x: clean(x))\n",
    "train_df"
   ]
  },
  {
   "cell_type": "code",
   "execution_count": 791,
   "id": "6835de82",
   "metadata": {},
   "outputs": [
    {
     "data": {
      "text/html": [
       "<div>\n",
       "<style scoped>\n",
       "    .dataframe tbody tr th:only-of-type {\n",
       "        vertical-align: middle;\n",
       "    }\n",
       "\n",
       "    .dataframe tbody tr th {\n",
       "        vertical-align: top;\n",
       "    }\n",
       "\n",
       "    .dataframe thead th {\n",
       "        text-align: right;\n",
       "    }\n",
       "</style>\n",
       "<table border=\"1\" class=\"dataframe\">\n",
       "  <thead>\n",
       "    <tr style=\"text-align: right;\">\n",
       "      <th></th>\n",
       "      <th>lyric</th>\n",
       "    </tr>\n",
       "  </thead>\n",
       "  <tbody>\n",
       "    <tr>\n",
       "      <th>0</th>\n",
       "      <td>now they know my name wherever i go</td>\n",
       "    </tr>\n",
       "    <tr>\n",
       "      <th>1</th>\n",
       "      <td>if your girl don't get it poppin'  put me on y...</td>\n",
       "    </tr>\n",
       "    <tr>\n",
       "      <th>2</th>\n",
       "      <td>p  cleaner than your church shoes  ah</td>\n",
       "    </tr>\n",
       "    <tr>\n",
       "      <th>3</th>\n",
       "      <td>bodies start to drop  ayy  hit the floor</td>\n",
       "    </tr>\n",
       "    <tr>\n",
       "      <th>4</th>\n",
       "      <td>i don't look to the sky no mo'</td>\n",
       "    </tr>\n",
       "    <tr>\n",
       "      <th>...</th>\n",
       "      <td>...</td>\n",
       "    </tr>\n",
       "    <tr>\n",
       "      <th>2671</th>\n",
       "      <td>so tell me  how deep is your love</td>\n",
       "    </tr>\n",
       "    <tr>\n",
       "      <th>2672</th>\n",
       "      <td>if this is all we're living for</td>\n",
       "    </tr>\n",
       "    <tr>\n",
       "      <th>2673</th>\n",
       "      <td>i'll never let up on the pedal  might as well ...</td>\n",
       "    </tr>\n",
       "    <tr>\n",
       "      <th>2674</th>\n",
       "      <td>turned my temple down into a prison  s</td>\n",
       "    </tr>\n",
       "    <tr>\n",
       "      <th>2675</th>\n",
       "      <td>yeah that's a fact  but i never been p</td>\n",
       "    </tr>\n",
       "  </tbody>\n",
       "</table>\n",
       "<p>2676 rows × 1 columns</p>\n",
       "</div>"
      ],
      "text/plain": [
       "                                                  lyric\n",
       "0                   now they know my name wherever i go\n",
       "1     if your girl don't get it poppin'  put me on y...\n",
       "2                 p  cleaner than your church shoes  ah\n",
       "3             bodies start to drop  ayy  hit the floor \n",
       "4                        i don't look to the sky no mo'\n",
       "...                                                 ...\n",
       "2671                 so tell me  how deep is your love \n",
       "2672                    if this is all we're living for\n",
       "2673  i'll never let up on the pedal  might as well ...\n",
       "2674          turned my temple down into a prison  s   \n",
       "2675         yeah that's a fact  but i never been p    \n",
       "\n",
       "[2676 rows x 1 columns]"
      ]
     },
     "execution_count": 791,
     "metadata": {},
     "output_type": "execute_result"
    }
   ],
   "source": [
    "test_df['lyric'] = test_df['lyric'].apply(lambda x: clean(x))\n",
    "test_df"
   ]
  },
  {
   "cell_type": "markdown",
   "id": "d689738e",
   "metadata": {},
   "source": [
    "### Removing stop words"
   ]
  },
  {
   "cell_type": "code",
   "execution_count": 792,
   "id": "b5d43161",
   "metadata": {},
   "outputs": [],
   "source": [
    "def removing_stop_words(sentence):\n",
    "    \n",
    "    stop_words = set(stopwords.words('english'))\n",
    "    \n",
    "    # tokenize\n",
    "    word_tokens = word_tokenize(sentence)\n",
    "    \n",
    "    filtered_sentence = [w for w in word_tokens  if not w in stop_words]\n",
    "    \n",
    "    filtered_sentence = []\n",
    "    \n",
    "    for w in word_tokens:\n",
    "        if w not in stop_words:\n",
    "            filtered_sentence.append(w)\n",
    "            \n",
    "    return filtered_sentence"
   ]
  },
  {
   "cell_type": "code",
   "execution_count": 793,
   "id": "b0917292",
   "metadata": {},
   "outputs": [
    {
     "data": {
      "text/plain": [
       "0                    [ca, n't, drink, without, thinkin, ']\n",
       "1                 [lil, pump, flyin, ', private, jet, yuh]\n",
       "2                     [matter, fact, ai, n't, help, money]\n",
       "3                         [could, find, ai, n't, hidin, ']\n",
       "4                                   [way, talk, way, move]\n",
       "                               ...                        \n",
       "51049                [told, pour, went, right, blow, blow]\n",
       "51050                        [hit, ground, crawl, dresser]\n",
       "51051    [keep, breathin, ', breathin, ', breathin, ', ...\n",
       "51052                 [go, system, long, live, king, king]\n",
       "51053                           [mother, knew, things, oh]\n",
       "Name: lyric, Length: 51054, dtype: object"
      ]
     },
     "execution_count": 793,
     "metadata": {},
     "output_type": "execute_result"
    }
   ],
   "source": [
    "train_df['lyric'] = train_df['lyric'].apply(lambda x: removing_stop_words(x))\n",
    "train_df['lyric']"
   ]
  },
  {
   "cell_type": "code",
   "execution_count": 794,
   "id": "395ab66f",
   "metadata": {},
   "outputs": [
    {
     "data": {
      "text/html": [
       "<div>\n",
       "<style scoped>\n",
       "    .dataframe tbody tr th:only-of-type {\n",
       "        vertical-align: middle;\n",
       "    }\n",
       "\n",
       "    .dataframe tbody tr th {\n",
       "        vertical-align: top;\n",
       "    }\n",
       "\n",
       "    .dataframe thead th {\n",
       "        text-align: right;\n",
       "    }\n",
       "</style>\n",
       "<table border=\"1\" class=\"dataframe\">\n",
       "  <thead>\n",
       "    <tr style=\"text-align: right;\">\n",
       "      <th></th>\n",
       "      <th>lyric</th>\n",
       "    </tr>\n",
       "  </thead>\n",
       "  <tbody>\n",
       "    <tr>\n",
       "      <th>0</th>\n",
       "      <td>[know, name, wherever, go]</td>\n",
       "    </tr>\n",
       "    <tr>\n",
       "      <th>1</th>\n",
       "      <td>[girl, n't, get, poppin, ', put, wishlist]</td>\n",
       "    </tr>\n",
       "    <tr>\n",
       "      <th>2</th>\n",
       "      <td>[p, cleaner, church, shoes, ah]</td>\n",
       "    </tr>\n",
       "    <tr>\n",
       "      <th>3</th>\n",
       "      <td>[bodies, start, drop, ayy, hit, floor]</td>\n",
       "    </tr>\n",
       "    <tr>\n",
       "      <th>4</th>\n",
       "      <td>[n't, look, sky, mo, ']</td>\n",
       "    </tr>\n",
       "    <tr>\n",
       "      <th>...</th>\n",
       "      <td>...</td>\n",
       "    </tr>\n",
       "    <tr>\n",
       "      <th>2671</th>\n",
       "      <td>[tell, deep, love]</td>\n",
       "    </tr>\n",
       "    <tr>\n",
       "      <th>2672</th>\n",
       "      <td>['re, living]</td>\n",
       "    </tr>\n",
       "    <tr>\n",
       "      <th>2673</th>\n",
       "      <td>['ll, never, let, pedal, might, well, get, mop]</td>\n",
       "    </tr>\n",
       "    <tr>\n",
       "      <th>2674</th>\n",
       "      <td>[turned, temple, prison]</td>\n",
       "    </tr>\n",
       "    <tr>\n",
       "      <th>2675</th>\n",
       "      <td>[yeah, 's, fact, never, p]</td>\n",
       "    </tr>\n",
       "  </tbody>\n",
       "</table>\n",
       "<p>2676 rows × 1 columns</p>\n",
       "</div>"
      ],
      "text/plain": [
       "                                                lyric\n",
       "0                          [know, name, wherever, go]\n",
       "1          [girl, n't, get, poppin, ', put, wishlist]\n",
       "2                     [p, cleaner, church, shoes, ah]\n",
       "3              [bodies, start, drop, ayy, hit, floor]\n",
       "4                             [n't, look, sky, mo, ']\n",
       "...                                               ...\n",
       "2671                               [tell, deep, love]\n",
       "2672                                    ['re, living]\n",
       "2673  ['ll, never, let, pedal, might, well, get, mop]\n",
       "2674                         [turned, temple, prison]\n",
       "2675                       [yeah, 's, fact, never, p]\n",
       "\n",
       "[2676 rows x 1 columns]"
      ]
     },
     "execution_count": 794,
     "metadata": {},
     "output_type": "execute_result"
    }
   ],
   "source": [
    "test_df['lyric'] = test_df['lyric'].apply(lambda x: removing_stop_words(x))\n",
    "test_df"
   ]
  },
  {
   "cell_type": "markdown",
   "id": "48aa5678",
   "metadata": {},
   "source": [
    "### Stemming"
   ]
  },
  {
   "cell_type": "code",
   "execution_count": 795,
   "id": "27a6314b",
   "metadata": {},
   "outputs": [
    {
     "data": {
      "text/html": [
       "<div>\n",
       "<style scoped>\n",
       "    .dataframe tbody tr th:only-of-type {\n",
       "        vertical-align: middle;\n",
       "    }\n",
       "\n",
       "    .dataframe tbody tr th {\n",
       "        vertical-align: top;\n",
       "    }\n",
       "\n",
       "    .dataframe thead th {\n",
       "        text-align: right;\n",
       "    }\n",
       "</style>\n",
       "<table border=\"1\" class=\"dataframe\">\n",
       "  <thead>\n",
       "    <tr style=\"text-align: right;\">\n",
       "      <th></th>\n",
       "      <th>lyric</th>\n",
       "      <th>class</th>\n",
       "    </tr>\n",
       "  </thead>\n",
       "  <tbody>\n",
       "    <tr>\n",
       "      <th>0</th>\n",
       "      <td>ca n't drink without thinkin '</td>\n",
       "      <td>1</td>\n",
       "    </tr>\n",
       "    <tr>\n",
       "      <th>1</th>\n",
       "      <td>lil pump flyin ' privat jet yuh</td>\n",
       "      <td>0</td>\n",
       "    </tr>\n",
       "    <tr>\n",
       "      <th>2</th>\n",
       "      <td>matter fact ai n't help money</td>\n",
       "      <td>0</td>\n",
       "    </tr>\n",
       "    <tr>\n",
       "      <th>3</th>\n",
       "      <td>could find ai n't hidin '</td>\n",
       "      <td>0</td>\n",
       "    </tr>\n",
       "    <tr>\n",
       "      <th>4</th>\n",
       "      <td>way talk way move</td>\n",
       "      <td>1</td>\n",
       "    </tr>\n",
       "    <tr>\n",
       "      <th>...</th>\n",
       "      <td>...</td>\n",
       "      <td>...</td>\n",
       "    </tr>\n",
       "    <tr>\n",
       "      <th>51049</th>\n",
       "      <td>told pour went right blow blow</td>\n",
       "      <td>0</td>\n",
       "    </tr>\n",
       "    <tr>\n",
       "      <th>51050</th>\n",
       "      <td>hit ground crawl dresser</td>\n",
       "      <td>0</td>\n",
       "    </tr>\n",
       "    <tr>\n",
       "      <th>51051</th>\n",
       "      <td>keep breathin ' breathin ' breathin ' breathin '</td>\n",
       "      <td>1</td>\n",
       "    </tr>\n",
       "    <tr>\n",
       "      <th>51052</th>\n",
       "      <td>go system long live king king</td>\n",
       "      <td>0</td>\n",
       "    </tr>\n",
       "    <tr>\n",
       "      <th>51053</th>\n",
       "      <td>mother knew thing oh</td>\n",
       "      <td>1</td>\n",
       "    </tr>\n",
       "  </tbody>\n",
       "</table>\n",
       "<p>51054 rows × 2 columns</p>\n",
       "</div>"
      ],
      "text/plain": [
       "                                                  lyric  class\n",
       "0                        ca n't drink without thinkin '      1\n",
       "1                       lil pump flyin ' privat jet yuh      0\n",
       "2                         matter fact ai n't help money      0\n",
       "3                             could find ai n't hidin '      0\n",
       "4                                     way talk way move      1\n",
       "...                                                 ...    ...\n",
       "51049                    told pour went right blow blow      0\n",
       "51050                          hit ground crawl dresser      0\n",
       "51051  keep breathin ' breathin ' breathin ' breathin '      1\n",
       "51052                     go system long live king king      0\n",
       "51053                              mother knew thing oh      1\n",
       "\n",
       "[51054 rows x 2 columns]"
      ]
     },
     "execution_count": 795,
     "metadata": {},
     "output_type": "execute_result"
    }
   ],
   "source": [
    "stemmer = PorterStemmer()\n",
    "train_df['lyric'] = train_df['lyric'].apply(lambda x: \" \".join(stemmer.stem(token) for token in x))\n",
    "train_df"
   ]
  },
  {
   "cell_type": "code",
   "execution_count": 796,
   "id": "609af9fd",
   "metadata": {},
   "outputs": [
    {
     "data": {
      "text/html": [
       "<div>\n",
       "<style scoped>\n",
       "    .dataframe tbody tr th:only-of-type {\n",
       "        vertical-align: middle;\n",
       "    }\n",
       "\n",
       "    .dataframe tbody tr th {\n",
       "        vertical-align: top;\n",
       "    }\n",
       "\n",
       "    .dataframe thead th {\n",
       "        text-align: right;\n",
       "    }\n",
       "</style>\n",
       "<table border=\"1\" class=\"dataframe\">\n",
       "  <thead>\n",
       "    <tr style=\"text-align: right;\">\n",
       "      <th></th>\n",
       "      <th>lyric</th>\n",
       "    </tr>\n",
       "  </thead>\n",
       "  <tbody>\n",
       "    <tr>\n",
       "      <th>0</th>\n",
       "      <td>know name wherev go</td>\n",
       "    </tr>\n",
       "    <tr>\n",
       "      <th>1</th>\n",
       "      <td>girl n't get poppin ' put wishlist</td>\n",
       "    </tr>\n",
       "    <tr>\n",
       "      <th>2</th>\n",
       "      <td>p cleaner church shoe ah</td>\n",
       "    </tr>\n",
       "    <tr>\n",
       "      <th>3</th>\n",
       "      <td>bodi start drop ayi hit floor</td>\n",
       "    </tr>\n",
       "    <tr>\n",
       "      <th>4</th>\n",
       "      <td>n't look sky mo '</td>\n",
       "    </tr>\n",
       "    <tr>\n",
       "      <th>...</th>\n",
       "      <td>...</td>\n",
       "    </tr>\n",
       "    <tr>\n",
       "      <th>2671</th>\n",
       "      <td>tell deep love</td>\n",
       "    </tr>\n",
       "    <tr>\n",
       "      <th>2672</th>\n",
       "      <td>'re live</td>\n",
       "    </tr>\n",
       "    <tr>\n",
       "      <th>2673</th>\n",
       "      <td>'ll never let pedal might well get mop</td>\n",
       "    </tr>\n",
       "    <tr>\n",
       "      <th>2674</th>\n",
       "      <td>turn templ prison</td>\n",
       "    </tr>\n",
       "    <tr>\n",
       "      <th>2675</th>\n",
       "      <td>yeah 's fact never p</td>\n",
       "    </tr>\n",
       "  </tbody>\n",
       "</table>\n",
       "<p>2676 rows × 1 columns</p>\n",
       "</div>"
      ],
      "text/plain": [
       "                                       lyric\n",
       "0                        know name wherev go\n",
       "1         girl n't get poppin ' put wishlist\n",
       "2                   p cleaner church shoe ah\n",
       "3              bodi start drop ayi hit floor\n",
       "4                          n't look sky mo '\n",
       "...                                      ...\n",
       "2671                          tell deep love\n",
       "2672                                're live\n",
       "2673  'll never let pedal might well get mop\n",
       "2674                       turn templ prison\n",
       "2675                    yeah 's fact never p\n",
       "\n",
       "[2676 rows x 1 columns]"
      ]
     },
     "execution_count": 796,
     "metadata": {},
     "output_type": "execute_result"
    }
   ],
   "source": [
    "test_df['lyric'] = test_df['lyric'].apply(lambda x: \" \".join(stemmer.stem(token) for token in x))\n",
    "test_df"
   ]
  },
  {
   "cell_type": "markdown",
   "id": "99d1cac4",
   "metadata": {},
   "source": [
    "### Splitting the data"
   ]
  },
  {
   "cell_type": "code",
   "execution_count": 797,
   "id": "c219b20a",
   "metadata": {},
   "outputs": [],
   "source": [
    "X = train_df['lyric']\n",
    "y = train_df['class']\n",
    "\n",
    "X_train, X_test, y_train, y_test = train_test_split(X, y, test_size=0.3, random_state=42)"
   ]
  },
  {
   "cell_type": "code",
   "execution_count": 798,
   "id": "7b954738",
   "metadata": {},
   "outputs": [
    {
     "name": "stdout",
     "output_type": "stream",
     "text": [
      "(35737,)\n",
      "(15317,)\n",
      "(35737,)\n",
      "(15317,)\n"
     ]
    }
   ],
   "source": [
    "print(X_train.shape)\n",
    "print(X_test.shape)\n",
    "print(y_train.shape)\n",
    "print(y_test.shape)"
   ]
  },
  {
   "cell_type": "code",
   "execution_count": 799,
   "id": "d715e04d",
   "metadata": {},
   "outputs": [
    {
     "data": {
      "text/plain": [
       "0    15497\n",
       "1    15497\n",
       "Name: class, dtype: int64"
      ]
     },
     "execution_count": 799,
     "metadata": {},
     "output_type": "execute_result"
    }
   ],
   "source": [
    "#from sklearn.utils import resample\n",
    "\n",
    "# combine them back for resampling\n",
    "train_df = pd.concat([X_train, y_train], axis=1)\n",
    "train_df['class'].value_counts()\n",
    "\n",
    "# seperate majority and minority classes\n",
    "df_majority = train_df[train_df['class'] == 0]\n",
    "df_minority = train_df[train_df['class'] != 0]\n",
    "\n",
    "# downsample majority\n",
    "df_majority_downsampled = resample(df_majority, replace=False, n_samples=15497, random_state=42)\n",
    "\n",
    "# Combine minority class with downsampled majority class\n",
    "df_downsampled = pd.concat([df_majority_downsampled, df_minority])\n",
    "df_downsampled['class'].value_counts()"
   ]
  },
  {
   "cell_type": "code",
   "execution_count": 800,
   "id": "3a22b70a",
   "metadata": {},
   "outputs": [
    {
     "name": "stdout",
     "output_type": "stream",
     "text": [
      "(30994,)\n",
      "(30994,)\n",
      "(15317,)\n",
      "(15317,)\n"
     ]
    }
   ],
   "source": [
    "X_train = df_downsampled['lyric']\n",
    "y_train = df_downsampled['class']\n",
    "\n",
    "print(X_train.shape)\n",
    "print(y_train.shape)\n",
    "print(X_test.shape)\n",
    "print(y_test.shape)"
   ]
  },
  {
   "cell_type": "code",
   "execution_count": 801,
   "id": "1f92e768",
   "metadata": {},
   "outputs": [],
   "source": [
    "X_train_clean = X_train.copy()\n",
    "X_test_clean = X_test.copy()"
   ]
  },
  {
   "cell_type": "markdown",
   "id": "baa9bddc",
   "metadata": {},
   "source": [
    "## Feature Extraction"
   ]
  },
  {
   "cell_type": "markdown",
   "id": "9dad6144",
   "metadata": {},
   "source": [
    "### Bag of words"
   ]
  },
  {
   "cell_type": "code",
   "execution_count": 802,
   "id": "82c1d9d4",
   "metadata": {},
   "outputs": [],
   "source": [
    "# Omzetten naar bag-of-words\n",
    "\n",
    "count_vect = CountVectorizer()\n",
    "X_train_bag_of_words = count_vect.fit_transform(X_train)\n",
    "X_test_bag_of_words = count_vect.transform(X_test)\n",
    "\n",
    "\n",
    "tfidf_transformer = TfidfTransformer()\n",
    "tf_transformer = TfidfTransformer(use_idf=True).fit(X_train_bag_of_words)\n",
    "X_train_tf = tf_transformer.transform(X_train_bag_of_words)\n",
    "X_test_tf = tf_transformer.transform(X_test_bag_of_words)"
   ]
  },
  {
   "cell_type": "markdown",
   "id": "c6be609f",
   "metadata": {},
   "source": [
    "## Model training"
   ]
  },
  {
   "cell_type": "markdown",
   "id": "61629d3d",
   "metadata": {},
   "source": [
    "#### Machine learning"
   ]
  },
  {
   "cell_type": "markdown",
   "id": "e72acc30",
   "metadata": {},
   "source": [
    "##### Logistic Regression"
   ]
  },
  {
   "cell_type": "code",
   "execution_count": 803,
   "id": "7cee1659",
   "metadata": {},
   "outputs": [
    {
     "name": "stdout",
     "output_type": "stream",
     "text": [
      "              precision    recall  f1-score   support\n",
      "\n",
      "           0       0.84      0.74      0.78      8645\n",
      "           1       0.70      0.81      0.75      6672\n",
      "\n",
      "    accuracy                           0.77     15317\n",
      "   macro avg       0.77      0.77      0.77     15317\n",
      "weighted avg       0.78      0.77      0.77     15317\n",
      "\n",
      "[[6367 2278]\n",
      " [1256 5416]]\n",
      "76.92759678788275\n"
     ]
    },
    {
     "name": "stderr",
     "output_type": "stream",
     "text": [
      "C:\\Anaconda\\lib\\site-packages\\sklearn\\linear_model\\_logistic.py:763: ConvergenceWarning: lbfgs failed to converge (status=1):\n",
      "STOP: TOTAL NO. of ITERATIONS REACHED LIMIT.\n",
      "\n",
      "Increase the number of iterations (max_iter) or scale the data as shown in:\n",
      "    https://scikit-learn.org/stable/modules/preprocessing.html\n",
      "Please also refer to the documentation for alternative solver options:\n",
      "    https://scikit-learn.org/stable/modules/linear_model.html#logistic-regression\n",
      "  n_iter_i = _check_optimize_result(\n"
     ]
    }
   ],
   "source": [
    "lregclassifier = LogisticRegression(C=10)\n",
    "\n",
    "lregclassifier.fit(X_train_tf, y_train)\n",
    "\n",
    "y_pred = lregclassifier.predict(X_test_tf)\n",
    "print(classification_report(y_test, y_pred))\n",
    "\n",
    "cf = confusion_matrix(y_test, y_pred)\n",
    "print(cf)\n",
    "print(accuracy_score(y_test, y_pred) * 100) "
   ]
  },
  {
   "cell_type": "code",
   "execution_count": 804,
   "id": "455d3d40",
   "metadata": {},
   "outputs": [
    {
     "name": "stdout",
     "output_type": "stream",
     "text": [
      "score on train: 84.9745111957153\n",
      "score on test: 76.92759678788275\n"
     ]
    }
   ],
   "source": [
    "print(\"score on train: \"+ str(lregclassifier.score(X_train_tf, y_train) * 100))\n",
    "print(\"score on test: \" + str(lregclassifier.score(X_test_tf, y_test) * 100))"
   ]
  },
  {
   "cell_type": "code",
   "execution_count": 805,
   "id": "7fe7c8da",
   "metadata": {},
   "outputs": [
    {
     "name": "stdout",
     "output_type": "stream",
     "text": [
      "Fitting 4 folds for each of 70 candidates, totalling 280 fits\n",
      "Best accuracy :  0.7646316529726254\n",
      "Best parameters : {'C': 10, 'class_weight': 'balanced', 'solver': 'lbfgs'}\n"
     ]
    },
    {
     "name": "stderr",
     "output_type": "stream",
     "text": [
      "C:\\Anaconda\\lib\\site-packages\\sklearn\\linear_model\\_logistic.py:763: ConvergenceWarning: lbfgs failed to converge (status=1):\n",
      "STOP: TOTAL NO. of ITERATIONS REACHED LIMIT.\n",
      "\n",
      "Increase the number of iterations (max_iter) or scale the data as shown in:\n",
      "    https://scikit-learn.org/stable/modules/preprocessing.html\n",
      "Please also refer to the documentation for alternative solver options:\n",
      "    https://scikit-learn.org/stable/modules/linear_model.html#logistic-regression\n",
      "  n_iter_i = _check_optimize_result(\n"
     ]
    }
   ],
   "source": [
    "from sklearn.model_selection import GridSearchCV\n",
    "from sklearn.linear_model import LogisticRegression\n",
    "\n",
    "model = LogisticRegression()\n",
    "paramaters = [\n",
    "             {'C' : [0.25, 0.5, 0.75, 1, 10, 50, 100], \n",
    "              'solver': ['liblinear','lbfgs', 'newton-cg', 'sag','saga'], \n",
    "              'class_weight': [None, 'balanced']},\n",
    "             ]\n",
    "grid_search = GridSearchCV(estimator = model, \n",
    "                           param_grid = paramaters,\n",
    "                           scoring = 'accuracy',\n",
    "                           cv = 4,\n",
    "                           n_jobs = -1,\n",
    "                           verbose=5)\n",
    "grid_search = grid_search.fit(X_train_tf, y_train)\n",
    "\n",
    "best_accuracy = grid_search.best_score_ \n",
    "best_parameters = grid_search.best_params_  \n",
    "\n",
    "print('Best accuracy : ', grid_search.best_score_)\n",
    "print('Best parameters :', grid_search.best_params_  )\n",
    "\n"
   ]
  },
  {
   "cell_type": "code",
   "execution_count": 806,
   "id": "3f3b1ce6",
   "metadata": {},
   "outputs": [
    {
     "name": "stdout",
     "output_type": "stream",
     "text": [
      "Fitting 4 folds for each of 20 candidates, totalling 80 fits\n",
      "Best accuracy :  0.7646316529726254\n",
      "Best parameters : {'solver': 'lbfgs', 'class_weight': 'balanced', 'C': 10}\n"
     ]
    },
    {
     "name": "stderr",
     "output_type": "stream",
     "text": [
      "C:\\Anaconda\\lib\\site-packages\\sklearn\\linear_model\\_logistic.py:763: ConvergenceWarning: lbfgs failed to converge (status=1):\n",
      "STOP: TOTAL NO. of ITERATIONS REACHED LIMIT.\n",
      "\n",
      "Increase the number of iterations (max_iter) or scale the data as shown in:\n",
      "    https://scikit-learn.org/stable/modules/preprocessing.html\n",
      "Please also refer to the documentation for alternative solver options:\n",
      "    https://scikit-learn.org/stable/modules/linear_model.html#logistic-regression\n",
      "  n_iter_i = _check_optimize_result(\n"
     ]
    }
   ],
   "source": [
    "from sklearn.model_selection import RandomizedSearchCV\n",
    "from scipy.stats import randint \n",
    "from scipy.stats import uniform\n",
    "from sklearn.linear_model import LogisticRegression\n",
    "\n",
    "model = LogisticRegression()\n",
    "\n",
    "parameters = [\n",
    "             {'C' : [0.25, 0.5, 0.75, 1, 10, 50, 100], \n",
    "              'solver': ['liblinear','lbfgs', 'newton-cg', 'sag','saga'],\n",
    "              'class_weight': [None, 'balanced']}\n",
    "             ]\n",
    "\n",
    "              \n",
    "\n",
    "n_iter_search = 20\n",
    "\n",
    "random_search = RandomizedSearchCV(model, param_distributions=parameters,cv=4,n_iter=n_iter_search,n_jobs = -1,verbose=1)\n",
    "\n",
    "random_search = random_search.fit(X_train_tf, y_train)\n",
    "\n",
    "best_accuracy = random_search.best_score_ \n",
    "best_parameters = random_search.best_params_  \n",
    "\n",
    "print('Best accuracy : ', random_search.best_score_)\n",
    "print('Best parameters :',random_search.best_params_  )\n",
    "\n"
   ]
  },
  {
   "cell_type": "markdown",
   "id": "ec70b7d0",
   "metadata": {},
   "source": [
    "As you can see, I've used the logistic regression algorithm for the machine learning model. The best accuracy amounts 76.92%, now I'll try using the RNN algorithm for deep learning to see whether it is more suitable for this case."
   ]
  },
  {
   "cell_type": "markdown",
   "id": "068cb1b1",
   "metadata": {},
   "source": [
    "#### Deep learning"
   ]
  },
  {
   "cell_type": "markdown",
   "id": "c8fe929f",
   "metadata": {},
   "source": [
    "##### Preprocessing the text data"
   ]
  },
  {
   "cell_type": "code",
   "execution_count": 727,
   "id": "86dc67ac",
   "metadata": {},
   "outputs": [],
   "source": [
    "from keras.preprocessing.text import Tokenizer\n",
    "from keras.preprocessing.sequence import pad_sequences\n",
    "max_fatures = 2000\n",
    "\n",
    "tokenizer = Tokenizer(oov_token= True, num_words=max_fatures, split=' ')\n",
    "tokenizer.fit_on_texts(X_train_clean)\n",
    "X_train_tok = tokenizer.texts_to_sequences(X_train_clean)\n",
    "X_test_tok = tokenizer.texts_to_sequences(X_test_clean)\n",
    "\n",
    "X_train_tok = pad_sequences(X_train_tok)\n",
    "X_test_tok = pad_sequences(X_test_tok,maxlen=X_train_tok.shape[1])"
   ]
  },
  {
   "cell_type": "markdown",
   "id": "67190f1f",
   "metadata": {},
   "source": [
    "##### one-hot-encoding"
   ]
  },
  {
   "cell_type": "code",
   "execution_count": 728,
   "id": "c369f7f2",
   "metadata": {},
   "outputs": [],
   "source": [
    "from sklearn.preprocessing import LabelEncoder\n",
    "from keras.utils.np_utils import to_categorical\n",
    "\n",
    "encoder = LabelEncoder()\n",
    "y_train = encoder.fit_transform(y_train)\n",
    "y_train_class = to_categorical(y_train)\n",
    "\n",
    "y_test = encoder.transform(y_test)\n",
    "y_test_class = to_categorical(y_test)"
   ]
  },
  {
   "cell_type": "markdown",
   "id": "39b09a5c",
   "metadata": {},
   "source": [
    "#####  Model"
   ]
  },
  {
   "cell_type": "code",
   "execution_count": 747,
   "id": "d20c373a",
   "metadata": {},
   "outputs": [
    {
     "name": "stdout",
     "output_type": "stream",
     "text": [
      "Epoch 1/100\n",
      "3875/3875 - 150s - loss: 0.5094 - accuracy: 0.7576 - val_loss: 0.4669 - val_accuracy: 0.7829\n",
      "Epoch 2/100\n",
      "3875/3875 - 146s - loss: 0.4364 - accuracy: 0.8030 - val_loss: 0.4519 - val_accuracy: 0.7951\n",
      "Epoch 3/100\n",
      "3875/3875 - 147s - loss: 0.4026 - accuracy: 0.8202 - val_loss: 0.4584 - val_accuracy: 0.7951\n",
      "Epoch 4/100\n",
      "3875/3875 - 145s - loss: 0.3757 - accuracy: 0.8313 - val_loss: 0.4510 - val_accuracy: 0.8001\n",
      "Epoch 5/100\n",
      "3875/3875 - 151s - loss: 0.3483 - accuracy: 0.8437 - val_loss: 0.4437 - val_accuracy: 0.8082\n",
      "Epoch 6/100\n",
      "3875/3875 - 149s - loss: 0.3195 - accuracy: 0.8602 - val_loss: 0.6069 - val_accuracy: 0.8101\n",
      "Epoch 7/100\n",
      "3875/3875 - 148s - loss: 0.2915 - accuracy: 0.8725 - val_loss: 0.5166 - val_accuracy: 0.8092\n",
      "Epoch 8/100\n",
      "3875/3875 - 144s - loss: 0.2676 - accuracy: 0.8827 - val_loss: 0.5482 - val_accuracy: 0.8071\n"
     ]
    }
   ],
   "source": [
    "from keras.models import Sequential\n",
    "from keras.layers import Dense, Embedding, LSTM, Dropout\n",
    "\n",
    "from keras.callbacks import EarlyStopping\n",
    "\n",
    "early_stopping =  EarlyStopping(patience=3,  restore_best_weights=True)\n",
    "\n",
    "model = Sequential()\n",
    "model.add(Embedding(input_dim=2000,output_dim =128, input_length = X_train_tok.shape[1]))\n",
    "model.add(Dropout(0.2))\n",
    "model.add(LSTM(64, return_sequences=True, activation='relu'))\n",
    "model.add(Dropout(0.2))\n",
    "model.add(LSTM(64, activation='relu'))\n",
    "model.add(Dropout(0.2))\n",
    "model.add(Dense(2,activation='sigmoid'))\n",
    "\n",
    "model.compile(loss = 'binary_crossentropy', optimizer='adam',metrics = ['accuracy'])\n",
    "\n",
    "history = model.fit(X_train_tok, y_train_class, epochs = 100, batch_size=8, verbose = 2, validation_data=(X_test_tok,y_test_class),\n",
    "                   callbacks=[early_stopping])"
   ]
  },
  {
   "cell_type": "code",
   "execution_count": 748,
   "id": "1638d6c7",
   "metadata": {},
   "outputs": [],
   "source": [
    "# save model\n",
    "# model.save('model.h5', history)"
   ]
  },
  {
   "cell_type": "code",
   "execution_count": 749,
   "id": "b72e392a",
   "metadata": {},
   "outputs": [],
   "source": [
    "from keras.models import load_model\n",
    "model = load_model('model.h5')"
   ]
  },
  {
   "cell_type": "markdown",
   "id": "6b019f24",
   "metadata": {},
   "source": [
    "### Accuracy"
   ]
  },
  {
   "cell_type": "code",
   "execution_count": 750,
   "id": "6fe5ae91",
   "metadata": {},
   "outputs": [
    {
     "name": "stdout",
     "output_type": "stream",
     "text": [
      "479/479 [==============================] - 7s 15ms/step - loss: 0.4437 - accuracy: 0.8082\n"
     ]
    }
   ],
   "source": [
    "accuracy = model.evaluate(X_test_tok, y_test_class)"
   ]
  },
  {
   "cell_type": "markdown",
   "id": "e4cf3435",
   "metadata": {},
   "source": [
    "The RNN model has an accuracy of 80.82% which is slightly better than the ML model with 76.92%. Therefore, the evaluation will be based on the DL model."
   ]
  },
  {
   "cell_type": "markdown",
   "id": "953b0eec",
   "metadata": {},
   "source": [
    "## Evaluating the model"
   ]
  },
  {
   "cell_type": "markdown",
   "id": "f19c157d",
   "metadata": {},
   "source": [
    "### Plotting out training history"
   ]
  },
  {
   "cell_type": "code",
   "execution_count": 751,
   "id": "37ab3d84",
   "metadata": {},
   "outputs": [
    {
     "data": {
      "image/png": "[encoded data removed]",
      "text/plain": [
       "<Figure size 1152x576 with 2 Axes>"
      ]
     },
     "metadata": {
      "needs_background": "light"
     },
     "output_type": "display_data"
    }
   ],
   "source": [
    "acc = history.history['accuracy']\n",
    "val_acc = history.history['val_accuracy']\n",
    "loss= history.history['loss']\n",
    "val_loss= history.history['val_loss']\n",
    "\n",
    "plt.figure(figsize=(16,8))\n",
    "plt.subplot(1, 2, 1)\n",
    "plt.plot(acc, label='Training Accuracy')\n",
    "plt.plot(val_acc, label='Validation Accuracy')\n",
    "plt.legend(loc='lower right')\n",
    "plt.title('Training and Validation Accuracy')\n",
    "\n",
    "plt.subplot(1, 2, 2)\n",
    "plt.plot(loss, label='Training Loss')\n",
    "plt.plot(val_loss, label='Validation Loss')\n",
    "plt.legend(loc='upper right')\n",
    "plt.title('Training and Validation Loss')\n",
    "plt.show()"
   ]
  },
  {
   "cell_type": "code",
   "execution_count": 752,
   "id": "cc7f25e1",
   "metadata": {},
   "outputs": [
    {
     "data": {
      "image/png": "[encoded data removed]",
      "text/plain": [
       "<Figure size 432x288 with 1 Axes>"
      ]
     },
     "metadata": {
      "needs_background": "light"
     },
     "output_type": "display_data"
    }
   ],
   "source": [
    "# Area under ROC curve\n",
    "\n",
    "import sklearn.metrics as metrics\n",
    "\n",
    "probs = model.predict(X_test_tok)\n",
    "preds = probs[:,1]\n",
    "\n",
    "fpr, tpr, threshold = metrics.roc_curve(y_test, preds)\n",
    "roc_auc = metrics.auc(fpr, tpr)\n",
    " \n",
    "\n",
    "import matplotlib.pyplot as plt\n",
    "plt.title('Receiver Operating Characteristic')\n",
    "plt.plot(fpr, tpr, 'b', label = 'AUC = %0.2f' % roc_auc)\n",
    "plt.legend(loc = 'lower right')\n",
    "plt.plot([0, 1], [0, 1],'r--')\n",
    "plt.xlim([0, 1])\n",
    "plt.ylim([0, 1])\n",
    "plt.ylabel('True Positive Rate')\n",
    "plt.xlabel('False Positive Rate')\n",
    "plt.show()"
   ]
  },
  {
   "cell_type": "markdown",
   "id": "4aba924f",
   "metadata": {},
   "source": [
    "You can see the AUC amounts 0.88 which is relatively close to 1 and greater than 0.5, suggesting some skill in the predictions."
   ]
  },
  {
   "cell_type": "markdown",
   "id": "d54f30ca",
   "metadata": {},
   "source": [
    "### Evaluating on given test set"
   ]
  },
  {
   "cell_type": "code",
   "execution_count": 753,
   "id": "35eb3ab4",
   "metadata": {},
   "outputs": [
    {
     "name": "stdout",
     "output_type": "stream",
     "text": [
      "[0, 1, 0, 1, 1, 1, 0, 0, 1, 0]\n"
     ]
    }
   ],
   "source": [
    "pred_results = []\n",
    "for i in model.predict(X_test_tok[:10]):\n",
    "    pred_results.append(np.argmax(i))\n",
    "    \n",
    "print(pred_results)"
   ]
  },
  {
   "cell_type": "code",
   "execution_count": 754,
   "id": "eafc178b",
   "metadata": {},
   "outputs": [
    {
     "name": "stdout",
     "output_type": "stream",
     "text": [
      "[0, 0, 0, 1, 1, 1, 0, 1, 0, 0]\n"
     ]
    }
   ],
   "source": [
    "actual_results = []\n",
    "for i in y_test_class[:10]:\n",
    "    actual_results.append(np.argmax(i))\n",
    "print(actual_results)"
   ]
  },
  {
   "cell_type": "code",
   "execution_count": 755,
   "id": "689f72de",
   "metadata": {},
   "outputs": [],
   "source": [
    "answer = []\n",
    "answer_incorrect = []\n",
    "\n",
    "zip_object = zip(pred_results, actual_results)\n",
    "\n",
    "for x, y in zip_object:\n",
    "    if x == y:\n",
    "        answer.append(x)\n",
    "    else:\n",
    "        answer_incorrect.append(x)"
   ]
  },
  {
   "cell_type": "code",
   "execution_count": 756,
   "id": "b6dbf1d9",
   "metadata": {},
   "outputs": [
    {
     "name": "stdout",
     "output_type": "stream",
     "text": [
      "Predicted answers are :  [0, 0, 1, 1, 1, 0, 0]\n",
      "Unpredicted answers are :  [1, 0, 1]\n"
     ]
    }
   ],
   "source": [
    "print(\"Predicted answers are : \", answer)\n",
    "print(\"Unpredicted answers are : \", answer_incorrect)"
   ]
  },
  {
   "cell_type": "markdown",
   "id": "2c9ef53e",
   "metadata": {},
   "source": [
    "### Prediction"
   ]
  },
  {
   "cell_type": "code",
   "execution_count": 757,
   "id": "3550b543",
   "metadata": {},
   "outputs": [],
   "source": [
    "sample_sub=pd.read_csv('sample.csv')\n"
   ]
  },
  {
   "cell_type": "code",
   "execution_count": 758,
   "id": "3466b408",
   "metadata": {},
   "outputs": [
    {
     "data": {
      "text/plain": [
       "0                          know name wherev go\n",
       "1           girl n't get poppin ' put wishlist\n",
       "2                     p cleaner church shoe ah\n",
       "3                bodi start drop ayi hit floor\n",
       "4                            n't look sky mo '\n",
       "                         ...                  \n",
       "2671                            tell deep love\n",
       "2672                                  're live\n",
       "2673    'll never let pedal might well get mop\n",
       "2674                         turn templ prison\n",
       "2675                      yeah 's fact never p\n",
       "Name: lyric, Length: 2676, dtype: object"
      ]
     },
     "execution_count": 758,
     "metadata": {},
     "output_type": "execute_result"
    }
   ],
   "source": [
    "X_test = test_df['lyric']\n",
    "X_test"
   ]
  },
  {
   "cell_type": "code",
   "execution_count": 759,
   "id": "bcda56b3",
   "metadata": {},
   "outputs": [],
   "source": [
    "X_test_tok = tokenizer.texts_to_sequences(X_test)\n",
    "\n",
    "X_test_tok = pad_sequences(X_test_tok,maxlen=X_train_tok.shape[1])"
   ]
  },
  {
   "cell_type": "code",
   "execution_count": 760,
   "id": "e3c624ca",
   "metadata": {},
   "outputs": [
    {
     "data": {
      "text/plain": [
       "array([[   0,    0,    0, ...,  135, 1114,   12],\n",
       "       [   0,    0,    0, ...,    2,   52,    1],\n",
       "       [   0,    0,    0, ...,    1,  721,  107],\n",
       "       ...,\n",
       "       [   0,    0,    0, ...,  169,   11, 1375],\n",
       "       [   0,    0,    0, ...,   88,    1,    1],\n",
       "       [   0,    0,    0, ...,  486,   33,  150]])"
      ]
     },
     "execution_count": 760,
     "metadata": {},
     "output_type": "execute_result"
    }
   ],
   "source": [
    "X_test_tok"
   ]
  },
  {
   "cell_type": "code",
   "execution_count": 761,
   "id": "2776b58c",
   "metadata": {},
   "outputs": [],
   "source": [
    "y_pre = model.predict(X_test_tok)\n",
    "classes = np.argmax(y_pre, axis=1)\n",
    "\n"
   ]
  },
  {
   "cell_type": "code",
   "execution_count": 762,
   "id": "ae3f2ec7",
   "metadata": {},
   "outputs": [],
   "source": [
    "submission_df = pd.DataFrame()"
   ]
  },
  {
   "cell_type": "code",
   "execution_count": 763,
   "id": "a6173ea4",
   "metadata": {},
   "outputs": [
    {
     "data": {
      "text/html": [
       "<div>\n",
       "<style scoped>\n",
       "    .dataframe tbody tr th:only-of-type {\n",
       "        vertical-align: middle;\n",
       "    }\n",
       "\n",
       "    .dataframe tbody tr th {\n",
       "        vertical-align: top;\n",
       "    }\n",
       "\n",
       "    .dataframe thead th {\n",
       "        text-align: right;\n",
       "    }\n",
       "</style>\n",
       "<table border=\"1\" class=\"dataframe\">\n",
       "  <thead>\n",
       "    <tr style=\"text-align: right;\">\n",
       "      <th></th>\n",
       "      <th>id</th>\n",
       "      <th>class</th>\n",
       "    </tr>\n",
       "  </thead>\n",
       "  <tbody>\n",
       "    <tr>\n",
       "      <th>0</th>\n",
       "      <td>0</td>\n",
       "      <td>1</td>\n",
       "    </tr>\n",
       "    <tr>\n",
       "      <th>1</th>\n",
       "      <td>1</td>\n",
       "      <td>0</td>\n",
       "    </tr>\n",
       "    <tr>\n",
       "      <th>2</th>\n",
       "      <td>2</td>\n",
       "      <td>0</td>\n",
       "    </tr>\n",
       "    <tr>\n",
       "      <th>3</th>\n",
       "      <td>3</td>\n",
       "      <td>1</td>\n",
       "    </tr>\n",
       "    <tr>\n",
       "      <th>4</th>\n",
       "      <td>4</td>\n",
       "      <td>0</td>\n",
       "    </tr>\n",
       "    <tr>\n",
       "      <th>...</th>\n",
       "      <td>...</td>\n",
       "      <td>...</td>\n",
       "    </tr>\n",
       "    <tr>\n",
       "      <th>2671</th>\n",
       "      <td>2671</td>\n",
       "      <td>1</td>\n",
       "    </tr>\n",
       "    <tr>\n",
       "      <th>2672</th>\n",
       "      <td>2672</td>\n",
       "      <td>1</td>\n",
       "    </tr>\n",
       "    <tr>\n",
       "      <th>2673</th>\n",
       "      <td>2673</td>\n",
       "      <td>0</td>\n",
       "    </tr>\n",
       "    <tr>\n",
       "      <th>2674</th>\n",
       "      <td>2674</td>\n",
       "      <td>0</td>\n",
       "    </tr>\n",
       "    <tr>\n",
       "      <th>2675</th>\n",
       "      <td>2675</td>\n",
       "      <td>0</td>\n",
       "    </tr>\n",
       "  </tbody>\n",
       "</table>\n",
       "<p>2676 rows × 2 columns</p>\n",
       "</div>"
      ],
      "text/plain": [
       "        id  class\n",
       "0        0      1\n",
       "1        1      0\n",
       "2        2      0\n",
       "3        3      1\n",
       "4        4      0\n",
       "...    ...    ...\n",
       "2671  2671      1\n",
       "2672  2672      1\n",
       "2673  2673      0\n",
       "2674  2674      0\n",
       "2675  2675      0\n",
       "\n",
       "[2676 rows x 2 columns]"
      ]
     },
     "execution_count": 763,
     "metadata": {},
     "output_type": "execute_result"
    }
   ],
   "source": [
    "submission_df['id'] = sample_sub['id']\n",
    "submission_df['class'] = classes\n",
    "submission_df"
   ]
  },
  {
   "cell_type": "code",
   "execution_count": 764,
   "id": "080db52d",
   "metadata": {},
   "outputs": [],
   "source": [
    "# submission for the competition\n",
    "submission_df.to_csv('submission_2.csv', index=False)"
   ]
  },
  {
   "cell_type": "markdown",
   "id": "e8770c01",
   "metadata": {},
   "source": [
    "Here below you can see the result of my submission:"
   ]
  },
  {
   "attachments": {
    "image.png": {
     "image/png": "[encoded data removed]"
    }
   },
   "cell_type": "markdown",
   "id": "870732cb",
   "metadata": {},
   "source": [
    "![image.png](attachment:image.png)"
   ]
  }
 ],
 "metadata": {
  "kernelspec": {
   "display_name": "Python 3",
   "language": "python",
   "name": "python3"
  },
  "language_info": {
   "codemirror_mode": {
    "name": "ipython",
    "version": 3
   },
   "file_extension": ".py",
   "mimetype": "text/x-python",
   "name": "python",
   "nbconvert_exporter": "python",
   "pygments_lexer": "ipython3",
   "version": "3.8.8"
  }
 },
 "nbformat": 4,
 "nbformat_minor": 5
}
